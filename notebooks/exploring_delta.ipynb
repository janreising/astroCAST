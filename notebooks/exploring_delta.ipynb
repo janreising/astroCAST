{
 "cells": [
  {
   "cell_type": "code",
   "execution_count": null,
   "id": "initial_id",
   "metadata": {
    "ExecuteTime": {
     "end_time": "2023-12-12T12:55:52.642666387Z",
     "start_time": "2023-12-12T12:55:51.932688128Z"
    },
    "jupyter": {
     "outputs_hidden": true
    }
   },
   "outputs": [],
   "source": [
    "import humanize\n",
    "\n",
    "from astrocast.preparation import Delta, IO\n",
    "import numpy as np\n",
    "import matplotlib.pyplot as plt\n",
    "from pathlib import Path"
   ]
  },
  {
   "cell_type": "code",
   "execution_count": null,
   "id": "94ffc63612922eab",
   "metadata": {
    "ExecuteTime": {
     "end_time": "2023-12-12T12:55:52.649255438Z",
     "start_time": "2023-12-12T12:55:52.646650063Z"
    }
   },
   "outputs": [],
   "source": [
    "test_path = Path(\"./quickstart.h5\")\n",
    "assert test_path.exists()\n",
    "\n",
    "pixels = [(167, 153), (199, 306), (214, 109), (337, 72)]"
   ]
  },
  {
   "cell_type": "code",
   "execution_count": null,
   "id": "3c5bd8ed05494c94",
   "metadata": {
    "ExecuteTime": {
     "end_time": "2023-12-12T12:55:53.681065750Z",
     "start_time": "2023-12-12T12:55:52.650096465Z"
    }
   },
   "outputs": [],
   "source": [
    "io = IO()\n",
    "inf = io.load(test_path, lazy=False, loc=\"inf/ch0\")\n",
    "inf.shape"
   ]
  },
  {
   "cell_type": "code",
   "execution_count": null,
   "id": "9a10e72dfda6c2e2",
   "metadata": {
    "ExecuteTime": {
     "end_time": "2023-12-12T12:56:16.625954528Z",
     "start_time": "2023-12-12T12:55:53.679178728Z"
    }
   },
   "outputs": [],
   "source": [
    "delta = Delta(inf)\n",
    "df = delta.run(window=10, method=\"dF\", compute=True)"
   ]
  },
  {
   "cell_type": "code",
   "execution_count": null,
   "id": "9286093ae14ed884",
   "metadata": {
    "ExecuteTime": {
     "end_time": "2023-12-12T12:56:18.403652380Z",
     "start_time": "2023-12-12T12:56:16.634199959Z"
    }
   },
   "outputs": [],
   "source": [
    "fig = delta.plot(pixels=pixels, show_original=True, separate_panels=True, twin_y_axis=True, figsize=(20, 10))"
   ]
  },
  {
   "cell_type": "code",
   "execution_count": null,
   "id": "5c96b6a4712d33bb",
   "metadata": {
    "ExecuteTime": {
     "end_time": "2023-12-12T12:56:18.407089294Z",
     "start_time": "2023-12-12T12:56:18.403418242Z"
    }
   },
   "outputs": [],
   "source": [
    "from scipy import signal"
   ]
  },
  {
   "cell_type": "code",
   "execution_count": null,
   "id": "2dfeb477df5530f3",
   "metadata": {
    "ExecuteTime": {
     "end_time": "2023-12-12T12:56:22.299441669Z",
     "start_time": "2023-12-12T12:56:18.413666532Z"
    }
   },
   "outputs": [],
   "source": [
    "import random\n",
    "import scipy.ndimage as ndi\n",
    "\n",
    "sigma = 2\n",
    "radius = 3\n",
    "inf_ = ndi.gaussian_filter(inf, sigma=sigma, radius=radius)\n",
    "\n",
    "fig, axx = plt.subplots(2, len(pixels), figsize=(25, 4))\n",
    "fig_2, axx_2 = plt.subplots(2, len(pixels), figsize=(25, 4))\n",
    "for ii, arr in enumerate([inf, inf_]):\n",
    "    for i, (x, y) in enumerate(pixels):\n",
    "        ax = axx[ii, i]\n",
    "        ax_2 = axx_2[ii, i]  # specific axis for fig_2.\n",
    "        xy = arr[:, x, y]\n",
    "        \n",
    "        peak_x, res = signal.find_peaks(xy, prominence=0.1, wlen=100, distance=10, width=5, rel_height=0.9)\n",
    "        ax.plot(xy, linestyle=\"--\", color=\"black\")\n",
    "        for left, right in list(zip(res[\"left_ips\"], res[\"right_ips\"])):\n",
    "            random_color = \"#\" + ''.join([random.choice('0123456789ABCDEF') for _ in range(6)])\n",
    "            ax.axvspan(left, right, color=random_color, alpha=0.3)\n",
    "        \n",
    "        # create a copy of the xy trace and remove the detected peaks\n",
    "        xy_copy = np.copy(xy)\n",
    "        for left, right in list(zip(res[\"left_ips\"], res[\"right_ips\"])):\n",
    "            xy_copy[int(left):int(\n",
    "                    right)] = np.nan  # If left and right are not integers, they are converted to the nearest valid integer.\n",
    "        \n",
    "        # interpolate the removed sections based on the remaining points\n",
    "        x = np.where(~np.isnan(xy_copy))[0]\n",
    "        y = xy_copy[x]\n",
    "        f = np.interp(range(len(xy_copy)), x, y)\n",
    "        \n",
    "        # plot the new interpolated xy_interpolated in fig_2\n",
    "        ax_2.plot(f, linestyle=\"--\", color=\"black\")\n",
    "\n"
   ]
  },
  {
   "cell_type": "code",
   "execution_count": null,
   "id": "f2080c7a9a4a26a1",
   "metadata": {
    "ExecuteTime": {
     "end_time": "2023-12-12T12:56:23.785315460Z",
     "start_time": "2023-12-12T12:56:22.305597288Z"
    }
   },
   "outputs": [],
   "source": [
    "from scipy.interpolate import CubicSpline, Rbf\n",
    "from numpy.polynomial.polynomial import Polynomial\n",
    "from scipy.interpolate import pade  # works very poorly\n",
    "import seaborn as sns\n",
    "\n",
    "interpolations = {\n",
    "    \"Linear Interpolation\":                      np.interp,\n",
    "    \"Cubic Spline\":                              lambda x, xp, fp: CubicSpline(xp, fp)(x),\n",
    "    \"Polynomial Interpolation\":                  lambda x, xp, fp: Polynomial.fit(xp, fp, deg=4)(x),\n",
    "    # \"Padé Approximation\":                        lambda x, xp, fp: (\n",
    "    #         pade(xp, 2)[0](x) / pade(xp, 2)[1](x)),  # adjust degree as needed\n",
    "    \"Radial basis function (RBF) interpolation\": lambda x, xp, fp: Rbf(xp, fp)(x)\n",
    "    }\n",
    "\n",
    "fig, axx = plt.subplots(len(pixels), 1, figsize=(20, 3 * len(pixels)))\n",
    "colors = sns.color_palette(\"hls\", len(interpolations))\n",
    "\n",
    "for i, (x, y) in enumerate(pixels):\n",
    "    \n",
    "    ax = axx[i]\n",
    "    xy = inf_[:, x, y]\n",
    "    ax.plot(xy, color=\"black\", linestyle=\"-\")\n",
    "    \n",
    "    peak_x, res = signal.find_peaks(xy, prominence=0.1, wlen=100, distance=10, width=5, rel_height=0.9)\n",
    "    \n",
    "    # create a copy of the xy trace and remove the detected peaks\n",
    "    xy_copy = np.copy(xy)\n",
    "    for left, right in zip(res[\"left_ips\"], res[\"right_ips\"]):\n",
    "        # If left and right are not integers, they are converted to nearest valid integers.\n",
    "        xy_copy[int(left):int(right)] = np.nan\n",
    "    \n",
    "    # get the valid (not nan) points from copy \n",
    "    valid_x = np.where(~np.isnan(xy_copy))[0]\n",
    "    valid_y = xy_copy[valid_x]\n",
    "    \n",
    "    for ii, (name, interp) in enumerate(interpolations.items()):\n",
    "        f_xy = interp(range(len(xy_copy)), valid_x, valid_y)\n",
    "        \n",
    "        ax.plot(f_xy, linestyle=\"--\", color=colors[ii], label=name)\n",
    "    \n",
    "    ax.legend()"
   ]
  },
  {
   "cell_type": "code",
   "execution_count": null,
   "id": "9e8ad3c10c0e9f41",
   "metadata": {
    "ExecuteTime": {
     "end_time": "2023-12-12T12:56:26.337189451Z",
     "start_time": "2023-12-12T12:56:23.814604912Z"
    }
   },
   "outputs": [],
   "source": [
    "from scipy.interpolate import RBFInterpolator\n",
    "\n",
    "\n",
    "def get_interpolated(x_obs, y_obs, X, neighbors=None, smoothing=0.0, kernel='thin_plate_spline', epsilon=None,\n",
    "                     degree=None):\n",
    "    \n",
    "    x_obs = np.expand_dims(x_obs, 1)\n",
    "    y_obs = np.expand_dims(y_obs, 1)\n",
    "    X = np.expand_dims(X, 1)\n",
    "    \n",
    "    Y = RBFInterpolator(x_obs, y_obs, neighbors=neighbors, smoothing=smoothing, kernel=kernel, epsilon=epsilon,\n",
    "                        degree=degree)(X)\n",
    "    Y = np.squeeze(Y)\n",
    "    return Y\n",
    "\n",
    "\n",
    "fig, axx = plt.subplots(len(pixels), 2, figsize=(20, 3 * len(pixels)))\n",
    "colors = sns.color_palette(\"hls\", len(interpolations))\n",
    "\n",
    "for i, (x, y) in enumerate(pixels):\n",
    "    \n",
    "    ax0, ax1 = axx[i, :]\n",
    "    xy = inf[:, x, y]\n",
    "    xy_smooth = inf_[:, x, y]\n",
    "    \n",
    "    # find peaks \n",
    "    peak_x, res = signal.find_peaks(xy_smooth, prominence=0.1, wlen=100, distance=10, width=5, rel_height=0.95)\n",
    "    \n",
    "    # create a copy of the xy trace and remove the detected peaks\n",
    "    xy_copy = np.copy(xy_smooth)\n",
    "    for left, right in zip(res[\"left_ips\"], res[\"right_ips\"]):\n",
    "        # If left and right are not integers, they are converted to nearest valid integers.\n",
    "        xy_copy[int(left):int(right)] = np.nan\n",
    "    \n",
    "    # get x indices\n",
    "    X = range(len(xy_copy))\n",
    "    \n",
    "    # get the valid (not nan) points from copy \n",
    "    valid_x = np.where(~np.isnan(xy_copy))[0]\n",
    "    valid_y = xy_copy[valid_x]\n",
    "    \n",
    "    y_interpolated = get_interpolated(valid_x, valid_y, X, neighbors=50, smoothing=1)\n",
    "    \n",
    "    # plot curves\n",
    "    ax0.plot(xy_smooth, color=\"black\", linestyle=\"-\", alpha=0.6)\n",
    "    ax0.plot(xy, color=\"black\", linestyle=\"--\", alpha=0.6)\n",
    "    ax0.plot(y_interpolated, color=\"red\", linestyle=\"--\")\n",
    "    ax0.grid(False)\n",
    "    \n",
    "    # plot delta\n",
    "    ax1t = ax1.twinx()\n",
    "    ax1t.grid(False)\n",
    "    ax1t.plot(xy, linestyle=\"-\", color=\"black\", alpha=0.5)\n",
    "    \n",
    "    dxy = xy - y_interpolated\n",
    "    ax1.plot(dxy, linestyle=\"--\", color=\"black\")\n",
    "    ax1.grid(False)\n"
   ]
  },
  {
   "cell_type": "code",
   "execution_count": null,
   "id": "4f11191bf64fc57b",
   "metadata": {
    "ExecuteTime": {
     "end_time": "2023-12-12T12:56:26.338891766Z",
     "start_time": "2023-12-12T12:56:26.336932230Z"
    }
   },
   "outputs": [],
   "source": [
    "# %timeit inf2[:, x, y] = get_subtracted(inf[:, x, y], inf_[:, x, y], neighbors=50, kernel=\"thin_plate_spline\")"
   ]
  },
  {
   "cell_type": "code",
   "execution_count": null,
   "id": "85649f9378bb36b9",
   "metadata": {
    "ExecuteTime": {
     "end_time": "2023-12-12T12:56:26.345984309Z",
     "start_time": "2023-12-12T12:56:26.339065997Z"
    }
   },
   "outputs": [],
   "source": [
    "# %timeit inf2[:, x, y] = get_subtracted(inf[:, x, y], inf_[:, x, y], neighbors=50, kernel=\"thin_plate_spline\", smoothing=1)"
   ]
  },
  {
   "cell_type": "code",
   "execution_count": null,
   "id": "88eaafd17624301a",
   "metadata": {
    "ExecuteTime": {
     "start_time": "2023-12-12T12:56:26.382712471Z"
    }
   },
   "outputs": [],
   "source": [
    "from tqdm import tqdm\n",
    "from scipy.interpolate import RBFInterpolator\n",
    "\n",
    "\n",
    "def get_interpolated(x_obs, y_obs, X, neighbors=None, smoothing=0.0, kernel='thin_plate_spline', epsilon=None,\n",
    "                     degree=None):\n",
    "    \n",
    "    x_obs = np.expand_dims(x_obs, 1)\n",
    "    y_obs = np.expand_dims(y_obs, 1)\n",
    "    X = np.expand_dims(X, 1)\n",
    "    \n",
    "    Y = RBFInterpolator(x_obs, y_obs, neighbors=neighbors, smoothing=smoothing, kernel=kernel, epsilon=epsilon,\n",
    "                        degree=degree)(X)\n",
    "    Y = np.squeeze(Y)\n",
    "    return Y\n",
    "\n",
    "\n",
    "def get_subtracted(xy, xy_smooth, prominence=0.1, wlen=100, distance=10, width=5, rel_height=0.95,\n",
    "                   neighbors=50, kernel=\"thin_plate_spline\", **kwargs):\n",
    "    \n",
    "    # find peaks \n",
    "    peak_x, res = signal.find_peaks(xy_smooth, prominence=prominence, wlen=wlen, distance=distance, width=width,\n",
    "                                    rel_height=rel_height)\n",
    "    \n",
    "    # create a copy of the xy trace and remove the detected peaks\n",
    "    xy_copy = np.copy(xy_smooth)\n",
    "    for left, right in zip(res[\"left_ips\"], res[\"right_ips\"]):\n",
    "        # If left and right are not integers, they are converted to nearest valid integers.\n",
    "        xy_copy[int(left):int(right)] = np.nan\n",
    "    \n",
    "    # get x indices\n",
    "    X = range(len(xy_copy))\n",
    "    \n",
    "    # get the valid (not nan) points from copy \n",
    "    valid_x = np.where(~np.isnan(xy_copy))[0]\n",
    "    valid_y = xy_copy[valid_x]\n",
    "    \n",
    "    y_interpolated = get_interpolated(valid_x, valid_y, X, neighbors=neighbors, kernel=kernel, **kwargs)\n",
    "    dxy = xy - y_interpolated\n",
    "    \n",
    "    return dxy\n",
    "\n",
    "\n",
    "inf2 = np.zeros_like(inf)\n",
    "dim1, dim2, dim3 = inf.shape\n",
    "for x in tqdm(range(dim2)):\n",
    "    for y in range(dim3):\n",
    "        inf2[:, x, y] = get_subtracted(inf[:, x, y], inf_[:, x, y])\n",
    "\n",
    "path = \"inf_new.h5\"\n",
    "io = IO()\n",
    "io.save(path, data=inf, loc=\"inf\")\n",
    "io.save(path, data=inf2, loc=\"delta\")\n"
   ]
  },
  {
   "cell_type": "code",
   "execution_count": null,
   "id": "d75fa84304e1a1b9",
   "metadata": {},
   "outputs": [],
   "source": [
    "def remove_peaks(arr, prominence=0.1, wlen=100, distance=10, width=5, rel_height=0.95):\n",
    "    \n",
    "    dim1, dim2, dim3 = arr.shape\n",
    "    for x in tqdm(range(dim2)):\n",
    "        for y in range(dim3):\n",
    "            \n",
    "            xy = arr[:, x, y]\n",
    "            \n",
    "            # find peaks \n",
    "            peak_x, res = signal.find_peaks(xy, prominence=prominence, wlen=wlen, distance=distance, width=width,\n",
    "                                            rel_height=rel_height)\n",
    "            \n",
    "            # create a copy of the xy trace and remove the detected peaks\n",
    "            for left, right in zip(res[\"left_ips\"], res[\"right_ips\"]):\n",
    "                # If left and right are not integers, they are converted to nearest valid integers.\n",
    "                xy[int(left):int(right)] = np.nan\n",
    "            \n",
    "            arr[:, x, y] = xy\n",
    "\n",
    "\n",
    "inf2 = inf_.copy()\n",
    "%time remove_peaks(inf2)\n"
   ]
  },
  {
   "cell_type": "code",
   "execution_count": null,
   "id": "1682888ebf9c32b8",
   "metadata": {},
   "outputs": [],
   "source": [
    "path = Path(\"inf_new.h5\")\n",
    "if path.exists():\n",
    "    path.unlink()\n",
    "\n",
    "io = IO()\n",
    "io.save(path, data=inf2, loc=\"inf\")"
   ]
  },
  {
   "cell_type": "code",
   "execution_count": null,
   "id": "13400b78c192972d",
   "metadata": {},
   "outputs": [],
   "source": [
    "inf2 = inf_.copy()\n",
    "\n",
    "from skimage.transform import rescale\n",
    "\n",
    "\n",
    "def downsample_video(video_data, scale_factor):\n",
    "    \"\"\"\n",
    "    Downsamples a video represented as a 3D numpy array (time, x, y).\n",
    "\n",
    "    Args:\n",
    "        video_data: 3D numpy array representing the video.\n",
    "        scale_factor: Factor by which to downscale the video frames.\n",
    "\n",
    "    Returns:\n",
    "        3D numpy array representing the downsampled video.\n",
    "    \"\"\"\n",
    "    downsampled_video = []\n",
    "    \n",
    "    for frame in video_data:\n",
    "        # Rescale each frame\n",
    "        rescaled_frame = rescale(frame, scale_factor, anti_aliasing=True)\n",
    "        downsampled_video.append(rescaled_frame)\n",
    "    \n",
    "    return np.array(downsampled_video)\n",
    "\n",
    "\n",
    "def rescale_3d(data, scale_factor):\n",
    "    \"\"\"\n",
    "    Rescales a 3D data array in all three dimensions.\n",
    "\n",
    "    Args:\n",
    "        data: 3D numpy array (could represent video data with time as one of the dimensions).\n",
    "        scale_factor: Tuple of three scaling factors for each dimension (x, y, z).\n",
    "\n",
    "    Returns:\n",
    "        3D numpy array representing the rescaled data.\n",
    "    \"\"\"\n",
    "    # Rescale the data\n",
    "    rescaled_data = rescale(data, scale_factor, anti_aliasing=True)\n",
    "    \n",
    "    return rescaled_data\n",
    "\n",
    "\n",
    "# Example usage\n",
    "# video_data is your original 3D array (time, x, y)\n",
    "# scale_factor is the factor by which you want to downscale (e.g., 0.5 for half size)\n",
    "inf_small = rescale_3d(inf_.copy(), scale_factor=0.25)\n",
    "display(inf_small.shape)\n",
    "\n",
    "inf_small_nan = inf_small.copy()\n",
    "%time remove_peaks(inf_small_nan)"
   ]
  },
  {
   "cell_type": "code",
   "execution_count": null,
   "id": "31f2f3c055912513",
   "metadata": {},
   "outputs": [],
   "source": [
    "import logging\n",
    "import time\n",
    "from scipy.interpolate import RBFInterpolator\n",
    "import numpy as np\n",
    "import humanize\n",
    "\n",
    "\n",
    "def get_interpolated(xyz_obs, values, xyz_new, neighbors=None, smoothing=None, kernel='thin_plate_spline', epsilon=None,\n",
    "                     degree=None):\n",
    "    \"\"\"\n",
    "    Interpolates the values at new 3D coordinates using RBF Interpolator.\n",
    "\n",
    "    Args:\n",
    "        xyz_obs: 3D coordinates of observed data points (shape: [n_points, 3]).\n",
    "        values: Values at the observed data points (shape: [n_points]).\n",
    "        xyz_new: 3D coordinates of points where interpolation is needed (shape: [n_new_points, 3]).\n",
    "        neighbors, smoothing, kernel, epsilon, degree: Parameters for RBFInterpolator.\n",
    "\n",
    "    Returns:\n",
    "        Interpolated values at xyz_new.\n",
    "    \"\"\"\n",
    "    interpolator = RBFInterpolator(xyz_obs, values, neighbors=neighbors, smoothing=smoothing, kernel=kernel,\n",
    "                                   epsilon=epsilon, degree=degree)\n",
    "    return interpolator(xyz_new)\n",
    "\n",
    "\n",
    "# Assuming 'inf_clean' is your 3D dataset with peaks removed\n",
    "# Flatten the spatial dimensions and create corresponding 3D coordinates\n",
    "logging.info(f\"creating coordinates\")\n",
    "coordinates = np.array(\n",
    "        np.meshgrid(np.arange(inf_small.shape[0]), np.arange(inf_small.shape[1]), np.arange(inf_small.shape[2]),\n",
    "                    indexing='ij')).reshape(3, -1).T\n",
    "values = inf_small_nan.reshape(-1)\n",
    "\n",
    "# Filter out the NaN values\n",
    "logging.info(f\"find NaN values\")\n",
    "valid_mask = ~np.isnan(values)\n",
    "xyz_obs = coordinates[valid_mask]\n",
    "values_obs = values[valid_mask]\n",
    "\n",
    "# Interpolate over the entire 3D dataset\n",
    "logging.info(f\"interpolate values\")\n",
    "t0 = time.time()\n",
    "interpolated_values = get_interpolated(xyz_obs, values_obs, coordinates, neighbors=50, smoothing=1,\n",
    "                                       kernel='thin_plate_spline', epsilon=2)\n",
    "display(humanize.naturaldelta(time.time() - t0))\n",
    "\n",
    "# Reshape the interpolated values back to the original shape\n",
    "logging.info(f\"reshaping\")\n",
    "inf_interpolated = interpolated_values.reshape(inf_small_nan.shape)\n",
    "\n",
    "# inf_interpolated now contains the interpolated data, replacing NaNs from inf_clean\n",
    "\n",
    "path = Path(\"inf_new.h5\")\n",
    "if path.exists():\n",
    "    path.unlink()\n",
    "\n",
    "io = IO()\n",
    "io.save(path, data=inf_small_nan, loc=\"inf\")\n",
    "io.save(path, data=inf_interpolated, loc=\"inf_int\")\n",
    "io.save(path, data=inf_small, loc=\"inf_ref\")\n",
    "io.save(path, data=inf_small - inf_interpolated, loc=\"delta\")\n"
   ]
  },
  {
   "cell_type": "code",
   "execution_count": null,
   "id": "a7662fdf907f7928",
   "metadata": {},
   "outputs": [],
   "source": [
    "path = Path(\"inf_new.h5\")\n",
    "if path.exists():\n",
    "    path.unlink()\n",
    "\n",
    "from skimage.transform import rescale, resize\n",
    "\n",
    "delta = resize(inf_interpolated, output_shape=inf.shape, anti_aliasing=True)\n",
    "delta = inf - delta\n",
    "\n",
    "io = IO()\n",
    "io.save(path, data=inf, loc=\"inf\")\n",
    "io.save(path, data=delta, loc=\"delta\")"
   ]
  },
  {
   "cell_type": "code",
   "execution_count": null,
   "id": "dec0b311894c3ecd",
   "metadata": {},
   "outputs": [],
   "source": [
    "import importlib\n",
    "import astrocast.preparation as prep\n",
    "\n",
    "importlib.reload(prep)\n",
    "\n",
    "delta_obj = prep.Delta(np.array(1))\n",
    "subtr = delta_obj._subtract_delta_rbf(inf, max_chunk_size_mb=32)"
   ]
  },
  {
   "cell_type": "code",
   "execution_count": null,
   "id": "aebf6cebf18aa6dc",
   "metadata": {},
   "outputs": [],
   "source": []
  }
 ],
 "metadata": {
  "kernelspec": {
   "display_name": "Python 3 (ipykernel)",
   "language": "python",
   "name": "python3"
  },
  "language_info": {
   "codemirror_mode": {
    "name": "ipython",
    "version": 3
   },
   "file_extension": ".py",
   "mimetype": "text/x-python",
   "name": "python",
   "nbconvert_exporter": "python",
   "pygments_lexer": "ipython3",
   "version": "3.9.18"
  }
 },
 "nbformat": 4,
 "nbformat_minor": 5
}
