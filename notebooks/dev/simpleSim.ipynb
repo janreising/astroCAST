{
 "cells": [
  {
   "cell_type": "code",
   "execution_count": null,
   "id": "initial_id",
   "metadata": {
    "execution": {
     "iopub.execute_input": "2024-03-12T14:37:24.999955Z",
     "iopub.status.busy": "2024-03-12T14:37:24.999600Z",
     "iopub.status.idle": "2024-03-12T14:37:25.015915Z",
     "shell.execute_reply": "2024-03-12T14:37:25.015102Z",
     "shell.execute_reply.started": "2024-03-12T14:37:24.999933Z"
    },
    "is_executing": true
   },
   "outputs": [],
   "source": [
    "import importlib\n",
    "\n",
    "import pandas as pd\n",
    "from tqdm import tqdm\n",
    "from sklearn.metrics import accuracy_score, precision_score, recall_score, f1_score\n",
    "import matplotlib.pyplot as plt\n",
    "import numpy as np\n",
    "import seaborn as sns\n",
    "import warnings\n",
    "\n",
    "import astrocast.helper as helper\n",
    "import astrocast.reduction as red\n",
    "import astrocast.clustering as clust\n",
    "import astrocast.analysis as ana\n",
    "import astrocast.autoencoders as AE\n",
    "import astrocast.clustering as clust\n",
    "\n",
    "importlib.reload(helper)\n",
    "importlib.reload(red)\n",
    "importlib.reload(clust)\n",
    "importlib.reload(ana)\n",
    "importlib.reload(AE)\n",
    "importlib.reload(clust)\n"
   ]
  },
  {
   "cell_type": "markdown",
   "id": "5e628ef2-b888-4b19-92c4-ac678453b716",
   "metadata": {
    "jp-MarkdownHeadingCollapsed": true
   },
   "source": [
    "# Check SignalGenerator"
   ]
  },
  {
   "cell_type": "code",
   "execution_count": null,
   "id": "7bedb1795ec28cec",
   "metadata": {
    "ExecuteTime": {
     "end_time": "2024-03-06T16:10:40.034507Z",
     "start_time": "2024-03-06T16:10:39.582667Z"
    }
   },
   "outputs": [],
   "source": [
    "x = np.arange(-10, 20, 1)\n",
    "y = helper.SignalGenerator._richards_curve(x, m_0=8)\n",
    "ysum = np.cumsum(y)\n",
    "\n",
    "fig, (ax0, ax1) = plt.subplots(2, 1)\n",
    "\n",
    "ax0.plot(x, y)\n",
    "ax1.plot(x, ysum)"
   ]
  },
  {
   "cell_type": "code",
   "execution_count": null,
   "id": "9aeec311a60d4d16",
   "metadata": {
    "ExecuteTime": {
     "end_time": "2024-03-07T07:03:17.308646Z",
     "start_time": "2024-03-07T07:03:17.041444Z"
    }
   },
   "outputs": [],
   "source": [
    "importlib.reload(helper)\n",
    "\n",
    "sg = helper.SignalGenerator(trace_length=100,\n",
    "                            plateau_duration=2,\n",
    "                            parameter_fluctuations=0,\n",
    "                            allow_negative_values=False,\n",
    "                            signal_amplitude=None,\n",
    "                            m_0=8,\n",
    "                            a=0, k=1,\n",
    "                            offset=(3, 3),\n",
    "                            noise_amplitude=0.05,\n",
    "                            leaky_k=0.2)\n",
    "signal = sg.generate_signal()\n",
    "\n",
    "fig, ax = plt.subplots(1, 1, figsize=(7, 2))\n",
    "_ = ax.plot(signal)"
   ]
  },
  {
   "cell_type": "markdown",
   "id": "2643a996-0eab-4c91-bc09-cec4a3c66cfe",
   "metadata": {},
   "source": [
    "# Test Dummy Generator"
   ]
  },
  {
   "cell_type": "markdown",
   "id": "a34e8479-3653-4141-ae91-42ae1db34f95",
   "metadata": {},
   "source": [
    "## Conditional Constrasts"
   ]
  },
  {
   "cell_type": "code",
   "execution_count": null,
   "id": "76ea86dc5116f7f7",
   "metadata": {
    "ExecuteTime": {
     "end_time": "2024-03-07T07:16:39.365360Z",
     "start_time": "2024-03-07T07:16:38.839311Z"
    }
   },
   "outputs": [],
   "source": [
    "importlib.reload(helper)\n",
    "importlib.reload(ana)\n",
    "\n",
    "default = dict(\n",
    "        trace_length=(50, 50),\n",
    "        allow_negative_values=False,\n",
    "        noise_amplitude=0.01,\n",
    "        offset=(1, 1),\n",
    "        parameter_fluctuations=0.05,\n",
    "        )\n",
    "\n",
    "sg1 = helper.SignalGenerator(plateau_duration=0,\n",
    "                             signal_amplitude=None,\n",
    "                             a=0, k=1, m_0=8,\n",
    "                             leaky_k=0.2,\n",
    "                             **default)\n",
    "\n",
    "sg2 = helper.SignalGenerator(plateau_duration=0,\n",
    "                             signal_amplitude=None,\n",
    "                             a=0, k=2, m_0=8,\n",
    "                             leaky_k=0.3,\n",
    "                             **default)\n",
    "\n",
    "pop_size = 200\n",
    "dg = helper.DummyGenerator(generators=[sg1, sg2], num_rows=pop_size)\n",
    "eObj = dg.get_events()\n",
    "# display(eObj)\n",
    "\n",
    "plot = ana.Plotting(events=eObj)\n",
    "_ = plot.plot_traces(num_samples=len(eObj), by=\"group\")\n",
    "\n",
    "ids = eObj.events[\"group\"].tolist()"
   ]
  },
  {
   "cell_type": "markdown",
   "id": "b65c52a0-696d-4090-a9df-05abd6e2d0b2",
   "metadata": {},
   "source": [
    "## Timings"
   ]
  },
  {
   "cell_type": "code",
   "execution_count": null,
   "id": "c857986f-1153-4b87-8e6f-3c549a350758",
   "metadata": {
    "execution": {
     "iopub.execute_input": "2024-03-12T14:43:53.051643Z",
     "iopub.status.busy": "2024-03-12T14:43:53.051003Z",
     "iopub.status.idle": "2024-03-12T14:43:53.349831Z",
     "shell.execute_reply": "2024-03-12T14:43:53.349205Z",
     "shell.execute_reply.started": "2024-03-12T14:43:53.051605Z"
    }
   },
   "outputs": [],
   "source": [
    "importlib.reload(helper)\n",
    "importlib.reload(ana)\n",
    "\n",
    "max_z = 10000\n",
    "\n",
    "default = dict(\n",
    "        trace_length=None,\n",
    "        allow_negative_values=False,\n",
    "        noise_amplitude=0.01,\n",
    "        offset=(1, 1),\n",
    "        parameter_fluctuations=0,\n",
    "        )\n",
    "\n",
    "sg1 = helper.SignalGenerator(plateau_duration=0,\n",
    "                             signal_amplitude=None,\n",
    "                             a=0, k=1, m_0=8,\n",
    "                             leaky_k=0.2,\n",
    "                             **default)\n",
    "\n",
    "t1 = None\n",
    "t2 = list(range(0, max_z, 1000))\n",
    "\n",
    "pop_size = 250\n",
    "dg = helper.DummyGenerator(generators=[sg1, sg1], num_rows=pop_size,\n",
    "                           timings=[t1, t2], timing_jitter=(5, 50), z_range=(0, max_z))\n",
    "eObj = dg.get_events()\n",
    "# display(eObj)\n",
    "\n",
    "# plot = ana.Plotting(events=eObj)\n",
    "# _ = plot.plot_traces(num_samples=len(eObj), by=\"group\")\n",
    "\n",
    "# ids = eObj.events[\"group\"].tolist()\n",
    "\n",
    "with warnings.catch_warnings():\n",
    "    warnings.simplefilter('ignore')\n",
    "    \n",
    "    fig, ax = plt.subplots(1, 1, figsize=(10, 3))\n",
    "    \n",
    "    sns.scatterplot(data=eObj.events, x=\"z0\", y=\"dz\", hue=\"group\",\n",
    "                    ax=ax)\n",
    "    \n",
    "    for v in t2:\n",
    "        ax.axvline(v, color=\"gray\", linestyle=\"--\")"
   ]
  },
  {
   "cell_type": "markdown",
   "id": "3bf565ad-16d7-40e1-b1e3-0b5b2c4c4f84",
   "metadata": {
    "jp-MarkdownHeadingCollapsed": true
   },
   "source": [
    "# Test Unsupervised Clustering"
   ]
  },
  {
   "cell_type": "markdown",
   "id": "a11cf6f6-d170-43c0-a1e2-02ff92a4c14c",
   "metadata": {
    "jp-MarkdownHeadingCollapsed": true
   },
   "source": [
    "## Feature extraction"
   ]
  },
  {
   "cell_type": "code",
   "execution_count": null,
   "id": "9cd4bc4f988e526c",
   "metadata": {
    "ExecuteTime": {
     "end_time": "2024-03-07T07:34:18.405389Z",
     "start_time": "2024-03-07T07:34:13.594907Z"
    }
   },
   "outputs": [],
   "source": [
    "evaluate(features, ids)"
   ]
  },
  {
   "cell_type": "code",
   "execution_count": null,
   "id": "b05e4638ccf84bc",
   "metadata": {
    "ExecuteTime": {
     "end_time": "2024-03-07T07:16:48.692509Z",
     "start_time": "2024-03-07T07:16:45.286900Z"
    },
    "execution": {
     "iopub.execute_input": "2024-03-04T12:44:40.958141Z",
     "iopub.status.busy": "2024-03-04T12:44:40.956279Z",
     "iopub.status.idle": "2024-03-04T12:44:47.875905Z",
     "shell.execute_reply": "2024-03-04T12:44:47.875257Z",
     "shell.execute_reply.started": "2024-03-04T12:44:40.958035Z"
    }
   },
   "outputs": [],
   "source": [
    "# extract features\n",
    "fe = red.FeatureExtraction(eObj)\n",
    "features = fe.all_features(dropna=True)\n",
    "# display(features)\n",
    "\n",
    "# get labels\n",
    "hdb = clust.HdbScan()\n",
    "lbls = hdb.fit(features)\n",
    "print(np.unique(lbls))\n",
    "\n",
    "# Compute the metrics\n",
    "accuracy = accuracy_score(ids, lbls)\n",
    "precision = precision_score(ids, lbls, average='macro')  # Use 'binary' for binary classification\n",
    "recall = recall_score(ids, lbls, average='macro')  # Use 'binary' for binary classification\n",
    "f1 = f1_score(ids, lbls, average='macro')  # Use 'binary' for binary classification\n",
    "\n",
    "print(f\"Accuracy: {accuracy}\")\n",
    "print(f\"Precision: {precision}\")\n",
    "print(f\"Recall: {recall}\")\n",
    "print(f\"F1 Score: {f1}\")\n",
    "\n",
    "# get umap\n",
    "umap = red.UMAP()\n",
    "embedding = umap.train(features)\n",
    "umap.plot(data=embedding, labels=lbls, plot_type=\"umap\", size=10)"
   ]
  },
  {
   "cell_type": "markdown",
   "id": "0ca71ad7-cf2a-425b-b39d-392610bb2b2e",
   "metadata": {
    "jp-MarkdownHeadingCollapsed": true
   },
   "source": [
    "## CNN"
   ]
  },
  {
   "cell_type": "code",
   "execution_count": null,
   "id": "4c048f31-86f7-4625-815d-950fbb17f82c",
   "metadata": {
    "execution": {
     "iopub.execute_input": "2024-03-04T12:45:04.628542Z",
     "iopub.status.busy": "2024-03-04T12:45:04.628113Z",
     "iopub.status.idle": "2024-03-04T12:45:11.566914Z",
     "shell.execute_reply": "2024-03-04T12:45:11.566212Z",
     "shell.execute_reply.started": "2024-03-04T12:45:04.628518Z"
    }
   },
   "outputs": [],
   "source": [
    "importlib.reload(AE)\n",
    "\n",
    "data = dummy_Object.events.trace.tolist()\n",
    "data = np.array(data)\n",
    "print(data.shape)\n",
    "\n",
    "cnn = AE.CNN_Autoencoder(target_length=data.shape[1], latent_size=384, add_noise=0.01, use_cuda=True)\n",
    "X_train, X_val, X_test = cnn.split_dataset(data)\n",
    "\n",
    "_ = cnn.train_autoencoder(X_train, X_val, X_test, epochs=50)\n",
    "\n",
    "embedding = cnn.embed(data)\n",
    "\n",
    "_ = cnn.plot_examples_pytorch(X_train, show_diff=True, trim_zeros=False)\n",
    "_ = cnn.plot_examples_pytorch(X_test, show_diff=True, trim_zeros=False)"
   ]
  },
  {
   "cell_type": "code",
   "execution_count": null,
   "id": "e86dce80-9ee6-4616-b647-0074d3f233bd",
   "metadata": {
    "execution": {
     "iopub.execute_input": "2024-03-04T12:59:19.551472Z",
     "iopub.status.busy": "2024-03-04T12:59:19.550381Z",
     "iopub.status.idle": "2024-03-04T12:59:21.658847Z",
     "shell.execute_reply": "2024-03-04T12:59:21.657763Z",
     "shell.execute_reply.started": "2024-03-04T12:59:19.551379Z"
    }
   },
   "outputs": [],
   "source": [
    "from sklearn.metrics import confusion_matrix, ConfusionMatrixDisplay\n",
    "\n",
    "importlib.reload(clust)\n",
    "\n",
    "disc = clust.Discriminator(events=dummy_Object)\n",
    "\n",
    "# disc.get_available_models()\n",
    "\n",
    "clf = disc.train_classifier(embedding=embedding, category_vector=ids)\n",
    "train, test = disc.evaluate(show_plot=True)\n",
    "\n",
    "disp = ConfusionMatrixDisplay(confusion_matrix=train, display_labels=clf.classes_)\n",
    "disp.plot()"
   ]
  },
  {
   "cell_type": "code",
   "execution_count": null,
   "id": "c6007d62-55f4-45fa-809d-f24e530a71f1",
   "metadata": {
    "ExecuteTime": {
     "end_time": "2024-03-07T07:34:07.535087Z",
     "start_time": "2024-03-07T07:34:07.523725Z"
    },
    "execution": {
     "iopub.execute_input": "2024-03-04T12:45:18.766558Z",
     "iopub.status.busy": "2024-03-04T12:45:18.766314Z",
     "iopub.status.idle": "2024-03-04T12:45:24.864405Z",
     "shell.execute_reply": "2024-03-04T12:45:24.863847Z",
     "shell.execute_reply.started": "2024-03-04T12:45:18.766536Z"
    }
   },
   "outputs": [],
   "source": [
    "importlib.reload(red)\n",
    "import warnings\n",
    "\n",
    "\n",
    "def compute_scores(true_labels, predicted_labels):\n",
    "    \"\"\"Compute performance metrics between true and predicted labels.\n",
    "    \n",
    "    Args:\n",
    "      true_labels: Ground truth (correct) labels.\n",
    "      predicted_labels: Predicted labels, as returned by a classifier.\n",
    "    \n",
    "    Returns:\n",
    "      A dictionary with accuracy, precision, recall, and F1 score.\n",
    "    \"\"\"\n",
    "    return {\n",
    "        'accuracy':  accuracy_score(true_labels, predicted_labels),\n",
    "        'precision': precision_score(true_labels, predicted_labels, average='macro'),\n",
    "        'recall':    recall_score(true_labels, predicted_labels, average='macro'),\n",
    "        'f1':        f1_score(true_labels, predicted_labels, average='macro')\n",
    "        }\n",
    "\n",
    "\n",
    "def best_score_plot(embedding, true_labels, lbls1, lbls2, axx=None):\n",
    "    \"\"\"Plots the embedding with the best scoring labels based on F1 score.\n",
    "    \n",
    "    Args:\n",
    "      embedding: The embedding to be plotted.\n",
    "      true_labels: Ground truth (correct) labels for the embedding.\n",
    "      lbls1, lbls2: Two sets of labels to compare.\n",
    "      ax: Matplotlib axis to plot on.\n",
    "    \"\"\"\n",
    "    \n",
    "    scores1 = compute_scores(true_labels, lbls1)\n",
    "    scores2 = compute_scores(true_labels, lbls2)\n",
    "    \n",
    "    # Decide which labels have the best F1 score\n",
    "    best_labels, best_scores = (lbls1, scores1) if scores1['f1'] > scores2['f1'] else (lbls2, scores2)\n",
    "    \n",
    "    if axx is None:\n",
    "        fig, (ax0, ax1) = plt.subplots(2, 1)\n",
    "    else:\n",
    "        ax0, ax1 = axx\n",
    "    \n",
    "    # Plotting\n",
    "    umap.plot(data=embedding, labels=best_labels, true_labels=true_labels, plot_type='matplotlib', size=10, alpha=0.75,\n",
    "              ax=ax0)\n",
    "    title = f\"Accuracy: {best_scores['accuracy'] * 100:.1f}%, Precision: {best_scores['precision'] * 100:.1f}%, Recall: {best_scores['recall'] * 100:.1f}%, F1: {best_scores['f1'] * 100:.1f}%\"\n",
    "    ax.set_title(title)\n",
    "    \n",
    "    # Generating and plotting confusion matrix for the best model\n",
    "    cm = confusion_matrix(true_labels, best_labels)\n",
    "    disp = ConfusionMatrixDisplay(confusion_matrix=cm)\n",
    "    disp.plot(ax=ax1)\n",
    "\n",
    "\n",
    "def evaluate(embedding, true_labels, min_dist=0.11, n_neighbors=50, min_sample=2, min_cluster_size=50):\n",
    "    \n",
    "    umap = red.UMAP(min_dist=0.11, n_neighbors=50)\n",
    "    um_embedding = umap.train(embedding)\n",
    "    \n",
    "    lbls1 = hdb.fit(embedding)\n",
    "    lbls2 = hdb.fit(um_embedding)\n",
    "    \n",
    "    best_score_plot(embedding, true_labels, lbls1, lbls2)"
   ]
  },
  {
   "cell_type": "markdown",
   "id": "c70bc30d-947b-4ed9-b0b2-1dbbac3a2039",
   "metadata": {
    "execution": {
     "iopub.execute_input": "2024-03-04T10:24:51.092218Z",
     "iopub.status.busy": "2024-03-04T10:24:51.091018Z",
     "iopub.status.idle": "2024-03-04T10:24:51.097610Z",
     "shell.execute_reply": "2024-03-04T10:24:51.096412Z",
     "shell.execute_reply.started": "2024-03-04T10:24:51.092155Z"
    },
    "jp-MarkdownHeadingCollapsed": true
   },
   "source": [
    "## RNN"
   ]
  },
  {
   "cell_type": "code",
   "execution_count": null,
   "id": "5a0c08987244465b",
   "metadata": {
    "ExecuteTime": {
     "end_time": "2024-03-01T16:35:18.669085Z",
     "start_time": "2024-03-01T16:35:18.540390Z"
    },
    "execution": {
     "iopub.status.busy": "2024-03-04T11:51:58.007720Z",
     "iopub.status.idle": "2024-03-04T11:51:58.007995Z",
     "shell.execute_reply": "2024-03-04T11:51:58.007877Z",
     "shell.execute_reply.started": "2024-03-04T11:51:58.007836Z"
    }
   },
   "outputs": [],
   "source": [
    "# pdl = AE.PaddedDataLoader(data=dummy_Object.events.trace)\n",
    "# X_train, X_val, X_test = pdl.get_datasets(batch_size=128,\n",
    "#                                           val_size=0.1,\n",
    "#                                           test_size=0.05)"
   ]
  },
  {
   "cell_type": "code",
   "execution_count": null,
   "id": "3bc3b07e99c6194f",
   "metadata": {
    "execution": {
     "iopub.status.busy": "2024-03-04T11:51:58.008831Z",
     "iopub.status.idle": "2024-03-04T11:51:58.009087Z",
     "shell.execute_reply": "2024-03-04T11:51:58.008969Z",
     "shell.execute_reply.started": "2024-03-04T11:51:58.008956Z"
    }
   },
   "outputs": [],
   "source": [
    "# tRAE = AE.TimeSeriesRnnAE(use_cuda=True, rnn_hidden_dim=64, num_layers=1,\n",
    "#                           dropout=0.01, encoder_lr=0.001, decoder_lr=0.001)\n",
    "# _ = tRAE.train_epochs(dataloader_train=X_train,\n",
    "#                       dataloader_val=X_val,\n",
    "#                       num_epochs=100,\n",
    "#                       patience=1000,\n",
    "#                       diminish_learning_rate=0.98,\n",
    "#                       safe_after_epoch=None,\n",
    "#                       show_mode='notebook'\n",
    "#                       )"
   ]
  },
  {
   "cell_type": "code",
   "execution_count": null,
   "id": "93efc096c0c7b514",
   "metadata": {
    "ExecuteTime": {
     "end_time": "2024-03-01T16:36:56.660124Z",
     "start_time": "2024-03-01T16:36:53.016641Z"
    },
    "execution": {
     "iopub.status.busy": "2024-03-04T11:51:58.010152Z",
     "iopub.status.idle": "2024-03-04T11:51:58.010439Z",
     "shell.execute_reply": "2024-03-04T11:51:58.010320Z",
     "shell.execute_reply.started": "2024-03-04T11:51:58.010307Z"
    }
   },
   "outputs": [],
   "source": [
    "# fig, x_val, y_val, latent, losses = tRAE.plot_traces(dataloader=X_test, figsize=(20, 20))\n",
    "# fig.savefig(\"tRAE_performance.png\")"
   ]
  },
  {
   "cell_type": "code",
   "execution_count": null,
   "id": "e92b73b41c2ccdd4",
   "metadata": {
    "ExecuteTime": {
     "end_time": "2024-03-01T16:26:58.044284Z",
     "start_time": "2024-03-01T16:26:34.467686Z"
    },
    "execution": {
     "iopub.status.busy": "2024-03-04T11:51:58.011399Z",
     "iopub.status.idle": "2024-03-04T11:51:58.011771Z",
     "shell.execute_reply": "2024-03-04T11:51:58.011649Z",
     "shell.execute_reply.started": "2024-03-04T11:51:58.011632Z"
    }
   },
   "outputs": [],
   "source": [
    "# X = pdl.get_dataloader(dummy_Object.events.trace, batch_size=16, shuffle=False)\n",
    "# _, _, latent, _ = tRAE.embedd(X)\n",
    "# latent = np.array(latent)\n",
    "\n",
    "# hdb = clust.HdbScan()\n",
    "# lbls = hdb.fit(latent)\n",
    "# uniq = np.unique(lbls)\n",
    "# print(len(uniq))\n",
    "# print(uniq)\n",
    "\n",
    "# # umap = red.UMAP()\n",
    "# # ulatent = umap.train(latent)\n",
    "# # print(ulatent.shape)\n",
    "# # \n",
    "# # umap.plot(data=ulatent, labels=lbls, use_napari=False)"
   ]
  }
 ],
 "metadata": {
  "kernelspec": {
   "display_name": "Python 3 (ipykernel)",
   "language": "python",
   "name": "python3"
  },
  "language_info": {
   "codemirror_mode": {
    "name": "ipython",
    "version": 3
   },
   "file_extension": ".py",
   "mimetype": "text/x-python",
   "name": "python",
   "nbconvert_exporter": "python",
   "pygments_lexer": "ipython3",
   "version": "3.10.13"
  }
 },
 "nbformat": 4,
 "nbformat_minor": 5
}
