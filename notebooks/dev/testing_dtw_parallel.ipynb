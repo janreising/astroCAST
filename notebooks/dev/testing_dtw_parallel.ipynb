{
 "cells": [
  {
   "cell_type": "code",
   "execution_count": null,
   "id": "99b435db-ea50-47ad-a65d-494552e44ae1",
   "metadata": {
    "execution": {
     "iopub.execute_input": "2023-11-29T17:08:41.622094Z",
     "iopub.status.busy": "2023-11-29T17:08:41.621404Z",
     "iopub.status.idle": "2023-11-29T17:08:43.284562Z",
     "shell.execute_reply": "2023-11-29T17:08:43.283893Z",
     "shell.execute_reply.started": "2023-11-29T17:08:41.622051Z"
    }
   },
   "outputs": [],
   "source": [
    "import numpy as np\n",
    "from astrocast.helper import DummyGenerator as DG\n",
    "from dtwParallel import dtw_functions as dtw"
   ]
  },
  {
   "cell_type": "code",
   "execution_count": null,
   "id": "519af837-1856-4b0e-941a-893ca9712251",
   "metadata": {
    "execution": {
     "iopub.execute_input": "2023-11-29T17:08:43.286475Z",
     "iopub.status.busy": "2023-11-29T17:08:43.286104Z",
     "iopub.status.idle": "2023-11-29T17:08:43.291428Z",
     "shell.execute_reply": "2023-11-29T17:08:43.290844Z",
     "shell.execute_reply.started": "2023-11-29T17:08:43.286453Z"
    }
   },
   "outputs": [],
   "source": [
    "A = np.random.random((8, 16))\n",
    "# display(A)\n",
    "\n",
    "dg = DG(num_rows=8, trace_length=16, ragged=True)\n",
    "Bl = dg.get_list()\n",
    "Ba = dg.get_array()\n",
    "Bla = np.array(dg.get_list())\n",
    "\n",
    "local_dissimilarity = \"norm1\""
   ]
  },
  {
   "cell_type": "code",
   "execution_count": null,
   "id": "c9029859-348b-41bd-8160-8e08bc98f461",
   "metadata": {
    "execution": {
     "iopub.execute_input": "2023-11-29T17:08:43.292593Z",
     "iopub.status.busy": "2023-11-29T17:08:43.292248Z",
     "iopub.status.idle": "2023-11-29T17:08:46.237221Z",
     "shell.execute_reply": "2023-11-29T17:08:46.236224Z",
     "shell.execute_reply.started": "2023-11-29T17:08:43.292552Z"
    }
   },
   "outputs": [],
   "source": [
    "distance_matrix = dtw.dtw(ts1=A, type_dtw=\"d\", local_dissimilarity=local_dissimilarity)"
   ]
  },
  {
   "cell_type": "code",
   "execution_count": null,
   "id": "bdd3b91a-b2d5-4766-bbb5-e263d936f720",
   "metadata": {
    "execution": {
     "iopub.execute_input": "2023-11-29T17:10:24.525095Z",
     "iopub.status.busy": "2023-11-29T17:10:24.523678Z",
     "iopub.status.idle": "2023-11-29T17:10:24.553277Z",
     "shell.execute_reply": "2023-11-29T17:10:24.551867Z",
     "shell.execute_reply.started": "2023-11-29T17:10:24.524974Z"
    }
   },
   "outputs": [],
   "source": [
    "try:\n",
    "    distance_matrix = dtw.dtw(ts1=Bl, type_dtw=\"d\", local_dissimilarity=local_dissimilarity)\n",
    "except:\n",
    "    print(\"Version 1 failed\")\n",
    "\n",
    "try:\n",
    "    distance_matrix = dtw.dtw(ts1=Ba, type_dtw=\"d\", local_dissimilarity=local_dissimilarity)\n",
    "except:\n",
    "    print(\"Version 2 failed\")\n",
    "\n",
    "try:\n",
    "    distance_matrix = dtw.dtw(ts1=Bla, type_dtw=\"d\", local_dissimilarity=local_dissimilarity)\n",
    "except:\n",
    "    print(\"Version 3 failed\")\n",
    "\n",
    "try:\n",
    "    distance_matrix = dtw.dtw(ts1=Bl, type_dtw=\"d\", local_dissimilarity=local_dissimilarity, MTS=True)\n",
    "except:\n",
    "    print(\"Version 4 failed\")\n",
    "\n",
    "try:\n",
    "    distance_matrix = dtw.dtw(ts1=Ba, type_dtw=\"d\", local_dissimilarity=local_dissimilarity, MTS=True)\n",
    "except:\n",
    "    print(\"Version 5 failed\")\n",
    "\n",
    "try:\n",
    "    distance_matrix = dtw.dtw(ts1=Bla, type_dtw=\"d\", local_dissimilarity=local_dissimilarity, MTS=True)\n",
    "except:\n",
    "    print(\"Version 6 failed\")"
   ]
  },
  {
   "cell_type": "code",
   "execution_count": null,
   "id": "1186ba00-e69b-4542-9cab-3ec5ef21a5a7",
   "metadata": {
    "execution": {
     "iopub.execute_input": "2023-11-29T17:08:46.251975Z",
     "iopub.status.busy": "2023-11-29T17:08:46.251660Z",
     "iopub.status.idle": "2023-11-29T17:08:46.257827Z",
     "shell.execute_reply": "2023-11-29T17:08:46.257132Z",
     "shell.execute_reply.started": "2023-11-29T17:08:46.251948Z"
    }
   },
   "outputs": [],
   "source": [
    "class Input:\n",
    "    def __init__(self):\n",
    "        self.check_errors = False\n",
    "        self.type_dtw = \"d\"\n",
    "        self.constrained_path_search = None\n",
    "        self.MTS = True\n",
    "        self.regular_flag = False\n",
    "        self.n_threads = -1\n",
    "        self.local_dissimilarity = local_dissimilarity\n",
    "        self.visualization = False\n",
    "        self.output_file = True\n",
    "        self.dtw_to_kernel = False\n",
    "        self.sigma_kernel = 1\n",
    "        self.itakura_max_slope = None\n",
    "        self.sakoe_chiba_radius = None\n",
    "\n",
    "input_obj = Input()"
   ]
  },
  {
   "cell_type": "code",
   "execution_count": null,
   "id": "4e1cc9ca-124b-48f9-adab-0d1fb753545f",
   "metadata": {
    "execution": {
     "iopub.execute_input": "2023-11-29T17:09:40.460510Z",
     "iopub.status.busy": "2023-11-29T17:09:40.459355Z",
     "iopub.status.idle": "2023-11-29T17:09:40.591417Z",
     "shell.execute_reply": "2023-11-29T17:09:40.590760Z",
     "shell.execute_reply.started": "2023-11-29T17:09:40.460400Z"
    }
   },
   "outputs": [],
   "source": [
    "N = len(Ba)\n",
    "\n",
    "C = np.zeros((N, N), dtype=float)\n",
    "for i in range(N):\n",
    "    for ii in range(N):\n",
    "        C[i, ii] = dtw.dtw(Ba[i], Ba[ii], local_dissimilarity=local_dissimilarity)\n",
    "\n",
    "try:\n",
    "    distance_matrix_1 = dtw.dtw_tensor_3d(Bl, Bl, input_obj)\n",
    "    print(\"Version 1 working\")\n",
    "    assert np.allclose(distance_matrix_1, C)\n",
    "except:\n",
    "    print(\"Version 1 not working\")\n",
    "\n",
    "try:\n",
    "    distance_matrix_2 = dtw.dtw_tensor_3d(Ba, Ba, input_obj)\n",
    "    print(\"Version 2 working\")\n",
    "    assert np.allclose(distance_matrix_2, C)\n",
    "except:\n",
    "    print(\"Version 2 not working\")\n",
    "\n",
    "try:\n",
    "    distance_matrix_3 = dtw.dtw_tensor_3d(Bla, Bla, input_obj)\n",
    "    print(\"Version 3 working\")\n",
    "    assert np.allclose(distance_matrix_3, C)\n",
    "except:\n",
    "    print(\"Version 3 not working\")"
   ]
  },
  {
   "cell_type": "code",
   "execution_count": null,
   "id": "9edd9e75-dae9-4307-9aeb-5a39e4e12d1a",
   "metadata": {},
   "outputs": [],
   "source": []
  },
  {
   "cell_type": "code",
   "execution_count": null,
   "id": "8a9a679e-c08f-4d2c-948d-b4f930c19ffa",
   "metadata": {},
   "outputs": [],
   "source": []
  }
 ],
 "metadata": {
  "kernelspec": {
   "display_name": "Python 3 (ipykernel)",
   "language": "python",
   "name": "python3"
  },
  "language_info": {
   "codemirror_mode": {
    "name": "ipython",
    "version": 3
   },
   "file_extension": ".py",
   "mimetype": "text/x-python",
   "name": "python",
   "nbconvert_exporter": "python",
   "pygments_lexer": "ipython3",
   "version": "3.9.18"
  }
 },
 "nbformat": 4,
 "nbformat_minor": 5
}
