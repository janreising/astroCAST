{
 "cells": [
  {
   "cell_type": "code",
   "execution_count": null,
   "id": "47293e38-7127-4c51-982c-27f2711d8a5c",
   "metadata": {},
   "outputs": [],
   "source": [
    "from astroCAST import preparation, analysis\n",
    "from astroCAST.denoising import SubFrameGenerator, Network\n",
    "from astroCAST.detection import Detector\n",
    "from astroCAST.clustering import HdbScan, Distance, Linkage, Modules\n",
    "from astroCAST.reduction import UMAP, CNN\n",
    "from astroCAST.helper import Normalization\n",
    "from astroCAST.analysis import Video, Events, Plotting\n",
    "\n",
    "from pathlib import Path\n",
    "import time\n",
    "import logging\n",
    "import h5py as h5\n",
    "import matplotlib.pyplot as plt\n",
    "\n",
    "folder = Path(\"/media/janrei1/data/method_testing/\")\n",
    "f = \"img_100\""
   ]
  },
  {
   "cell_type": "markdown",
   "id": "93b0f366-ace7-40c6-9e5f-a2c46a61af85",
   "metadata": {
    "jp-MarkdownHeadingCollapsed": true,
    "tags": []
   },
   "source": [
    "# Preprocessing"
   ]
  },
  {
   "cell_type": "markdown",
   "id": "1f94991b-ca82-4bef-bf9d-3eae6e325af7",
   "metadata": {
    "tags": []
   },
   "source": [
    "## Data conversion"
   ]
  },
  {
   "cell_type": "raw",
   "id": "4b5f8068-1248-47d8-9a26-64d5291c047d",
   "metadata": {},
   "source": [
    "input_folder = folder.joinpath(f)\n",
    "output_file = folder.joinpath(f\"{f}.h5\")\n",
    "# output_file=None\n",
    "\n",
    "if output_file.is_file():\n",
    "    output_file.unlink()\n",
    "\n",
    "# Convert image files\n",
    "converter = preparation.Input()\n",
    "\n",
    "t0 = time.time()\n",
    "converter.run(input_path=input_folder, output_path=output_file, \n",
    "              sep=\"-\", rescale=0.5, chunks=(100, 100, 100))\n",
    "t1 = time.time()\n",
    "\n",
    "print(f\"dt: {t1-t0:.2f}s\")"
   ]
  },
  {
   "cell_type": "raw",
   "id": "b482968f-b32f-426d-974b-8a8775348cef",
   "metadata": {
    "jupyter": {
     "outputs_hidden": true
    },
    "tags": []
   },
   "source": [
    "vid = analysis.Video(output_file, h5_loc=\"data/ch0\", lazy=True)\n",
    "display(f\"{vid.Z*vid.X*vid.Y:,d}\")\n",
    "vid.show()"
   ]
  },
  {
   "cell_type": "markdown",
   "id": "71b1ef8d-965b-4f2e-ac0d-26bacbbb2ff7",
   "metadata": {
    "jp-MarkdownHeadingCollapsed": true,
    "tags": []
   },
   "source": [
    "## Motion Correction"
   ]
  },
  {
   "cell_type": "raw",
   "id": "5b7561a1-fb23-4c49-8091-627ad55a390b",
   "metadata": {
    "jupyter": {
     "outputs_hidden": true
    },
    "tags": []
   },
   "source": [
    "input_file = folder.joinpath(f\"{f}.h5\")\n",
    "\n",
    "if True:\n",
    "\n",
    "    mc = preparation.MotionCorrection(logging_level=logging.DEBUG)\n",
    "\n",
    "    with h5.File(input_file.as_posix(), \"a\") as f:\n",
    "        if \"mc/ch0\" in f:\n",
    "            del f[\"mc/ch0\"]\n",
    "\n",
    "    t0 = time.time()\n",
    "    mc.run(input_file, h5_loc=\"data/ch0\", )\n",
    "    mc.save(output=input_file, loc=\"ch0\", prefix=\"mc/\", \n",
    "            chunks=(100, 100, 100), compression=None, remove_mmap=True)\n",
    "    t1 = time.time()\n",
    "\n",
    "    print(f\"dt: {t1-t0:.2f}s\")\n",
    "    \n",
    "else:\n",
    "    \n",
    "    video = analysis.Video(input_file, h5_loc=\"mc/ch0\", lazy=True, name=\"mc\")\n",
    "    viewer = video.show()\n",
    "\n",
    "    data_video = analysis.Video(input_file, h5_loc=\"data/ch0\", lazy=True, name=\"data\")\n",
    "    viewer = data_video.show(viewer)\n"
   ]
  },
  {
   "cell_type": "markdown",
   "id": "ccd56d44-03d4-42b6-a17c-15438ad41fe9",
   "metadata": {
    "jp-MarkdownHeadingCollapsed": true,
    "tags": []
   },
   "source": [
    "## Denoising "
   ]
  },
  {
   "cell_type": "raw",
   "id": "cd86a9c5-5a04-46dc-ac33-ad9df9bb934d",
   "metadata": {},
   "source": [
    "model_path = folder.joinpath(f\"model_{f}\")\n",
    "print(model_path)\n",
    "not model_path.is_dir() or len(list(model_path.glob(\"*.h5\")))<1"
   ]
  },
  {
   "cell_type": "raw",
   "id": "ca4a8a67-3162-40ba-a497-74d881ecc9d0",
   "metadata": {
    "tags": []
   },
   "source": [
    "training_files = list(folder.joinpath(\"training\").glob(\"*.h5\"))\n",
    "input_file = folder.joinpath(f\"{f}.h5\")\n",
    "model_path = folder.joinpath(f\"model_long\")\n",
    "\n",
    "param_training = dict(paths=training_files, loc=\"dff/ast\", \n",
    "             input_size=(512, 512), pre_post_frame=5, gap_frames=0,\n",
    "             normalize=\"global\", in_memory=True, logging_level=logging.WARNING)\n",
    "\n",
    "param = dict(paths=input_file, loc=\"mc/ch0\", \n",
    "             input_size=(512, 512), pre_post_frame=5, gap_frames=0,\n",
    "             normalize=\"global\", in_memory=True, logging_level=logging.WARNING)\n",
    "\n",
    "if not model_path.is_dir() or len(list(model_path.glob(\"*.h5\")))<1:\n",
    "    \n",
    "    t0 = time.time()\n",
    "    train_gen = SubFrameGenerator(padding=None, batch_size=16, max_per_file=32, \n",
    "                               allowed_rotation=[1, 2, 3], allowed_flip=[0, 1], shuffle=True, **param_training)\n",
    "\n",
    "    val_gen = SubFrameGenerator(padding=None, batch_size=16, max_per_file=16, cache_results=True,\n",
    "                                       allowed_rotation=[0], allowed_flip=[-1], shuffle=True, **param_training)\n",
    "\n",
    "\n",
    "    net = Network(train_generator=train_gen, val_generator=val_gen, \n",
    "                  n_stacks=3, kernel=32, batchNormalize=False, use_cpu=True)\n",
    "    \n",
    "    net.run(batch_size=32, \n",
    "            num_epochs=50,\n",
    "            patience=2, min_delta=0.001, \n",
    "            save_model=model_path, load_weights=True)\n",
    "    \n",
    "    t1 = time.time()\n",
    "    print(f\"dT training: {t1-t0}\") \n",
    "    \n",
    "infer_path = input_file\n",
    "out_loc = \"inf/ch0\"\n",
    "\n",
    "with h5.File(input_file.as_posix(), \"a\") as f:\n",
    "        if out_loc in f:\n",
    "            del f[out_loc]\n",
    "\n",
    "t0 = time.time()\n",
    "\n",
    "inf_gen = SubFrameGenerator(padding=\"edge\", batch_size=200, \n",
    "                            allowed_rotation=[0], allowed_flip=[-1], #z_select=(0, 25),\n",
    "                            shuffle=False, max_per_file=None, **param)\n",
    "\n",
    "inf_gen.infer(model=model_path, output=infer_path.as_posix(), \n",
    "              out_loc=out_loc, rescale=True, dtype=float)\n",
    "\n",
    "t1 = time.time()\n",
    "print(f\"inference: {t1-t0}\") \n"
   ]
  },
  {
   "cell_type": "raw",
   "id": "60b4fbc9-011f-44fe-91e1-2b13571fc572",
   "metadata": {},
   "source": [
    "video = analysis.Video(input_file, h5_loc=\"mc/ch0\", lazy=True, name=\"mc\")\n",
    "viewer = video.show()\n",
    "\n",
    "data_video = analysis.Video(input_file, h5_loc=\"inf/ch0\", lazy=True, name=\"inf\")\n",
    "viewer = data_video.show(viewer)"
   ]
  },
  {
   "cell_type": "markdown",
   "id": "e23db936-68b6-4cfe-8be9-c0fbe7f4ef0f",
   "metadata": {
    "jp-MarkdownHeadingCollapsed": true,
    "tags": []
   },
   "source": [
    "## Detrending"
   ]
  },
  {
   "cell_type": "raw",
   "id": "f40a8d4b-5162-4fbe-9900-11397b2d3889",
   "metadata": {},
   "source": [
    "input_file = folder.joinpath(f\"{f}.h5\")\n",
    "out_loc=\"dff/ch0\"\n",
    "\n",
    "with h5.File(input_file.as_posix(), \"a\") as f:\n",
    "    if out_loc in f:\n",
    "        del f[out_loc]\n",
    "\n",
    "t0 = time.time()\n",
    "delta = preparation.Delta(input_file, loc=\"inf/ch0\", parallel=True, )\n",
    "img = delta.run(method=\"dF\", window=15, )\n",
    "delta.save(input_file, h5_loc=out_loc, chunks=None)\n",
    "t1 = time.time()\n",
    "\n",
    "print(f\"detrending: {t1-t0}\") "
   ]
  },
  {
   "cell_type": "raw",
   "id": "597d4068-7a3b-4467-a5ec-5ded0bc39261",
   "metadata": {},
   "source": [
    "video = analysis.Video(input_file, h5_loc=\"dff/ch0/ch0\", lazy=True, name=\"dff\")\n",
    "viewer = video.show()\n",
    "\n",
    "data_video = analysis.Video(input_file, h5_loc=\"inf/ch0\", lazy=True, name=\"inf\")\n",
    "viewer = data_video.show(viewer)"
   ]
  },
  {
   "cell_type": "markdown",
   "id": "f06c12e4-a682-45e3-a2b4-f422849c8943",
   "metadata": {
    "jp-MarkdownHeadingCollapsed": true,
    "tags": []
   },
   "source": [
    "## Detection"
   ]
  },
  {
   "cell_type": "raw",
   "id": "b6876579-5682-4c31-8937-4e54434d1f9e",
   "metadata": {
    "tags": []
   },
   "source": [
    "input_file = folder.joinpath(f\"{f}.h5\")\n",
    "in_loc=\"dff/ch0/ch0\"\n",
    "\n",
    "t0=time.time()\n",
    "det = Detector(input_file)\n",
    "det.run(dataset=in_loc, min_size=20, binary_struct_iterations=2, use_dask=True)\n",
    "t1=time.time()\n",
    "\n",
    "print(f\"detection: {t1-t0}\") "
   ]
  },
  {
   "cell_type": "raw",
   "id": "cc11f136-b45d-41b3-9584-8c9e6606251f",
   "metadata": {
    "jupyter": {
     "outputs_hidden": true
    },
    "tags": []
   },
   "source": [
    "events = Events(input_file.with_suffix(\".ch0.roi\"))\n",
    "print(f\"#events: {len(events)}\")\n",
    "viewer = events.show_event_map(video=input_file, h5_loc=\"dff/ch0/ch0\", lazy=False)"
   ]
  },
  {
   "cell_type": "markdown",
   "id": "35483a7f-203f-4cf4-82b0-44075355931f",
   "metadata": {
    "tags": []
   },
   "source": [
    "# Analysis"
   ]
  },
  {
   "cell_type": "code",
   "execution_count": null,
   "id": "d184341f-53aa-4e61-8cd8-6ffdf406209c",
   "metadata": {
    "tags": []
   },
   "outputs": [],
   "source": [
    "events = Events(folder.joinpath(f\"{f}.h5\").with_suffix(\".ch0.roi\"))\n",
    "p = Plotting(events)\n",
    "\n",
    "# events"
   ]
  },
  {
   "cell_type": "markdown",
   "id": "67ca9adb-3484-4f15-81de-a5d766fc00b9",
   "metadata": {
    "jp-MarkdownHeadingCollapsed": true,
    "tags": []
   },
   "source": [
    "## Exploration"
   ]
  },
  {
   "cell_type": "raw",
   "id": "b430d4a6-0061-467c-b77b-6ec98e6f78cc",
   "metadata": {},
   "source": [
    "events.get_summary_statistics()"
   ]
  },
  {
   "cell_type": "raw",
   "id": "38433b0e-8b21-4572-92f3-043ee1ee2355",
   "metadata": {},
   "source": [
    "p = Plotting(events)"
   ]
  },
  {
   "cell_type": "raw",
   "id": "60230d86-23fd-4120-81a1-da861de0286e",
   "metadata": {},
   "source": [
    "fig, ax = plt.subplots(1, 1, figsize=(6, 3))\n",
    "\n",
    "_ = p.plot_traces(num_samples=25, ax=ax)\n",
    "\n",
    "ax.set_xlabel(\"frame\")\n",
    "ax.set_ylabel(\"dFF fluorescence\")\n",
    "\n",
    "plt.tight_layout()\n",
    "\n",
    "fig.savefig(folder.joinpath(\"step_6_2.png\").as_posix(), dpi=(260))"
   ]
  },
  {
   "cell_type": "raw",
   "id": "ea074ae3-ec10-421b-96ee-7ff54ae8be1f",
   "metadata": {},
   "source": [
    "fig, axx = plt.subplots(1, 3, figsize=(8, 3))\n",
    "axx = list(axx.flatten())\n",
    "\n",
    "_ = p.plot_distribution(column=\"dz\", outlier_deviation=3, axx=axx)\n",
    "\n",
    "# ax.set_xlabel(\"frame\")\n",
    "# ax.set_ylabel(\"dFF fluorescence\")\n",
    "\n",
    "plt.tight_layout()\n",
    "\n",
    "fig.savefig(folder.joinpath(\"step_6_3.png\").as_posix(), dpi=(260))"
   ]
  },
  {
   "cell_type": "raw",
   "id": "1dc50e89-9ec6-41ca-9cf9-26959007c7b9",
   "metadata": {},
   "source": [
    "schema = \"AAA;BCD\"\n",
    "fig, axx = plt.subplot_mosaic(schema, figsize=(6, 4))\n",
    "\n",
    "ax = axx[\"A\"]\n",
    "axx = list([axx[\"B\"], axx[\"C\"], axx[\"D\"]])\n",
    "\n",
    "# top\n",
    "_ = p.plot_traces(num_samples=25, ax=ax)\n",
    "\n",
    "ax.set_xlabel(\"frame\")\n",
    "ax.set_ylabel(\"dFF fluorescence\")\n",
    "\n",
    "# bottom\n",
    "_ = p.plot_distribution(column=\"dz\", outlier_deviation=3, axx=axx)\n",
    "\n",
    "plt.tight_layout()\n",
    "fig.savefig(folder.joinpath(\"step_6_comb.png\").as_posix(), dpi=(480))"
   ]
  },
  {
   "cell_type": "markdown",
   "id": "f22de5f2-b84e-4cb5-ad92-72365c4a4de7",
   "metadata": {
    "tags": []
   },
   "source": [
    "## Clustering - unified"
   ]
  },
  {
   "cell_type": "raw",
   "id": "ee40bbf1-2195-4576-a00c-95fec90b3b0f",
   "metadata": {},
   "source": [
    "t0=time.time()\n",
    "\n",
    "### Extend\n",
    "video = Video(folder.joinpath(f\"{f}.h5\"), h5_loc=\"dff/ch0/ch0\")\n",
    "events.get_extended_events(video=video, extend=5, in_place=True)\n",
    "\n",
    "### Enforce length\n",
    "events.enforce_length(min_length=5, max_length=5, inplace=True)\n",
    "\n",
    "### Normalization\n",
    "instructions = {\n",
    "    0: [\"subtract\", {\"mode\":\"min\"}],\n",
    "    1: [\"divide\", {\"mode\": \"max_abs\"}]\n",
    "}\n",
    "\n",
    "events.normalize(instructions)\n",
    "\n",
    "t1 = time.time()\n",
    "print(f\"dt: {t1-t0:.2f}s\")\n",
    "\n",
    "_ = p.plot_traces(num_samples=25, figsize=(4, 3))"
   ]
  },
  {
   "cell_type": "raw",
   "id": "5a80f628-42e4-4732-8849-614e903342bc",
   "metadata": {},
   "source": [
    "### umap\n",
    "\n",
    "t0=time.time()\n",
    "\n",
    "data = events.to_numpy(simple=True)\n",
    "\n",
    "umap = UMAP(n_neighbors=15, n_components=3)\n",
    "hdbscan = HdbScan(min_cluster_size=25)\n",
    "\n",
    "embedding = umap.train(data)\n",
    "labels = hdbscan.fit(embedding)\n",
    "\n",
    "t1 = time.time()\n",
    "print(f\"dt umap: {t1-t0:.2f}s\")\n"
   ]
  },
  {
   "cell_type": "raw",
   "id": "5ed736b5-fcb5-4bf5-b8e9-1aed0373e561",
   "metadata": {},
   "source": [
    "import napari\n",
    "import numpy as np"
   ]
  },
  {
   "cell_type": "raw",
   "id": "5a3abff2-97e7-47ff-a48a-901e4f9239ac",
   "metadata": {},
   "source": [
    "viewer = napari.Viewer()\n",
    "\n",
    "points = embedding\n",
    "lbls = labels/np.max(labels)\n",
    "\n",
    "viewer.add_points(points, \n",
    "                  properties={'lbls':lbls},\n",
    "                  face_color='lbls', face_colormap='viridis',\n",
    "                  size=0.1)"
   ]
  },
  {
   "cell_type": "markdown",
   "id": "a5843b19-f27a-4f55-b236-58470878aeac",
   "metadata": {
    "tags": []
   },
   "source": [
    "## Linkage"
   ]
  },
  {
   "cell_type": "raw",
   "id": "e890cdf6-a742-471f-a97c-ec22f752f66b",
   "metadata": {},
   "source": [
    "t0=time.time()\n",
    "\n",
    "### Extend\n",
    "video = Video(folder.joinpath(f\"{f}.h5\"), h5_loc=\"dff/ch0/ch0\")\n",
    "events.get_extended_events(video=video, extend=5, in_place=True)\n",
    "\n",
    "### Normalization\n",
    "instructions = {\n",
    "    0: [\"subtract\", {\"mode\":\"min\"}],\n",
    "    1: [\"divide\", {\"mode\": \"max_abs\"}]\n",
    "}\n",
    "\n",
    "events.normalize(instructions)\n",
    "\n",
    "t1 = time.time()\n",
    "print(f\"dt: {t1-t0:.2f}s\")"
   ]
  },
  {
   "cell_type": "raw",
   "id": "b336dd77-5bc5-4f2c-a3d3-fe1929d9262d",
   "metadata": {
    "jupyter": {
     "outputs_hidden": true
    },
    "tags": []
   },
   "source": [
    "t0=time.time()\n",
    "\n",
    "distance = Distance()\n",
    "linkage = Linkage()\n",
    "\n",
    "corr = distance.get_correlation(events, correlation_type=\"dtw\")\n",
    "barycenters, clt = linkage.get_barycenters(events, z_threshold=.9, distance_matrix=corr, \n",
    "                                          param_clustering=dict(min_cluster_size=4))\n",
    "events.add_clustering(clt, column_name=\"bary_cluster\")\n",
    "\n",
    "t1 = time.time()\n",
    "print(f\"dt bary: {t1-t0:.2f}s\")"
   ]
  },
  {
   "cell_type": "raw",
   "id": "a36728cf-6309-46a6-984f-346276f72326",
   "metadata": {
    "jupyter": {
     "outputs_hidden": true
    },
    "tags": []
   },
   "source": [
    "freq = events.get_frequency(grouping_column=\"name\", cluster_column=\"bary_cluster\")\n",
    "freq"
   ]
  },
  {
   "cell_type": "raw",
   "id": "8c216044-dea1-4f28-a22f-7a0138bb9e2c",
   "metadata": {},
   "source": [
    "Z = linkage.Z"
   ]
  },
  {
   "cell_type": "raw",
   "id": "369c358e-7234-427f-bb04-d4e05ddd5b7e",
   "metadata": {},
   "source": [
    "from scipy.cluster import hierarchy"
   ]
  },
  {
   "cell_type": "raw",
   "id": "a3b7c630-faeb-49e7-b463-4a2d3fe27fe0",
   "metadata": {},
   "source": [
    "fig, ax = plt.subplots(1, 1, figsize=(8, 3))\n",
    "        \n",
    "dn = hierarchy.dendrogram(Z, p=12, truncate_mode='lastp', \n",
    "                          no_labels=False, show_contracted=False,\n",
    "                          leaf_label_func=None,\n",
    "                          ax=ax)\n",
    "\n",
    "ax.set_ylabel(\"distance\")\n",
    "ax.set_xlabel(\"cluster identifier or (number of cluster members)\")\n",
    "\n",
    "plt.tight_layout()\n",
    "fig.savefig(folder.joinpath(\"step_8_1.png\"), dpi=(480))"
   ]
  },
  {
   "cell_type": "markdown",
   "id": "d6e3ff6d-0407-4770-a681-9353aff79b8b",
   "metadata": {},
   "source": [
    "## Module"
   ]
  },
  {
   "cell_type": "code",
   "execution_count": null,
   "id": "4950aee7-49fb-4753-aefd-978766a7b5e7",
   "metadata": {},
   "outputs": [],
   "source": [
    "t0=time.time()\n",
    "\n",
    "### Extend\n",
    "video = Video(folder.joinpath(f\"{f}.h5\"), h5_loc=\"dff/ch0/ch0\")\n",
    "\n",
    "events.filter({\"dz\":(2, 100)})\n",
    "events.get_extended_events(video=video, extend=5, in_place=True)\n",
    "\n",
    "### Normalization\n",
    "# instructions = {\n",
    "#     0: [\"subtract\", {\"mode\":\"min\"}],\n",
    "#     1: [\"divide\", {\"mode\": \"max_abs\"}]\n",
    "# }\n",
    "\n",
    "# events.normalize(instructions)\n",
    "\n",
    "distance = Distance()\n",
    "modules = Modules(events)\n",
    "\n",
    "print(\"correlation ...\")\n",
    "corr = distance.get_correlation(events, correlation_type=\"dtw\")\n",
    "\n",
    "print(\"graph ...\")\n",
    "nodes, edges, lct = modules.create_graph(corr, correlation_boundaries=(0.98, 1))\n",
    "# modules.summarize_modules(nodes)\n",
    "\n",
    "t1 = time.time()\n",
    "print(f\"dt: {t1-t0:.2f}s\")"
   ]
  },
  {
   "cell_type": "code",
   "execution_count": null,
   "id": "15c843cf-6c4f-46a3-9dfd-b0b44f3d7781",
   "metadata": {},
   "outputs": [],
   "source": [
    "import numpy as np\n",
    "import napari\n",
    "\n",
    "nodes[\"xy\"] = nodes.apply(lambda x: np.array([x.x, x.y]), axis=1)\n",
    "lut = dict(zip(nodes.trace_idx.tolist(), nodes.xy.tolist()))\n",
    "\n",
    "L = np.array([\n",
    "    [np.array(lut[e.source]), np.array(lut[e.target])-np.array(lut[e.source])] for _, e in edges.iterrows()\n",
    "])\n",
    "display(L.shape)\n",
    "\n",
    "\n",
    "viewer.add_vectors(L, edge_width=1)"
   ]
  },
  {
   "cell_type": "code",
   "execution_count": null,
   "id": "7c45b5e9-b086-433d-a8c4-e19e411e28f5",
   "metadata": {},
   "outputs": [],
   "source": [
    "v = events.show_event_map(video=folder.joinpath(f\"{f}.h5\"), h5_loc=\"dff/ch0/ch0\")\n",
    "v.add_vectors(L, edge_width=1)"
   ]
  }
 ],
 "metadata": {
  "kernelspec": {
   "display_name": "Python 3 (ipykernel)",
   "language": "python",
   "name": "python3"
  },
  "language_info": {
   "codemirror_mode": {
    "name": "ipython",
    "version": 3
   },
   "file_extension": ".py",
   "mimetype": "text/x-python",
   "name": "python",
   "nbconvert_exporter": "python",
   "pygments_lexer": "ipython3",
   "version": "3.9.15"
  }
 },
 "nbformat": 4,
 "nbformat_minor": 5
}
