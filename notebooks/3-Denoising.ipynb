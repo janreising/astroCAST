{
 "cells": [
  {
   "cell_type": "code",
   "execution_count": null,
   "id": "e9a02402-8126-45d2-a5b5-594e7a0ca5bb",
   "metadata": {
    "tags": []
   },
   "outputs": [],
   "source": [
    "# Import necessary modules of astroCAST\n",
    "from astroCAST.denoising import SubFrameGenerator, Network\n",
    "from astroCAST.analysis import Video\n",
    "from pathlib import Path\n",
    "\n",
    "%load_ext memory_profiler"
   ]
  },
  {
   "cell_type": "code",
   "execution_count": null,
   "id": "887658e7-4e2e-4efd-814e-aaa01383a18b",
   "metadata": {
    "tags": []
   },
   "outputs": [],
   "source": [
    "folder = Path(\"/media/janrei1/data/method_testing/\")\n",
    "\n",
    "input_file = folder.joinpath(\"22A7x9-1.h5\") # your input file name here. 'h5' or 'tdb' is recommended for parallel processing \n",
    "assert input_file.is_file()\n",
    "\n",
    "model_path = folder.joinpath(\"model\")\n",
    "\n",
    "infer_path = input_file.with_suffix(\".denoised.h5\")\n",
    "out_loc = \"inf/ch0\""
   ]
  },
  {
   "cell_type": "code",
   "execution_count": null,
   "id": "9092e15f-3ed6-4b43-952b-405968273a26",
   "metadata": {},
   "outputs": [],
   "source": [
    "param = dict(paths=input_file, loc=\"data/ch0\", input_size=(256, 256), pre_post_frame=5, gap_frames=0,\n",
    "                 normalize=\"global\", in_memory=True)"
   ]
  },
  {
   "cell_type": "markdown",
   "id": "674c734e-65de-4811-83cf-ab10bc7136f4",
   "metadata": {
    "execution": {
     "iopub.execute_input": "2023-06-07T07:37:04.257584Z",
     "iopub.status.busy": "2023-06-07T07:37:04.257268Z",
     "iopub.status.idle": "2023-06-07T07:37:04.260970Z",
     "shell.execute_reply": "2023-06-07T07:37:04.260424Z",
     "shell.execute_reply.started": "2023-06-07T07:37:04.257562Z"
    }
   },
   "source": [
    "# Train model"
   ]
  },
  {
   "cell_type": "code",
   "execution_count": null,
   "id": "825d5d12-de16-468c-9bdc-519fe43d4968",
   "metadata": {
    "tags": []
   },
   "outputs": [],
   "source": [
    "if not model_path.is_dir() or len(list(model_path.glob(\"*.h5\")))<1:\n",
    "    \n",
    "    train_gen = SubFrameGenerator(padding=None, batch_size=64,max_per_file=640,\n",
    "                               allowed_rotation=[1, 2, 3], allowed_flip=[0, 1], shuffle=True, **param)\n",
    "\n",
    "    val_gen = SubFrameGenerator(padding=None, batch_size=16, max_per_file=16, cache_results=True,\n",
    "                                       allowed_rotation=[0], allowed_flip=[-1], shuffle=True, **param)\n",
    "\n",
    "\n",
    "    net = Network(train_generator=train_gen, val_generator=val_gen, n_stacks=3, kernel=32, batchNormalize=False, use_cpu=True)\n",
    "    net.run(batch_size=1, \n",
    "            num_epochs=50,\n",
    "            patience=2, min_delta=0.01, \n",
    "            save_model=model_path, load_weights=True)\n"
   ]
  },
  {
   "cell_type": "markdown",
   "id": "fd2fd543-af81-48fc-b8c7-34e39df6b757",
   "metadata": {
    "execution": {
     "iopub.execute_input": "2023-06-07T07:37:09.800572Z",
     "iopub.status.busy": "2023-06-07T07:37:09.799505Z",
     "iopub.status.idle": "2023-06-07T07:37:09.811191Z",
     "shell.execute_reply": "2023-06-07T07:37:09.808298Z",
     "shell.execute_reply.started": "2023-06-07T07:37:09.800474Z"
    }
   },
   "source": [
    "# Denoise"
   ]
  },
  {
   "cell_type": "code",
   "execution_count": null,
   "id": "966e3982-136c-40f9-9bc3-14c2d731a269",
   "metadata": {
    "tags": []
   },
   "outputs": [],
   "source": [
    "def test_infer():\n",
    "    \n",
    "    if infer_path.is_file():\n",
    "        infer_path.unlink()\n",
    "    \n",
    "    inf_gen = SubFrameGenerator(padding=\"edge\", batch_size=2000, allowed_rotation=[0], allowed_flip=[-1], z_select=(0, 25),\n",
    "                                    shuffle=False, max_per_file=None, **param)\n",
    "\n",
    "    # inf_gen.infer(model=model_path, output=infer_path.as_posix(), out_loc=out_loc, rescale=True)\n",
    "    inf_gen.infer(model=model_path, output=infer_path.with_suffix(\".tiff\").as_posix(), out_loc=out_loc, rescale=True, dtype=float)\n",
    "\n",
    "    \n",
    "test_infer()"
   ]
  },
  {
   "cell_type": "code",
   "execution_count": null,
   "id": "e269cc2f-8d5d-4d8f-9852-f996bad68a56",
   "metadata": {},
   "outputs": [],
   "source": [
    "# vid = Video(infer_path, h5_loc=out_loc)\n",
    "# vid.show()"
   ]
  }
 ],
 "metadata": {
  "kernelspec": {
   "display_name": "Python 3 (ipykernel)",
   "language": "python",
   "name": "python3"
  },
  "language_info": {
   "codemirror_mode": {
    "name": "ipython",
    "version": 3
   },
   "file_extension": ".py",
   "mimetype": "text/x-python",
   "name": "python",
   "nbconvert_exporter": "python",
   "pygments_lexer": "ipython3",
   "version": "3.9.15"
  }
 },
 "nbformat": 4,
 "nbformat_minor": 5
}
