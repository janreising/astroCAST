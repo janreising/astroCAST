{
 "cells": [
  {
   "cell_type": "code",
   "execution_count": null,
   "id": "e9a02402-8126-45d2-a5b5-594e7a0ca5bb",
   "metadata": {
    "tags": []
   },
   "outputs": [],
   "source": [
    "# Import necessary modules of astroCAST\n",
    "from astroCAST.denoising import SubFrameGenerator, Network\n",
    "from astroCAST.analysis import Video\n",
    "from pathlib import Path"
   ]
  },
  {
   "cell_type": "code",
   "execution_count": null,
   "id": "887658e7-4e2e-4efd-814e-aaa01383a18b",
   "metadata": {
    "tags": []
   },
   "outputs": [],
   "source": [
    "folder = Path(\"/media/janrei1/data/method_testing/\")\n",
    "\n",
    "input_file = folder.joinpath(\"22A7x9-1.from_single_file.h5\") # your input file name here. 'h5' or 'tdb' is recommended for parallel processing \n",
    "assert input_file.is_file()\n",
    "\n",
    "model_path = folder.joinpath(\"model\")\n",
    "infer_path = input_file.with_suffix(\".denoised.tiff\")"
   ]
  },
  {
   "cell_type": "markdown",
   "id": "674c734e-65de-4811-83cf-ab10bc7136f4",
   "metadata": {
    "execution": {
     "iopub.execute_input": "2023-06-07T07:37:04.257584Z",
     "iopub.status.busy": "2023-06-07T07:37:04.257268Z",
     "iopub.status.idle": "2023-06-07T07:37:04.260970Z",
     "shell.execute_reply": "2023-06-07T07:37:04.260424Z",
     "shell.execute_reply.started": "2023-06-07T07:37:04.257562Z"
    }
   },
   "source": [
    "# Train model"
   ]
  },
  {
   "cell_type": "code",
   "execution_count": null,
   "id": "825d5d12-de16-468c-9bdc-519fe43d4968",
   "metadata": {
    "tags": []
   },
   "outputs": [],
   "source": [
    "param = dict(paths=input_file, loc=\"mc/ch0\", input_size=(128, 128), pre_post_frame=5, gap_frames=0,\n",
    "                 normalize=\"global\", cache_results=True, in_memory=True)\n",
    "\n",
    "train_gen = SubFrameGenerator(padding=None, batch_size=25, max_per_file=50,\n",
    "                               allowed_rotation=[1, 2, 3], allowed_flip=[0, 1], shuffle=True, **param)\n",
    "\n",
    "val_gen = SubFrameGenerator(padding=None, batch_size=25, max_per_file=5,\n",
    "                                   allowed_rotation=[0], allowed_flip=[-1], shuffle=True, **param)\n",
    "\n",
    "\n",
    "net = Network(train_generator=train_gen, val_generator=val_gen, n_stacks=1, kernel=4, batchNormalize=False, use_cpu=True)\n",
    "net.run(batch_size=train_gen.batch_size, num_epochs=5, patience=2, min_delta=0.01, save_model=model_path, load_weights=False)\n"
   ]
  },
  {
   "cell_type": "markdown",
   "id": "fd2fd543-af81-48fc-b8c7-34e39df6b757",
   "metadata": {
    "execution": {
     "iopub.execute_input": "2023-06-07T07:37:09.800572Z",
     "iopub.status.busy": "2023-06-07T07:37:09.799505Z",
     "iopub.status.idle": "2023-06-07T07:37:09.811191Z",
     "shell.execute_reply": "2023-06-07T07:37:09.808298Z",
     "shell.execute_reply.started": "2023-06-07T07:37:09.800474Z"
    }
   },
   "source": [
    "# Denoise"
   ]
  },
  {
   "cell_type": "code",
   "execution_count": null,
   "id": "966e3982-136c-40f9-9bc3-14c2d731a269",
   "metadata": {
    "tags": []
   },
   "outputs": [],
   "source": [
    "inf_gen = SubFrameGenerator(padding=\"edge\", batch_size=200, allowed_rotation=[0], allowed_flip=[-1],\n",
    "                                shuffle=False, **param)\n",
    "\n",
    "# TODO: proper way to load model\n",
    "\n",
    "inf_gen.infer(model=net.model, output=infer_path.as_posix(), rescale=False)"
   ]
  },
  {
   "cell_type": "code",
   "execution_count": null,
   "id": "fa63376c-9bfa-40fd-a586-4f05af7a53a7",
   "metadata": {},
   "outputs": [],
   "source": [
    "\"done\""
   ]
  }
 ],
 "metadata": {
  "kernelspec": {
   "display_name": "Python 3 (ipykernel)",
   "language": "python",
   "name": "python3"
  },
  "language_info": {
   "codemirror_mode": {
    "name": "ipython",
    "version": 3
   },
   "file_extension": ".py",
   "mimetype": "text/x-python",
   "name": "python",
   "nbconvert_exporter": "python",
   "pygments_lexer": "ipython3",
   "version": "3.9.15"
  }
 },
 "nbformat": 4,
 "nbformat_minor": 5
}
