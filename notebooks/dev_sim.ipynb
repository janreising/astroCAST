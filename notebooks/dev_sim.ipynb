{
 "cells": [
  {
   "cell_type": "code",
   "execution_count": null,
   "id": "1b944932-a7d8-4438-99cc-4567b20d357b",
   "metadata": {
    "ExecuteTime": {
     "end_time": "2024-01-30T17:27:57.544161401Z",
     "start_time": "2024-01-30T17:27:57.535075260Z"
    },
    "execution": {
     "iopub.execute_input": "2024-01-19T12:43:58.698747Z",
     "iopub.status.busy": "2024-01-19T12:43:58.698111Z",
     "iopub.status.idle": "2024-01-19T12:43:58.702628Z",
     "shell.execute_reply": "2024-01-19T12:43:58.702048Z",
     "shell.execute_reply.started": "2024-01-19T12:43:58.698718Z"
    }
   },
   "outputs": [],
   "source": [
    "import uuid\n",
    "\n",
    "import astrocast.sim as sim\n",
    "import matplotlib.pyplot as plt\n",
    "import numpy as np\n",
    "import pandas as pd\n",
    "import importlib\n",
    "from IPython.display import clear_output\n",
    "import logging\n",
    "import time\n",
    "from pathlib import Path\n",
    "import shutil\n",
    "import humanize"
   ]
  },
  {
   "cell_type": "code",
   "execution_count": null,
   "id": "7e4173ef626a95f1",
   "metadata": {
    "ExecuteTime": {
     "end_time": "2024-01-30T17:27:59.087021098Z",
     "start_time": "2024-01-30T17:27:59.082044618Z"
    }
   },
   "outputs": [],
   "source": [
    "def generate_signal_function(N: int, burst_center: int, burst_width: float) -> callable:\n",
    "    \"\"\"\n",
    "    Generates a signal function with a Gaussian burst.\n",
    "\n",
    "    The function is N timepoints long, and each timepoint is an integer. The output is a float between 0 and 1.\n",
    "    The signal starts and ends with 0 and has one smooth burst whose width and slope can be controlled by parameters.\n",
    "\n",
    "    Args:\n",
    "      N: The length of the signal in timepoints.\n",
    "      burst_center: The center of the Gaussian burst (controls the position of the burst).\n",
    "      burst_width: The width of the Gaussian burst (controls the spread of the burst).\n",
    "\n",
    "    Returns:\n",
    "      A function that takes a timepoint x and returns a value y, looping if x > N.\n",
    "    \"\"\"\n",
    "    # Create a time series\n",
    "    t = np.linspace(0, N - 1, N)\n",
    "    \n",
    "    # Normalize the Gaussian function so that its maximum is 1\n",
    "    gaussian = np.exp(-((t - burst_center) ** 2) / (2 * burst_width ** 2))\n",
    "    normalized_gaussian = gaussian / np.max(gaussian)\n",
    "    \n",
    "    # Define the signal function\n",
    "    def signal_function(x: int) -> float:\n",
    "        # Ensure the function loops\n",
    "        x_mod = x % N\n",
    "        return normalized_gaussian[x_mod]\n",
    "    \n",
    "    return signal_function\n",
    "\n",
    "\n",
    "N = 24  # Total timepoints\n",
    "burst_center = int(N / 2)  # Center of the burst\n",
    "burst_width = 0.5  # Width of the burst\n",
    "signal_func = generate_signal_function(N, burst_center, burst_width)"
   ]
  },
  {
   "cell_type": "code",
   "execution_count": null,
   "id": "62791b92f652d923",
   "metadata": {
    "ExecuteTime": {
     "end_time": "2024-01-30T17:31:29.605647375Z",
     "start_time": "2024-01-30T17:31:29.553273341Z"
    }
   },
   "outputs": [],
   "source": [
    "x = 3\n",
    "y = 5\n",
    "px = np.array([[x], [y]])\n",
    "px.shape"
   ]
  },
  {
   "cell_type": "code",
   "execution_count": null,
   "id": "9afd3bee524e7f61",
   "metadata": {
    "ExecuteTime": {
     "end_time": "2024-01-30T17:32:07.325366874Z",
     "start_time": "2024-01-30T17:32:07.277065413Z"
    }
   },
   "outputs": [],
   "source": [
    "importlib.reload(sim)\n",
    "\n",
    "dl = sim.DataLogger(save_path=Path(\"exp\"), save_checkpoint_interval=None, overwrite=True)\n",
    "messenger_param = dict(print_messages=False, log_path=Path(\"log.txt\"), save_log_every=1)\n",
    "vis_param = dict(dpi=200, display_interval=5, save_interval=5,\n",
    "                 override=True, img_folder=Path(\"./imgs\"))\n",
    "\n",
    "# todo: external calcium concentration\n",
    "# todo: thickness of interacting pixels\n",
    "# todo: unify steps and dt\n",
    "env_dict = dict(molecules=[\"glutamate\"], diffusion_rate=0.01, degradation_factor=0.1, dt=25)\n",
    "\n",
    "grm_dict = dict(num_dendrites=16,  #32,\n",
    "                z_thickness=3, jitter=2, release_amplitude=500,\n",
    "                stochastic_probability=0.1, signal_function=lambda x: 0,\n",
    "                )\n",
    "\n",
    "ast_dict = dict(num_branches=4,\n",
    "                radius=3, max_branch_radius=10, min_radius=0.001,\n",
    "                start_spawn_radius=0.05, spawn_length=3, spawn_radius_factor=0.5,\n",
    "                growth_factor=0.1, max_tries=5,\n",
    "                glutamate_uptake_rate=0.1,\n",
    "                glu_v_max=10, glu_k_m=500,\n",
    "                allow_pruning=True,\n",
    "                atp_cost_per_glutamate=-18, atp_cost_per_unit_surface=1,\n",
    "                # molecules=dict(glutamate=0, calcium=0, ATP=1e-6),\n",
    "                trend_history=100,\n",
    "                min_steepness=0.005, min_trend_amplitude=0.01,\n",
    "                repellent_volume_factor=0, repellent_surface_factor=0,\n",
    "                repellent_concentration=0  # 1\n",
    "                )\n",
    "\n",
    "my_sim = sim.Simulation(num_astrocytes=16,  #24,\n",
    "                        grid_size=(100, 100), border=5,\n",
    "                        environment_param=env_dict, glutamate_release_param=grm_dict,\n",
    "                        astrocyte_param=ast_dict, vis_param=vis_param, messenger_param=messenger_param,\n",
    "                        data_logger=dl)\n",
    "\n"
   ]
  },
  {
   "cell_type": "code",
   "execution_count": null,
   "id": "c59f4c43ea7bad59",
   "metadata": {
    "ExecuteTime": {
     "end_time": "2024-01-30T17:32:09.706209261Z",
     "start_time": "2024-01-30T17:32:09.042209685Z"
    }
   },
   "outputs": [],
   "source": [
    "plot_param = {\n",
    "    'C': dict(line_thickness=(0.2, 1.5)),\n",
    "    'D': dict(blur_sigma=0.3, blur_radius=1),\n",
    "    'E': dict(blur_sigma=0.3, blur_radius=1),\n",
    "    'F': dict(blur_sigma=0.3, blur_radius=1),\n",
    "    }\n",
    "\n",
    "my_sim.run_simulation_step(100, plot_param=plot_param)"
   ]
  },
  {
   "cell_type": "code",
   "execution_count": null,
   "id": "a6edbffd28eaa7e1",
   "metadata": {
    "ExecuteTime": {
     "end_time": "2024-01-30T16:36:39.482483638Z",
     "start_time": "2024-01-30T16:36:39.434159854Z"
    }
   },
   "outputs": [],
   "source": [
    "my_sim.vis.plot_astrocyte_by_line(line_thickness=(0.2, 1.5))\n",
    "# my_sim.vis.plot_astrocyte_by_grid(molecule=\"glutamate\")\n",
    "\n",
    "# my_sim.vis.plot_astrocyte_by_grid(molecule=\"glutamate\", blur_sigma=0.3, blur_radius=1)\n"
   ]
  },
  {
   "cell_type": "code",
   "execution_count": null,
   "id": "67696ea4714a42c8",
   "metadata": {
    "ExecuteTime": {
     "start_time": "2024-01-30T16:36:39.434523639Z"
    }
   },
   "outputs": [],
   "source": [
    "import seaborn as sns\n",
    "\n",
    "vis = my_sim.vis\n",
    "bodies, branches = vis.get_bodies_and_branches()\n",
    "display(len(branches))\n",
    "thickness = [branch.end.radius for branch in branches]\n",
    "thickness = [thick for thick in thickness if thick is not None]\n",
    "\n",
    "sns.displot([np.log10(thick) for thick in thickness])\n",
    "\n",
    "thickness = np.array(thickness)\n",
    "display(np.min(thickness), np.max(thickness))\n"
   ]
  },
  {
   "cell_type": "code",
   "execution_count": null,
   "id": "1a50427eca3e24a5",
   "metadata": {
    "ExecuteTime": {
     "start_time": "2024-01-30T16:36:39.435201623Z"
    }
   },
   "outputs": [],
   "source": [
    "my_sim.message_logger.get_messages()"
   ]
  },
  {
   "cell_type": "code",
   "execution_count": null,
   "id": "5e3ba77d6339fc02",
   "metadata": {
    "ExecuteTime": {
     "start_time": "2024-01-30T16:36:39.435452445Z"
    }
   },
   "outputs": [],
   "source": [
    "importlib.reload(prep)\n",
    "\n",
    "io = prep.IO()\n",
    "arr = io.load(Path(\"imgs/\"), lazy=False)\n",
    "io.save(f\"export_{uuid.uuid1().hex}.avi\", data=arr, overwrite=True)"
   ]
  },
  {
   "cell_type": "code",
   "execution_count": null,
   "id": "c62f380d445e147e",
   "metadata": {
    "ExecuteTime": {
     "start_time": "2024-01-30T16:36:39.435682613Z"
    }
   },
   "outputs": [],
   "source": [
    "# my_sim.plot(last_n_messages=15)\n",
    "# display(my_sim.fig)\n",
    "# my_sim.fig.savefig(img_dir.joinpath(f\"img_{step_counter}.png\"), dpi=(80))\n",
    "# \n",
    "# my_sim.data_logger.save(Path(\"log.txt\"))"
   ]
  },
  {
   "cell_type": "code",
   "execution_count": null,
   "id": "a41b663441f51468",
   "metadata": {
    "ExecuteTime": {
     "start_time": "2024-01-30T16:36:39.435909605Z"
    }
   },
   "outputs": [],
   "source": [
    "my_sim.astrocytes[0].plot_branch_history()\n"
   ]
  },
  {
   "cell_type": "code",
   "execution_count": null,
   "id": "ca58519df41bfe9d",
   "metadata": {
    "ExecuteTime": {
     "start_time": "2024-01-30T16:36:39.436834224Z"
    }
   },
   "outputs": [],
   "source": [
    "branches = my_sim.astrocytes[2].branches\n",
    "\n",
    "thickness = []\n",
    "for branch in branches:\n",
    "    avg_radius = np.mean(branch.start.radius + branch.end.radius)\n",
    "    thickness.append(avg_radius)\n",
    "\n",
    "print(f\"{np.mean(thickness):.2f} +- {np.std(thickness):.2f}\")"
   ]
  },
  {
   "cell_type": "code",
   "execution_count": null,
   "id": "c670a17828973c05",
   "metadata": {
    "ExecuteTime": {
     "start_time": "2024-01-30T16:36:39.436970458Z"
    }
   },
   "outputs": [],
   "source": [
    "thickness"
   ]
  },
  {
   "cell_type": "code",
   "execution_count": null,
   "id": "104752baf4e78dc0",
   "metadata": {
    "ExecuteTime": {
     "start_time": "2024-01-30T16:36:39.437105962Z"
    }
   },
   "outputs": [],
   "source": [
    "# fig, ax = plt.subplots(1, 1)\n",
    "# ax.set_xscale('log')\n",
    "# ax.set_yscale('log')\n",
    "# _ = ax.hist(thickness, bins=1000)"
   ]
  },
  {
   "cell_type": "code",
   "execution_count": null,
   "id": "97daac9d9bf4af45",
   "metadata": {
    "ExecuteTime": {
     "start_time": "2024-01-30T16:36:39.437248364Z"
    }
   },
   "outputs": [],
   "source": [
    "branch0 = None\n",
    "branch_id = \"92ede384\"\n",
    "\n",
    "branches = []\n",
    "for ast in my_sim.astrocytes:\n",
    "    branches += ast.branches\n",
    "\n",
    "for branch in branches:\n",
    "    if branch.get_short_id() == branch_id:\n",
    "        branch0 = branch\n",
    "        break\n",
    "\n",
    "print(branch0)\n",
    "\n",
    "if branch0 is not None:\n",
    "    \n",
    "    trend = branch0.get_trend(\"glutamate\", intra=False)\n",
    "    print(f\"{trend:.1E}, {trend / ast_dict['min_trend_amplitude'] * 100:.1f}%\")\n",
    "    \n",
    "    fig, ax = plt.subplots()\n",
    "    \n",
    "    hist = branch0.extracellular_history[\"glutamate\"]\n",
    "    ax.plot(hist)\n"
   ]
  },
  {
   "cell_type": "code",
   "execution_count": null,
   "id": "5c9e9d4aed66626e",
   "metadata": {
    "ExecuteTime": {
     "start_time": "2024-01-30T16:36:39.437374366Z"
    }
   },
   "outputs": [],
   "source": [
    "history = my_sim.environment_grid.history[\"glutamate\"]\n",
    "\n",
    "fig, ax = plt.subplots(1, 1)\n",
    "ax.plot(history)"
   ]
  },
  {
   "cell_type": "code",
   "execution_count": null,
   "id": "90922799d8cca2a4",
   "metadata": {
    "ExecuteTime": {
     "start_time": "2024-01-30T16:36:39.437504905Z"
    }
   },
   "outputs": [],
   "source": [
    "\n",
    "\n",
    "\n",
    "# Example usage:\n",
    "N = 24  # Total timepoints\n",
    "burst_center = int(N / 2)  # Center of the burst\n",
    "burst_width = 0.5  # Width of the burst\n",
    "signal_func = generate_signal_function(N, burst_center, burst_width)\n",
    "\n",
    "# Getting values from the signal function\n",
    "x_len = N * 10\n",
    "y_values = [signal_func(x) for x in range(x_len)]  # Example for 150 timepoints to show the looping\n",
    "\n",
    "fig, ax = plt.subplots()\n",
    "ax.plot(range(x_len), y_values)"
   ]
  },
  {
   "cell_type": "code",
   "execution_count": null,
   "id": "31a33834395b544e",
   "metadata": {
    "ExecuteTime": {
     "start_time": "2024-01-30T16:36:39.437640807Z"
    }
   },
   "outputs": [],
   "source": [
    "branches = []\n",
    "for ast in my_sim.astrocytes:\n",
    "    branches += ast.branches\n",
    "\n",
    "glu_conc = []\n",
    "glu_amount = []\n",
    "for branch in branches:\n",
    "    glu_conc.append(branch.get_concentration(\"glutamate\"))\n",
    "    glu_amount.append(branch.get_amount(\"glutamate\"))\n",
    "\n",
    "print(f\"Conc: {np.mean(glu_conc):.2E} +- {np.std(glu_conc):.2E}\")\n",
    "print(f\"Amount: {np.mean(glu_amount):.2E} +- {np.std(glu_amount):.2E}\")"
   ]
  },
  {
   "cell_type": "code",
   "execution_count": null,
   "id": "12dc2f87ac7e253c",
   "metadata": {
    "ExecuteTime": {
     "start_time": "2024-01-30T16:36:39.437780632Z"
    }
   },
   "outputs": [],
   "source": [
    "glu_conc = my_sim.environment_grid.shared_arrays[\"glutamate\"][0]\n",
    "print(f\"Conc: {np.mean(glu_conc):.2f} +- {np.std(glu_conc):.2f}\")"
   ]
  }
 ],
 "metadata": {
  "kernelspec": {
   "display_name": "Python 3 (ipykernel)",
   "language": "python",
   "name": "python3"
  },
  "language_info": {
   "codemirror_mode": {
    "name": "ipython",
    "version": 3
   },
   "file_extension": ".py",
   "mimetype": "text/x-python",
   "name": "python",
   "nbconvert_exporter": "python",
   "pygments_lexer": "ipython3",
   "version": "3.9.18"
  }
 },
 "nbformat": 4,
 "nbformat_minor": 5
}
