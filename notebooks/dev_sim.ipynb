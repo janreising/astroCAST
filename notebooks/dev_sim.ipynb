{
 "cells": [
  {
   "cell_type": "code",
   "execution_count": null,
   "id": "1b944932-a7d8-4438-99cc-4567b20d357b",
   "metadata": {
    "ExecuteTime": {
     "end_time": "2024-01-19T17:00:08.294814890Z",
     "start_time": "2024-01-19T17:00:08.286633292Z"
    },
    "execution": {
     "iopub.execute_input": "2024-01-19T12:43:58.698747Z",
     "iopub.status.busy": "2024-01-19T12:43:58.698111Z",
     "iopub.status.idle": "2024-01-19T12:43:58.702628Z",
     "shell.execute_reply": "2024-01-19T12:43:58.702048Z",
     "shell.execute_reply.started": "2024-01-19T12:43:58.698718Z"
    }
   },
   "outputs": [],
   "source": [
    "import astrocast.sim as sim\n",
    "import matplotlib.pyplot as plt\n",
    "import numpy as np\n",
    "import pandas as pd\n",
    "import importlib\n",
    "from IPython.display import clear_output\n",
    "import logging\n",
    "import time\n"
   ]
  },
  {
   "cell_type": "code",
   "execution_count": null,
   "id": "9afd3bee524e7f61",
   "metadata": {},
   "outputs": [],
   "source": [
    "importlib.reload(sim)\n",
    "# logging.basicConfig(level=logging.INFO)\n",
    "\n",
    "env_dict = dict(molecules=[\"glutamate\", \"repellent\", \"calcium\"], diffusion_rate=0.1, dt=1,\n",
    "                degradation_factor=0.01, dtype='float16')\n",
    "\n",
    "grm_dict = dict(num_branches=16, z_thickness=3, jitter=2, release_amplitude=1,\n",
    "                stochastic_probability=0.1,\n",
    "                signal_function=lambda x: 0 if x % 5 != 0 else 0.75,\n",
    "                )\n",
    "\n",
    "ast_dict = dict(radius=3, num_branches=1, max_branch_radius=10, start_spawn_radius=0.1,\n",
    "                spawn_length=4, repellent_concentration=1)\n",
    "\n",
    "my_sim = sim.Simulation(num_astrocytes=1, grid_size=(100, 100), border=10,\n",
    "                        environment_dict=env_dict, glutamate_release_param=grm_dict,\n",
    "                        astrocyte_param=ast_dict)\n",
    "\n",
    "my_sim.plot()\n",
    "\n",
    "display(my_sim.fig)\n",
    "# \n",
    "step_counter = 0\n",
    "for epoch in range(10):\n",
    "    \n",
    "    clear_output(wait=True)\n",
    "    \n",
    "    for step in range(100):\n",
    "        \n",
    "        my_sim.run_simulation_step()\n",
    "        step_counter += 1\n",
    "    \n",
    "    my_sim.plot()\n",
    "    display(my_sim.fig)\n",
    "    \n",
    "    # display(my_sim.plot())\n",
    "    # time.sleep(3)\n"
   ]
  }
 ],
 "metadata": {
  "kernelspec": {
   "display_name": "Python 3 (ipykernel)",
   "language": "python",
   "name": "python3"
  },
  "language_info": {
   "codemirror_mode": {
    "name": "ipython",
    "version": 3
   },
   "file_extension": ".py",
   "mimetype": "text/x-python",
   "name": "python",
   "nbconvert_exporter": "python",
   "pygments_lexer": "ipython3",
   "version": "3.9.18"
  }
 },
 "nbformat": 4,
 "nbformat_minor": 5
}
