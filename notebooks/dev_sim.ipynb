{
 "cells": [
  {
   "cell_type": "code",
   "execution_count": null,
   "id": "1b944932-a7d8-4438-99cc-4567b20d357b",
   "metadata": {
    "ExecuteTime": {
     "end_time": "2024-01-26T13:29:53.083540830Z",
     "start_time": "2024-01-26T13:29:52.066780657Z"
    },
    "execution": {
     "iopub.execute_input": "2024-01-19T12:43:58.698747Z",
     "iopub.status.busy": "2024-01-19T12:43:58.698111Z",
     "iopub.status.idle": "2024-01-19T12:43:58.702628Z",
     "shell.execute_reply": "2024-01-19T12:43:58.702048Z",
     "shell.execute_reply.started": "2024-01-19T12:43:58.698718Z"
    }
   },
   "outputs": [],
   "source": [
    "import uuid\n",
    "\n",
    "import astrocast.sim as sim\n",
    "import matplotlib.pyplot as plt\n",
    "import numpy as np\n",
    "import pandas as pd\n",
    "import importlib\n",
    "from IPython.display import clear_output\n",
    "import logging\n",
    "import time\n",
    "from pathlib import Path\n",
    "import shutil\n",
    "import humanize"
   ]
  },
  {
   "cell_type": "code",
   "execution_count": null,
   "id": "7e4173ef626a95f1",
   "metadata": {
    "ExecuteTime": {
     "end_time": "2024-01-26T13:29:54.359879646Z",
     "start_time": "2024-01-26T13:29:54.328396920Z"
    }
   },
   "outputs": [],
   "source": [
    "def generate_signal_function(N: int, burst_center: int, burst_width: float) -> callable:\n",
    "    \"\"\"\n",
    "    Generates a signal function with a Gaussian burst.\n",
    "\n",
    "    The function is N timepoints long, and each timepoint is an integer. The output is a float between 0 and 1.\n",
    "    The signal starts and ends with 0 and has one smooth burst whose width and slope can be controlled by parameters.\n",
    "\n",
    "    Args:\n",
    "      N: The length of the signal in timepoints.\n",
    "      burst_center: The center of the Gaussian burst (controls the position of the burst).\n",
    "      burst_width: The width of the Gaussian burst (controls the spread of the burst).\n",
    "\n",
    "    Returns:\n",
    "      A function that takes a timepoint x and returns a value y, looping if x > N.\n",
    "    \"\"\"\n",
    "    # Create a time series\n",
    "    t = np.linspace(0, N - 1, N)\n",
    "    \n",
    "    # Normalize the Gaussian function so that its maximum is 1\n",
    "    gaussian = np.exp(-((t - burst_center) ** 2) / (2 * burst_width ** 2))\n",
    "    normalized_gaussian = gaussian / np.max(gaussian)\n",
    "    \n",
    "    # Define the signal function\n",
    "    def signal_function(x: int) -> float:\n",
    "        # Ensure the function loops\n",
    "        x_mod = x % N\n",
    "        return normalized_gaussian[x_mod]\n",
    "    \n",
    "    return signal_function"
   ]
  },
  {
   "cell_type": "code",
   "execution_count": null,
   "id": "9afd3bee524e7f61",
   "metadata": {
    "ExecuteTime": {
     "end_time": "2024-01-26T16:24:17.654361446Z",
     "start_time": "2024-01-26T16:24:16.045234136Z"
    }
   },
   "outputs": [],
   "source": [
    "importlib.reload(sim)\n",
    "logging.basicConfig(level=100000000)\n",
    "\n",
    "save_path = Path(\"exp\")\n",
    "if save_path.is_dir():\n",
    "    shutil.rmtree(save_path)\n",
    "\n",
    "dl = sim.DataLogger(save_path=save_path, save_checkpoint_interval=10, overwrite=True)\n",
    "\n",
    "# , \"repellent\", \"calcium\"\n",
    "env_dict = dict(molecules=[\"glutamate\"], diffusion_rate=0.1,\n",
    "                dt=25,  # 1\n",
    "                degradation_factor=0.1)\n",
    "\n",
    "N = 24  # Total timepoints\n",
    "burst_center = int(N / 2)  # Center of the burst\n",
    "burst_width = 0.5  # Width of the burst\n",
    "signal_func = generate_signal_function(N, burst_center, burst_width)\n",
    "\n",
    "grm_dict = dict(num_branches=32, z_thickness=3, jitter=2, release_amplitude=50,\n",
    "                stochastic_probability=0,  # 0.1\n",
    "                # signal_function=lambda x: 0 if x % 5 != 0 else 0.4,\n",
    "                #signal_function=signal_func,\n",
    "                )\n",
    "\n",
    "ast_dict = dict(radius=3, num_branches=4, max_branch_radius=10,\n",
    "                min_radius=0.001,\n",
    "                start_spawn_radius=0.05, spawn_length=3, spawn_radius_factor=0.5,\n",
    "                growth_factor=0.1, max_tries=5,\n",
    "                glutamate_uptake_rate=0.1,\n",
    "                glu_v_max=10, glu_k_m=500,\n",
    "                allow_pruning=True,\n",
    "                atp_cost_per_glutamate=-18, atp_cost_per_unit_surface=1,\n",
    "                molecules=dict(glutamate=0, calcium=0, ATP=1e-6),\n",
    "                trend_history=100,\n",
    "                min_steepness=0.005, min_trend_amplitude=0.01,\n",
    "                repellent_volume_factor=0, repellent_surface_factor=0,\n",
    "                repellent_concentration=0  # 1\n",
    "                )\n",
    "\n",
    "my_sim = sim.Simulation(num_astrocytes=24, grid_size=(100, 100), border=5,\n",
    "                        environment_param=env_dict, glutamate_release_param=grm_dict,\n",
    "                        print_messages=True,\n",
    "                        astrocyte_param=ast_dict, data_logger=dl)\n",
    "my_sim.plot()\n",
    "\n",
    "img_dir = Path(\"imgs/\")\n",
    "if img_dir.exists():\n",
    "    shutil.rmtree(img_dir)\n",
    "    img_dir.mkdir()\n",
    "else:\n",
    "    img_dir.mkdir()\n",
    "\n",
    "my_sim.message_logger.save_messages(Path(\"log.txt\"))\n",
    "\n",
    "step_counter = 1"
   ]
  },
  {
   "cell_type": "code",
   "execution_count": null,
   "id": "c59f4c43ea7bad59",
   "metadata": {
    "ExecuteTime": {
     "end_time": "2024-01-26T16:24:46.621914497Z",
     "start_time": "2024-01-26T16:24:40.785421071Z"
    }
   },
   "outputs": [],
   "source": [
    "from tqdm import tqdm\n",
    "\n",
    "plotting = False\n",
    "my_sim.message_logger.print_messages = False\n",
    "\n",
    "for epoch in tqdm(range(int(1e7))):\n",
    "    \n",
    "    if plotting:\n",
    "        clear_output(wait=True)\n",
    "    \n",
    "    # plotting\n",
    "    my_sim.plot(last_n_messages=16 if plotting else None)\n",
    "    my_sim.fig.savefig(img_dir.joinpath(f\"img_{step_counter}.png\"), dpi=(80))\n",
    "    \n",
    "    if plotting:\n",
    "        display(my_sim.fig)\n",
    "    \n",
    "    # for step in range(max(2, int(np.log2(step_counter)))):\n",
    "    t0 = time.time()\n",
    "    for step in range(1):\n",
    "        \n",
    "        my_sim.run_simulation_step()\n",
    "        step_counter += 1\n",
    "        \n",
    "        # export log\n",
    "        my_sim.message_logger.save_messages(Path(\"log.txt\"))\n",
    "\n",
    "my_sim.plot(last_n_messages=16 if plotting else None)\n",
    "my_sim.fig.savefig(img_dir.joinpath(f\"img_{step_counter}.png\"), dpi=(80))"
   ]
  },
  {
   "cell_type": "code",
   "execution_count": null,
   "id": "1a50427eca3e24a5",
   "metadata": {
    "ExecuteTime": {
     "end_time": "2024-01-26T14:42:06.757731402Z",
     "start_time": "2024-01-26T14:42:06.749438286Z"
    }
   },
   "outputs": [],
   "source": [
    "my_sim.message_logger.get_messages()"
   ]
  },
  {
   "cell_type": "code",
   "execution_count": null,
   "id": "5e3ba77d6339fc02",
   "metadata": {},
   "outputs": [],
   "source": [
    "importlib.reload(prep)\n",
    "\n",
    "io = prep.IO()\n",
    "arr = io.load(Path(\"imgs/\"), lazy=False)\n",
    "io.save(f\"export_{uuid.uuid1().hex}.avi\", data=arr, overwrite=True)"
   ]
  },
  {
   "cell_type": "code",
   "execution_count": null,
   "id": "c62f380d445e147e",
   "metadata": {
    "ExecuteTime": {
     "end_time": "2024-01-24T17:28:15.759693520Z",
     "start_time": "2024-01-24T17:28:15.704766518Z"
    }
   },
   "outputs": [],
   "source": [
    "# my_sim.plot(last_n_messages=15)\n",
    "# display(my_sim.fig)\n",
    "# my_sim.fig.savefig(img_dir.joinpath(f\"img_{step_counter}.png\"), dpi=(80))\n",
    "# \n",
    "# my_sim.data_logger.save(Path(\"log.txt\"))"
   ]
  },
  {
   "cell_type": "code",
   "execution_count": null,
   "id": "a41b663441f51468",
   "metadata": {
    "ExecuteTime": {
     "end_time": "2024-01-24T16:49:45.515899427Z",
     "start_time": "2024-01-24T16:49:44.485107395Z"
    }
   },
   "outputs": [],
   "source": [
    "my_sim.astrocytes[0].plot_branch_history()\n"
   ]
  },
  {
   "cell_type": "code",
   "execution_count": null,
   "id": "ca58519df41bfe9d",
   "metadata": {
    "ExecuteTime": {
     "end_time": "2024-01-25T01:17:05.419722717Z",
     "start_time": "2024-01-25T01:17:05.410496256Z"
    }
   },
   "outputs": [],
   "source": [
    "branches = my_sim.astrocytes[2].branches\n",
    "\n",
    "thickness = []\n",
    "for branch in branches:\n",
    "    avg_radius = np.mean(branch.start.radius + branch.end.radius)\n",
    "    thickness.append(avg_radius)\n",
    "\n",
    "print(f\"{np.mean(thickness):.2f} +- {np.std(thickness):.2f}\")"
   ]
  },
  {
   "cell_type": "code",
   "execution_count": null,
   "id": "c670a17828973c05",
   "metadata": {
    "ExecuteTime": {
     "end_time": "2024-01-25T00:23:07.919777032Z",
     "start_time": "2024-01-25T00:23:07.855545374Z"
    }
   },
   "outputs": [],
   "source": [
    "thickness"
   ]
  },
  {
   "cell_type": "code",
   "execution_count": null,
   "id": "104752baf4e78dc0",
   "metadata": {
    "ExecuteTime": {
     "end_time": "2024-01-24T16:49:50.829674381Z",
     "start_time": "2024-01-24T16:49:50.782804384Z"
    }
   },
   "outputs": [],
   "source": [
    "# fig, ax = plt.subplots(1, 1)\n",
    "# ax.set_xscale('log')\n",
    "# ax.set_yscale('log')\n",
    "# _ = ax.hist(thickness, bins=1000)"
   ]
  },
  {
   "cell_type": "code",
   "execution_count": null,
   "id": "97daac9d9bf4af45",
   "metadata": {
    "ExecuteTime": {
     "end_time": "2024-01-25T01:17:11.035258838Z",
     "start_time": "2024-01-25T01:17:11.029280600Z"
    }
   },
   "outputs": [],
   "source": [
    "branch0 = None\n",
    "branch_id = \"92ede384\"\n",
    "\n",
    "branches = []\n",
    "for ast in my_sim.astrocytes:\n",
    "    branches += ast.branches\n",
    "\n",
    "for branch in branches:\n",
    "    if branch.get_short_id() == branch_id:\n",
    "        branch0 = branch\n",
    "        break\n",
    "\n",
    "print(branch0)\n",
    "\n",
    "if branch0 is not None:\n",
    "    \n",
    "    trend = branch0.get_trend(\"glutamate\", intra=False)\n",
    "    print(f\"{trend:.1E}, {trend / ast_dict['min_trend_amplitude'] * 100:.1f}%\")\n",
    "    \n",
    "    fig, ax = plt.subplots()\n",
    "    \n",
    "    hist = branch0.extracellular_history[\"glutamate\"]\n",
    "    ax.plot(hist)\n"
   ]
  },
  {
   "cell_type": "code",
   "execution_count": null,
   "id": "5c9e9d4aed66626e",
   "metadata": {
    "ExecuteTime": {
     "end_time": "2024-01-24T22:59:05.148225245Z",
     "start_time": "2024-01-24T22:59:05.002661692Z"
    }
   },
   "outputs": [],
   "source": [
    "history = my_sim.environment_grid.history[\"glutamate\"]\n",
    "\n",
    "fig, ax = plt.subplots(1, 1)\n",
    "ax.plot(history)"
   ]
  },
  {
   "cell_type": "code",
   "execution_count": null,
   "id": "90922799d8cca2a4",
   "metadata": {
    "ExecuteTime": {
     "end_time": "2024-01-25T00:00:43.972370328Z",
     "start_time": "2024-01-25T00:00:43.831403053Z"
    }
   },
   "outputs": [],
   "source": [
    "\n",
    "\n",
    "\n",
    "# Example usage:\n",
    "N = 24  # Total timepoints\n",
    "burst_center = int(N / 2)  # Center of the burst\n",
    "burst_width = 0.5  # Width of the burst\n",
    "signal_func = generate_signal_function(N, burst_center, burst_width)\n",
    "\n",
    "# Getting values from the signal function\n",
    "x_len = N * 10\n",
    "y_values = [signal_func(x) for x in range(x_len)]  # Example for 150 timepoints to show the looping\n",
    "\n",
    "fig, ax = plt.subplots()\n",
    "ax.plot(range(x_len), y_values)"
   ]
  },
  {
   "cell_type": "code",
   "execution_count": null,
   "id": "31a33834395b544e",
   "metadata": {
    "ExecuteTime": {
     "end_time": "2024-01-25T01:21:24.967337072Z",
     "start_time": "2024-01-25T01:21:24.961886135Z"
    }
   },
   "outputs": [],
   "source": [
    "branches = []\n",
    "for ast in my_sim.astrocytes:\n",
    "    branches += ast.branches\n",
    "\n",
    "glu_conc = []\n",
    "glu_amount = []\n",
    "for branch in branches:\n",
    "    glu_conc.append(branch.get_concentration(\"glutamate\"))\n",
    "    glu_amount.append(branch.get_amount(\"glutamate\"))\n",
    "\n",
    "print(f\"Conc: {np.mean(glu_conc):.2E} +- {np.std(glu_conc):.2E}\")\n",
    "print(f\"Amount: {np.mean(glu_amount):.2E} +- {np.std(glu_amount):.2E}\")"
   ]
  },
  {
   "cell_type": "code",
   "execution_count": null,
   "id": "12dc2f87ac7e253c",
   "metadata": {
    "ExecuteTime": {
     "end_time": "2024-01-25T01:09:57.040831165Z",
     "start_time": "2024-01-25T01:09:56.989132954Z"
    }
   },
   "outputs": [],
   "source": [
    "glu_conc = my_sim.environment_grid.shared_arrays[\"glutamate\"][0]\n",
    "print(f\"Conc: {np.mean(glu_conc):.2f} +- {np.std(glu_conc):.2f}\")"
   ]
  }
 ],
 "metadata": {
  "kernelspec": {
   "display_name": "Python 3 (ipykernel)",
   "language": "python",
   "name": "python3"
  },
  "language_info": {
   "codemirror_mode": {
    "name": "ipython",
    "version": 3
   },
   "file_extension": ".py",
   "mimetype": "text/x-python",
   "name": "python",
   "nbconvert_exporter": "python",
   "pygments_lexer": "ipython3",
   "version": "3.9.18"
  }
 },
 "nbformat": 4,
 "nbformat_minor": 5
}
