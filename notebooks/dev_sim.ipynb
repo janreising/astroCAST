{
 "cells": [
  {
   "cell_type": "code",
   "execution_count": null,
   "id": "1b944932-a7d8-4438-99cc-4567b20d357b",
   "metadata": {
    "ExecuteTime": {
     "end_time": "2024-01-24T16:34:31.231621953Z",
     "start_time": "2024-01-24T16:34:31.193909635Z"
    },
    "execution": {
     "iopub.execute_input": "2024-01-19T12:43:58.698747Z",
     "iopub.status.busy": "2024-01-19T12:43:58.698111Z",
     "iopub.status.idle": "2024-01-19T12:43:58.702628Z",
     "shell.execute_reply": "2024-01-19T12:43:58.702048Z",
     "shell.execute_reply.started": "2024-01-19T12:43:58.698718Z"
    }
   },
   "outputs": [],
   "source": [
    "import uuid\n",
    "\n",
    "import astrocast.sim as sim\n",
    "import matplotlib.pyplot as plt\n",
    "import numpy as np\n",
    "import pandas as pd\n",
    "import importlib\n",
    "from IPython.display import clear_output\n",
    "import logging\n",
    "import time\n",
    "from pathlib import Path\n",
    "import shutil\n",
    "import humanize"
   ]
  },
  {
   "cell_type": "code",
   "execution_count": null,
   "id": "9afd3bee524e7f61",
   "metadata": {
    "ExecuteTime": {
     "end_time": "2024-01-24T19:04:21.866060583Z",
     "start_time": "2024-01-24T19:04:20.535518460Z"
    }
   },
   "outputs": [],
   "source": [
    "importlib.reload(sim)\n",
    "# logging.basicConfig(level=logging.INFO)\n",
    "\n",
    "env_dict = dict(molecules=[\"glutamate\", \"repellent\", \"calcium\"], diffusion_rate=0.1,\n",
    "                dt=25,  # 1\n",
    "                degradation_factor=0.1, dtype='float16')\n",
    "\n",
    "grm_dict = dict(num_branches=32, z_thickness=3, jitter=2, release_amplitude=50,\n",
    "                stochastic_probability=0.1,\n",
    "                # signal_function=lambda x: 0 if x % 5 != 0 else 0.4,\n",
    "                signal_function=lambda x: 0,\n",
    "                )\n",
    "\n",
    "ast_dict = dict(radius=3, num_branches=4, max_branch_radius=1, min_radius=0.001,\n",
    "                start_spawn_radius=0.9, spawn_length=3, spawn_radius_factor=0.5,\n",
    "                growth_factor=0.05, max_tries=5,\n",
    "                allow_pruning=True,\n",
    "                atp_cost_per_glutamate=-180, atp_cost_per_unit_surface=1,\n",
    "                molecules=dict(glutamate=0, calcium=0, ATP=5),\n",
    "                min_steepness=0.005, min_trend_amplitude=0.01,\n",
    "                repellent_volume_factor=0, repellent_surface_factor=0,\n",
    "                repellent_concentration=0  # 1\n",
    "                )\n",
    "\n",
    "my_sim = sim.Simulation(num_astrocytes=7, grid_size=(100, 100), border=10,\n",
    "                        environment_dict=env_dict, glutamate_release_param=grm_dict,\n",
    "                        astrocyte_param=ast_dict)\n",
    "my_sim.plot()\n",
    "\n",
    "img_dir = Path(\"imgs/\")\n",
    "if img_dir.exists():\n",
    "    shutil.rmtree(img_dir)\n",
    "    img_dir.mkdir()\n",
    "else:\n",
    "    img_dir.mkdir()\n",
    "\n",
    "my_sim.data_logger.save(Path(\"log.txt\"))\n",
    "\n",
    "step_counter = 1"
   ]
  },
  {
   "cell_type": "code",
   "execution_count": null,
   "id": "c59f4c43ea7bad59",
   "metadata": {},
   "outputs": [],
   "source": [
    "for epoch in range(32):\n",
    "    \n",
    "    clear_output(wait=True)\n",
    "    \n",
    "    # plotting\n",
    "    my_sim.plot(last_n_messages=16)\n",
    "    display(my_sim.fig)\n",
    "    my_sim.fig.savefig(img_dir.joinpath(f\"img_{step_counter}.png\"), dpi=(80))\n",
    "    \n",
    "    # for step in range(max(2, int(np.log2(step_counter)))):\n",
    "    t0 = time.time()\n",
    "    for step in range(1):\n",
    "        \n",
    "        my_sim.run_simulation_step()\n",
    "        step_counter += 1\n",
    "        \n",
    "        # export log\n",
    "        my_sim.data_logger.save(Path(\"log.txt\"))\n",
    "    \n",
    "    print(f\"epoch runtime: {humanize.naturaldelta(time.time() - t0)}\")\n"
   ]
  },
  {
   "cell_type": "code",
   "execution_count": null,
   "id": "c62f380d445e147e",
   "metadata": {
    "ExecuteTime": {
     "end_time": "2024-01-24T17:28:15.759693520Z",
     "start_time": "2024-01-24T17:28:15.704766518Z"
    }
   },
   "outputs": [],
   "source": [
    "# my_sim.plot(last_n_messages=15)\n",
    "# display(my_sim.fig)\n",
    "# my_sim.fig.savefig(img_dir.joinpath(f\"img_{step_counter}.png\"), dpi=(80))\n",
    "# \n",
    "# my_sim.data_logger.save(Path(\"log.txt\"))"
   ]
  },
  {
   "cell_type": "code",
   "execution_count": null,
   "id": "a41b663441f51468",
   "metadata": {
    "ExecuteTime": {
     "end_time": "2024-01-24T16:49:45.515899427Z",
     "start_time": "2024-01-24T16:49:44.485107395Z"
    }
   },
   "outputs": [],
   "source": [
    "my_sim.astrocytes[0].plot_branch_history()\n"
   ]
  },
  {
   "cell_type": "code",
   "execution_count": null,
   "id": "ca58519df41bfe9d",
   "metadata": {
    "ExecuteTime": {
     "end_time": "2024-01-24T16:49:53.247096198Z",
     "start_time": "2024-01-24T16:49:53.198132527Z"
    }
   },
   "outputs": [],
   "source": [
    "# branches = my_sim.astrocytes[0].branches\n",
    "# \n",
    "# thickness = []\n",
    "# for branch in branches:\n",
    "#     avg_radius = np.mean(branch.start.radius + branch.end.radius)\n",
    "#     thickness.append(avg_radius)\n",
    "# \n",
    "# print(f\"{np.mean(thickness):.2f} +- {np.std(thickness):.2f}\")"
   ]
  },
  {
   "cell_type": "code",
   "execution_count": null,
   "id": "104752baf4e78dc0",
   "metadata": {
    "ExecuteTime": {
     "end_time": "2024-01-24T16:49:50.829674381Z",
     "start_time": "2024-01-24T16:49:50.782804384Z"
    }
   },
   "outputs": [],
   "source": [
    "# fig, ax = plt.subplots(1, 1)\n",
    "# ax.set_xscale('log')\n",
    "# ax.set_yscale('log')\n",
    "# _ = ax.hist(thickness, bins=1000)"
   ]
  },
  {
   "cell_type": "code",
   "execution_count": null,
   "id": "97daac9d9bf4af45",
   "metadata": {
    "ExecuteTime": {
     "end_time": "2024-01-24T16:50:16.380856727Z",
     "start_time": "2024-01-24T16:50:16.229684700Z"
    }
   },
   "outputs": [],
   "source": [
    "branch0 = None\n",
    "branch_id = \"92ede384\"\n",
    "\n",
    "branches = []\n",
    "for ast in my_sim.astrocytes:\n",
    "    branches += ast.branches\n",
    "\n",
    "for branch in branches:\n",
    "    if branch.get_short_id() == branch_id:\n",
    "        branch0 = branch\n",
    "        break\n",
    "\n",
    "print(branch0)\n",
    "\n",
    "if branch0 is not None:\n",
    "    \n",
    "    trend = branch0.get_trend(\"glutamate\", intra=False)\n",
    "    print(f\"{trend:.1E}, {trend / ast_dict['min_trend_amplitude'] * 100:.1f}%\")\n",
    "    \n",
    "    fig, ax = plt.subplots()\n",
    "    \n",
    "    hist = branch0.extracellular_history[\"glutamate\"]\n",
    "    ax.plot(hist)\n",
    "    "
   ]
  }
 ],
 "metadata": {
  "kernelspec": {
   "display_name": "Python 3 (ipykernel)",
   "language": "python",
   "name": "python3"
  },
  "language_info": {
   "codemirror_mode": {
    "name": "ipython",
    "version": 3
   },
   "file_extension": ".py",
   "mimetype": "text/x-python",
   "name": "python",
   "nbconvert_exporter": "python",
   "pygments_lexer": "ipython3",
   "version": "3.9.18"
  }
 },
 "nbformat": 4,
 "nbformat_minor": 5
}
