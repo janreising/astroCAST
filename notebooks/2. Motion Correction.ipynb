{
 "cells": [
  {
   "cell_type": "code",
   "execution_count": null,
   "id": "46ebb2fc-71e5-42fe-a42c-72aacf9b4972",
   "metadata": {},
   "outputs": [],
   "source": [
    "# Import necessary modules of astroCAST\n",
    "from astroCAST.preparation import MotionCorrection\n",
    "from astroCAST.analysis import Video\n",
    "from pathlib import Path"
   ]
  },
  {
   "cell_type": "code",
   "execution_count": null,
   "id": "76ef904b-da4b-4707-bde6-f6371f27fb61",
   "metadata": {},
   "outputs": [],
   "source": [
    "folder = Path(\"/media/janrei1/data/method_testing/\")\n",
    "\n",
    "input_file = folder.joinpath(\"22A7x9-1.from_single_file.h5\") # your input file name here. 'h5' or 'tdb' is recommended for parallel processing \n",
    "assert input_file.is_file()"
   ]
  },
  {
   "cell_type": "code",
   "execution_count": null,
   "id": "6660d981-a957-4e78-a730-1c562b3da331",
   "metadata": {},
   "outputs": [],
   "source": [
    "mc = MotionCorrection()\n",
    "mc.run(input_file, h5_loc=\"data/ch0\")"
   ]
  },
  {
   "cell_type": "code",
   "execution_count": null,
   "id": "8a3a3fbf-6722-4cbc-af8b-1286069fa423",
   "metadata": {},
   "outputs": [],
   "source": [
    "mc.save(output=folder.joinpath(\"del.tiff\"), loc=\"ch0\", prefix=\"mc/\", chunks=(100, 100, 100), compression=None, remove_mmap=True)"
   ]
  },
  {
   "cell_type": "code",
   "execution_count": null,
   "id": "0e876323-4f33-448d-8bfb-d46d05e46c0a",
   "metadata": {},
   "outputs": [],
   "source": [
    "vid = Video(folder.joinpath(\"del.tiff\"))\n",
    "vid.show()"
   ]
  }
 ],
 "metadata": {
  "kernelspec": {
   "display_name": "Python 3 (ipykernel)",
   "language": "python",
   "name": "python3"
  },
  "language_info": {
   "codemirror_mode": {
    "name": "ipython",
    "version": 3
   },
   "file_extension": ".py",
   "mimetype": "text/x-python",
   "name": "python",
   "nbconvert_exporter": "python",
   "pygments_lexer": "ipython3",
   "version": "3.9.16"
  }
 },
 "nbformat": 4,
 "nbformat_minor": 5
}
