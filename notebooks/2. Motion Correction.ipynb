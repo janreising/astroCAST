{
 "cells": [
  {
   "cell_type": "code",
   "execution_count": null,
   "id": "46ebb2fc-71e5-42fe-a42c-72aacf9b4972",
   "metadata": {
    "execution": {
     "iopub.execute_input": "2023-09-05T16:24:24.600365Z",
     "iopub.status.busy": "2023-09-05T16:24:24.599364Z",
     "iopub.status.idle": "2023-09-05T16:24:27.304307Z",
     "shell.execute_reply": "2023-09-05T16:24:27.303662Z",
     "shell.execute_reply.started": "2023-09-05T16:24:24.600342Z"
    }
   },
   "outputs": [],
   "source": [
    "# Import necessary modules of astroCAST\n",
    "from astroCAST.preparation import MotionCorrection\n",
    "from astroCAST.analysis import Video\n",
    "from pathlib import Path\n",
    "import logging"
   ]
  },
  {
   "cell_type": "code",
   "execution_count": null,
   "id": "76ef904b-da4b-4707-bde6-f6371f27fb61",
   "metadata": {
    "execution": {
     "iopub.execute_input": "2023-09-05T16:24:27.306077Z",
     "iopub.status.busy": "2023-09-05T16:24:27.305489Z",
     "iopub.status.idle": "2023-09-05T16:24:27.310779Z",
     "shell.execute_reply": "2023-09-05T16:24:27.309818Z",
     "shell.execute_reply.started": "2023-09-05T16:24:27.306059Z"
    }
   },
   "outputs": [],
   "source": [
    "folder = Path(\"/home/janrei1@ad.cmm.se/Downloads/\")\n",
    "\n",
    "input_file = folder.joinpath(\"test.h5\") # your input file name here. 'h5' or 'tdb' is recommended for parallel processing \n",
    "output_file = folder.joinpath(\"out.h5\")\n",
    "in_loc = \"data/ch1\"\n",
    "out_loc = \"mc/ch1\"\n",
    "assert input_file.is_file()\n"
   ]
  },
  {
   "cell_type": "code",
   "execution_count": null,
   "id": "6660d981-a957-4e78-a730-1c562b3da331",
   "metadata": {
    "execution": {
     "iopub.execute_input": "2023-09-05T16:24:27.311910Z",
     "iopub.status.busy": "2023-09-05T16:24:27.311619Z",
     "iopub.status.idle": "2023-09-05T16:25:37.268031Z",
     "shell.execute_reply": "2023-09-05T16:25:37.267416Z",
     "shell.execute_reply.started": "2023-09-05T16:24:27.311890Z"
    },
    "tags": []
   },
   "outputs": [],
   "source": [
    "if output_file.is_file():\n",
    "    output_file.unlink()\n",
    "\n",
    "mc = MotionCorrection(logging_level=logging.INFO)\n",
    "mc.run(input_file, h5_loc=in_loc)"
   ]
  },
  {
   "cell_type": "code",
   "execution_count": null,
   "id": "956cb79b-2280-4724-bc59-19033eb62238",
   "metadata": {
    "execution": {
     "iopub.execute_input": "2023-09-05T16:25:37.269363Z",
     "iopub.status.busy": "2023-09-05T16:25:37.268874Z",
     "iopub.status.idle": "2023-09-05T16:25:37.272484Z",
     "shell.execute_reply": "2023-09-05T16:25:37.271853Z",
     "shell.execute_reply.started": "2023-09-05T16:25:37.269328Z"
    }
   },
   "outputs": [],
   "source": [
    "# img_10_rig__d1_512_d2_512_d3_1_order_F_frames_101_.mmap"
   ]
  },
  {
   "cell_type": "code",
   "execution_count": null,
   "id": "8a3a3fbf-6722-4cbc-af8b-1286069fa423",
   "metadata": {
    "execution": {
     "iopub.execute_input": "2023-09-05T16:25:37.274262Z",
     "iopub.status.busy": "2023-09-05T16:25:37.273966Z",
     "iopub.status.idle": "2023-09-05T16:25:39.633779Z",
     "shell.execute_reply": "2023-09-05T16:25:39.633131Z",
     "shell.execute_reply.started": "2023-09-05T16:25:37.274210Z"
    }
   },
   "outputs": [],
   "source": [
    "chunks = (100, 100, 100)\n",
    "\n",
    "mc.save(output=output_file, h5_loc=out_loc, \n",
    "        chunks=chunks, compression=None, remove_intermediate=True)"
   ]
  },
  {
   "cell_type": "code",
   "execution_count": null,
   "id": "0e876323-4f33-448d-8bfb-d46d05e46c0a",
   "metadata": {
    "execution": {
     "iopub.execute_input": "2023-09-05T16:25:39.634538Z",
     "iopub.status.busy": "2023-09-05T16:25:39.634353Z",
     "iopub.status.idle": "2023-09-05T16:25:39.637833Z",
     "shell.execute_reply": "2023-09-05T16:25:39.637056Z",
     "shell.execute_reply.started": "2023-09-05T16:25:39.634521Z"
    }
   },
   "outputs": [],
   "source": [
    "# vid = Video(folder.joinpath(\"out.h5\"), h5_loc=out_loc)\n",
    "# viewer = vid.show()\n",
    "\n",
    "# vid2 = Video(input_file, h5_loc=in_loc)\n",
    "# vid2.show(viewer=viewer)"
   ]
  }
 ],
 "metadata": {
  "kernelspec": {
   "display_name": "Python 3 (ipykernel)",
   "language": "python",
   "name": "python3"
  },
  "language_info": {
   "codemirror_mode": {
    "name": "ipython",
    "version": 3
   },
   "file_extension": ".py",
   "mimetype": "text/x-python",
   "name": "python",
   "nbconvert_exporter": "python",
   "pygments_lexer": "ipython3",
   "version": "3.9.17"
  }
 },
 "nbformat": 4,
 "nbformat_minor": 5
}
