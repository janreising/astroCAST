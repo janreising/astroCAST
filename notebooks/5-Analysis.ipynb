{
 "cells": [
  {
   "cell_type": "code",
   "execution_count": null,
   "id": "48d59b36-7be7-4b16-b6cf-c158d83ad9ee",
   "metadata": {},
   "outputs": [],
   "source": [
    "from astroCAST.analysis import Video, Events, Correlation, Plotting\n",
    "from pathlib import Path\n",
    "\n",
    "import pandas as pd\n",
    "import numpy as np"
   ]
  },
  {
   "cell_type": "code",
   "execution_count": null,
   "id": "6b93db29-333c-4794-a45b-4b7bfb34cd6d",
   "metadata": {},
   "outputs": [],
   "source": [
    "folder = Path(\"/media/janrei1/data/method_testing/\")\n",
    "\n",
    "event_folder = folder.joinpath(\"22A7x9-1.roi\") # your input file name here. 'h5' or 'tdb' is recommended for parallel processing \n",
    "assert event_folder.is_dir()"
   ]
  },
  {
   "cell_type": "code",
   "execution_count": null,
   "id": "cc692c86-28d5-4100-9e8c-b2ddd12cf8ba",
   "metadata": {},
   "outputs": [],
   "source": [
    "events = Events(event_folder)\n",
    "events.events.columns"
   ]
  },
  {
   "cell_type": "markdown",
   "id": "7b21687f-d514-494b-8d03-11d8bb5c7ff6",
   "metadata": {},
   "source": [
    "# Exploration"
   ]
  },
  {
   "cell_type": "code",
   "execution_count": null,
   "id": "7dfa9198-574f-47df-8a77-2e3136a3e9d3",
   "metadata": {},
   "outputs": [],
   "source": [
    "## summary statistics\n",
    "events.get_summary_statistics().head()"
   ]
  },
  {
   "cell_type": "code",
   "execution_count": null,
   "id": "8562dfc6-20fa-4e2a-9f7b-2efc4ee98892",
   "metadata": {},
   "outputs": [],
   "source": [
    "p = Plotting(events)\n",
    "\n",
    "# sample traces\n",
    "_ = p.plot_traces(num_samples=4)\n",
    "\n",
    "## clustered traces\n",
    "#todo clustered traces\n",
    "\n",
    "\n",
    "## distribution plots\n",
    "_ = p.plot_distribution(\"area\")\n",
    "\n",
    "## distibution without outliers\n",
    "_ = p.plot_distribution(\"area\", outlier_deviation=3)"
   ]
  },
  {
   "cell_type": "markdown",
   "id": "b38a6231-a8c4-4ce1-ada4-9231b2f6726e",
   "metadata": {},
   "source": [
    "## Filtering"
   ]
  },
  {
   "cell_type": "code",
   "execution_count": null,
   "id": "c4e984b3-e986-4173-8b42-2ec8a35e0e33",
   "metadata": {},
   "outputs": [],
   "source": [
    "# example filter\n",
    "filters = {\"z0\":(1, 50)}\n",
    "new_table = events.filter(filters, inplace=True) # overwrites the loaded events table\n",
    "new_table.head()"
   ]
  },
  {
   "cell_type": "markdown",
   "id": "c043efd6-774f-48d0-bfdd-8389678e7316",
   "metadata": {},
   "source": [
    "# Correlation"
   ]
  },
  {
   "cell_type": "code",
   "execution_count": null,
   "id": "440a5af9-276d-472e-b076-090171d30476",
   "metadata": {},
   "outputs": [],
   "source": []
  },
  {
   "cell_type": "markdown",
   "id": "c7d28ac7-d7ee-4cc1-bf74-f704ea1de270",
   "metadata": {},
   "source": [
    "# Comparison"
   ]
  },
  {
   "cell_type": "code",
   "execution_count": null,
   "id": "6d073f9e-05b4-45fe-a5e1-39eda67ae623",
   "metadata": {},
   "outputs": [],
   "source": []
  }
 ],
 "metadata": {
  "kernelspec": {
   "display_name": "Python 3 (ipykernel)",
   "language": "python",
   "name": "python3"
  },
  "language_info": {
   "codemirror_mode": {
    "name": "ipython",
    "version": 3
   },
   "file_extension": ".py",
   "mimetype": "text/x-python",
   "name": "python",
   "nbconvert_exporter": "python",
   "pygments_lexer": "ipython3",
   "version": "3.9.15"
  }
 },
 "nbformat": 4,
 "nbformat_minor": 5
}
