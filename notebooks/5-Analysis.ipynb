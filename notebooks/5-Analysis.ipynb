{
 "cells": [
  {
   "cell_type": "code",
   "execution_count": 1,
   "id": "48d59b36-7be7-4b16-b6cf-c158d83ad9ee",
   "metadata": {},
   "outputs": [],
   "source": [
    "from astroCAST.analysis import Video, Events, Correlation\n",
    "from pathlib import Path"
   ]
  },
  {
   "cell_type": "code",
   "execution_count": 2,
   "id": "6b93db29-333c-4794-a45b-4b7bfb34cd6d",
   "metadata": {},
   "outputs": [],
   "source": [
    "folder = Path(\"/media/janrei1/data/method_testing/\")\n",
    "\n",
    "event_folder = folder.joinpath(\"22A7x9-1.roi\") # your input file name here. 'h5' or 'tdb' is recommended for parallel processing \n",
    "assert event_folder.is_dir()"
   ]
  },
  {
   "cell_type": "code",
   "execution_count": 3,
   "id": "cc692c86-28d5-4100-9e8c-b2ddd12cf8ba",
   "metadata": {},
   "outputs": [
    {
     "data": {
      "text/plain": [
       "Index(['z0', 'z1', 'x0', 'x1', 'y0', 'y1', 'dz', 'dx', 'dy', 'area',\n",
       "       'bbox_pix_num', 'mask', 'mask_centroid_local-0',\n",
       "       'mask_centroid_local-1', 'mask_centroid_local-2',\n",
       "       'mask_axis_major_length', 'mask_axis_minor_length', 'mask_extent',\n",
       "       'mask_solidity', 'mask_area', 'mask_equivalent_diameter_area',\n",
       "       'contours', 'footprint', 'fp_centroid_local-0', 'fp_centroid_local-1',\n",
       "       'fp_axis_major_length', 'fp_axis_minor_length', 'fp_eccentricity',\n",
       "       'fp_equivalent_diameter_area', 'fp_extent', 'fp_feret_diameter_max',\n",
       "       'fp_orientation', 'fp_perimeter', 'fp_solidity', 'fp_area',\n",
       "       'fp_area_convex', 'fp_cx', 'fp_cy', 'trace', 'error', 'area_norm', 'cx',\n",
       "       'cy'],\n",
       "      dtype='object')"
      ]
     },
     "execution_count": 3,
     "metadata": {},
     "output_type": "execute_result"
    }
   ],
   "source": [
    "events = Events(event_folder)\n",
    "events.events.columns"
   ]
  },
  {
   "cell_type": "code",
   "execution_count": 5,
   "id": "069b17bc-5733-4396-af62-0aac78bd7002",
   "metadata": {},
   "outputs": [
    {
     "name": "stderr",
     "output_type": "stream",
     "text": [
      "/opt/anaconda/envs/aip/lib/python3.9/site-packages/napari/plugins/_plugin_manager.py:542: UserWarning: Plugin 'napari-time-slicer' has already registered a function widget 'convert to 2d timelapse' which has now been overwritten\n",
      "  warn(message=warn_message)\n"
     ]
    }
   ],
   "source": [
    "v = events.show_event_map(video=folder.joinpath(\"22A7x9-1.tiff\"), z_slice=(0, 10))"
   ]
  },
  {
   "cell_type": "markdown",
   "id": "7b21687f-d514-494b-8d03-11d8bb5c7ff6",
   "metadata": {},
   "source": [
    "# Exploration"
   ]
  },
  {
   "cell_type": "code",
   "execution_count": 4,
   "id": "5aba04a0-6019-4c9a-8a89-a523211f6347",
   "metadata": {},
   "outputs": [],
   "source": [
    "import napari\n",
    "import logging \n",
    "from skimage.measure import marching_cubes, find_contours\n",
    "import numpy as np\n",
    "import matplotlib.pyplot as plt\n",
    "from tqdm import tqdm\n",
    "import tifffile as tiff"
   ]
  },
  {
   "cell_type": "code",
   "execution_count": null,
   "id": "8a993055-d903-4250-9289-9b2a80fd621e",
   "metadata": {},
   "outputs": [],
   "source": []
  },
  {
   "cell_type": "code",
   "execution_count": 5,
   "id": "b92e9a53-da81-43fe-80d3-34a27dbd7ff4",
   "metadata": {
    "tags": []
   },
   "outputs": [],
   "source": [
    "\n",
    "\n",
    "def show_events_as_shapes(self):\n",
    "\n",
    "        viewer = napari.Viewer()\n",
    "\n",
    "        event_map = self.event_map.compute() # todo: very inefficient\n",
    "        # event_map[event_map > 1] = 0\n",
    "        # event_map = event_map[1:3, :, :]\n",
    "\n",
    "        viewer.add_image(event_map)\n",
    "        \n",
    "        logging.warning(f\"event_map: {event_map.shape}\")\n",
    "        logging.warning(f\"type: {type(event_map)}\")\n",
    "        # logging.warning(f\"event_map: {event_map[0, :5, :5]}\")\n",
    "\n",
    "        contours = marching_cubes(event_map, 0.5)\n",
    "        verts, faces, normals, values = contours\n",
    "        \n",
    "        \"\"\"\n",
    "        contours = verts\n",
    "        # contours = np.array([[11, 13], [111, 113], [22, 246]])\n",
    "        logging.warning(f\"contours: {contours}\")\n",
    "        logging.warning(f\"contours: {contours.shape}\")\n",
    "        \n",
    "        viewer.add_shapes(contours,\n",
    "                          shape_type=\"polygon\", edge_width=1,\n",
    "                          edge_color=\"coral\", face_color=\"royalblue\")\n",
    "        \"\"\"\n",
    "        \n",
    "        surface = (verts, faces, values)\n",
    "        viewer.add_surface(surface)\n",
    "        \n",
    "        \n",
    "# show_events_as_shapes(events)"
   ]
  },
  {
   "cell_type": "code",
   "execution_count": 6,
   "id": "35b987a5-f3ff-42ba-944e-eef2de3dd4c6",
   "metadata": {
    "tags": []
   },
   "outputs": [],
   "source": [
    "def get_contour(mask):\n",
    "    \n",
    "    mask = np.pad(mask, pad_width=((1, 1), (1, 1), (1, 1)), mode=\"constant\", constant_values=0)\n",
    "    \n",
    "    contours = []\n",
    "    for cz in range(1, mask.shape[0]-1):\n",
    "        \n",
    "        frame = mask[cz, :, :]\n",
    "        \n",
    "        # find countours in frame\n",
    "        contour = find_contours(frame, level=0.9)[0]\n",
    "            \n",
    "        # create z axis\n",
    "        z_column = np.zeros((contour.shape[0], 1))\n",
    "        z_column[:] = cz\n",
    "        \n",
    "        # add extra dimension for z axis\n",
    "        contour = np.append(z_column, contour, axis=1)\n",
    "                \n",
    "        # adjust for padding\n",
    "        contour = np.subtract(contour, 1)\n",
    "            \n",
    "        contours.append(contour)\n",
    "        \n",
    "    return contours\n",
    "\n",
    "# ev = events.events.iloc[0]\n",
    "# mask = np.reshape(ev[\"mask\"], newshape=(ev.dz, ev.dx, ev.dy))\n",
    "\n",
    "# contours = get_contour(mask)\n",
    "# # contours[1]"
   ]
  },
  {
   "cell_type": "code",
   "execution_count": 7,
   "id": "26a8aa39-847d-472d-b176-7a10dea0517a",
   "metadata": {
    "tags": []
   },
   "outputs": [],
   "source": [
    "# contours"
   ]
  },
  {
   "cell_type": "code",
   "execution_count": 8,
   "id": "a7f53763-f5f5-4b61-a026-7cc9b151e8a1",
   "metadata": {
    "tags": []
   },
   "outputs": [],
   "source": [
    "# display(contours[0][0])\n",
    "\n",
    "# plt.imshow(mask[0, :, :])"
   ]
  },
  {
   "cell_type": "code",
   "execution_count": 9,
   "id": "01c7b293-d57e-484e-a351-dd34a96eceae",
   "metadata": {},
   "outputs": [],
   "source": [
    "# viewer = napari.Viewer()\n",
    "\n",
    "# viewer.add_image(mask)\n",
    "# viewer.add_shapes(contours, shape_type=\"polygon\")\n"
   ]
  },
  {
   "cell_type": "code",
   "execution_count": null,
   "id": "8f68e318-2837-4f59-94b1-54bf2399f914",
   "metadata": {},
   "outputs": [],
   "source": []
  },
  {
   "cell_type": "code",
   "execution_count": 37,
   "id": "60d2bfba-ba1f-4f32-9a20-87d8e1a16787",
   "metadata": {},
   "outputs": [
    {
     "name": "stderr",
     "output_type": "stream",
     "text": [
      "100%|█████████████████████████████████████████| 52/52 [00:00<00:00, 2624.15it/s]\n"
     ]
    },
    {
     "data": {
      "text/plain": [
       "<Shapes layer 'contours_adjusted' at 0x7f34e6d33f40>"
      ]
     },
     "execution_count": 37,
     "metadata": {},
     "output_type": "execute_result"
    }
   ],
   "source": [
    "viewer = napari.Viewer()\n",
    "\n",
    "max_id = 52\n",
    "\n",
    "# em = events.event_map.copy()\n",
    "# em[em > max_id] = 0\n",
    "\n",
    "em = tiff.imread(folder.joinpath(\"22A7x9-1.tiff\"))\n",
    "\n",
    "viewer.add_image(em)\n",
    "\n",
    "ev_sel = events.events.head(max_id)\n",
    "\n",
    "contours_adjusted = []\n",
    "for _, ev in tqdm(ev_sel.iterrows(), total=len(ev_sel)):\n",
    "    \n",
    "    contours = ev.contours#.copy()\n",
    "    \n",
    "    if len(contours) < 1:\n",
    "        continue\n",
    "    \n",
    "    for contour in contours:\n",
    "        \n",
    "        c = np.zeros(contour.shape)\n",
    "        c[:] = contour[:] # todo: no idea why we need this but otherwise the coordinates keep getting added\n",
    "                        \n",
    "        c[:, 1] += ev.x0\n",
    "        c[:, 2] += ev.y0\n",
    "                \n",
    "        contours_adjusted.append(c)\n",
    "    \n",
    "    \n",
    "viewer.add_shapes(contours_adjusted, shape_type=\"polygon\", edge_color=\"red\", face_color=\"#80808000\")   \n",
    "    \n"
   ]
  },
  {
   "cell_type": "code",
   "execution_count": 7,
   "id": "da291af9-fcd4-4110-a962-3e15510d2849",
   "metadata": {},
   "outputs": [
    {
     "name": "stderr",
     "output_type": "stream",
     "text": [
      "/opt/anaconda/envs/aip/lib/python3.9/site-packages/napari/plugins/_plugin_manager.py:542: UserWarning: Plugin 'napari-time-slicer' has already registered a function widget 'convert to 2d timelapse' which has now been overwritten\n",
      "  warn(message=warn_message)\n"
     ]
    },
    {
     "data": {
      "text/plain": [
       "<Labels layer 'roi' at 0x7f4e8923ea00>"
      ]
     },
     "execution_count": 7,
     "metadata": {},
     "output_type": "execute_result"
    }
   ],
   "source": [
    "viewer = napari.Viewer()\n",
    "\n",
    "max_id = 52\n",
    "\n",
    "em = events.event_map.copy()\n",
    "# em[em > max_id] = 0\n",
    "\n",
    "dff = tiff.imread(folder.joinpath(\"22A7x9-1.tiff\"))\n",
    "\n",
    "viewer.add_image(dff, name=\"dff\")\n",
    "viewer.add_labels(em, name=\"roi\")\n"
   ]
  },
  {
   "cell_type": "code",
   "execution_count": null,
   "id": "36b21613-ab22-401d-af0d-c01935f07697",
   "metadata": {},
   "outputs": [],
   "source": []
  },
  {
   "cell_type": "code",
   "execution_count": 11,
   "id": "dc3e2d29-efc7-4f18-9ca7-1da345eaea79",
   "metadata": {
    "tags": []
   },
   "outputs": [
    {
     "ename": "AttributeError",
     "evalue": "'Events' object has no attribute 'show_events'",
     "output_type": "error",
     "traceback": [
      "\u001b[0;31m---------------------------------------------------------------------------\u001b[0m",
      "\u001b[0;31mAttributeError\u001b[0m                            Traceback (most recent call last)",
      "Cell \u001b[0;32mIn[11], line 2\u001b[0m\n\u001b[1;32m      1\u001b[0m \u001b[38;5;66;03m## show overlay of events (event_map)\u001b[39;00m\n\u001b[0;32m----> 2\u001b[0m \u001b[43mevents\u001b[49m\u001b[38;5;241;43m.\u001b[39;49m\u001b[43mshow_events\u001b[49m()\n",
      "\u001b[0;31mAttributeError\u001b[0m: 'Events' object has no attribute 'show_events'"
     ]
    }
   ],
   "source": [
    "## show overlay of events (event_map)\n",
    "events.show_events()\n"
   ]
  },
  {
   "cell_type": "code",
   "execution_count": null,
   "id": "4732c02c-34a4-4885-87a2-9fb2863ad1e8",
   "metadata": {},
   "outputs": [],
   "source": [
    "## summary table"
   ]
  },
  {
   "cell_type": "code",
   "execution_count": null,
   "id": "74061ca6-8885-4554-a8c9-dff1cb267aa0",
   "metadata": {},
   "outputs": [],
   "source": [
    "## distribution plots"
   ]
  },
  {
   "cell_type": "code",
   "execution_count": null,
   "id": "34570f59-1d26-488d-8e2c-4972c815d736",
   "metadata": {},
   "outputs": [],
   "source": [
    "## filtering"
   ]
  },
  {
   "cell_type": "markdown",
   "id": "c043efd6-774f-48d0-bfdd-8389678e7316",
   "metadata": {},
   "source": [
    "# Correlation"
   ]
  },
  {
   "cell_type": "code",
   "execution_count": null,
   "id": "440a5af9-276d-472e-b076-090171d30476",
   "metadata": {},
   "outputs": [],
   "source": []
  },
  {
   "cell_type": "markdown",
   "id": "c7d28ac7-d7ee-4cc1-bf74-f704ea1de270",
   "metadata": {},
   "source": [
    "# Comparison"
   ]
  },
  {
   "cell_type": "code",
   "execution_count": null,
   "id": "6d073f9e-05b4-45fe-a5e1-39eda67ae623",
   "metadata": {},
   "outputs": [],
   "source": []
  }
 ],
 "metadata": {
  "kernelspec": {
   "display_name": "Python 3 (ipykernel)",
   "language": "python",
   "name": "python3"
  },
  "language_info": {
   "codemirror_mode": {
    "name": "ipython",
    "version": 3
   },
   "file_extension": ".py",
   "mimetype": "text/x-python",
   "name": "python",
   "nbconvert_exporter": "python",
   "pygments_lexer": "ipython3",
   "version": "3.9.15"
  }
 },
 "nbformat": 4,
 "nbformat_minor": 5
}
