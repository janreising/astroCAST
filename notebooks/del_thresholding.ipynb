{
 "cells": [
  {
   "cell_type": "code",
   "execution_count": null,
   "id": "ee97b4a3-6f43-4a97-99a7-a73976806e5f",
   "metadata": {
    "execution": {
     "iopub.execute_input": "2023-09-09T14:02:33.684495Z",
     "iopub.status.busy": "2023-09-09T14:02:33.683247Z",
     "iopub.status.idle": "2023-09-09T14:02:36.504321Z",
     "shell.execute_reply": "2023-09-09T14:02:36.503567Z",
     "shell.execute_reply.started": "2023-09-09T14:02:33.684356Z"
    }
   },
   "outputs": [],
   "source": [
    "from astrocast import analysis"
   ]
  },
  {
   "cell_type": "code",
   "execution_count": null,
   "id": "83acd58f-2933-4f6b-a0e6-0bef48c2e967",
   "metadata": {
    "execution": {
     "iopub.execute_input": "2023-09-09T14:02:36.505716Z",
     "iopub.status.busy": "2023-09-09T14:02:36.505208Z",
     "iopub.status.idle": "2023-09-09T14:02:36.509786Z",
     "shell.execute_reply": "2023-09-09T14:02:36.509180Z",
     "shell.execute_reply.started": "2023-09-09T14:02:36.505696Z"
    }
   },
   "outputs": [],
   "source": [
    "import numpy as np\n",
    "import scipy\n",
    "import matplotlib.pyplot as plt\n",
    "import napari\n",
    "import dask.array as da\n",
    "from skimage.filters import threshold_triangle\n"
   ]
  },
  {
   "cell_type": "code",
   "execution_count": null,
   "id": "609d8e1b-7447-4f19-a1e9-0b3d4fa239ab",
   "metadata": {
    "execution": {
     "iopub.execute_input": "2023-09-09T14:02:36.510867Z",
     "iopub.status.busy": "2023-09-09T14:02:36.510598Z",
     "iopub.status.idle": "2023-09-09T14:02:36.528839Z",
     "shell.execute_reply": "2023-09-09T14:02:36.528112Z",
     "shell.execute_reply.started": "2023-09-09T14:02:36.510847Z"
    }
   },
   "outputs": [],
   "source": [
    "vid = analysis.Video(\"/media/janrei1/data/astrocyte_examples/31570865_AquA/GlusnfrSuppRaw.h5\", h5_loc=\"dff/ch0\", lazy=True, name=\"dff\")\n",
    "arr = vid.get_data()#.compute()\n",
    "\n",
    "arr = arr.rechunk((\"auto\", \"auto\", \"auto\"))\n",
    "arr"
   ]
  },
  {
   "cell_type": "code",
   "execution_count": null,
   "id": "c6f156cd-092f-4894-9dc5-632e2e9f7444",
   "metadata": {
    "execution": {
     "iopub.execute_input": "2023-09-09T14:02:36.531317Z",
     "iopub.status.busy": "2023-09-09T14:02:36.530988Z",
     "iopub.status.idle": "2023-09-09T14:02:36.578940Z",
     "shell.execute_reply": "2023-09-09T14:02:36.578332Z",
     "shell.execute_reply.started": "2023-09-09T14:02:36.531293Z"
    }
   },
   "outputs": [],
   "source": [
    "radius = 3\n",
    "sigma = 3\n",
    "\n",
    "def func(arr):\n",
    "    return scipy.ndimage.gaussian_filter(arr, sigma=sigma, radius=radius, mode='nearest')\n",
    "\n",
    "depth = radius*2 + 1\n",
    "print(f\"depth: {depth}\")\n",
    "depth = {0:depth, 1:depth, 2:depth}\n",
    "print(f\"depth: {depth}\")\n",
    "\n",
    "display(arr)\n",
    "\n",
    "overlap = da.overlap.overlap(arr, depth=depth, boundary=\"nearest\")\n",
    "display(overlap)\n",
    "\n",
    "mapped = overlap.map_blocks(func, dtype=arr.dtype)\n",
    "display(mapped)\n",
    "\n",
    "arr2 = da.overlap.trim_internal(mapped, depth, boundary='nearest')\n",
    "display(arr2)\n",
    "\n",
    "# arr2 = arr2.compute()"
   ]
  },
  {
   "cell_type": "code",
   "execution_count": null,
   "id": "38fa5d9c-93e5-452c-9535-421517665c4f",
   "metadata": {
    "execution": {
     "iopub.execute_input": "2023-09-09T14:02:36.580160Z",
     "iopub.status.busy": "2023-09-09T14:02:36.579821Z",
     "iopub.status.idle": "2023-09-09T14:02:37.178900Z",
     "shell.execute_reply": "2023-09-09T14:02:37.178240Z",
     "shell.execute_reply.started": "2023-09-09T14:02:36.580139Z"
    }
   },
   "outputs": [],
   "source": [
    "plt.imshow(arr2[42, :, :])"
   ]
  },
  {
   "cell_type": "code",
   "execution_count": null,
   "id": "dfcb885f-56a7-4431-8a3a-6de07e278f15",
   "metadata": {},
   "outputs": [],
   "source": []
  },
  {
   "cell_type": "code",
   "execution_count": null,
   "id": "6cdd7dbf-1df5-4bf0-bee3-acddc3048ddb",
   "metadata": {
    "execution": {
     "iopub.execute_input": "2023-09-09T14:02:37.179869Z",
     "iopub.status.busy": "2023-09-09T14:02:37.179646Z",
     "iopub.status.idle": "2023-09-09T14:02:37.942360Z",
     "shell.execute_reply": "2023-09-09T14:02:37.941070Z",
     "shell.execute_reply.started": "2023-09-09T14:02:37.179849Z"
    }
   },
   "outputs": [],
   "source": [
    "def showcase(arr, arr2, z, figsize=(15, 15)):\n",
    "\n",
    "    if isinstance(arr, da.Array):\n",
    "        arr = arr.compute()\n",
    "\n",
    "    if isinstance(arr2, da.Array):\n",
    "        arr = arr.compute()\n",
    "        \n",
    "    fig, axx = plt.subplots(2, 2, figsize=(5, 3))\n",
    "\n",
    "    img1 = arr[z, :, :]\n",
    "    img1t = img1 > threshold_triangle(img1)\n",
    "    \n",
    "    axx[0, 0].imshow(img1)\n",
    "    axx[0, 1].imshow(img1t)\n",
    "\n",
    "\n",
    "    img2 = arr2[z, :, :]\n",
    "    img2t = img2 > threshold_triangle(img2)\n",
    "    \n",
    "    axx[1, 0].imshow(img2)\n",
    "    axx[1, 1].imshow(img2t)\n",
    "\n",
    "    plt.tight_layout()\n",
    "\n",
    "showcase(arr, arr2, z=42)\n",
    "showcase(arr, arr2, z=175)"
   ]
  },
  {
   "cell_type": "code",
   "execution_count": null,
   "id": "64c0c65f-fbc1-43d4-bc48-68ea470e34f5",
   "metadata": {
    "execution": {
     "iopub.status.busy": "2023-09-09T14:02:37.942964Z",
     "iopub.status.idle": "2023-09-09T14:02:37.943299Z",
     "shell.execute_reply": "2023-09-09T14:02:37.943152Z",
     "shell.execute_reply.started": "2023-09-09T14:02:37.943125Z"
    }
   },
   "outputs": [],
   "source": [
    "showcase(arr[:, :, -100:], arr2[:, :, -100:], z=41)"
   ]
  },
  {
   "cell_type": "code",
   "execution_count": null,
   "id": "78c7e7ac-992a-45f9-9b04-26a3538906f8",
   "metadata": {
    "execution": {
     "iopub.status.busy": "2023-09-09T14:02:37.944355Z",
     "iopub.status.idle": "2023-09-09T14:02:37.944698Z",
     "shell.execute_reply": "2023-09-09T14:02:37.944541Z",
     "shell.execute_reply.started": "2023-09-09T14:02:37.944527Z"
    }
   },
   "outputs": [],
   "source": [
    "chunk_size = (1, 50, 50)\n",
    "\n",
    "def dynamic_threshold(arr, min_ratio=1):\n",
    "\n",
    "    # if len(arr) % 2 == 0:\n",
    "    #     raise ValueError(f\"Sequence length is not odd: {len(arr)}\")\n",
    "\n",
    "    # calculate threshold\n",
    "    threshold = threshold_triangle(arr)\n",
    "\n",
    "    # threshold image\n",
    "    # center_index = (len(arr) - 1) // 2\n",
    "    # imc = arr[center_index, :, :]\n",
    "    # active_pixels = imc > threshold\n",
    "    active_pixels = arr > threshold\n",
    "    \n",
    "    # calculate ratio foreground/background\n",
    "    active_ind = np.where(active_pixels == 1) # TODO more efficient solution?\n",
    "    inactive_ind = np.where(active_pixels == 0)\n",
    "\n",
    "    # fg = np.mean(imc[active_ind])\n",
    "    # bg = abs(np.mean(imc[inactive_ind]))\n",
    "    # ratio = fg/bg\n",
    "    \n",
    "    fg = np.mean(arr[active_ind])\n",
    "    bg = abs(np.mean(arr[inactive_ind]))\n",
    "    ratio = fg/bg\n",
    "    \n",
    "    # adjust axis\n",
    "    # active_pixels = active_pixels.reshape((1,) + active_pixels.shape)\n",
    "\n",
    "    if ratio > min_ratio:\n",
    "        return active_pixels\n",
    "    else:\n",
    "        return np.zeros(active_pixels.shape, np.bool_)\n",
    "\n",
    "threshold_z_depth = 1\n",
    "data = arr2.copy()\n",
    "display(data)\n",
    "\n",
    "# depth = (threshold_z_depth, 10, 10)\n",
    "depth = {0:threshold_z_depth, 1:10, 2:10}\n",
    "data = data.rechunk(chunk_size)\n",
    "display(data)\n",
    "overlap = da.overlap.overlap(data, depth=depth, boundary=\"nearest\")\n",
    "display(overlap)\n",
    "\n",
    "mapped = overlap.map_blocks(dynamic_threshold, dtype=data.dtype)\n",
    "display(mapped)\n",
    "\n",
    "active_pixels = da.overlap.trim_internal(mapped, depth, boundary='nearest')\n",
    "display(active_pixels)\n",
    "\n",
    "active_pixels = active_pixels.compute()\n",
    "\n",
    "# active_pixels = overlap.map_blocks(dynamic_threshold,\n",
    "#                                    chunks=chunk_size, dtype=data.dtype)\n",
    "\n",
    "fig, ax = plt.subplots(1, 1)\n",
    "ax.imshow(active_pixels[42, :, :])"
   ]
  },
  {
   "cell_type": "code",
   "execution_count": null,
   "id": "fbab9079-c621-472a-9757-eb335e32afb2",
   "metadata": {
    "execution": {
     "iopub.status.busy": "2023-09-09T14:02:37.945649Z",
     "iopub.status.idle": "2023-09-09T14:02:37.945982Z",
     "shell.execute_reply": "2023-09-09T14:02:37.945795Z",
     "shell.execute_reply.started": "2023-09-09T14:02:37.945777Z"
    }
   },
   "outputs": [],
   "source": [
    "n = 4\n",
    "for A in (arr, arr2):\n",
    "    for i in (8, 140, 174):    \n",
    "        im = A[i:i+n, :, :]#.compute()\n",
    "    \n",
    "        if isinstance(im, da.Array):\n",
    "            im = im.compute()\n",
    "        \n",
    "        thresh = threshold_triangle(im)\n",
    "        imt = im > thresh\n",
    "    \n",
    "        bck = np.mean(im[np.where(imt == 0)])\n",
    "        fg = np.mean(im[np.where(imt == 1)])\n",
    "        title = f\"bck: {bck:.2f} fg: {fg:.2f} ratio: {-1*fg/bck:.2f}\"\n",
    "        \n",
    "        fig, axx = plt.subplots(1, len(im), figsize=(15, 15))\n",
    "        for z in range(len(imt)):\n",
    "            axx[z].imshow(imt[z, :, :])\n",
    "    \n",
    "        axx[0].set_title(title)"
   ]
  },
  {
   "cell_type": "code",
   "execution_count": null,
   "id": "80404c91-f828-4905-a6b6-2dc05e6c4d68",
   "metadata": {
    "execution": {
     "iopub.status.busy": "2023-09-09T14:02:37.946850Z",
     "iopub.status.idle": "2023-09-09T14:02:37.947232Z",
     "shell.execute_reply": "2023-09-09T14:02:37.947108Z",
     "shell.execute_reply.started": "2023-09-09T14:02:37.947094Z"
    }
   },
   "outputs": [],
   "source": [
    "from tqdm import tqdm\n",
    "\n",
    "def threshold(arr, n=1, min_ratio=1):\n",
    "\n",
    "    if isinstance(arr, da.Array):\n",
    "        arr = arr.compute()\n",
    "\n",
    "    res = np.zeros(arr.shape, dtype=arr.dtype)\n",
    "    print(f\"0: {np.mean(res)}\")\n",
    "    \n",
    "    print(arr.shape)\n",
    "    arr = np.pad(arr, pad_width=((n, n), (0, 0), (0, 0)), mode=\"edge\")\n",
    "    print(arr.shape)\n",
    "    \n",
    "    for z in tqdm(range(n, len(arr)-1)):\n",
    "\n",
    "        ratio = -1 \n",
    "        \n",
    "        im = arr[z-n:z+n, :, :]\n",
    "        threshold = threshold_triangle(im)\n",
    "        \n",
    "        imc = im[n, :, :]\n",
    "        active_pixels = imc > threshold \n",
    "\n",
    "        active_ind = np.where(active_pixels == 1)\n",
    "        inactive_ind = np.where(active_pixels == 0)\n",
    "        \n",
    "        fg = np.mean(imc[active_ind])\n",
    "        bg = abs(np.mean(imc[inactive_ind]))\n",
    "        ratio = fg/bg\n",
    "        # print(ratio)\n",
    "        if ratio > min_ratio:\n",
    "            print(z, ratio)\n",
    "            res[z-n, :, :] = active_pixels\n",
    "\n",
    "    return res\n",
    "\n",
    "act = threshold(arr2, n=1)\n",
    "act.shape"
   ]
  },
  {
   "cell_type": "code",
   "execution_count": null,
   "id": "16017252-1082-4efb-a770-180a476a1e84",
   "metadata": {
    "execution": {
     "iopub.status.busy": "2023-09-09T14:02:37.948073Z",
     "iopub.status.idle": "2023-09-09T14:02:37.948391Z",
     "shell.execute_reply": "2023-09-09T14:02:37.948255Z",
     "shell.execute_reply.started": "2023-09-09T14:02:37.948242Z"
    }
   },
   "outputs": [],
   "source": [
    "viewer = napari.Viewer()\n",
    "viewer.add_image(act, colormap=\"gray\")\n",
    "viewer.show()"
   ]
  },
  {
   "cell_type": "code",
   "execution_count": null,
   "id": "fd1e39c4-dd24-4e15-b501-e156d8da4f01",
   "metadata": {
    "execution": {
     "iopub.status.busy": "2023-09-09T14:02:37.949771Z",
     "iopub.status.idle": "2023-09-09T14:02:37.950112Z",
     "shell.execute_reply": "2023-09-09T14:02:37.949989Z",
     "shell.execute_reply.started": "2023-09-09T14:02:37.949976Z"
    }
   },
   "outputs": [],
   "source": [
    "def dynamic_threshold(arr, min_ratio=1):\n",
    "    \n",
    "    if len(arr) % 2 == 0:\n",
    "        raise ValueError(\"Sequence length is not odd\")\n",
    "    \n",
    "    # calculate threshold\n",
    "    threshold = threshold_triangle(arr)\n",
    "\n",
    "    # threshold image\n",
    "    center_index = (len(arr) - 1) // 2\n",
    "    imc = arr[center_index, :, :]\n",
    "    active_pixels = imc > threshold \n",
    "\n",
    "    # calculate ratio foreground/background\n",
    "    active_ind = np.where(active_pixels == 1)\n",
    "    inactive_ind = np.where(active_pixels == 0)\n",
    "    \n",
    "    fg = np.mean(imc[active_ind])\n",
    "    bg = abs(np.mean(imc[inactive_ind]))\n",
    "    ratio = fg/bg\n",
    "    print(fg, bg, ratio)\n",
    "\n",
    "    # adjust axis\n",
    "    active_pixels = active_pixels.reshape((1,) + active_pixels.shape)\n",
    "    \n",
    "    if ratio > min_ratio:\n",
    "        return active_pixels\n",
    "    else:\n",
    "        return np.zeros(active_pixels.shape, np.bool_)\n",
    "\n",
    "i = 42\n",
    "im = dynamic_threshold(arr2[i:i+3, :, :].compute(), min_ratio=0.3)\n",
    "\n",
    "fig, ax = plt.subplots(1, 2)\n",
    "ax[0].imshow(arr2[i, :, :])\n",
    "ax[1].imshow(im[0, :, :])"
   ]
  },
  {
   "cell_type": "code",
   "execution_count": null,
   "id": "301d18f6-9814-4a86-9163-d0214d639801",
   "metadata": {
    "execution": {
     "iopub.status.busy": "2023-09-09T14:02:37.951045Z",
     "iopub.status.idle": "2023-09-09T14:02:37.951355Z",
     "shell.execute_reply": "2023-09-09T14:02:37.951223Z",
     "shell.execute_reply.started": "2023-09-09T14:02:37.951210Z"
    }
   },
   "outputs": [],
   "source": [
    "test = arr.copy()\n",
    "test = test.rechunk((1, -1, -1))\n",
    "display(test)\n",
    "\n",
    "depth = (1, 0, 0)\n",
    "\n",
    "g = da.overlap.overlap(test, depth=depth, boundary=\"nearest\")\n",
    "display(g)\n",
    "g2 = g.map_blocks(dynamic_threshold, chunks=(1, 108, 199), dtype=arr.dtype)\n",
    "display(g2)\n",
    "\n",
    "# result = da.overlap.trim_internal(g2, depth)\n",
    "res = g2.compute()\n",
    "display(res.shape)\n",
    "\n",
    "plt.imshow(res[42, :, :])"
   ]
  },
  {
   "cell_type": "code",
   "execution_count": null,
   "id": "d0dbc8a0-7ca7-47b4-babc-ea59e1d1dee8",
   "metadata": {
    "execution": {
     "iopub.status.busy": "2023-09-09T14:02:37.952427Z",
     "iopub.status.idle": "2023-09-09T14:02:37.952727Z",
     "shell.execute_reply": "2023-09-09T14:02:37.952601Z",
     "shell.execute_reply.started": "2023-09-09T14:02:37.952587Z"
    }
   },
   "outputs": [],
   "source": [
    "import scipy.ndimage as ndimage\n",
    "from dask_image import ndmorph, ndfilters\n",
    "import tifffile as tiff"
   ]
  },
  {
   "cell_type": "code",
   "execution_count": null,
   "id": "f75a740b-8e31-4bf0-88e9-a7de2c9455a1",
   "metadata": {
    "execution": {
     "iopub.status.busy": "2023-09-09T14:02:37.953786Z",
     "iopub.status.idle": "2023-09-09T14:02:37.954130Z",
     "shell.execute_reply": "2023-09-09T14:02:37.953994Z",
     "shell.execute_reply.started": "2023-09-09T14:02:37.953980Z"
    }
   },
   "outputs": [],
   "source": [
    "binary_struct_connectivity= 0\n",
    "binary_struct_iterations= 2\n",
    "\n",
    "# struct = ndimage.generate_binary_structure(3, binary_struct_connectivity)\n",
    "# struct_expanded = ndimage.iterate_structure(struct, binary_struct_iterations).astype(int)\n",
    "\n",
    "struct = np.ones((3, 3, 3), dtype=np.bool_)\n",
    "struct[0, :, :] = [[0, 0, 0], [0, 1, 0], [0, 0, 0]]\n",
    "struct[1, :, :] = [[0, 1, 0], [1, 1, 1], [0, 1, 0]]\n",
    "struct[2, :, :] = [[0, 0, 0], [0, 1, 0], [0, 0, 0]]\n",
    "# struct = ndimage.iterate_structure(struct, binary_struct_iterations).astype(np.bool_)\n",
    "\n",
    "# struct_expanded = np.ones((3, 3, 3), dtype=np.bool_)\n",
    "# # struct_expanded[0, :, :] = [[0, 0, 0], [0, 1, 0], [0, 0, 0]]\n",
    "# struct_expanded[1, :, :] = [[0, 0, 0], [0, 1, 0], [0, 0, 0]]\n",
    "# struct_expanded[2, :, :] = [[0, 0, 0], [0, 0, 0], [0, 0, 0]]\n",
    "\n",
    "struct_expanded = np.zeros((3, 2, 2), dtype=np.bool_)\n",
    "struct_expanded[0, :, :] = [[0, 1], [0, 0]]\n",
    "struct_expanded[1, :, :] = [[1, 0], [1, 0]]\n",
    "struct_expanded[2, :, :] = [[0, 0], [0, 0]]\n",
    "\n",
    "\n",
    "N = len(struct)\n",
    "fig, axx = plt.subplots(1, N)\n",
    "for n in range(N):\n",
    "    axx[n].imshow(struct[n, :, :], vmin=0, vmax=1)\n",
    "\n",
    "N = len(struct_expanded)\n",
    "fig, axx = plt.subplots(1, N, sharex=True, sharey=True)\n",
    "for n in range(N):\n",
    "    axx[n].imshow(struct_expanded[n, :, :], vmin=0, vmax=1)\n",
    "\n",
    "tiff.imwrite(\"/media/janrei1/data/astrocyte_examples/31570865_AquA/GlusnfrSuppRaw.roi/struct_.tiff\", data=struct)\n",
    "tiff.imwrite(\"/media/janrei1/data/astrocyte_examples/31570865_AquA/GlusnfrSuppRaw.roi/struct_expanded_.tiff\", data=struct_expanded.astype(bool))"
   ]
  },
  {
   "cell_type": "code",
   "execution_count": null,
   "id": "f8a8f85f-0c70-46fc-8ddd-dffedb4ab6fa",
   "metadata": {
    "execution": {
     "iopub.status.busy": "2023-09-09T14:02:37.955161Z",
     "iopub.status.idle": "2023-09-09T14:02:37.955540Z",
     "shell.execute_reply": "2023-09-09T14:02:37.955398Z",
     "shell.execute_reply.started": "2023-09-09T14:02:37.955384Z"
    }
   },
   "outputs": [],
   "source": [
    "act = da.from_array(res)\n",
    "\n",
    "f = 175\n",
    "figsize=(12, 2)\n",
    "\n",
    "## Indiviudal\n",
    "\n",
    "for s, lbl in [(struct, \"S1\"), (struct_expanded, \"S2\")]:\n",
    "    \n",
    "    act_open = ndmorph.binary_opening(act, structure=struct_expanded)\n",
    "    act_closed = ndmorph.binary_closing(act, structure=struct_expanded)\n",
    "    \n",
    "    act_open = act_open.compute()\n",
    "    act_closed = act_closed.compute()\n",
    "    \n",
    "    fig, axx = plt.subplots(1, 3, figsize=figsize)\n",
    "    axx[0].imshow(res[f, :, :])\n",
    "    axx[1].imshow(act_open[f, :, :])\n",
    "    axx[2].imshow(act_closed[f, :, :])\n",
    "    \n",
    "    axx[0].set_title(f\"original\")\n",
    "    axx[1].set_title(f\"{lbl} open\")\n",
    "    axx[2].set_title(f\"{lbl} close\")\n",
    "\n",
    "# Combined\n",
    "for so, sc, lbl in [\n",
    "    # (struct, struct, \"S1\"),\n",
    "    # (struct_expanded, struct_expanded, \"S2\"),\n",
    "    # (struct, struct_expanded, \"S1, S2\"),\n",
    "    (struct_expanded, struct, \"S2, S1\")\n",
    "]:\n",
    "    \n",
    "    open_close = ndmorph.binary_closing(ndmorph.binary_opening(act, structure=so), structure=sc)\n",
    "    close_open = ndmorph.binary_opening(ndmorph.binary_closing(act, structure=sc), structure=so)\n",
    "    \n",
    "    open_close = open_close.compute()\n",
    "    close_open = close_open.compute()\n",
    "    \n",
    "    for f in [f]:\n",
    "        \n",
    "        fig, axx = plt.subplots(1, 3, figsize=figsize)\n",
    "        axx[0].imshow(res[f, :, :])\n",
    "        axx[1].imshow(open_close[f, :, :])\n",
    "        axx[2].imshow(close_open[f, :, :])\n",
    "    \n",
    "        axx[0].set_title(f\"{lbl} ({f})\")\n",
    "        axx[1].set_title(\"open_close\")\n",
    "        axx[2].set_title(\"close_open\")"
   ]
  },
  {
   "cell_type": "code",
   "execution_count": null,
   "id": "906e8849-b8f5-4640-bb25-561a7f77e1d8",
   "metadata": {},
   "outputs": [],
   "source": []
  }
 ],
 "metadata": {
  "kernelspec": {
   "display_name": "Python 3 (ipykernel)",
   "language": "python",
   "name": "python3"
  },
  "language_info": {
   "codemirror_mode": {
    "name": "ipython",
    "version": 3
   },
   "file_extension": ".py",
   "mimetype": "text/x-python",
   "name": "python",
   "nbconvert_exporter": "python",
   "pygments_lexer": "ipython3",
   "version": "3.9.17"
  }
 },
 "nbformat": 4,
 "nbformat_minor": 5
}
