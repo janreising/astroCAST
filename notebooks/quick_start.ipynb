{
 "cells": [
  {
   "cell_type": "code",
   "execution_count": null,
   "id": "initial_id",
   "metadata": {
    "ExecuteTime": {
     "end_time": "2023-12-13T01:46:47.302299673Z",
     "start_time": "2023-12-13T01:46:46.489652956Z"
    }
   },
   "outputs": [],
   "source": [
    "import os\n",
    "from pathlib import Path\n",
    "from astrocast.analysis import IO, Video, Events, Plotting\n",
    "\n",
    "astroPlot = Plotting(None)"
   ]
  },
  {
   "cell_type": "markdown",
   "id": "7c88830fb741775e",
   "metadata": {
    "collapsed": false
   },
   "source": [
    "Here, we will showcase how to run the astrocast pipeline on a small sample dataset. "
   ]
  },
  {
   "cell_type": "markdown",
   "id": "32f8a77f1b7fd8ed",
   "metadata": {
    "collapsed": false
   },
   "source": [
    "# 0. Explore the sample data"
   ]
  },
  {
   "cell_type": "code",
   "execution_count": null,
   "id": "1332388990b34934",
   "metadata": {
    "ExecuteTime": {
     "end_time": "2023-12-13T01:40:46.705246932Z",
     "start_time": "2023-12-13T01:40:44.377908284Z"
    }
   },
   "outputs": [],
   "source": [
    "sample_path = Path(\"../testdata/bigger_data.h5\")\n",
    "assert sample_path.exists()\n",
    "\n",
    "# we can use the visualize_h5 function from the command line interface (CLI)\n",
    "!astrocast visualize-h5 {sample_path.as_posix()}\n",
    "print(\"\\n\")"
   ]
  },
  {
   "cell_type": "code",
   "execution_count": null,
   "id": "530f135c103b42fa",
   "metadata": {
    "ExecuteTime": {
     "end_time": "2023-12-13T01:40:47.555619679Z",
     "start_time": "2023-12-13T01:40:46.698974442Z"
    }
   },
   "outputs": [],
   "source": [
    "# next we load the dataset\n",
    "io = IO()\n",
    "data = io.load(sample_path, loc=\"data/ch0\")\n",
    "print(f\"Data shape: {data.shape}, dtype: {data.dtype}, instance type: {type(data)}\")\n",
    "\n",
    "# and visualize the data\n",
    "video = Video(data)\n",
    "fig = video.plot_overview()\n",
    "\n",
    "# uncomment to activate the video player\n",
    "# viewer = video.show()  "
   ]
  },
  {
   "cell_type": "markdown",
   "id": "cb07a2f43a6e2c01",
   "metadata": {
    "collapsed": false
   },
   "source": [
    "# 1. Preprocessing"
   ]
  },
  {
   "cell_type": "code",
   "execution_count": null,
   "id": "d29cde6734185ae9",
   "metadata": {
    "ExecuteTime": {
     "end_time": "2023-12-13T01:40:47.559949780Z",
     "start_time": "2023-12-13T01:40:47.555929675Z"
    }
   },
   "outputs": [],
   "source": [
    "from astrocast.preparation import MotionCorrection, Input, Delta"
   ]
  },
  {
   "cell_type": "markdown",
   "id": "4fab1ce59e28070",
   "metadata": {
    "collapsed": false
   },
   "source": [
    "## 1.1 Data conversion"
   ]
  },
  {
   "cell_type": "code",
   "execution_count": null,
   "id": "df78f685eac21f86",
   "metadata": {
    "ExecuteTime": {
     "end_time": "2023-12-13T01:46:56.243495252Z",
     "start_time": "2023-12-13T01:46:56.191593542Z"
    }
   },
   "outputs": [],
   "source": [
    "test_path = Path(\"./quickstart.h5\")"
   ]
  },
  {
   "cell_type": "code",
   "execution_count": null,
   "id": "c1fd2411849c47f8",
   "metadata": {
    "ExecuteTime": {
     "end_time": "2023-12-13T01:40:53.014833707Z",
     "start_time": "2023-12-13T01:40:47.566361818Z"
    }
   },
   "outputs": [],
   "source": [
    "# multiple ways exist to convert the data to a format that is compatible with the pipeline\n",
    "# including .tiff (multi and single page), .avi, .h5 and .czi files\n",
    "# here we do a simple 'copy' of the sample file\n",
    "\n",
    "if test_path.exists():\n",
    "    test_path.unlink()\n",
    "assert not test_path.exists()\n",
    "\n",
    "inp = Input()\n",
    "inp.run(input_path=sample_path, output_path=test_path, loc_in=\"data/ch0\", loc_out=\"data\", compression=\"gzip\",\n",
    "        chunk_strategy=\"Z\")\n",
    "\n",
    "!astrocast visualize-h5 {test_path.as_posix()}\n",
    "\n",
    "# alternatively with CLI:\n",
    "# !astrocast convert-h5 --output-path {test_path.as_posix()} --h5-loc-in data/ch0 --h5-loc-out data/ch0 --compression gzip --infer-chunks {sample_path.as_posix()}"
   ]
  },
  {
   "cell_type": "markdown",
   "id": "d14b3b0f7e4b0343",
   "metadata": {
    "collapsed": false
   },
   "source": [
    "# 1.2 Motion correction"
   ]
  },
  {
   "cell_type": "code",
   "execution_count": null,
   "id": "963ae00bcfbff3b1",
   "metadata": {
    "ExecuteTime": {
     "end_time": "2023-12-13T01:41:34.337019648Z",
     "start_time": "2023-12-13T01:40:53.027503559Z"
    }
   },
   "outputs": [],
   "source": [
    "MC = MotionCorrection()\n",
    "MC.run(path=test_path, loc=\"data/ch0\")\n",
    "MC.save(output=test_path, loc=\"mc/ch0\", chunk_strategy=\"Z\", compression=\"gzip\")"
   ]
  },
  {
   "cell_type": "code",
   "execution_count": null,
   "id": "6e2cbe26589901b0",
   "metadata": {
    "ExecuteTime": {
     "end_time": "2023-12-13T01:41:36.566852402Z",
     "start_time": "2023-12-13T01:41:34.338136605Z"
    }
   },
   "outputs": [],
   "source": [
    "!astrocast visualize-h5 {test_path.as_posix()}"
   ]
  },
  {
   "cell_type": "code",
   "execution_count": null,
   "id": "e4ce35cc81668fe2",
   "metadata": {
    "ExecuteTime": {
     "end_time": "2023-12-13T01:41:36.601313254Z",
     "start_time": "2023-12-13T01:41:36.574445364Z"
    }
   },
   "outputs": [],
   "source": [
    "# TODO some kind of plotting to show the motion correction!?"
   ]
  },
  {
   "cell_type": "markdown",
   "id": "eb3f5fb29430280",
   "metadata": {
    "collapsed": false
   },
   "source": [
    "## 1.3 Denoising"
   ]
  },
  {
   "cell_type": "code",
   "execution_count": null,
   "id": "3f51ba37a0e325fe",
   "metadata": {
    "ExecuteTime": {
     "end_time": "2023-12-13T01:41:39.990036691Z",
     "start_time": "2023-12-13T01:41:36.592564785Z"
    }
   },
   "outputs": [],
   "source": [
    "from astrocast.denoising import SubFrameDataset, PyTorchNetwork"
   ]
  },
  {
   "cell_type": "code",
   "execution_count": null,
   "id": "7958c8bd4688fe47",
   "metadata": {
    "ExecuteTime": {
     "end_time": "2023-12-13T01:41:39.994116932Z",
     "start_time": "2023-12-13T01:41:39.990334737Z"
    }
   },
   "outputs": [],
   "source": [
    "# Optional: Download pretrained models\n",
    "# !astrocast download-models \"./models\"\n",
    "# for f in os.listdir(\"./models\"):\n",
    "#     print(f)"
   ]
  },
  {
   "cell_type": "code",
   "execution_count": null,
   "id": "c4714c207508281",
   "metadata": {
    "ExecuteTime": {
     "end_time": "2023-12-13T01:43:43.875067711Z",
     "start_time": "2023-12-13T01:41:39.997752373Z"
    }
   },
   "outputs": [],
   "source": [
    "# Inference dataset\n",
    "input_size = (128, 128)\n",
    "loc_in = \"mc/ch0\"\n",
    "loc_out = \"inf/ch0\"\n",
    "use_cpu = True  # switch to False, if cuda is available\n",
    "\n",
    "infer_dataset = SubFrameDataset(paths=test_path, loc=loc_in, input_size=input_size, allowed_rotation=0, allowed_flip=-1,\n",
    "                                shuffle=False, normalize=\"global\", overlap=10, padding=\"edge\")\n",
    "\n",
    "# Model parameters\n",
    "model_path = \"../denoiser_models/1p_exvivo_input_size_128_128_pre_post_frame_5-gap_frames_0-train_rotation_1_2_3-architecture_3_64_epochs-50.pth\"\n",
    "pre_post_frames = 5\n",
    "gap_frames = 0\n",
    "n_stacks, kernels = (3, 64)\n",
    "\n",
    "net = PyTorchNetwork(infer_dataset, load_model=model_path, val_dataset=None, batch_size=16, n_stacks=n_stacks,\n",
    "                     kernels=kernels, kernel_size=3, batch_normalize=False,\n",
    "                     use_cpu=use_cpu)\n",
    "\n",
    "# Denoise data\n",
    "net.infer(dataset=infer_dataset, output=test_path, out_loc=loc_out, batch_size=1, dtype=float)"
   ]
  },
  {
   "cell_type": "code",
   "execution_count": null,
   "id": "9ef7a72fa7b0e090",
   "metadata": {
    "ExecuteTime": {
     "end_time": "2023-12-13T01:43:43.876766363Z",
     "start_time": "2023-12-13T01:43:43.874772842Z"
    }
   },
   "outputs": [],
   "source": [
    "# !astrocast visualize-h5 {test_path.as_posix()}"
   ]
  },
  {
   "cell_type": "code",
   "execution_count": null,
   "id": "a001a57eddab48ad",
   "metadata": {
    "ExecuteTime": {
     "end_time": "2023-12-13T01:43:47.243894852Z",
     "start_time": "2023-12-13T01:43:43.874895648Z"
    }
   },
   "outputs": [],
   "source": [
    "frame = 100\n",
    "pixels = [(167, 153), (199, 306), (214, 109), (337, 72)]\n",
    "\n",
    "fig, axx = astroPlot.compare_pixels(pixels=pixels, frame=frame,\n",
    "                                    data_1=test_path, loc_1=\"mc/ch0\", loc_2=\"inf/ch0\",\n",
    "                                    title_1=\"before denoising\", title_2=\"after denoising\")"
   ]
  },
  {
   "cell_type": "markdown",
   "id": "c6652771275a017a",
   "metadata": {
    "collapsed": false
   },
   "source": [
    "# 1.4 Subtract background"
   ]
  },
  {
   "cell_type": "code",
   "execution_count": null,
   "id": "412edb17d8d727dc",
   "metadata": {
    "ExecuteTime": {
     "end_time": "2023-12-13T01:49:01.439766400Z",
     "start_time": "2023-12-13T01:47:15.902855457Z"
    }
   },
   "outputs": [],
   "source": [
    "import astrocast.preparation as prep\n",
    "import importlib\n",
    "\n",
    "importlib.reload(prep)\n",
    "\n",
    "delta = prep.Delta(test_path, loc=\"inf/ch0\")\n",
    "res_delta = delta.run(method=\"dF\", scale_factor=0.25, neighbors=100, wlen=50, distance=5,\n",
    "                      max_chunk_size_mb=10, width=5)\n",
    "delta.save(output_path=test_path, loc=\"df/ch0\", chunk_strategy=\"balanced\", compression=\"gzip\")\n",
    "\n",
    "# TODO add terminal command"
   ]
  },
  {
   "cell_type": "code",
   "execution_count": null,
   "id": "2b1f6630279f1fae",
   "metadata": {
    "ExecuteTime": {
     "end_time": "2023-12-13T01:45:25.051079053Z",
     "start_time": "2023-12-13T01:45:25.043322800Z"
    }
   },
   "outputs": [],
   "source": [
    "# !astrocast visualize-h5 {test_path.as_posix()}"
   ]
  },
  {
   "cell_type": "code",
   "execution_count": null,
   "id": "4ee9f2f2330388f2",
   "metadata": {
    "ExecuteTime": {
     "end_time": "2023-12-13T01:49:11.858719123Z",
     "start_time": "2023-12-13T01:49:09.002787740Z"
    }
   },
   "outputs": [],
   "source": [
    "frame = 100\n",
    "pixels = [(167, 153), (199, 306), (214, 109), (337, 72)]\n",
    "\n",
    "fig, axx = astroPlot.compare_pixels(pixels=pixels, frame=frame,\n",
    "                                    data_1=test_path, loc_1=\"inf/ch0\", loc_2=\"df/ch0\",\n",
    "                                    title_1=\"before subtraction\", title_2=\"after subtraction\")"
   ]
  },
  {
   "cell_type": "markdown",
   "id": "1bab1c3a54d01fd7",
   "metadata": {
    "collapsed": false
   },
   "source": [
    "# 2. Event detection"
   ]
  },
  {
   "cell_type": "code",
   "execution_count": null,
   "id": "8f41c647cdca684e",
   "metadata": {
    "ExecuteTime": {
     "end_time": "2023-12-13T01:49:26.794352561Z",
     "start_time": "2023-12-13T01:49:26.725874694Z"
    }
   },
   "outputs": [],
   "source": [
    "from astrocast.detection import Detector\n",
    "import shutil"
   ]
  },
  {
   "cell_type": "code",
   "execution_count": null,
   "id": "c7161fbc46920ef",
   "metadata": {
    "ExecuteTime": {
     "end_time": "2023-12-13T01:50:48.088514635Z",
     "start_time": "2023-12-13T01:49:28.543331996Z"
    }
   },
   "outputs": [],
   "source": [
    "event_path = test_path.with_suffix(\".ch0.roi\")\n",
    "if event_path.exists():\n",
    "    shutil.rmtree(event_path)\n",
    "\n",
    "detector = Detector(input_path=test_path)\n",
    "event_dictionary = detector.run(loc=\"df/ch0\", debug=True, exclude_border=20, temporal_prominence=0.3)"
   ]
  },
  {
   "cell_type": "code",
   "execution_count": null,
   "id": "d9122fa8153591c9",
   "metadata": {
    "ExecuteTime": {
     "end_time": "2023-12-13T01:50:48.252272039Z",
     "start_time": "2023-12-13T01:50:48.090799508Z"
    }
   },
   "outputs": [],
   "source": [
    "assert event_path.exists()\n",
    "for f in os.listdir(event_path):\n",
    "    print(f)\n",
    "\n",
    "events = Events(event_path)\n",
    "events"
   ]
  },
  {
   "cell_type": "code",
   "execution_count": null,
   "id": "c8840eb4703e630c",
   "metadata": {
    "ExecuteTime": {
     "start_time": "2023-12-13T01:45:25.060165539Z"
    }
   },
   "outputs": [],
   "source": [
    "#!astrocast view-detection-results --video-path {test_path.as_posix()} --loc df/ch0 {event_path.as_posix()}"
   ]
  }
 ],
 "metadata": {
  "kernelspec": {
   "display_name": "Python 3",
   "language": "python",
   "name": "python3"
  },
  "language_info": {
   "codemirror_mode": {
    "name": "ipython",
    "version": 2
   },
   "file_extension": ".py",
   "mimetype": "text/x-python",
   "name": "python",
   "nbconvert_exporter": "python",
   "pygments_lexer": "ipython2",
   "version": "2.7.6"
  }
 },
 "nbformat": 4,
 "nbformat_minor": 5
}
