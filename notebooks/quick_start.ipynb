{
 "cells": [
  {
   "cell_type": "code",
   "execution_count": null,
   "id": "initial_id",
   "metadata": {
    "ExecuteTime": {
     "end_time": "2023-11-14T14:50:01.002345396Z",
     "start_time": "2023-11-14T14:49:59.097383715Z"
    }
   },
   "outputs": [],
   "source": [
    "import shutil\n",
    "\n",
    "from astrocast.analysis import IO, Video, Events\n",
    "\n",
    "from pathlib import Path"
   ]
  },
  {
   "cell_type": "markdown",
   "id": "7c88830fb741775e",
   "metadata": {
    "collapsed": false
   },
   "source": [
    "Here, we will showcase how to run the astrocast pipeline on a small sample dataset. "
   ]
  },
  {
   "cell_type": "markdown",
   "id": "32f8a77f1b7fd8ed",
   "metadata": {
    "collapsed": false
   },
   "source": [
    "# 0. Explore the sample data"
   ]
  },
  {
   "cell_type": "code",
   "execution_count": null,
   "id": "1332388990b34934",
   "metadata": {
    "ExecuteTime": {
     "end_time": "2023-11-14T14:50:03.102716767Z",
     "start_time": "2023-11-14T14:50:01.000873030Z"
    }
   },
   "outputs": [],
   "source": [
    "sample_path = Path(\"../testdata/sample_2.h5\")\n",
    "assert sample_path.exists()\n",
    "\n",
    "# we can use the visualize_h5 function from the command line interface (CLI)\n",
    "!astrocast visualize-h5 {sample_path.as_posix()}\n",
    "print(\"\\n\")"
   ]
  },
  {
   "cell_type": "code",
   "execution_count": null,
   "id": "530f135c103b42fa",
   "metadata": {
    "ExecuteTime": {
     "end_time": "2023-11-14T14:50:03.669168802Z",
     "start_time": "2023-11-14T14:50:03.109351738Z"
    }
   },
   "outputs": [],
   "source": [
    "# next we load the dataset\n",
    "io = IO()\n",
    "data = io.load(sample_path, h5_loc=\"data/ch0\")\n",
    "print(f\"Data shape: {data.shape}, dtype: {data.dtype}, instance type: {type(data)}\")\n",
    "\n",
    "# and visualize the data\n",
    "video = Video(data)\n",
    "fig = video.plot_overview()\n",
    "\n",
    "# uncomment to activate the video player\n",
    "# video.show()  "
   ]
  },
  {
   "cell_type": "markdown",
   "id": "cb07a2f43a6e2c01",
   "metadata": {
    "collapsed": false
   },
   "source": [
    "# 1. Preprocessing"
   ]
  },
  {
   "cell_type": "code",
   "execution_count": null,
   "id": "d29cde6734185ae9",
   "metadata": {
    "ExecuteTime": {
     "end_time": "2023-11-14T14:50:05.832817166Z",
     "start_time": "2023-11-14T14:50:03.670813128Z"
    }
   },
   "outputs": [],
   "source": [
    "from astrocast.preparation import MotionCorrection, Input, Delta\n",
    "from astrocast.denoising import SubFrameGenerator\n"
   ]
  },
  {
   "cell_type": "markdown",
   "id": "4fab1ce59e28070",
   "metadata": {
    "collapsed": false
   },
   "source": [
    "## 1.1 Data conversion"
   ]
  },
  {
   "cell_type": "code",
   "execution_count": null,
   "id": "c1fd2411849c47f8",
   "metadata": {
    "ExecuteTime": {
     "end_time": "2023-11-14T14:50:15.930312756Z",
     "start_time": "2023-11-14T14:50:05.835860403Z"
    }
   },
   "outputs": [],
   "source": [
    "# multiple ways exist to convert the data to a format that is compatible with the pipeline\n",
    "# including .tiff (multi and single page), .avi, .h5 and .czi files\n",
    "# here we do a simple 'copy' of the sample file\n",
    "test_path = Path(\"./quickstart.h5\")\n",
    "\n",
    "if test_path.exists():\n",
    "    test_path.unlink()\n",
    "assert not test_path.exists()\n",
    "\n",
    "inp = Input()\n",
    "inp.run(input_path=sample_path, output_path=test_path, h5_loc_in=\"data/ch0\", h5_loc_out=\"data/ch0\", compression=\"gzip\", infer_strategy=\"Z\")\n",
    "\n",
    "# alternatively with CLI:\n",
    "# !astrocast convert-h5 --output-path {test_path.as_posix()} --h5-loc-in data/ch0 --h5-loc-out data/ch0 --compression gzip --infer-chunks {sample_path.as_posix()}"
   ]
  },
  {
   "cell_type": "markdown",
   "id": "d14b3b0f7e4b0343",
   "metadata": {
    "collapsed": false
   },
   "source": [
    "# 1.2 Motion correction"
   ]
  },
  {
   "cell_type": "code",
   "execution_count": null,
   "id": "963ae00bcfbff3b1",
   "metadata": {
    "ExecuteTime": {
     "end_time": "2023-11-14T14:50:39.028160561Z",
     "start_time": "2023-11-14T14:50:15.906831001Z"
    }
   },
   "outputs": [],
   "source": [
    "MC = MotionCorrection()\n",
    "MC.run(input_=test_path, h5_loc=\"data/ch0\")\n",
    "MC.save(output=test_path, h5_loc=\"mc/ch0\", infer_strategy=\"Z\", compression=\"gzip\")"
   ]
  },
  {
   "cell_type": "code",
   "execution_count": null,
   "id": "6e2cbe26589901b0",
   "metadata": {
    "ExecuteTime": {
     "end_time": "2023-11-14T14:50:41.160749372Z",
     "start_time": "2023-11-14T14:50:39.030936996Z"
    }
   },
   "outputs": [],
   "source": [
    "!astrocast visualize-h5 {test_path.as_posix()}"
   ]
  },
  {
   "cell_type": "code",
   "execution_count": null,
   "id": "e4ce35cc81668fe2",
   "metadata": {
    "ExecuteTime": {
     "end_time": "2023-11-14T14:50:41.173651673Z",
     "start_time": "2023-11-14T14:50:41.166157313Z"
    }
   },
   "outputs": [],
   "source": [
    "# TODO some kind of plotting to show the motion correction!?"
   ]
  },
  {
   "cell_type": "markdown",
   "id": "eb3f5fb29430280",
   "metadata": {
    "collapsed": false
   },
   "source": [
    "## 1.3 Denoising"
   ]
  },
  {
   "cell_type": "code",
   "execution_count": null,
   "id": "7958c8bd4688fe47",
   "metadata": {
    "ExecuteTime": {
     "end_time": "2023-11-14T14:50:41.182999591Z",
     "start_time": "2023-11-14T14:50:41.170945568Z"
    }
   },
   "outputs": [],
   "source": [
    "# Download pretrained models\n",
    "# !astrocast download-models \"./models\"--"
   ]
  },
  {
   "cell_type": "code",
   "execution_count": null,
   "id": "6e40311858f09759",
   "metadata": {
    "ExecuteTime": {
     "end_time": "2023-11-14T14:50:41.195546047Z",
     "start_time": "2023-11-14T14:50:41.182412110Z"
    }
   },
   "outputs": [],
   "source": [
    "# data_generator = SubFrameGenerator(paths=test_path, input_size=(64, 64), pre_post_frame=5, gap_frames=0, batch_size=64, loc=\"mc/ch0\",\n",
    "#                                    overlap=5, padding=\"edge\",normalize=\"global\")\n",
    "# \n",
    "# denoising_model = Path(\"./models/1p_exvivo_input_size_64_64-pre_post_frame_5-gap_frames_0-train_rotation_1_2_3-architecture_3_64.h5\")\n",
    "# assert denoising_model.exists()\n",
    "# \n",
    "# data_generator.infer(model=denoising_model, output=test_path, out_loc=\"dn/ch0\")"
   ]
  },
  {
   "cell_type": "code",
   "execution_count": null,
   "id": "8a3975f809e908a8",
   "metadata": {
    "ExecuteTime": {
     "end_time": "2023-11-14T14:50:41.196641996Z",
     "start_time": "2023-11-14T14:50:41.192356548Z"
    }
   },
   "outputs": [],
   "source": [
    "# !astrocast visualize-h5 {test_path.as_posix()}"
   ]
  },
  {
   "cell_type": "markdown",
   "id": "c6652771275a017a",
   "metadata": {
    "collapsed": false
   },
   "source": [
    "# 1.4 Subtract background"
   ]
  },
  {
   "cell_type": "code",
   "execution_count": null,
   "id": "412edb17d8d727dc",
   "metadata": {
    "ExecuteTime": {
     "end_time": "2023-11-14T14:51:18.238750157Z",
     "start_time": "2023-11-14T14:50:41.200020937Z"
    }
   },
   "outputs": [],
   "source": [
    "delta = Delta(test_path, loc=\"mc/ch0\")\n",
    "delta.run(window=10, method=\"dF\")\n",
    "delta.save(output_path=test_path, h5_loc=\"df/ch0\", infer_strategy=\"balanced\", compression=\"gzip\")\n",
    "\n",
    "# TODO add terminal command"
   ]
  },
  {
   "cell_type": "code",
   "execution_count": null,
   "id": "2b1f6630279f1fae",
   "metadata": {
    "ExecuteTime": {
     "end_time": "2023-11-14T14:51:20.380688001Z",
     "start_time": "2023-11-14T14:51:18.228134Z"
    }
   },
   "outputs": [],
   "source": [
    "!astrocast visualize-h5 {test_path.as_posix()}"
   ]
  },
  {
   "cell_type": "code",
   "execution_count": null,
   "id": "4ee9f2f2330388f2",
   "metadata": {
    "ExecuteTime": {
     "end_time": "2023-11-14T14:51:20.397291713Z",
     "start_time": "2023-11-14T14:51:20.385769601Z"
    }
   },
   "outputs": [],
   "source": [
    "# TODO visualize results"
   ]
  },
  {
   "cell_type": "markdown",
   "id": "1bab1c3a54d01fd7",
   "metadata": {
    "collapsed": false
   },
   "source": [
    "# 2. Event detection"
   ]
  },
  {
   "cell_type": "code",
   "execution_count": null,
   "id": "8f41c647cdca684e",
   "metadata": {
    "ExecuteTime": {
     "end_time": "2023-11-14T15:05:25.858232066Z",
     "start_time": "2023-11-14T15:05:25.835907450Z"
    }
   },
   "outputs": [],
   "source": [
    "from astrocast.detection import Detector\n",
    "import shutil"
   ]
  },
  {
   "cell_type": "code",
   "execution_count": null,
   "id": "c7161fbc46920ef",
   "metadata": {
    "ExecuteTime": {
     "end_time": "2023-11-14T15:54:46.829124615Z",
     "start_time": "2023-11-14T15:52:37.973881871Z"
    }
   },
   "outputs": [],
   "source": [
    "event_path = test_path.with_suffix(\".ch0.roi\")\n",
    "if event_path.exists():\n",
    "    shutil.rmtree(event_path)\n",
    "\n",
    "detector = Detector(input_path=test_path)\n",
    "event_dictionary = detector.run(h5_loc=\"df/ch0\", debug=True, exclude_border=20, temporal_prominence=0.3)"
   ]
  },
  {
   "cell_type": "code",
   "execution_count": null,
   "id": "d9122fa8153591c9",
   "metadata": {
    "ExecuteTime": {
     "end_time": "2023-11-14T15:54:47.082582235Z",
     "start_time": "2023-11-14T15:54:46.828983969Z"
    }
   },
   "outputs": [],
   "source": [
    "assert event_path.exists()\n",
    "!ls -lthv {event_path.as_posix()}\n",
    "\n",
    "events = Events(event_path)\n",
    "events"
   ]
  },
  {
   "cell_type": "code",
   "execution_count": null,
   "id": "c8840eb4703e630c",
   "metadata": {
    "ExecuteTime": {
     "end_time": "2023-11-14T15:52:13.418487641Z",
     "start_time": "2023-11-14T15:52:02.933524987Z"
    }
   },
   "outputs": [],
   "source": [
    "!astrocast view-detection-results --video-path {test_path.as_posix()} --h5-loc df/ch0 {event_path.as_posix()}"
   ]
  }
 ],
 "metadata": {
  "kernelspec": {
   "display_name": "Python 3",
   "language": "python",
   "name": "python3"
  },
  "language_info": {
   "codemirror_mode": {
    "name": "ipython",
    "version": 2
   },
   "file_extension": ".py",
   "mimetype": "text/x-python",
   "name": "python",
   "nbconvert_exporter": "python",
   "pygments_lexer": "ipython2",
   "version": "2.7.6"
  }
 },
 "nbformat": 4,
 "nbformat_minor": 5
}
