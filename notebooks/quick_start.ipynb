{
 "cells": [
  {
   "cell_type": "code",
   "execution_count": null,
   "id": "initial_id",
   "metadata": {
    "ExecuteTime": {
     "end_time": "2023-12-11T17:58:26.589360570Z",
     "start_time": "2023-12-11T17:58:25.787179539Z"
    }
   },
   "outputs": [],
   "source": [
    "import shutil, os\n",
    "import matplotlib.pyplot as plt\n",
    "import seaborn as sns\n",
    "import h5py as h5\n",
    "\n",
    "from astrocast.analysis import IO, Video, Events, Plotting\n",
    "\n",
    "astroPlot = Plotting(None)\n",
    "\n",
    "from pathlib import Path"
   ]
  },
  {
   "cell_type": "markdown",
   "id": "7c88830fb741775e",
   "metadata": {
    "collapsed": false
   },
   "source": [
    "Here, we will showcase how to run the astrocast pipeline on a small sample dataset. "
   ]
  },
  {
   "cell_type": "markdown",
   "id": "32f8a77f1b7fd8ed",
   "metadata": {
    "collapsed": false
   },
   "source": [
    "# 0. Explore the sample data"
   ]
  },
  {
   "cell_type": "code",
   "execution_count": null,
   "id": "1332388990b34934",
   "metadata": {
    "ExecuteTime": {
     "end_time": "2023-12-11T17:58:33.917174491Z",
     "start_time": "2023-12-11T17:58:31.185734451Z"
    }
   },
   "outputs": [],
   "source": [
    "sample_path = Path(\"../testdata/bigger_data.h5\")\n",
    "assert sample_path.exists()\n",
    "\n",
    "# we can use the visualize_h5 function from the command line interface (CLI)\n",
    "!astrocast visualize-h5 {sample_path.as_posix()}\n",
    "print(\"\\n\")"
   ]
  },
  {
   "cell_type": "code",
   "execution_count": null,
   "id": "530f135c103b42fa",
   "metadata": {
    "ExecuteTime": {
     "end_time": "2023-12-11T17:58:39.606988195Z",
     "start_time": "2023-12-11T17:58:38.567179882Z"
    }
   },
   "outputs": [],
   "source": [
    "# next we load the dataset\n",
    "io = IO()\n",
    "data = io.load(sample_path, loc=\"data/ch0\")\n",
    "print(f\"Data shape: {data.shape}, dtype: {data.dtype}, instance type: {type(data)}\")\n",
    "\n",
    "# and visualize the data\n",
    "video = Video(data)\n",
    "fig = video.plot_overview()\n",
    "\n",
    "# uncomment to activate the video player\n",
    "# viewer = video.show()  "
   ]
  },
  {
   "cell_type": "markdown",
   "id": "cb07a2f43a6e2c01",
   "metadata": {
    "collapsed": false
   },
   "source": [
    "# 1. Preprocessing"
   ]
  },
  {
   "cell_type": "code",
   "execution_count": null,
   "id": "d29cde6734185ae9",
   "metadata": {
    "ExecuteTime": {
     "end_time": "2023-12-11T17:58:47.796250393Z",
     "start_time": "2023-12-11T17:58:47.773292312Z"
    }
   },
   "outputs": [],
   "source": [
    "from astrocast.preparation import MotionCorrection, Input, Delta"
   ]
  },
  {
   "cell_type": "markdown",
   "id": "4fab1ce59e28070",
   "metadata": {
    "collapsed": false
   },
   "source": [
    "## 1.1 Data conversion"
   ]
  },
  {
   "cell_type": "code",
   "execution_count": null,
   "id": "df78f685eac21f86",
   "metadata": {
    "ExecuteTime": {
     "end_time": "2023-12-11T17:58:51.014650311Z",
     "start_time": "2023-12-11T17:58:51.011947418Z"
    }
   },
   "outputs": [],
   "source": [
    "test_path = Path(\"./quickstart.h5\")"
   ]
  },
  {
   "cell_type": "code",
   "execution_count": null,
   "id": "c1fd2411849c47f8",
   "metadata": {
    "ExecuteTime": {
     "end_time": "2023-12-11T17:00:17.660246396Z",
     "start_time": "2023-12-11T17:00:12.055794177Z"
    }
   },
   "outputs": [],
   "source": [
    "# multiple ways exist to convert the data to a format that is compatible with the pipeline\n",
    "# including .tiff (multi and single page), .avi, .h5 and .czi files\n",
    "# here we do a simple 'copy' of the sample file\n",
    "\n",
    "if test_path.exists():\n",
    "    test_path.unlink()\n",
    "assert not test_path.exists()\n",
    "\n",
    "inp = Input()\n",
    "inp.run(input_path=sample_path, output_path=test_path, loc_in=\"data/ch0\", loc_out=\"data\", compression=\"gzip\",\n",
    "        chunk_strategy=\"Z\")\n",
    "\n",
    "!astrocast visualize-h5 {test_path.as_posix()}\n",
    "\n",
    "# alternatively with CLI:\n",
    "# !astrocast convert-h5 --output-path {test_path.as_posix()} --h5-loc-in data/ch0 --h5-loc-out data/ch0 --compression gzip --infer-chunks {sample_path.as_posix()}"
   ]
  },
  {
   "cell_type": "markdown",
   "id": "d14b3b0f7e4b0343",
   "metadata": {
    "collapsed": false
   },
   "source": [
    "# 1.2 Motion correction"
   ]
  },
  {
   "cell_type": "code",
   "execution_count": null,
   "id": "963ae00bcfbff3b1",
   "metadata": {
    "ExecuteTime": {
     "end_time": "2023-12-11T17:01:14.575502492Z",
     "start_time": "2023-12-11T17:01:08.657120386Z"
    }
   },
   "outputs": [],
   "source": [
    "MC = MotionCorrection()\n",
    "MC.run(path=test_path, loc=\"data/ch0\")\n",
    "MC.save(output=test_path, loc=\"mc/ch0\", chunk_strategy=\"Z\", compression=\"gzip\")"
   ]
  },
  {
   "cell_type": "code",
   "execution_count": null,
   "id": "6e2cbe26589901b0",
   "metadata": {
    "ExecuteTime": {
     "end_time": "2023-12-11T17:59:00.351734Z",
     "start_time": "2023-12-11T17:58:57.497676862Z"
    }
   },
   "outputs": [],
   "source": [
    "!astrocast visualize-h5 {test_path.as_posix()}"
   ]
  },
  {
   "cell_type": "code",
   "execution_count": null,
   "id": "e4ce35cc81668fe2",
   "metadata": {
    "ExecuteTime": {
     "start_time": "2023-12-11T16:57:53.456707397Z"
    }
   },
   "outputs": [],
   "source": [
    "# TODO some kind of plotting to show the motion correction!?"
   ]
  },
  {
   "cell_type": "markdown",
   "id": "eb3f5fb29430280",
   "metadata": {
    "collapsed": false
   },
   "source": [
    "## 1.3 Denoising"
   ]
  },
  {
   "cell_type": "code",
   "execution_count": null,
   "id": "3f51ba37a0e325fe",
   "metadata": {
    "ExecuteTime": {
     "end_time": "2023-12-11T17:59:08.061089351Z",
     "start_time": "2023-12-11T17:59:04.228608587Z"
    }
   },
   "outputs": [],
   "source": [
    "from astrocast.denoising import SubFrameDataset, PyTorchNetwork"
   ]
  },
  {
   "cell_type": "code",
   "execution_count": null,
   "id": "7958c8bd4688fe47",
   "metadata": {
    "ExecuteTime": {
     "start_time": "2023-12-11T16:57:53.461806277Z"
    }
   },
   "outputs": [],
   "source": [
    "# Optional: Download pretrained models\n",
    "# !astrocast download-models \"./models\"\n",
    "# for f in os.listdir(\"./models\"):\n",
    "#     print(f)"
   ]
  },
  {
   "cell_type": "code",
   "execution_count": null,
   "id": "c4714c207508281",
   "metadata": {
    "ExecuteTime": {
     "end_time": "2023-12-11T17:03:53.411518423Z",
     "start_time": "2023-12-11T17:01:44.819250498Z"
    }
   },
   "outputs": [],
   "source": [
    "# Inference dataset\n",
    "input_size = (128, 128)\n",
    "loc_in = \"mc/ch0\"\n",
    "loc_out = \"inf/ch0\"\n",
    "use_cpu = True  # switch to False, if cuda is available\n",
    "\n",
    "infer_dataset = SubFrameDataset(paths=test_path, loc=loc_in, input_size=input_size, allowed_rotation=0, allowed_flip=-1,\n",
    "                                shuffle=False, normalize=\"global\", overlap=10, padding=\"edge\")\n",
    "\n",
    "# Model parameters\n",
    "model_path = \"../denoiser_models/1p_exvivo_input_size_128_128_pre_post_frame_5-gap_frames_0-train_rotation_1_2_3-architecture_3_64_epochs-50.pth\"\n",
    "pre_post_frames = 5\n",
    "gap_frames = 0\n",
    "n_stacks, kernels = (3, 64)\n",
    "\n",
    "net = PyTorchNetwork(infer_dataset, load_model=model_path, val_dataset=None, batch_size=16, n_stacks=n_stacks,\n",
    "                     kernels=kernels, kernel_size=3, batch_normalize=False,\n",
    "                     use_cpu=use_cpu)\n",
    "\n",
    "# Denoise data\n",
    "net.infer(dataset=infer_dataset, output=test_path, out_loc=loc_out, batch_size=1, dtype=float)"
   ]
  },
  {
   "cell_type": "code",
   "execution_count": null,
   "id": "9ef7a72fa7b0e090",
   "metadata": {
    "ExecuteTime": {
     "end_time": "2023-12-11T17:04:07.032756799Z",
     "start_time": "2023-12-11T17:04:04.427136925Z"
    }
   },
   "outputs": [],
   "source": [
    "!astrocast visualize-h5 {test_path.as_posix()}"
   ]
  },
  {
   "cell_type": "code",
   "execution_count": null,
   "id": "a001a57eddab48ad",
   "metadata": {
    "ExecuteTime": {
     "end_time": "2023-12-11T18:00:58.716330804Z",
     "start_time": "2023-12-11T18:00:54.735013450Z"
    }
   },
   "outputs": [],
   "source": [
    "frame = 100\n",
    "pixels = [(167, 153), (199, 306), (214, 109), (337, 72)]\n",
    "\n",
    "fig, axx = astroPlot.compare_pixels(pixels=pixels, frame=frame,\n",
    "                                    data_1=test_path, loc_1=\"mc/ch0\", loc_2=\"inf/ch0\",\n",
    "                                    title_1=\"before denoising\", title_2=\"after denoising\")"
   ]
  },
  {
   "cell_type": "markdown",
   "id": "c6652771275a017a",
   "metadata": {
    "collapsed": false
   },
   "source": [
    "# 1.4 Subtract background"
   ]
  },
  {
   "cell_type": "code",
   "execution_count": null,
   "id": "412edb17d8d727dc",
   "metadata": {
    "ExecuteTime": {
     "end_time": "2023-12-11T17:36:27.845659173Z",
     "start_time": "2023-12-11T17:36:12.900323110Z"
    }
   },
   "outputs": [],
   "source": [
    "delta = Delta(test_path, loc=\"inf/ch0\")\n",
    "delta.run(window=10, method=\"dF\")\n",
    "delta.save(output_path=test_path, loc=\"df/ch0\", chunk_strategy=\"balanced\", compression=\"gzip\")\n",
    "\n",
    "# TODO add terminal command"
   ]
  },
  {
   "cell_type": "code",
   "execution_count": null,
   "id": "2b1f6630279f1fae",
   "metadata": {
    "ExecuteTime": {
     "end_time": "2023-12-11T17:36:30.391823310Z",
     "start_time": "2023-12-11T17:36:27.878061527Z"
    }
   },
   "outputs": [],
   "source": [
    "!astrocast visualize-h5 {test_path.as_posix()}"
   ]
  },
  {
   "cell_type": "code",
   "execution_count": null,
   "id": "4ee9f2f2330388f2",
   "metadata": {
    "ExecuteTime": {
     "end_time": "2023-12-11T18:02:08.215802806Z",
     "start_time": "2023-12-11T18:02:05.835125141Z"
    }
   },
   "outputs": [],
   "source": [
    "frame = 100\n",
    "pixels = [(167, 153), (199, 306), (214, 109), (337, 72)]\n",
    "\n",
    "fig, axx = astroPlot.compare_pixels(pixels=pixels, frame=frame,\n",
    "                                    data_1=test_path, loc_1=\"inf/ch0\", loc_2=\"df/ch0\",\n",
    "                                    title_1=\"before subtraction\", title_2=\"after subtraction\")"
   ]
  },
  {
   "cell_type": "markdown",
   "id": "1bab1c3a54d01fd7",
   "metadata": {
    "collapsed": false
   },
   "source": [
    "# 2. Event detection"
   ]
  },
  {
   "cell_type": "code",
   "execution_count": null,
   "id": "8f41c647cdca684e",
   "metadata": {
    "ExecuteTime": {
     "end_time": "2023-12-11T18:18:15.255029132Z",
     "start_time": "2023-12-11T18:18:15.209664107Z"
    }
   },
   "outputs": [],
   "source": [
    "from astrocast.detection import Detector\n",
    "import shutil"
   ]
  },
  {
   "cell_type": "code",
   "execution_count": null,
   "id": "c7161fbc46920ef",
   "metadata": {
    "ExecuteTime": {
     "end_time": "2023-12-11T18:23:24.472207450Z",
     "start_time": "2023-12-11T18:21:50.793146088Z"
    }
   },
   "outputs": [],
   "source": [
    "event_path = test_path.with_suffix(\".ch0.roi\")\n",
    "if event_path.exists():\n",
    "    shutil.rmtree(event_path)\n",
    "\n",
    "detector = Detector(input_path=test_path)\n",
    "event_dictionary = detector.run(loc=\"inf/ch0\", debug=True, exclude_border=20, temporal_prominence=0.3)"
   ]
  },
  {
   "cell_type": "code",
   "execution_count": null,
   "id": "d9122fa8153591c9",
   "metadata": {
    "ExecuteTime": {
     "end_time": "2023-12-11T18:23:24.624757937Z",
     "start_time": "2023-12-11T18:23:24.472351024Z"
    }
   },
   "outputs": [],
   "source": [
    "assert event_path.exists()\n",
    "for f in os.listdir(event_path):\n",
    "    print(f)\n",
    "\n",
    "events = Events(event_path)\n",
    "events"
   ]
  },
  {
   "cell_type": "code",
   "execution_count": null,
   "id": "c8840eb4703e630c",
   "metadata": {
    "ExecuteTime": {
     "start_time": "2023-12-11T16:57:53.481634625Z"
    }
   },
   "outputs": [],
   "source": [
    "#!astrocast view-detection-results --video-path {test_path.as_posix()} --loc df/ch0 {event_path.as_posix()}"
   ]
  }
 ],
 "metadata": {
  "kernelspec": {
   "display_name": "Python 3",
   "language": "python",
   "name": "python3"
  },
  "language_info": {
   "codemirror_mode": {
    "name": "ipython",
    "version": 2
   },
   "file_extension": ".py",
   "mimetype": "text/x-python",
   "name": "python",
   "nbconvert_exporter": "python",
   "pygments_lexer": "ipython2",
   "version": "2.7.6"
  }
 },
 "nbformat": 4,
 "nbformat_minor": 5
}
