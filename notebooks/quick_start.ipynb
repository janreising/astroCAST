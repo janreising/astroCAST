{
 "cells": [
  {
   "cell_type": "code",
   "execution_count": null,
   "id": "initial_id",
   "metadata": {
    "ExecuteTime": {
     "end_time": "2023-11-14T09:26:21.350983313Z",
     "start_time": "2023-11-14T09:26:19.276960744Z"
    }
   },
   "outputs": [],
   "source": [
    "from astrocast.analysis import IO, Video, Events\n",
    "\n",
    "from pathlib import Path"
   ]
  },
  {
   "cell_type": "markdown",
   "id": "7c88830fb741775e",
   "metadata": {
    "collapsed": false
   },
   "source": [
    "Here, we will showcase how to run the astrocast pipeline on a small sample dataset. "
   ]
  },
  {
   "cell_type": "markdown",
   "id": "32f8a77f1b7fd8ed",
   "metadata": {
    "collapsed": false
   },
   "source": [
    "# 0. Explore the sample data"
   ]
  },
  {
   "cell_type": "code",
   "execution_count": null,
   "id": "1332388990b34934",
   "metadata": {
    "ExecuteTime": {
     "end_time": "2023-11-14T09:26:23.547392906Z",
     "start_time": "2023-11-14T09:26:21.350823894Z"
    }
   },
   "outputs": [],
   "source": [
    "sample_path = Path(\"../testdata/sample_2.h5\")\n",
    "assert sample_path.exists()\n",
    "\n",
    "# we can use the visualize_h5 function from the command line interface (CLI)\n",
    "!astrocast visualize-h5 {sample_path.as_posix()}\n",
    "print(\"\\n\")"
   ]
  },
  {
   "cell_type": "code",
   "execution_count": null,
   "id": "530f135c103b42fa",
   "metadata": {
    "ExecuteTime": {
     "end_time": "2023-11-14T09:26:24.083318953Z",
     "start_time": "2023-11-14T09:26:23.547292848Z"
    }
   },
   "outputs": [],
   "source": [
    "# next we load the dataset\n",
    "io = IO()\n",
    "data = io.load(sample_path, h5_loc=\"data/ch0\")\n",
    "print(f\"Data shape: {data.shape}, dtype: {data.dtype}, instance type: {type(data)}\")\n",
    "\n",
    "# and visualize the data\n",
    "video = Video(data)\n",
    "fig = video.plot_overview()\n",
    "\n",
    "# uncomment to activate the video player\n",
    "# video.show()  "
   ]
  },
  {
   "cell_type": "markdown",
   "id": "cb07a2f43a6e2c01",
   "metadata": {
    "collapsed": false
   },
   "source": [
    "# 1. Preprocessing"
   ]
  },
  {
   "cell_type": "code",
   "execution_count": null,
   "id": "d29cde6734185ae9",
   "metadata": {
    "ExecuteTime": {
     "end_time": "2023-11-14T09:26:26.342260357Z",
     "start_time": "2023-11-14T09:26:24.084604634Z"
    }
   },
   "outputs": [],
   "source": [
    "from astrocast.preparation import MotionCorrection, Input\n",
    "from astrocast.denoising import SubFrameGenerator\n"
   ]
  },
  {
   "cell_type": "markdown",
   "id": "4fab1ce59e28070",
   "metadata": {
    "collapsed": false
   },
   "source": [
    "## 1.1 Data conversion"
   ]
  },
  {
   "cell_type": "code",
   "execution_count": null,
   "id": "c1fd2411849c47f8",
   "metadata": {
    "ExecuteTime": {
     "end_time": "2023-11-14T09:26:37.404751105Z",
     "start_time": "2023-11-14T09:26:26.346954560Z"
    }
   },
   "outputs": [],
   "source": [
    "# multiple ways exist to convert the data to a format that is compatible with the pipeline\n",
    "# including .tiff (multi and single page), .avi, .h5 and .czi files\n",
    "# here we do a simple 'copy' of the sample file\n",
    "test_path = Path(\"./quickstart.h5\")\n",
    "\n",
    "if test_path.exists():\n",
    "    test_path.unlink()\n",
    "assert not test_path.exists()\n",
    "\n",
    "inp = Input()\n",
    "inp.run(input_path=sample_path, output_path=test_path, h5_loc_in=\"data/ch0\", h5_loc_out=\"data/ch0\", compression=\"gzip\", infer_strategy=\"Z\")\n",
    "\n",
    "# alternatively with CLI:\n",
    "# !astrocast convert-h5 --output-path {test_path.as_posix()} --h5-loc-in data/ch0 --h5-loc-out data/ch0 --compression gzip --infer-chunks {sample_path.as_posix()}"
   ]
  },
  {
   "cell_type": "markdown",
   "id": "d14b3b0f7e4b0343",
   "metadata": {
    "collapsed": false
   },
   "source": [
    "# 1.2 Motion correction"
   ]
  },
  {
   "cell_type": "code",
   "execution_count": null,
   "id": "963ae00bcfbff3b1",
   "metadata": {
    "ExecuteTime": {
     "end_time": "2023-11-14T09:27:01.307371981Z",
     "start_time": "2023-11-14T09:26:37.401743656Z"
    }
   },
   "outputs": [],
   "source": [
    "MC = MotionCorrection()\n",
    "MC.run(input_=test_path, h5_loc=\"data/ch0\")\n",
    "MC.save(output=test_path, h5_loc=\"mc/ch0\", infer_strategy=\"Z\", compression=\"gzip\")"
   ]
  },
  {
   "cell_type": "code",
   "execution_count": null,
   "id": "6e2cbe26589901b0",
   "metadata": {
    "ExecuteTime": {
     "end_time": "2023-11-14T09:27:03.601018015Z",
     "start_time": "2023-11-14T09:27:01.295071379Z"
    }
   },
   "outputs": [],
   "source": [
    "!astrocast visualize-h5 {test_path.as_posix()}"
   ]
  },
  {
   "cell_type": "code",
   "execution_count": null,
   "id": "e4ce35cc81668fe2",
   "metadata": {
    "ExecuteTime": {
     "end_time": "2023-11-14T09:27:03.609343129Z",
     "start_time": "2023-11-14T09:27:03.603345410Z"
    }
   },
   "outputs": [],
   "source": [
    "# TODO some kind of plotting to show the motion correction!?"
   ]
  },
  {
   "cell_type": "markdown",
   "id": "eb3f5fb29430280",
   "metadata": {
    "collapsed": false
   },
   "source": [
    "## 1.3 Denoising"
   ]
  },
  {
   "cell_type": "code",
   "execution_count": null,
   "id": "7958c8bd4688fe47",
   "metadata": {
    "ExecuteTime": {
     "end_time": "2023-11-14T09:27:03.616144763Z",
     "start_time": "2023-11-14T09:27:03.606330236Z"
    }
   },
   "outputs": [],
   "source": [
    "# Download pretrained models\n",
    "# !astrocast download-models \"./models\"--"
   ]
  },
  {
   "cell_type": "code",
   "execution_count": null,
   "id": "6e40311858f09759",
   "metadata": {
    "ExecuteTime": {
     "end_time": "2023-11-14T09:27:09.394751885Z",
     "start_time": "2023-11-14T09:27:03.618883462Z"
    }
   },
   "outputs": [],
   "source": [
    "data_generator = SubFrameGenerator(paths=test_path, input_size=(64, 64), pre_post_frame=5, gap_frames=0, batch_size=64, loc=\"mc/ch0\",\n",
    "                                   overlap=5, padding=\"edge\",normalize=\"global\")\n",
    "\n",
    "denoising_model = Path(\"./models/1p_exvivo_input_size_64_64-pre_post_frame_5-gap_frames_0-train_rotation_1_2_3-architecture_3_64.h5\")\n",
    "assert denoising_model.exists()\n",
    "\n",
    "data_generator.infer(model=denoising_model, output=test_path, out_loc=\"dn/ch0\")"
   ]
  },
  {
   "cell_type": "code",
   "execution_count": null,
   "id": "8a3975f809e908a8",
   "metadata": {
    "ExecuteTime": {
     "end_time": "2023-11-14T09:27:09.400079465Z",
     "start_time": "2023-11-14T09:27:09.396819812Z"
    }
   },
   "outputs": [],
   "source": [
    "!astrocast visualize-h5 {test_path.as_posix()}"
   ]
  }
 ],
 "metadata": {
  "kernelspec": {
   "display_name": "Python 3",
   "language": "python",
   "name": "python3"
  },
  "language_info": {
   "codemirror_mode": {
    "name": "ipython",
    "version": 2
   },
   "file_extension": ".py",
   "mimetype": "text/x-python",
   "name": "python",
   "nbconvert_exporter": "python",
   "pygments_lexer": "ipython2",
   "version": "2.7.6"
  }
 },
 "nbformat": 4,
 "nbformat_minor": 5
}
