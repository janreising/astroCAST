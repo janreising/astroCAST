{
 "cells": [
  {
   "cell_type": "code",
   "execution_count": null,
   "id": "fde07efd-4331-4a9c-91c7-1edbb71e2566",
   "metadata": {
    "execution": {
     "iopub.execute_input": "2023-09-09T14:17:45.990836Z",
     "iopub.status.busy": "2023-09-09T14:17:45.990377Z",
     "iopub.status.idle": "2023-09-09T14:17:48.604200Z",
     "shell.execute_reply": "2023-09-09T14:17:48.603583Z",
     "shell.execute_reply.started": "2023-09-09T14:17:45.990814Z"
    }
   },
   "outputs": [],
   "source": [
    "from astrocast import analysis, detection\n",
    "\n",
    "import numpy as np\n",
    "import scipy\n",
    "import matplotlib.pyplot as plt\n",
    "import napari\n",
    "import dask.array as da\n",
    "from dask.diagnostics import ProgressBar\n",
    "\n",
    "from skimage.filters import threshold_triangle\n",
    "import scipy.signal as signal\n",
    "from skimage import morphology"
   ]
  },
  {
   "cell_type": "code",
   "execution_count": null,
   "id": "55cb2743-c4ff-40fb-9126-10f45b16aaff",
   "metadata": {
    "execution": {
     "iopub.execute_input": "2023-09-09T14:17:48.605602Z",
     "iopub.status.busy": "2023-09-09T14:17:48.605103Z",
     "iopub.status.idle": "2023-09-09T14:17:48.609628Z",
     "shell.execute_reply": "2023-09-09T14:17:48.609084Z",
     "shell.execute_reply.started": "2023-09-09T14:17:48.605582Z"
    }
   },
   "outputs": [],
   "source": [
    "path = \"/media/janrei1/data/astrocyte_examples/31570865_AquA/GlusnfrSuppRaw.h5\"\n",
    "h5_loc = \"dff/ch0\"\n",
    "pixel = [(41, 185, \"blue\"), (57, 43, \"red\"), (104, 24, \"green\")]\n",
    "frames =[8, 41, 174]"
   ]
  },
  {
   "cell_type": "code",
   "execution_count": null,
   "id": "7b9d9eeb-71a4-4100-84d0-20341049e69e",
   "metadata": {
    "execution": {
     "iopub.execute_input": "2023-09-09T14:17:48.610758Z",
     "iopub.status.busy": "2023-09-09T14:17:48.610488Z",
     "iopub.status.idle": "2023-09-09T14:17:48.618031Z",
     "shell.execute_reply": "2023-09-09T14:17:48.617301Z",
     "shell.execute_reply.started": "2023-09-09T14:17:48.610739Z"
    }
   },
   "outputs": [],
   "source": [
    "def plot_images(arr, frames, lbls=None, figsize=(10, 3), vmin=None, vmax=None):\n",
    "\n",
    "    if not isinstance(arr, list):\n",
    "        arr = [arr]\n",
    "\n",
    "    if lbls is None:\n",
    "        lbls = range(len(arr))\n",
    "    \n",
    "    fig, axx = plt.subplots(len(arr), len(frames), figsize=figsize)\n",
    "    for x, img in enumerate(arr):\n",
    "        for y, f in enumerate(frames):\n",
    "            axx[x, y].imshow(img[f, :, :], vmin=vmin, vmax=vmax)\n",
    "            axx[x, y].set_title(f\"{lbls[x]} #{f}\")\n",
    "\n",
    "            axx[x, y].axis(\"off\")\n",
    "            \n",
    "    # plt.tight_layout()"
   ]
  },
  {
   "cell_type": "code",
   "execution_count": null,
   "id": "947b0fa1-5a8d-4b3d-ba3b-4199c592ded5",
   "metadata": {
    "execution": {
     "iopub.execute_input": "2023-09-09T14:17:48.620743Z",
     "iopub.status.busy": "2023-09-09T14:17:48.620377Z",
     "iopub.status.idle": "2023-09-09T14:17:48.834988Z",
     "shell.execute_reply": "2023-09-09T14:17:48.834474Z",
     "shell.execute_reply.started": "2023-09-09T14:17:48.620708Z"
    }
   },
   "outputs": [],
   "source": [
    "vid = analysis.Video(path, h5_loc=h5_loc, lazy=False, name=h5_loc)\n",
    "arr = vid.get_data()\n",
    "arr = da.from_array(arr)\n",
    "display(arr)"
   ]
  },
  {
   "cell_type": "code",
   "execution_count": null,
   "id": "be525d24-6846-4a89-a7d7-9a6dfaec0983",
   "metadata": {
    "execution": {
     "iopub.execute_input": "2023-09-09T14:17:48.835947Z",
     "iopub.status.busy": "2023-09-09T14:17:48.835707Z",
     "iopub.status.idle": "2023-09-09T14:17:48.899044Z",
     "shell.execute_reply": "2023-09-09T14:17:48.898537Z",
     "shell.execute_reply.started": "2023-09-09T14:17:48.835929Z"
    }
   },
   "outputs": [],
   "source": [
    "smooth = detection.Detector.gaussian_smooth_3d(arr, sigma=3, radius=2, chunks=(25, 25, 25))\n",
    "display(smooth)\n",
    "\n",
    "# plot_images([arr, smooth], frames, lbls=(\"original\", \"smooth\"))"
   ]
  },
  {
   "cell_type": "code",
   "execution_count": null,
   "id": "99fee79b-1e33-4f15-91e9-a09326e0da6c",
   "metadata": {
    "execution": {
     "iopub.execute_input": "2023-09-09T14:17:48.900030Z",
     "iopub.status.busy": "2023-09-09T14:17:48.899770Z",
     "iopub.status.idle": "2023-09-09T14:17:52.694430Z",
     "shell.execute_reply": "2023-09-09T14:17:52.693686Z",
     "shell.execute_reply.started": "2023-09-09T14:17:48.899996Z"
    }
   },
   "outputs": [],
   "source": [
    "spat_orig = detection.Detector.spatial_threshold(arr, min_ratio=1, threshold_z_depth=1)\n",
    "display(spat_orig)\n",
    "\n",
    "spat_smooth = detection.Detector.spatial_threshold(smooth, min_ratio=1, threshold_z_depth=1)\n",
    "spat_smooth_d3 = detection.Detector.spatial_threshold(smooth, min_ratio=1, threshold_z_depth=2)\n",
    "\n",
    "plot_images([spat_orig, spat_smooth, spat_smooth_d3], frames, lbls=(\"orig:spatial\", \"smooth:spatial\", \"smooth:spatial_D3\"), \n",
    "            vmin=0, vmax=1, figsize=(15, 5))"
   ]
  },
  {
   "cell_type": "code",
   "execution_count": null,
   "id": "5b58e058-cf5f-430a-8ac6-dc6844fbbf05",
   "metadata": {
    "execution": {
     "iopub.execute_input": "2023-09-09T14:17:52.695402Z",
     "iopub.status.busy": "2023-09-09T14:17:52.695170Z",
     "iopub.status.idle": "2023-09-09T14:17:52.700383Z",
     "shell.execute_reply": "2023-09-09T14:17:52.699828Z",
     "shell.execute_reply.started": "2023-09-09T14:17:52.695383Z"
    }
   },
   "outputs": [],
   "source": [
    "A = np.zeros((11, 5, 5))\n",
    "depth = 3\n",
    "for i in range(depth, 11-depth):\n",
    "    z0, z1 = i-depth, i+depth+1\n",
    "    print(i, z0, z1, A[z0:z1, :, :].shape)"
   ]
  },
  {
   "cell_type": "code",
   "execution_count": null,
   "id": "48af887a-c64f-45bb-852a-dd76b478510d",
   "metadata": {
    "execution": {
     "iopub.execute_input": "2023-09-09T14:17:52.701390Z",
     "iopub.status.busy": "2023-09-09T14:17:52.701143Z",
     "iopub.status.idle": "2023-09-09T14:17:53.246292Z",
     "shell.execute_reply": "2023-09-09T14:17:53.245760Z",
     "shell.execute_reply.started": "2023-09-09T14:17:52.701372Z"
    }
   },
   "outputs": [],
   "source": [
    "temp_orig = detection.Detector.temporal_threshold(arr,  prominence=10, width=3, rel_height=0.9, wlen=60, plateau_size=None)\n",
    "temp_smooth = detection.Detector.temporal_threshold(smooth, prominence=10, width=3, rel_height=0.9, wlen=60, plateau_size=None)\n",
    "display(temp_smooth)\n",
    "# TODO bigger chunks\n"
   ]
  },
  {
   "cell_type": "code",
   "execution_count": null,
   "id": "c70d086d-d8ff-4c28-86e7-8e8a32f552c5",
   "metadata": {
    "execution": {
     "iopub.execute_input": "2023-09-09T14:17:53.247116Z",
     "iopub.status.busy": "2023-09-09T14:17:53.246856Z",
     "iopub.status.idle": "2023-09-09T14:18:23.544343Z",
     "shell.execute_reply": "2023-09-09T14:18:23.543779Z",
     "shell.execute_reply.started": "2023-09-09T14:17:53.247098Z"
    }
   },
   "outputs": [],
   "source": [
    "# Assuming arr1, arr2, arr3, and arr4 are your dask arrays, and you have corresponding labels\n",
    "arrays = da.compute([spat_orig, spat_smooth_d3, temp_orig, temp_smooth])[0]\n",
    "labels = [\"SP_orig\", \"SP_sm_d3\", \"T_orig\", \"T_sm\"]"
   ]
  },
  {
   "cell_type": "code",
   "execution_count": null,
   "id": "a4f0ccd1-8915-417d-8fbc-1fa92290fea8",
   "metadata": {
    "execution": {
     "iopub.execute_input": "2023-09-09T14:18:23.545383Z",
     "iopub.status.busy": "2023-09-09T14:18:23.545170Z",
     "iopub.status.idle": "2023-09-09T14:18:23.898101Z",
     "shell.execute_reply": "2023-09-09T14:18:23.897512Z",
     "shell.execute_reply.started": "2023-09-09T14:18:23.545366Z"
    }
   },
   "outputs": [],
   "source": [
    "[spat_orig, spat_smooth, temp_orig, temp_smooth] = arrays\n",
    "plot_images([temp_orig, temp_smooth], frames, lbls=(\"T_orig\", \"T_sm\"), vmin=0, vmax=1)"
   ]
  },
  {
   "cell_type": "code",
   "execution_count": null,
   "id": "23f10d17-2873-46da-bd98-43f10c842a57",
   "metadata": {
    "execution": {
     "iopub.execute_input": "2023-09-09T14:18:23.899276Z",
     "iopub.status.busy": "2023-09-09T14:18:23.898997Z",
     "iopub.status.idle": "2023-09-09T14:18:23.946378Z",
     "shell.execute_reply": "2023-09-09T14:18:23.945729Z",
     "shell.execute_reply.started": "2023-09-09T14:18:23.899242Z"
    }
   },
   "outputs": [],
   "source": [
    "# Create a dictionary to store the results\n",
    "result_dict = {}\n",
    "\n",
    "# Loop over all combinations of arrays\n",
    "for i in range(len(arrays)):\n",
    "    for j in range(i+1, len(arrays)):\n",
    "        # Create a key to identify this combination using the labels\n",
    "        key = f\"{labels[i]}_{labels[j]}\"\n",
    "        \n",
    "        # Calculate the union of the two arrays\n",
    "        result_dict[key] = arrays[i] | arrays[j]\n",
    "\n",
    "display(result_dict.keys())"
   ]
  },
  {
   "cell_type": "code",
   "execution_count": null,
   "id": "71262754-028c-4b7e-919c-90673e913aed",
   "metadata": {
    "execution": {
     "iopub.execute_input": "2023-09-09T14:18:23.947824Z",
     "iopub.status.busy": "2023-09-09T14:18:23.947492Z",
     "iopub.status.idle": "2023-09-09T14:18:25.198652Z",
     "shell.execute_reply": "2023-09-09T14:18:25.198047Z",
     "shell.execute_reply.started": "2023-09-09T14:18:23.947799Z"
    }
   },
   "outputs": [],
   "source": [
    "plot_images(list(result_dict.values()), frames, lbls=list(result_dict.keys()), vmin=0, vmax=1, figsize=(15, 15))"
   ]
  },
  {
   "cell_type": "code",
   "execution_count": null,
   "id": "b6a85e42-bb0c-483c-b3c5-50074c410cbd",
   "metadata": {
    "execution": {
     "iopub.execute_input": "2023-09-09T14:18:25.201755Z",
     "iopub.status.busy": "2023-09-09T14:18:25.201479Z",
     "iopub.status.idle": "2023-09-09T14:18:25.206852Z",
     "shell.execute_reply": "2023-09-09T14:18:25.206329Z",
     "shell.execute_reply.started": "2023-09-09T14:18:25.201735Z"
    }
   },
   "outputs": [],
   "source": [
    "def remove_small_objects_2D(arr, min_size=10, connectivity=4):\n",
    "\n",
    "    if not isinstance(arr, da.Array):\n",
    "        arr = da.from_array(arr)\n",
    "    \n",
    "    arr = arr.rechunk((1, -1, -1))\n",
    "\n",
    "    def rm_small(frame):\n",
    "        return morphology.remove_small_objects(frame, min_size=min_size, connectivity=connectivity)\n",
    "    \n",
    "    arr = da.map_blocks(rm_small, arr, dtype=arr.dtype)\n",
    "    \n",
    "    return arr    "
   ]
  },
  {
   "cell_type": "code",
   "execution_count": null,
   "id": "51bfa400-edd4-4881-bbb7-b5d7155cd903",
   "metadata": {
    "execution": {
     "iopub.execute_input": "2023-09-09T14:19:27.100447Z",
     "iopub.status.busy": "2023-09-09T14:19:27.100089Z",
     "iopub.status.idle": "2023-09-09T14:19:27.621057Z",
     "shell.execute_reply": "2023-09-09T14:19:27.620411Z",
     "shell.execute_reply.started": "2023-09-09T14:19:27.100398Z"
    }
   },
   "outputs": [],
   "source": [
    "use_lbls = ['SP_orig_T_sm', 'SP_sm_d3_T_sm']\n",
    "rm_2d = [remove_small_objects_2D(result_dict[key], min_size=50, connectivity=1) for key in use_lbls]\n",
    "display(rm_2d[0])\n",
    "\n",
    "plot_images(rm_2d, frames, lbls=use_lbls, vmin=0, vmax=1, figsize=(15, 7))"
   ]
  },
  {
   "cell_type": "code",
   "execution_count": null,
   "id": "efe27f35-4bed-464f-a562-8718acc88c8c",
   "metadata": {
    "execution": {
     "iopub.status.busy": "2023-09-09T14:18:25.763333Z",
     "iopub.status.idle": "2023-09-09T14:18:25.763611Z",
     "shell.execute_reply": "2023-09-09T14:18:25.763495Z",
     "shell.execute_reply.started": "2023-09-09T14:18:25.763469Z"
    }
   },
   "outputs": [],
   "source": [
    "rm_2d = [remove_small_objects_2D(result_dict[key], min_size=25, connectivity=1) for key in use_lbls]\n",
    "display(rm_2d[0])\n",
    "\n",
    "plot_images(rm_2d, frames, lbls=use_lbls, vmin=0, vmax=1, figsize=(15, 7))"
   ]
  },
  {
   "cell_type": "code",
   "execution_count": null,
   "id": "bd5562e0-83c7-4719-8432-e0292ba18779",
   "metadata": {},
   "outputs": [],
   "source": []
  },
  {
   "cell_type": "code",
   "execution_count": null,
   "id": "58811b19-cb46-4d08-9bf6-ec1959f20d3a",
   "metadata": {},
   "outputs": [],
   "source": []
  },
  {
   "cell_type": "code",
   "execution_count": null,
   "id": "871b4e85-4017-4374-bc98-c0bdc602065e",
   "metadata": {},
   "outputs": [],
   "source": []
  },
  {
   "cell_type": "code",
   "execution_count": null,
   "id": "253db232-14d0-432d-aee7-8044c3c95b2f",
   "metadata": {},
   "outputs": [],
   "source": []
  },
  {
   "cell_type": "code",
   "execution_count": null,
   "id": "ab7b42d2-ff3e-4f95-8aa0-a8ea38017915",
   "metadata": {
    "execution": {
     "iopub.status.busy": "2023-09-09T14:18:25.765066Z",
     "iopub.status.idle": "2023-09-09T14:18:25.765772Z",
     "shell.execute_reply": "2023-09-09T14:18:25.765615Z",
     "shell.execute_reply.started": "2023-09-09T14:18:25.765599Z"
    }
   },
   "outputs": [],
   "source": [
    "\n",
    "# fig, ax = plt.subplots(1, 1, figsize=(20, 3))\n",
    "# for (x, y, color) in pixel:\n",
    "\n",
    "#     line = arr[:, x, y]\n",
    "    \n",
    "#     peaks, prominences = signal.find_peaks(line, prominence=15, width=3, rel_height=0.9, wlen=60)\n",
    "#     prominences[\"peaks\"]=peaks\n",
    "#     # print(prominences)\n",
    "    \n",
    "#     for n in range(len(peaks)):\n",
    "\n",
    "#         for key in prominences.keys():\n",
    "\n",
    "#             if key in [\"prominences\", \"widths\", \"width_heights\", 'left_bases', 'right_bases']:\n",
    "#                 continue\n",
    "            \n",
    "#             val = prominences[key][n]\n",
    "#             ax.axvline(val, color=color, linestyle=\"--\", alpha=0.5)\n",
    "        \n",
    "#         # center = prominences[\"peaks\"][n]\n",
    "#         # ax.axvline(center, color=color, linestyle=\"--\", alpha=0.5)\n",
    "        \n",
    "#         # left = prominences[\"left_bases\"][n]\n",
    "#         # ax.axvline(left, color=color, linestyle=\"dotted\", alpha=0.5)\n",
    "        \n",
    "#         # right = prominences[\"right_bases\"][n]\n",
    "#         # ax.axvline(right, color=color, linestyle=\"dotted\", alpha=0.5)\n",
    "    \n",
    "#     ax.plot(line, color=color)\n",
    "    "
   ]
  },
  {
   "cell_type": "code",
   "execution_count": null,
   "id": "822dd988-7490-4349-9dbf-6b7b62f19969",
   "metadata": {},
   "outputs": [],
   "source": []
  },
  {
   "cell_type": "code",
   "execution_count": null,
   "id": "6d6f4ae8-db49-4f4a-8824-af9d7ddced06",
   "metadata": {},
   "outputs": [],
   "source": []
  },
  {
   "cell_type": "code",
   "execution_count": null,
   "id": "bd4e59a8-7a5d-479b-bc55-8676acb86d29",
   "metadata": {},
   "outputs": [],
   "source": []
  },
  {
   "cell_type": "code",
   "execution_count": null,
   "id": "78e3b27c-4ae4-4cb5-b0d1-ea5b3174dbcc",
   "metadata": {
    "execution": {
     "iopub.status.busy": "2023-09-09T14:18:25.766755Z",
     "iopub.status.idle": "2023-09-09T14:18:25.767082Z",
     "shell.execute_reply": "2023-09-09T14:18:25.766955Z",
     "shell.execute_reply.started": "2023-09-09T14:18:25.766942Z"
    }
   },
   "outputs": [],
   "source": [
    "# def find_peaks(x, prominence=10, width=3, rel_height=0.9, wlen=60, plateau_size=None):\n",
    "#     peaks, prominences = signal.find_peaks(np.squeeze(x), prominence=prominence, wlen=wlen,\n",
    "#                                            width=width, rel_height=rel_height, plateau_size=plateau_size)\n",
    "    \n",
    "#     active_pixels = np.zeros(x.shape, dtype=int)\n",
    "#     for (left, right, prom) in list(zip(prominences['left_ips'], prominences['right_ips'], prominences['prominences'])):\n",
    "#         active_pixels[int(left):int(right)] = prom\n",
    "\n",
    "#     return active_pixels\n",
    "\n",
    "# act = da.map_blocks(find_peaks, arr, dtype=int)\n",
    "# display(act)\n",
    "\n",
    "# fig, ax = plt.subplots(1, 1, figsize=(25, 3))\n",
    "# ax2 = ax.twinx()\n",
    "# for (x, y, color) in pixel:\n",
    "\n",
    "#     ax.plot(arr[:, x, y], color=color)\n",
    "#     ax2.plot(act[:, x, y], color=color)"
   ]
  },
  {
   "cell_type": "code",
   "execution_count": null,
   "id": "7a59b54a-cea1-41b9-bb94-6a83c14cf607",
   "metadata": {
    "execution": {
     "iopub.status.busy": "2023-09-09T14:18:25.768138Z",
     "iopub.status.idle": "2023-09-09T14:18:25.768438Z",
     "shell.execute_reply": "2023-09-09T14:18:25.768300Z",
     "shell.execute_reply.started": "2023-09-09T14:18:25.768287Z"
    }
   },
   "outputs": [],
   "source": [
    "# act_c = act.compute()\n",
    "# arr_c = arr.compute()\n",
    "\n",
    "# viewer = napari.Viewer()\n",
    "# viewer.add_image(act_c, colormap=\"red\")\n",
    "# viewer.add_image(arr_c, colormap=\"gray\")\n",
    "# viewer.show()"
   ]
  }
 ],
 "metadata": {
  "kernelspec": {
   "display_name": "Python 3 (ipykernel)",
   "language": "python",
   "name": "python3"
  },
  "language_info": {
   "codemirror_mode": {
    "name": "ipython",
    "version": 3
   },
   "file_extension": ".py",
   "mimetype": "text/x-python",
   "name": "python",
   "nbconvert_exporter": "python",
   "pygments_lexer": "ipython3",
   "version": "3.9.17"
  }
 },
 "nbformat": 4,
 "nbformat_minor": 5
}
