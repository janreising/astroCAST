{
 "cells": [
  {
   "cell_type": "code",
   "execution_count": null,
   "id": "3d26d9aa-4030-47b5-bac7-9ee9faf18ba5",
   "metadata": {
    "execution": {
     "iopub.execute_input": "2023-09-04T23:04:55.284735Z",
     "iopub.status.busy": "2023-09-04T23:04:55.284484Z",
     "iopub.status.idle": "2023-09-04T23:04:55.941813Z",
     "shell.execute_reply": "2023-09-04T23:04:55.939613Z",
     "shell.execute_reply.started": "2023-09-04T23:04:55.284711Z"
    }
   },
   "outputs": [],
   "source": [
    "from astroCAST.simulation import *\n",
    "import numpy as np\n",
    "import matplotlib.pyplot as plt\n",
    "\n",
    "import napari\n",
    "from IPython.display import clear_output\n",
    "import time\n",
    "import networkx as nx"
   ]
  },
  {
   "cell_type": "code",
   "execution_count": null,
   "id": "c329729c-6e47-47f2-b970-06dfcf4a1740",
   "metadata": {
    "execution": {
     "iopub.execute_input": "2023-09-04T23:04:55.945097Z",
     "iopub.status.busy": "2023-09-04T23:04:55.944290Z",
     "iopub.status.idle": "2023-09-04T23:04:55.979966Z",
     "shell.execute_reply": "2023-09-04T23:04:55.979390Z",
     "shell.execute_reply.started": "2023-09-04T23:04:55.945042Z"
    }
   },
   "outputs": [],
   "source": [
    "frames=100\n",
    "X=250\n",
    "Y=250\n",
    "save_path = \"del.tiff\"\n",
    "\n",
    "sim = SimData(frames=frames, X=X, Y=Y)\n",
    "\n",
    "# data, shifts = sim.simulate()\n",
    "# sim.plot_overview()\n",
    "# sim.save(save_path)"
   ]
  },
  {
   "cell_type": "code",
   "execution_count": null,
   "id": "d138638b-637e-464a-8e64-f744f76ad3ac",
   "metadata": {
    "execution": {
     "iopub.execute_input": "2023-09-04T23:04:55.981215Z",
     "iopub.status.busy": "2023-09-04T23:04:55.980881Z",
     "iopub.status.idle": "2023-09-04T23:04:55.985246Z",
     "shell.execute_reply": "2023-09-04T23:04:55.984671Z",
     "shell.execute_reply.started": "2023-09-04T23:04:55.981177Z"
    }
   },
   "outputs": [],
   "source": [
    "# v = napari.Viewer()\n",
    "# v.add_image(sim.data.astype(np.float32))\n",
    "# v.show()"
   ]
  },
  {
   "cell_type": "code",
   "execution_count": null,
   "id": "dabdfd7d-b519-4c89-bc1e-03a2c9903027",
   "metadata": {
    "execution": {
     "iopub.execute_input": "2023-09-04T23:04:55.987068Z",
     "iopub.status.busy": "2023-09-04T23:04:55.986688Z",
     "iopub.status.idle": "2023-09-04T23:05:24.113996Z",
     "shell.execute_reply": "2023-09-04T23:05:24.113359Z",
     "shell.execute_reply.started": "2023-09-04T23:04:55.987043Z"
    }
   },
   "outputs": [],
   "source": [
    "sim.generate_voronoi(num_cells=40)\n",
    "sim.populate_astrocytes(plot=True)\n"
   ]
  },
  {
   "cell_type": "code",
   "execution_count": null,
   "id": "82359229-4581-44fa-8f4b-40e1f7e7dac2",
   "metadata": {},
   "outputs": [],
   "source": []
  },
  {
   "cell_type": "code",
   "execution_count": null,
   "id": "4a726072-2f13-4300-8f65-485dbc3d3760",
   "metadata": {},
   "outputs": [],
   "source": []
  }
 ],
 "metadata": {
  "kernelspec": {
   "display_name": "Python 3 (ipykernel)",
   "language": "python",
   "name": "python3"
  },
  "language_info": {
   "codemirror_mode": {
    "name": "ipython",
    "version": 3
   },
   "file_extension": ".py",
   "mimetype": "text/x-python",
   "name": "python",
   "nbconvert_exporter": "python",
   "pygments_lexer": "ipython3",
   "version": "3.9.17"
  }
 },
 "nbformat": 4,
 "nbformat_minor": 5
}
