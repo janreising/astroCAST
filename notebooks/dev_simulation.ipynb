{
 "cells": [
  {
   "cell_type": "code",
   "execution_count": null,
   "id": "3d26d9aa-4030-47b5-bac7-9ee9faf18ba5",
   "metadata": {
    "ExecuteTime": {
     "end_time": "2023-12-10T13:16:02.201004119Z",
     "start_time": "2023-12-10T13:16:02.191659633Z"
    },
    "execution": {
     "iopub.execute_input": "2023-10-10T11:45:06.588707Z",
     "iopub.status.busy": "2023-10-10T11:45:06.586698Z",
     "iopub.status.idle": "2023-10-10T11:45:07.442997Z",
     "shell.execute_reply": "2023-10-10T11:45:07.442426Z",
     "shell.execute_reply.started": "2023-10-10T11:45:06.588599Z"
    }
   },
   "outputs": [],
   "source": [
    "from astroCAST.simulation import SimData, Branch, Astrocyte, AstrocyteGrid\n",
    "import numpy as np\n",
    "import matplotlib.pyplot as plt\n",
    "import importlib\n",
    "\n",
    "import napari\n",
    "from IPython.display import clear_output\n",
    "import time\n",
    "import networkx as nx"
   ]
  },
  {
   "cell_type": "code",
   "execution_count": null,
   "id": "c329729c-6e47-47f2-b970-06dfcf4a1740",
   "metadata": {
    "ExecuteTime": {
     "end_time": "2023-12-10T13:12:47.865989302Z",
     "start_time": "2023-12-10T13:12:47.863741816Z"
    },
    "execution": {
     "iopub.execute_input": "2023-10-10T11:45:09.097061Z",
     "iopub.status.busy": "2023-10-10T11:45:09.096689Z",
     "iopub.status.idle": "2023-10-10T11:45:09.101449Z",
     "shell.execute_reply": "2023-10-10T11:45:09.100820Z",
     "shell.execute_reply.started": "2023-10-10T11:45:09.097039Z"
    }
   },
   "outputs": [],
   "source": [
    "frames = 100\n",
    "X = 250\n",
    "Y = 250\n",
    "save_path = \"del.tiff\"\n",
    "\n",
    "sim = SimData(frames=frames, X=X, Y=Y)\n",
    "\n",
    "# data, shifts = sim.simulate()\n",
    "# sim.plot_overview()\n",
    "# sim.save(save_path)"
   ]
  },
  {
   "cell_type": "code",
   "execution_count": null,
   "id": "d138638b-637e-464a-8e64-f744f76ad3ac",
   "metadata": {
    "ExecuteTime": {
     "end_time": "2023-12-10T13:12:47.877807453Z",
     "start_time": "2023-12-10T13:12:47.868243411Z"
    },
    "execution": {
     "iopub.execute_input": "2023-09-05T08:00:47.609231Z",
     "iopub.status.busy": "2023-09-05T08:00:47.608972Z",
     "iopub.status.idle": "2023-09-05T08:00:47.614081Z",
     "shell.execute_reply": "2023-09-05T08:00:47.613526Z",
     "shell.execute_reply.started": "2023-09-05T08:00:47.609210Z"
    }
   },
   "outputs": [],
   "source": [
    "# v = napari.Viewer()\n",
    "# v.add_image(sim.data.astype(np.float32))\n",
    "# v.show()"
   ]
  },
  {
   "cell_type": "code",
   "execution_count": null,
   "id": "dabdfd7d-b519-4c89-bc1e-03a2c9903027",
   "metadata": {
    "execution": {
     "iopub.execute_input": "2023-10-10T11:49:01.754136Z",
     "iopub.status.busy": "2023-10-10T11:49:01.753872Z",
     "iopub.status.idle": "2023-10-10T11:49:26.784561Z",
     "shell.execute_reply": "2023-10-10T11:49:26.783938Z",
     "shell.execute_reply.started": "2023-10-10T11:49:01.754113Z"
    }
   },
   "outputs": [],
   "source": [
    "sim.generate_voronoi(num_cells=40)\n",
    "astrocytes = sim.populate_astrocytes(plot=True)\n"
   ]
  },
  {
   "cell_type": "code",
   "execution_count": null,
   "id": "b4cec9bf2078f309",
   "metadata": {
    "ExecuteTime": {
     "end_time": "2023-12-10T13:16:05.557889070Z",
     "start_time": "2023-12-10T13:16:05.534107858Z"
    }
   },
   "outputs": [],
   "source": [
    "import astroCAST.simulation as astrosim\n",
    "\n",
    "importlib.reload(astrosim)"
   ]
  },
  {
   "cell_type": "code",
   "execution_count": null,
   "id": "82359229-4581-44fa-8f4b-40e1f7e7dac2",
   "metadata": {
    "ExecuteTime": {
     "end_time": "2023-12-10T13:13:12.060275275Z",
     "start_time": "2023-12-10T13:13:11.780045171Z"
    },
    "execution": {
     "iopub.execute_input": "2023-10-10T11:49:37.519809Z",
     "iopub.status.busy": "2023-10-10T11:49:37.519378Z",
     "iopub.status.idle": "2023-10-10T11:49:37.523209Z",
     "shell.execute_reply": "2023-10-10T11:49:37.522583Z",
     "shell.execute_reply.started": "2023-10-10T11:49:37.519783Z"
    }
   },
   "outputs": [],
   "source": [
    "ast0 = astrocytes[0]\n",
    "ast0.plot()"
   ]
  },
  {
   "cell_type": "code",
   "execution_count": null,
   "id": "3292a655-b445-43fe-aeb5-da690415983c",
   "metadata": {
    "ExecuteTime": {
     "end_time": "2023-12-10T13:30:00.005783393Z",
     "start_time": "2023-12-10T13:29:59.873942101Z"
    },
    "execution": {
     "iopub.execute_input": "2023-10-10T11:49:39.958790Z",
     "iopub.status.busy": "2023-10-10T11:49:39.957230Z",
     "iopub.status.idle": "2023-10-10T11:49:40.358737Z",
     "shell.execute_reply": "2023-10-10T11:49:40.358189Z",
     "shell.execute_reply.started": "2023-10-10T11:49:39.958667Z"
    }
   },
   "outputs": [],
   "source": [
    "importlib.reload(astrosim)\n",
    "\n",
    "aGrid = astrosim.AstrocyteGrid(ast0, grid_resolution=1)\n",
    "aGrid.plot_grid()"
   ]
  },
  {
   "cell_type": "code",
   "execution_count": null,
   "id": "4a726072-2f13-4300-8f65-485dbc3d3760",
   "metadata": {
    "ExecuteTime": {
     "start_time": "2023-12-10T13:13:12.695060974Z"
    }
   },
   "outputs": [],
   "source": []
  },
  {
   "cell_type": "code",
   "execution_count": null,
   "id": "61e0ad86e386fe17",
   "metadata": {
    "ExecuteTime": {
     "start_time": "2023-12-10T13:13:12.695441186Z"
    }
   },
   "outputs": [],
   "source": []
  }
 ],
 "metadata": {
  "kernelspec": {
   "display_name": "Python 3 (ipykernel)",
   "language": "python",
   "name": "python3"
  },
  "language_info": {
   "codemirror_mode": {
    "name": "ipython",
    "version": 3
   },
   "file_extension": ".py",
   "mimetype": "text/x-python",
   "name": "python",
   "nbconvert_exporter": "python",
   "pygments_lexer": "ipython3",
   "version": "3.9.18"
  }
 },
 "nbformat": 4,
 "nbformat_minor": 5
}
