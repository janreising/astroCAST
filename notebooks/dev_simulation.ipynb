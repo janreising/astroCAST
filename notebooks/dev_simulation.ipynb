{
 "cells": [
  {
   "cell_type": "code",
   "execution_count": null,
   "id": "3d26d9aa-4030-47b5-bac7-9ee9faf18ba5",
   "metadata": {
    "execution": {
     "iopub.execute_input": "2023-09-05T08:00:46.927398Z",
     "iopub.status.busy": "2023-09-05T08:00:46.927143Z",
     "iopub.status.idle": "2023-09-05T08:00:47.571622Z",
     "shell.execute_reply": "2023-09-05T08:00:47.571017Z",
     "shell.execute_reply.started": "2023-09-05T08:00:46.927371Z"
    }
   },
   "outputs": [],
   "source": [
    "from astroCAST.simulation import *\n",
    "import numpy as np\n",
    "import matplotlib.pyplot as plt\n",
    "\n",
    "import napari\n",
    "from IPython.display import clear_output\n",
    "import time\n",
    "import networkx as nx"
   ]
  },
  {
   "cell_type": "code",
   "execution_count": null,
   "id": "c329729c-6e47-47f2-b970-06dfcf4a1740",
   "metadata": {
    "execution": {
     "iopub.execute_input": "2023-09-05T08:00:47.572882Z",
     "iopub.status.busy": "2023-09-05T08:00:47.572500Z",
     "iopub.status.idle": "2023-09-05T08:00:47.608039Z",
     "shell.execute_reply": "2023-09-05T08:00:47.607256Z",
     "shell.execute_reply.started": "2023-09-05T08:00:47.572864Z"
    }
   },
   "outputs": [],
   "source": [
    "frames=100\n",
    "X=250\n",
    "Y=250\n",
    "save_path = \"del.tiff\"\n",
    "\n",
    "sim = SimData(frames=frames, X=X, Y=Y)\n",
    "\n",
    "# data, shifts = sim.simulate()\n",
    "# sim.plot_overview()\n",
    "# sim.save(save_path)"
   ]
  },
  {
   "cell_type": "code",
   "execution_count": null,
   "id": "d138638b-637e-464a-8e64-f744f76ad3ac",
   "metadata": {
    "execution": {
     "iopub.execute_input": "2023-09-05T08:00:47.609231Z",
     "iopub.status.busy": "2023-09-05T08:00:47.608972Z",
     "iopub.status.idle": "2023-09-05T08:00:47.614081Z",
     "shell.execute_reply": "2023-09-05T08:00:47.613526Z",
     "shell.execute_reply.started": "2023-09-05T08:00:47.609210Z"
    }
   },
   "outputs": [],
   "source": [
    "# v = napari.Viewer()\n",
    "# v.add_image(sim.data.astype(np.float32))\n",
    "# v.show()"
   ]
  },
  {
   "cell_type": "code",
   "execution_count": null,
   "id": "dabdfd7d-b519-4c89-bc1e-03a2c9903027",
   "metadata": {
    "execution": {
     "iopub.execute_input": "2023-09-05T08:02:06.827694Z",
     "iopub.status.busy": "2023-09-05T08:02:06.827359Z",
     "iopub.status.idle": "2023-09-05T08:02:38.463672Z",
     "shell.execute_reply": "2023-09-05T08:02:38.462992Z",
     "shell.execute_reply.started": "2023-09-05T08:02:06.827675Z"
    }
   },
   "outputs": [],
   "source": [
    "sim.generate_voronoi(num_cells=40)\n",
    "sim.populate_astrocytes(plot=True)\n"
   ]
  },
  {
   "cell_type": "code",
   "execution_count": null,
   "id": "82359229-4581-44fa-8f4b-40e1f7e7dac2",
   "metadata": {},
   "outputs": [],
   "source": []
  },
  {
   "cell_type": "code",
   "execution_count": null,
   "id": "4a726072-2f13-4300-8f65-485dbc3d3760",
   "metadata": {},
   "outputs": [],
   "source": []
  }
 ],
 "metadata": {
  "kernelspec": {
   "display_name": "Python 3 (ipykernel)",
   "language": "python",
   "name": "python3"
  },
  "language_info": {
   "codemirror_mode": {
    "name": "ipython",
    "version": 3
   },
   "file_extension": ".py",
   "mimetype": "text/x-python",
   "name": "python",
   "nbconvert_exporter": "python",
   "pygments_lexer": "ipython3",
   "version": "3.9.17"
  }
 },
 "nbformat": 4,
 "nbformat_minor": 5
}
