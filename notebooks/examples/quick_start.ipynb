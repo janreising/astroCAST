{
 "cells": [
  {
   "cell_type": "code",
   "execution_count": null,
   "id": "initial_id",
   "metadata": {
    "ExecuteTime": {
     "end_time": "2023-12-14T15:41:22.629863851Z",
     "start_time": "2023-12-14T15:41:22.476218453Z"
    }
   },
   "outputs": [],
   "source": [
    "import os\n",
    "from pathlib import Path\n",
    "from astrocast.analysis import IO, Video, Events, Plotting\n",
    "\n",
    "astroPlot = Plotting(None)"
   ]
  },
  {
   "cell_type": "markdown",
   "id": "7c88830fb741775e",
   "metadata": {
    "collapsed": false
   },
   "source": [
    "Here, we will showcase how to run the astrocast pipeline on a small sample dataset. "
   ]
  },
  {
   "cell_type": "markdown",
   "id": "32f8a77f1b7fd8ed",
   "metadata": {
    "collapsed": false
   },
   "source": [
    "# 0. Explore the sample data"
   ]
  },
  {
   "cell_type": "code",
   "execution_count": null,
   "id": "1332388990b34934",
   "metadata": {
    "ExecuteTime": {
     "end_time": "2023-12-14T15:20:54.119049131Z",
     "start_time": "2023-12-14T15:20:51.811750094Z"
    }
   },
   "outputs": [],
   "source": [
    "sample_path = Path(\"../../testdata/bigger_data.h5\")\n",
    "assert sample_path.exists()\n",
    "\n",
    "# we can use the visualize_h5 function from the command line interface (CLI)\n",
    "!astrocast visualize-h5 {sample_path.as_posix()}\n",
    "print(\"\\n\")"
   ]
  },
  {
   "cell_type": "code",
   "execution_count": null,
   "id": "530f135c103b42fa",
   "metadata": {
    "ExecuteTime": {
     "end_time": "2023-12-14T14:07:21.597388129Z",
     "start_time": "2023-12-14T14:07:20.364780169Z"
    }
   },
   "outputs": [],
   "source": [
    "# next we load the dataset\n",
    "io = IO()\n",
    "data = io.load(sample_path, loc=\"data/ch0\")\n",
    "print(f\"Data shape: {data.shape}, dtype: {data.dtype}, instance type: {type(data)}\")\n",
    "\n",
    "# and visualize the data\n",
    "video = Video(data)\n",
    "fig = video.plot_overview()\n",
    "\n",
    "# uncomment to activate the video player\n",
    "# viewer = video.show()"
   ]
  },
  {
   "cell_type": "markdown",
   "id": "cb07a2f43a6e2c01",
   "metadata": {
    "collapsed": false
   },
   "source": [
    "# 1. Preprocessing"
   ]
  },
  {
   "cell_type": "code",
   "execution_count": null,
   "id": "d29cde6734185ae9",
   "metadata": {
    "ExecuteTime": {
     "end_time": "2023-12-14T14:07:21.597678607Z",
     "start_time": "2023-12-14T14:07:21.581809299Z"
    }
   },
   "outputs": [],
   "source": [
    "from astrocast.preparation import MotionCorrection, Input, Delta"
   ]
  },
  {
   "cell_type": "markdown",
   "id": "4fab1ce59e28070",
   "metadata": {
    "collapsed": false
   },
   "source": [
    "## 1.1 Data conversion"
   ]
  },
  {
   "cell_type": "code",
   "execution_count": null,
   "id": "df78f685eac21f86",
   "metadata": {
    "ExecuteTime": {
     "end_time": "2023-12-14T15:20:55.729068699Z",
     "start_time": "2023-12-14T15:20:55.709292089Z"
    }
   },
   "outputs": [],
   "source": [
    "test_path = Path(\"./quickstart.h5\")"
   ]
  },
  {
   "cell_type": "code",
   "execution_count": null,
   "id": "c1fd2411849c47f8",
   "metadata": {
    "ExecuteTime": {
     "end_time": "2023-12-14T14:07:29.574181242Z",
     "start_time": "2023-12-14T14:07:21.604608357Z"
    }
   },
   "outputs": [],
   "source": [
    "# multiple ways exist to convert the data to a format that is compatible with the pipeline\n",
    "# including .tiff (multi and single page), .avi, .h5 and .czi files\n",
    "# here we do a simple 'copy' of the sample file\n",
    "\n",
    "if test_path.exists():\n",
    "    test_path.unlink()\n",
    "assert not test_path.exists()\n",
    "\n",
    "inp = Input()\n",
    "inp.run(input_path=sample_path, output_path=test_path, loc_in=\"data/ch0\", loc_out=\"data\", compression=\"gzip\",\n",
    "        chunk_strategy=\"Z\")\n",
    "\n",
    "!astrocast visualize-h5 {test_path.as_posix()}\n",
    "\n",
    "# alternatively with CLI:\n",
    "# !astrocast convert-h5 --output-path {test_path.as_posix()} --h5-loc-in data/ch0 --h5-loc-out data/ch0 --compression gzip --infer-chunks {sample_path.as_posix()}"
   ]
  },
  {
   "cell_type": "markdown",
   "id": "d14b3b0f7e4b0343",
   "metadata": {
    "collapsed": false
   },
   "source": [
    "# 1.2 Motion correction"
   ]
  },
  {
   "cell_type": "code",
   "execution_count": null,
   "id": "963ae00bcfbff3b1",
   "metadata": {
    "ExecuteTime": {
     "end_time": "2023-12-14T14:08:39.210392278Z",
     "start_time": "2023-12-14T14:07:29.576754557Z"
    }
   },
   "outputs": [],
   "source": [
    "MC = MotionCorrection()\n",
    "MC.run(path=test_path, loc=\"data/ch0\")\n",
    "MC.save(output=test_path, loc=\"mc/ch0\", chunk_strategy=\"Z\", compression=\"gzip\")\n",
    "\n",
    "# !astrocast visualize-h5 {test_path.as_posix()}"
   ]
  },
  {
   "cell_type": "code",
   "execution_count": null,
   "id": "e4ce35cc81668fe2",
   "metadata": {
    "ExecuteTime": {
     "end_time": "2023-12-14T14:08:39.225489389Z",
     "start_time": "2023-12-14T14:08:39.213757125Z"
    }
   },
   "outputs": [],
   "source": [
    "# we recommend to visually inspect the performance of the motion correction\n",
    "# video = Video(test_path, loc=[\"data/ch0\", \"mc/ch0\"])\n",
    "# viewer = video.show()\n",
    "\n",
    "# alternatively from CLI:\n",
    "#  please run this line in a terminal, since napari cannot \n",
    "#  be started from within jupyter with the CLI interface \n",
    "# !astrocast view-data {test_path.as_posix()} data/ch0 mc/ch0"
   ]
  },
  {
   "cell_type": "markdown",
   "id": "eb3f5fb29430280",
   "metadata": {
    "collapsed": false
   },
   "source": [
    "## 1.3 Denoising"
   ]
  },
  {
   "cell_type": "code",
   "execution_count": null,
   "id": "3f51ba37a0e325fe",
   "metadata": {
    "ExecuteTime": {
     "end_time": "2023-12-14T14:08:43.279981346Z",
     "start_time": "2023-12-14T14:08:39.225620020Z"
    }
   },
   "outputs": [],
   "source": [
    "from astrocast.denoising import SubFrameDataset, PyTorchNetwork"
   ]
  },
  {
   "cell_type": "code",
   "execution_count": null,
   "id": "7958c8bd4688fe47",
   "metadata": {
    "ExecuteTime": {
     "end_time": "2023-12-14T14:08:43.294264605Z",
     "start_time": "2023-12-14T14:08:43.285038002Z"
    }
   },
   "outputs": [],
   "source": [
    "# Optional: Download pretrained models\n",
    "# !astrocast download-models \"./models\"\n",
    "# for f in os.listdir(\"./models\"):\n",
    "#     print(f)"
   ]
  },
  {
   "cell_type": "code",
   "execution_count": null,
   "id": "c4714c207508281",
   "metadata": {
    "ExecuteTime": {
     "end_time": "2023-12-14T15:18:22.184909856Z",
     "start_time": "2023-12-14T15:16:17.123709972Z"
    }
   },
   "outputs": [],
   "source": [
    "# Inference dataset\n",
    "input_size = (128, 128)\n",
    "loc_in = \"mc/ch0\"\n",
    "loc_out = \"inf/ch0\"\n",
    "use_cpu = True  # switch to False, if cuda is available\n",
    "\n",
    "infer_dataset = SubFrameDataset(paths=test_path, loc=loc_in, input_size=input_size, allowed_rotation=0, allowed_flip=-1,\n",
    "                                shuffle=False, normalize=\"global\", overlap=10, padding=\"edge\")\n",
    "\n",
    "# Model parameters\n",
    "model_path = \"../../denoiser_models/1p_exvivo_input_size_128_128_pre_post_frame_5-gap_frames_0-train_rotation_1_2_3-architecture_3_64_epochs-50.pth\"\n",
    "pre_post_frames = 5\n",
    "gap_frames = 0\n",
    "n_stacks, kernels = (3, 64)\n",
    "\n",
    "net = PyTorchNetwork(infer_dataset, load_model=model_path, val_dataset=None, batch_size=16, n_stacks=n_stacks,\n",
    "                     kernels=kernels, kernel_size=3, batch_normalize=False,\n",
    "                     use_cpu=use_cpu)\n",
    "\n",
    "# Denoise data\n",
    "net.infer(dataset=infer_dataset, output=test_path, out_loc=loc_out, batch_size=1, dtype=float)"
   ]
  },
  {
   "cell_type": "code",
   "execution_count": null,
   "id": "9ef7a72fa7b0e090",
   "metadata": {
    "ExecuteTime": {
     "end_time": "2023-12-14T14:09:32.096412972Z",
     "start_time": "2023-12-14T14:09:32.083181537Z"
    }
   },
   "outputs": [],
   "source": [
    "# !astrocast visualize-h5 {test_path.as_posix()}"
   ]
  },
  {
   "cell_type": "code",
   "execution_count": null,
   "id": "a001a57eddab48ad",
   "metadata": {
    "ExecuteTime": {
     "end_time": "2023-12-14T15:18:25.469420192Z",
     "start_time": "2023-12-14T15:18:22.180717024Z"
    }
   },
   "outputs": [],
   "source": [
    "frame = 100\n",
    "pixels = [(167, 153), (199, 306), (214, 109), (337, 72)]\n",
    "\n",
    "fig, axx = astroPlot.compare_pixels(pixels=pixels, frame=frame,\n",
    "                                    data_1=test_path, loc_1=\"mc/ch0\", loc_2=\"inf/ch0\",\n",
    "                                    title_1=\"before denoising\", title_2=\"after denoising\")"
   ]
  },
  {
   "cell_type": "markdown",
   "id": "c6652771275a017a",
   "metadata": {
    "collapsed": false
   },
   "source": [
    "# 1.4 Subtract background"
   ]
  },
  {
   "cell_type": "code",
   "execution_count": null,
   "id": "412edb17d8d727dc",
   "metadata": {
    "ExecuteTime": {
     "end_time": "2023-12-14T15:22:56.627190931Z",
     "start_time": "2023-12-14T15:21:02.037665979Z"
    }
   },
   "outputs": [],
   "source": [
    "import astrocast.preparation as prep\n",
    "import importlib\n",
    "\n",
    "importlib.reload(prep)\n",
    "\n",
    "delta = prep.Delta(test_path, loc=\"inf/ch0\")\n",
    "res_delta = delta.run(method=\"dF\", scale_factor=0.25, neighbors=100, wlen=50, distance=5,\n",
    "                      max_chunk_size_mb=10, width=5)\n",
    "delta.save(output_path=test_path, loc=\"df/ch0\", chunk_strategy=\"balanced\", compression=\"gzip\")\n",
    "\n",
    "# TODO add terminal command"
   ]
  },
  {
   "cell_type": "code",
   "execution_count": null,
   "id": "2b1f6630279f1fae",
   "metadata": {
    "ExecuteTime": {
     "end_time": "2023-12-14T14:09:32.099213365Z",
     "start_time": "2023-12-14T14:09:32.098803891Z"
    }
   },
   "outputs": [],
   "source": [
    "# !astrocast visualize-h5 {test_path.as_posix()}"
   ]
  },
  {
   "cell_type": "code",
   "execution_count": null,
   "id": "2ec96182c1d54d14",
   "metadata": {
    "ExecuteTime": {
     "end_time": "2023-12-14T15:42:14.890935109Z",
     "start_time": "2023-12-14T15:42:14.682991606Z"
    }
   },
   "outputs": [],
   "source": [
    "import astrocast.analysis as prep\n",
    "\n",
    "importlib.reload(prep)\n",
    "\n",
    "astroPlot = prep.Plotting()"
   ]
  },
  {
   "cell_type": "code",
   "execution_count": null,
   "id": "4ee9f2f2330388f2",
   "metadata": {
    "ExecuteTime": {
     "end_time": "2023-12-14T15:42:22.703941644Z",
     "start_time": "2023-12-14T15:42:17.672146318Z"
    }
   },
   "outputs": [],
   "source": [
    "frame = 100\n",
    "pixels = [(167, 153), (199, 306), (214, 109), (337, 72)]\n",
    "\n",
    "fig, axx = astroPlot.compare_pixels(pixels=pixels, frame=frame,\n",
    "                                    data_1=test_path, loc_1=\"inf/ch0\", loc_2=\"df/ch0\",\n",
    "                                    title_1=\"before subtraction\", title_2=\"after subtraction\")"
   ]
  },
  {
   "cell_type": "code",
   "execution_count": null,
   "id": "73d73586eb3b484",
   "metadata": {
    "ExecuteTime": {
     "end_time": "2023-12-14T15:25:46.740874052Z",
     "start_time": "2023-12-14T15:25:42.589077267Z"
    }
   },
   "outputs": [],
   "source": [
    "# we recommend to visually inspect the performance of the motion correction\n",
    "video = Video(test_path, loc=[\"inf/ch0\", \"df/ch0\"])\n",
    "viewer = video.show()"
   ]
  },
  {
   "cell_type": "markdown",
   "id": "1bab1c3a54d01fd7",
   "metadata": {
    "collapsed": false
   },
   "source": [
    "# 2. Event detection"
   ]
  },
  {
   "cell_type": "code",
   "execution_count": null,
   "id": "8f41c647cdca684e",
   "metadata": {
    "ExecuteTime": {
     "end_time": "2023-12-14T15:29:50.664450302Z",
     "start_time": "2023-12-14T15:29:50.479763085Z"
    }
   },
   "outputs": [],
   "source": [
    "from astrocast.detection import Detector"
   ]
  },
  {
   "cell_type": "code",
   "execution_count": null,
   "id": "c7161fbc46920ef",
   "metadata": {
    "ExecuteTime": {
     "end_time": "2023-12-14T15:31:12.631073707Z",
     "start_time": "2023-12-14T15:29:51.545857749Z"
    }
   },
   "outputs": [],
   "source": [
    "event_path = test_path.with_suffix(\".ch0.roi\")\n",
    "if event_path.exists():\n",
    "    import shutil\n",
    "    \n",
    "    shutil.rmtree(event_path)\n",
    "\n",
    "detector = Detector(input_path=test_path)\n",
    "event_dictionary = detector.run(loc=\"df/ch0\", debug=True, exclude_border=20, temporal_prominence=0.3)"
   ]
  },
  {
   "cell_type": "code",
   "execution_count": null,
   "id": "d9122fa8153591c9",
   "metadata": {
    "ExecuteTime": {
     "end_time": "2023-12-14T15:32:01.411786005Z",
     "start_time": "2023-12-14T15:31:59.685995208Z"
    }
   },
   "outputs": [],
   "source": [
    "assert event_path.exists()\n",
    "for f in os.listdir(event_path):\n",
    "    print(f)\n",
    "\n",
    "events = Events(event_path, data=test_path, loc=\"df/ch0\")\n",
    "events"
   ]
  },
  {
   "cell_type": "code",
   "execution_count": null,
   "id": "e00b9ffe687fe6d1",
   "metadata": {
    "ExecuteTime": {
     "end_time": "2023-12-14T15:32:08.008391612Z",
     "start_time": "2023-12-14T15:32:04.943134986Z"
    }
   },
   "outputs": [],
   "source": [
    "viewer = events.show_event_map()"
   ]
  },
  {
   "cell_type": "code",
   "execution_count": null,
   "id": "c8840eb4703e630c",
   "metadata": {
    "ExecuteTime": {
     "start_time": "2023-12-14T14:09:32.145161269Z"
    }
   },
   "outputs": [],
   "source": [
    "#!astrocast view-detection-results --video-path {test_path.as_posix()} --loc df/ch0 {event_path.as_posix()}"
   ]
  }
 ],
 "metadata": {
  "kernelspec": {
   "display_name": "Python 3",
   "language": "python",
   "name": "python3"
  },
  "language_info": {
   "codemirror_mode": {
    "name": "ipython",
    "version": 2
   },
   "file_extension": ".py",
   "mimetype": "text/x-python",
   "name": "python",
   "nbconvert_exporter": "python",
   "pygments_lexer": "ipython2",
   "version": "2.7.6"
  }
 },
 "nbformat": 4,
 "nbformat_minor": 5
}
