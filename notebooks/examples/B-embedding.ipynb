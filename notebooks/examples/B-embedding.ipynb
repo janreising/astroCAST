{
 "cells": [
  {
   "cell_type": "code",
   "execution_count": null,
   "id": "initial_id",
   "metadata": {
    "ExecuteTime": {
     "end_time": "2024-03-18T16:08:23.711722Z",
     "start_time": "2024-03-18T16:08:12.165940Z"
    }
   },
   "outputs": [],
   "source": [
    "import importlib\n",
    "from matplotlib import pyplot as plt\n",
    "\n",
    "import astrocast.reduction as red\n",
    "import astrocast.clustering as clust\n",
    "import astrocast.analysis as ana\n",
    "import astrocast.autoencoders as AE\n",
    "import astrocast.helper as helper\n",
    "\n",
    "for pack in [red, clust, helper, ana, AE]:\n",
    "    importlib.reload(pack)"
   ]
  },
  {
   "cell_type": "markdown",
   "id": "50f28f0e-6e81-4926-9078-637942cc6e1d",
   "metadata": {
    "collapsed": false,
    "jupyter": {
     "outputs_hidden": false
    }
   },
   "source": [
    "## Create synthetic dataset"
   ]
  },
  {
   "cell_type": "code",
   "execution_count": null,
   "id": "52635f9e7b5b47a3",
   "metadata": {
    "ExecuteTime": {
     "end_time": "2024-03-18T16:08:24.164194Z",
     "start_time": "2024-03-18T16:08:23.712914Z"
    },
    "jupyter": {
     "outputs_hidden": false
    }
   },
   "outputs": [],
   "source": [
    "num_signal_types = 32\n",
    "num_signals = num_signal_types * 10\n",
    "\n",
    "# Creating signal generators\n",
    "signal_generators = [helper.SignalGenerator(trace_length=100,\n",
    "                                            parameter_fluctuations=0) for i in range(num_signal_types)]\n",
    "\n",
    "# create Events instance\n",
    "dg = helper.DummyGenerator(generators=signal_generators, num_rows=num_signals)\n",
    "eObj = dg.get_events()\n",
    "eObj.name = \"original\"\n",
    "display(eObj)\n",
    "\n",
    "# Plotting\n",
    "plot = ana.Plotting(events=eObj)\n",
    "_ = plot.plot_traces(num_samples=16, figsize=(8, 3))"
   ]
  },
  {
   "cell_type": "markdown",
   "id": "4daab67a-1f6c-4b44-9df3-a9de4f1c4838",
   "metadata": {
    "collapsed": false,
    "jupyter": {
     "outputs_hidden": false
    }
   },
   "source": [
    "## Filter events "
   ]
  },
  {
   "cell_type": "code",
   "execution_count": null,
   "id": "a6ce4721eb5d7fe3",
   "metadata": {
    "ExecuteTime": {
     "end_time": "2024-03-18T16:08:24.696088Z",
     "start_time": "2024-03-18T16:08:24.166244Z"
    },
    "jupyter": {
     "outputs_hidden": false
    }
   },
   "outputs": [],
   "source": [
    "eObj_filtered = eObj.copy()\n",
    "\n",
    "#  that are at least 3 frames and at most 20 frames long\n",
    "_ = eObj_filtered.filter({\"dz\": (3, 20)}, inplace=True)\n",
    "eObj_filtered.name = \"filtered\"\n",
    "plot_filtered = ana.Plotting(events=eObj_filtered)\n",
    "\n",
    "# plot results\n",
    "_, (ax0, ax1) = plt.subplots(1, 2, sharey=True, figsize=(5, 3))\n",
    "\n",
    "_ = plot.plot_distribution(column=\"dz\", axx=ax0)\n",
    "_ = plot_filtered.plot_distribution(column=\"dz\", axx=ax1)\n",
    "_ = ax0.set_title(eObj.name)\n",
    "_ = ax1.set_title(eObj_filtered.name)"
   ]
  },
  {
   "cell_type": "markdown",
   "id": "12efcedd-85d2-4256-bbf9-b3cd813acd86",
   "metadata": {
    "collapsed": false,
    "jupyter": {
     "outputs_hidden": false
    }
   },
   "source": [
    "## Extend events"
   ]
  },
  {
   "cell_type": "code",
   "execution_count": null,
   "id": "346488072f6e29b2",
   "metadata": {
    "ExecuteTime": {
     "end_time": "2024-03-18T16:08:24.704140Z",
     "start_time": "2024-03-18T16:08:24.698579Z"
    },
    "jupyter": {
     "outputs_hidden": false
    }
   },
   "outputs": [],
   "source": [
    "#  by 3 events in z0 and z1 direction\n",
    "#  Note: this feature does not work with synthetic data\n",
    "# _ = eObj.get_extended_events(use_footprint=True, extend=3, \n",
    "#                              in_place=True, load_to_memory=True)"
   ]
  },
  {
   "cell_type": "markdown",
   "id": "3a51ce91-6bb3-4d85-8f1f-07f456d38a38",
   "metadata": {
    "collapsed": false,
    "jupyter": {
     "outputs_hidden": false
    }
   },
   "source": [
    "## Enforce length"
   ]
  },
  {
   "cell_type": "code",
   "execution_count": null,
   "id": "cec97879c832a804",
   "metadata": {
    "ExecuteTime": {
     "end_time": "2024-03-18T16:08:24.708236Z",
     "start_time": "2024-03-18T16:08:24.705538Z"
    },
    "jupyter": {
     "outputs_hidden": false
    }
   },
   "outputs": [],
   "source": [
    "# eObj_enforced = eObj.copy()\n",
    "# eObj_enforced.name = \"enforced\"\n",
    "\n",
    "#  enforce and event length of 15\n",
    "#  Note: this feature does not work with synthetic data\n",
    "# _ = eObj_enforced.get_extended_events(ensure_min=15, ensure_max=15)"
   ]
  },
  {
   "cell_type": "markdown",
   "id": "0c99cd0c-d2e8-4731-97c5-b5f6de335974",
   "metadata": {
    "collapsed": false,
    "jupyter": {
     "outputs_hidden": false
    }
   },
   "source": [
    "## Normalize"
   ]
  },
  {
   "cell_type": "code",
   "execution_count": null,
   "id": "f480364db1e4c868",
   "metadata": {
    "ExecuteTime": {
     "end_time": "2024-03-18T16:08:45.917201Z",
     "start_time": "2024-03-18T16:08:44.557448Z"
    },
    "jupyter": {
     "outputs_hidden": false
    }
   },
   "outputs": [],
   "source": [
    "eObjects = [eObj]\n",
    "\n",
    "# example 1\n",
    "#  1) subtract minimum\n",
    "#  2) divide by maximum\n",
    "\n",
    "instructions = {\n",
    "    0: [\"subtract\", {\"mode\": \"min\"}],\n",
    "    1: [\"divide\", {\"mode\": \"max\"}]\n",
    "    }\n",
    "\n",
    "eObj_min_max = eObj.copy()\n",
    "eObj_min_max.name = \"min/max\"\n",
    "_ = eObj_min_max.normalize(instructions, inplace=True)\n",
    "eObjects.append(eObj_min_max)\n",
    "\n",
    "# example 2\n",
    "#  1) calculate the 1st order differential\n",
    "#  2) divide by the median standard deviation of all events\n",
    "\n",
    "instructions = {\n",
    "    0: [\"diff\", {}],\n",
    "    1: [\"divide\", {\"mode\": \"std_median\", \"population_wide\": True}]\n",
    "    }\n",
    "\n",
    "eObj_diff = eObj.copy()\n",
    "eObj_diff.name = \"1st order differential\"\n",
    "_ = eObj_diff.normalize(instructions, inplace=True)\n",
    "eObjects.append(eObj_diff)\n",
    "\n",
    "# Plot results\n",
    "_, axx = plt.subplots(1, len(eObjects), figsize=(len(eObjects) * 3, 3), sharex=True, sharey=False)\n",
    "for i, i_eObj in enumerate(eObjects):\n",
    "    plot_diff = ana.Plotting(i_eObj.events)\n",
    "    _ = plot_diff.plot_traces(num_samples=8, ax=axx[i])\n",
    "    axx[i].set_title(i_eObj.name)\n",
    "\n",
    "# continue analysis with example 2\n",
    "eObj = eObj_diff\n"
   ]
  }
 ],
 "metadata": {
  "kernelspec": {
   "display_name": "Python 3 (ipykernel)",
   "language": "python",
   "name": "python3"
  },
  "language_info": {
   "codemirror_mode": {
    "name": "ipython",
    "version": 3
   },
   "file_extension": ".py",
   "mimetype": "text/x-python",
   "name": "python",
   "nbconvert_exporter": "python",
   "pygments_lexer": "ipython3",
   "version": "3.10.13"
  }
 },
 "nbformat": 4,
 "nbformat_minor": 5
}
