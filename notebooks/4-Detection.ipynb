{
 "cells": [
  {
   "cell_type": "code",
   "execution_count": null,
   "id": "ec00c468-786a-472a-8264-78acd0347477",
   "metadata": {},
   "outputs": [],
   "source": [
    "# Import necessary modules of astroCAST\n",
    "from astroCAST.detection import Detector\n",
    "from astroCAST.analysis import Video, Events, Correlation\n",
    "from pathlib import Path\n",
    "\n",
    "import pandas as pd\n",
    "\n",
    "%load_ext memory_profiler"
   ]
  },
  {
   "cell_type": "code",
   "execution_count": null,
   "id": "b9f838f5-d2f3-4d5a-8222-4df921ce5259",
   "metadata": {},
   "outputs": [],
   "source": [
    "folder = Path(\"/media/janrei1/data/method_testing/\")\n",
    "\n",
    "input_file = folder.joinpath(\"22A7x9-1.tiff\") # your input file name here. 'h5' or 'tdb' is recommended for parallel processing \n",
    "assert input_file.is_file()"
   ]
  },
  {
   "cell_type": "code",
   "execution_count": null,
   "id": "0af06479-d2c4-4878-8d13-43aab2464230",
   "metadata": {
    "tags": []
   },
   "outputs": [],
   "source": [
    "det = Detector(input_file)\n",
    "det.run(use_dask=True)"
   ]
  },
  {
   "cell_type": "code",
   "execution_count": null,
   "id": "9e0f7248-0d01-4e26-996b-7c114d0d7e2a",
   "metadata": {
    "tags": []
   },
   "outputs": [],
   "source": [
    "event_folder = input_file.with_suffix(\".roi\")\n",
    "assert event_folder.is_dir()\n",
    "\n",
    "ev = Events(event_folder)\n",
    "\n",
    "print(ev.events.columns)\n",
    "\n",
    "ev.events"
   ]
  },
  {
   "cell_type": "code",
   "execution_count": null,
   "id": "b27404dc-ea75-4342-835d-d1d223cf2619",
   "metadata": {},
   "outputs": [],
   "source": [
    "ev.show_event_map(video=input_file)"
   ]
  }
 ],
 "metadata": {
  "kernelspec": {
   "display_name": "Python 3 (ipykernel)",
   "language": "python",
   "name": "python3"
  },
  "language_info": {
   "codemirror_mode": {
    "name": "ipython",
    "version": 3
   },
   "file_extension": ".py",
   "mimetype": "text/x-python",
   "name": "python",
   "nbconvert_exporter": "python",
   "pygments_lexer": "ipython3",
   "version": "3.9.15"
  }
 },
 "nbformat": 4,
 "nbformat_minor": 5
}
