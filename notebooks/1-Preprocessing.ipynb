{
 "cells": [
  {
   "cell_type": "code",
   "execution_count": 1,
   "id": "c7146998-185f-47b6-96be-47f219823507",
   "metadata": {},
   "outputs": [
    {
     "name": "stderr",
     "output_type": "stream",
     "text": [
      "2023-06-08 15:01:23.234945: I tensorflow/core/platform/cpu_feature_guard.cc:193] This TensorFlow binary is optimized with oneAPI Deep Neural Network Library (oneDNN) to use the following CPU instructions in performance-critical operations:  SSE4.1 SSE4.2 AVX AVX2 FMA\n",
      "To enable them in other operations, rebuild TensorFlow with the appropriate compiler flags.\n"
     ]
    }
   ],
   "source": [
    "# Import necessary modules of astroCAST\n",
    "from astroCAST import preparation\n",
    "from astroCAST.analysis import Video\n",
    "from pathlib import Path"
   ]
  },
  {
   "cell_type": "code",
   "execution_count": null,
   "id": "15c2276a-69ef-480a-bc4c-31eb7d669c0b",
   "metadata": {},
   "outputs": [],
   "source": [
    "# !pip install --upgrade ../"
   ]
  },
  {
   "cell_type": "markdown",
   "id": "61354ac1-863c-4652-a8f3-a27a4083576e",
   "metadata": {},
   "source": [
    "# Conversion\n",
    "Converting various file formats into .h5 files that can be used by astroCAST"
   ]
  },
  {
   "cell_type": "code",
   "execution_count": 2,
   "id": "c81c0aba-e38f-4dfd-a127-a11a4db82062",
   "metadata": {},
   "outputs": [],
   "source": [
    "converter = preparation.Input()"
   ]
  },
  {
   "cell_type": "markdown",
   "id": "d5d219cf-8e3a-4c4b-b91c-76e3b719da0d",
   "metadata": {},
   "source": [
    "## Single file"
   ]
  },
  {
   "cell_type": "code",
   "execution_count": null,
   "id": "41cf142a-fc80-4ddb-844b-0626e24ee1d6",
   "metadata": {},
   "outputs": [],
   "source": [
    "folder = Path(\"/media/janrei1/data/method_testing/\")\n",
    "\n",
    "input_file = folder.joinpath(\"22A7x9-1.tif\") # your video name here. Can deal with .tiff, .czi, .h5 and .tdb files\n",
    "output_file = folder.joinpath(\"22A7x9-1.from_single_file.h5\") # your desired output file name here. 'h5' or 'tdb' is recommended for parallel processing \n",
    "\n",
    "if output_file.is_file():\n",
    "    output_file.unlink()\n",
    "\n",
    "converter.run(input_path=input_file, output_path=output_file)\n",
    "assert output_file.is_file() # check that output was created"
   ]
  },
  {
   "cell_type": "code",
   "execution_count": null,
   "id": "0dd28f63-562c-42c9-9e01-a5fb2a395cad",
   "metadata": {},
   "outputs": [],
   "source": [
    "# vid = Video(input_file, lazy=True)\n",
    "# vid.show()"
   ]
  },
  {
   "cell_type": "markdown",
   "id": "2f093602-5367-44a9-bce9-797baa2ba089",
   "metadata": {},
   "source": [
    "## Sequence of .tiff files"
   ]
  },
  {
   "cell_type": "code",
   "execution_count": 3,
   "id": "26b7f0d9-9765-4e2a-9f6c-20c283cfc7a5",
   "metadata": {},
   "outputs": [],
   "source": [
    "folder = Path(\"/media/janrei1/data/method_testing/\")\n",
    "\n",
    "input_folder = folder.joinpath(\"22A7x9-1\") # your video folder name here\n",
    "output_file = folder.joinpath(\"22A7x9-1.from_sequence_tif.h5\") # your desired output file name here. 'h5' or 'tdb' is recommended for parallel processing \n",
    "\n",
    "converter.run(input_path=input_folder, output_path=output_file, channels=2, rescale=0.5,\n",
    "              \n",
    "              # change this if file numbering is separated with other than '_'\n",
    "              # eg. your_file_name-001.tiff would be sep='-'\n",
    "              sep=\"_\" \n",
    "              \n",
    "             )\n",
    "assert output_file.is_file() # check that output was created"
   ]
  },
  {
   "cell_type": "code",
   "execution_count": null,
   "id": "60e33e5d-e307-4410-8196-17fe82c0889f",
   "metadata": {},
   "outputs": [
    {
     "name": "stderr",
     "output_type": "stream",
     "text": [
      "WARNING: QObject::moveToThread: Current thread (0x8bd83a0) is not the object's thread (0x874a720).\n",
      "Cannot move to target thread (0x8bd83a0)\n",
      "\n",
      "WARNING:vispy:QObject::moveToThread: Current thread (0x8bd83a0) is not the object's thread (0x874a720).\n",
      "Cannot move to target thread (0x8bd83a0)\n",
      "\n",
      "WARNING: Could not load the Qt platform plugin \"xcb\" in \"/opt/anaconda/envs/aip/lib/python3.9/site-packages/cv2/qt/plugins\" even though it was found.\n",
      "WARNING:vispy:Could not load the Qt platform plugin \"xcb\" in \"/opt/anaconda/envs/aip/lib/python3.9/site-packages/cv2/qt/plugins\" even though it was found.\n",
      "WARNING: This application failed to start because no Qt platform plugin could be initialized. Reinstalling the application may fix this problem.\n",
      "\n",
      "Available platform plugins are: xcb, eglfs, linuxfb, minimal, minimalegl, offscreen, vnc, wayland-egl, wayland, wayland-xcomposite-egl, wayland-xcomposite-glx, webgl.\n",
      "\n"
     ]
    }
   ],
   "source": [
    "vid = Video(output_file, h5_loc=\"data/ch0\")\n",
    "vid.show()"
   ]
  },
  {
   "cell_type": "markdown",
   "id": "17660ca0-1824-4e38-b2e5-e80a5899edf4",
   "metadata": {},
   "source": [
    "## Subtracting background"
   ]
  },
  {
   "cell_type": "markdown",
   "id": "f0c0cb39-e637-4b78-ac92-6dd9e6a4003b",
   "metadata": {},
   "source": [
    "### interleaved channel"
   ]
  },
  {
   "cell_type": "markdown",
   "id": "c3dc6ceb-4d35-4519-bd95-2815c56ef30f",
   "metadata": {},
   "source": [
    "### file on disk"
   ]
  },
  {
   "cell_type": "markdown",
   "id": "2bd56293-613d-443b-be89-44dd0720eef9",
   "metadata": {
    "execution": {
     "iopub.execute_input": "2023-06-01T09:20:16.976750Z",
     "iopub.status.busy": "2023-06-01T09:20:16.976481Z",
     "iopub.status.idle": "2023-06-01T09:20:16.979724Z",
     "shell.execute_reply": "2023-06-01T09:20:16.979186Z",
     "shell.execute_reply.started": "2023-06-01T09:20:16.976730Z"
    }
   },
   "source": [
    "## Rescaling"
   ]
  },
  {
   "cell_type": "markdown",
   "id": "bbc31f69-d382-4a33-96cc-9d0e527f6f07",
   "metadata": {
    "execution": {
     "iopub.execute_input": "2023-06-01T09:20:32.328365Z",
     "iopub.status.busy": "2023-06-01T09:20:32.327441Z",
     "iopub.status.idle": "2023-06-01T09:20:32.339015Z",
     "shell.execute_reply": "2023-06-01T09:20:32.336224Z",
     "shell.execute_reply.started": "2023-06-01T09:20:32.328277Z"
    }
   },
   "source": [
    "## chunks"
   ]
  },
  {
   "cell_type": "markdown",
   "id": "4a339e2c-763c-484d-ab1b-16c91460122e",
   "metadata": {},
   "source": [
    "## compression"
   ]
  },
  {
   "cell_type": "code",
   "execution_count": null,
   "id": "d8264d79-787c-4b76-adba-5cb080d7dc0b",
   "metadata": {},
   "outputs": [],
   "source": []
  }
 ],
 "metadata": {
  "kernelspec": {
   "display_name": "Python 3 (ipykernel)",
   "language": "python",
   "name": "python3"
  },
  "language_info": {
   "codemirror_mode": {
    "name": "ipython",
    "version": 3
   },
   "file_extension": ".py",
   "mimetype": "text/x-python",
   "name": "python",
   "nbconvert_exporter": "python",
   "pygments_lexer": "ipython3",
   "version": "3.9.15"
  }
 },
 "nbformat": 4,
 "nbformat_minor": 5
}
