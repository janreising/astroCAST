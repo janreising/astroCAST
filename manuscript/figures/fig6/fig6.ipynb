{
 "cells": [
  {
   "cell_type": "code",
   "execution_count": null,
   "id": "initial_id",
   "metadata": {
    "ExecuteTime": {
     "end_time": "2024-04-26T20:18:30.575876Z",
     "start_time": "2024-04-26T20:18:18.875282Z"
    },
    "execution": {
     "iopub.execute_input": "2024-03-13T18:17:00.041262Z",
     "iopub.status.busy": "2024-03-13T18:17:00.041051Z",
     "iopub.status.idle": "2024-03-13T18:17:12.404651Z",
     "shell.execute_reply": "2024-03-13T18:17:12.404032Z",
     "shell.execute_reply.started": "2024-03-13T18:17:00.041240Z"
    }
   },
   "outputs": [],
   "source": [
    "from pathlib import Path\n",
    "import numpy as np\n",
    "import importlib\n",
    "from matplotlib import pyplot as plt\n",
    "import humanize\n",
    "import sys\n",
    "import os, psutil\n",
    "import time\n",
    "import shutil\n",
    "import pandas as pd\n",
    "import seaborn as sns\n",
    "import warnings\n",
    "from sklearn.metrics import ConfusionMatrixDisplay, confusion_matrix\n",
    "import logging\n",
    "\n",
    "import astrocast.reduction as red\n",
    "import astrocast.clustering as clust\n",
    "import astrocast.analysis as ana\n",
    "import astrocast.autoencoders as AE\n",
    "import astrocast.helper as helper\n",
    "import astrocast.experiments as exp\n",
    "\n",
    "for pack in [red, clust, helper, ana, AE, helper, exp]:\n",
    "    importlib.reload(pack)\n"
   ]
  },
  {
   "cell_type": "code",
   "execution_count": null,
   "id": "5db89f73398cd0cf",
   "metadata": {
    "ExecuteTime": {
     "end_time": "2024-04-26T20:18:30.580899Z",
     "start_time": "2024-04-26T20:18:30.577379Z"
    }
   },
   "outputs": [],
   "source": [
    "# !pip install matplotlib==3.7.3"
   ]
  },
  {
   "cell_type": "code",
   "execution_count": null,
   "id": "2b06f49ff5988abb",
   "metadata": {
    "ExecuteTime": {
     "end_time": "2024-04-26T20:18:30.597818Z",
     "start_time": "2024-04-26T20:18:30.582807Z"
    }
   },
   "outputs": [],
   "source": [
    "# importlib.reload(helper)\n",
    "# \n",
    "# sig = helper.SignalGenerator(noise_amplitude=0.001,\n",
    "#                              trace_length=(100),\n",
    "#                              parameter_fluctuations=0.01,\n",
    "#                              num_peaks=2,\n",
    "#                              leaky_k=0.2,\n",
    "#                              peak_rebounce_ratio=0.5,\n",
    "#                              plateau_duration=10,\n",
    "#                              logging_level=logging.WARNING)\n",
    "# \n",
    "# signal = sig.generate_signal()\n",
    "# \n",
    "# fig, ax = plt.subplots(1, 1)\n",
    "# ax.plot(signal)"
   ]
  },
  {
   "cell_type": "code",
   "execution_count": null,
   "id": "bab906892ebb9e99",
   "metadata": {
    "ExecuteTime": {
     "end_time": "2024-04-26T20:18:30.601140Z",
     "start_time": "2024-04-26T20:18:30.599015Z"
    }
   },
   "outputs": [],
   "source": []
  },
  {
   "cell_type": "code",
   "execution_count": null,
   "id": "6c44fed0-ca1c-449a-a663-c93299565468",
   "metadata": {
    "ExecuteTime": {
     "end_time": "2024-04-26T20:18:45.121695Z",
     "start_time": "2024-04-26T20:18:30.602360Z"
    },
    "execution": {
     "iopub.execute_input": "2024-03-13T18:17:12.406162Z",
     "iopub.status.busy": "2024-03-13T18:17:12.405475Z",
     "iopub.status.idle": "2024-03-13T18:17:20.635181Z",
     "shell.execute_reply": "2024-03-13T18:17:20.633110Z",
     "shell.execute_reply.started": "2024-03-13T18:17:12.406141Z"
    }
   },
   "outputs": [],
   "source": [
    "importlib.reload(exp)\n",
    "\n",
    "z_range = (0, 10000)\n",
    "timings = (None, list(range(0, z_range[1], 1000)), None)\n",
    "dummy_parameters = []\n",
    "\n",
    "dummy = dict(\n",
    "        name=\"default\",\n",
    "        num_rows=1000,\n",
    "        # z0, z1 boundaries\n",
    "        z_range=z_range,\n",
    "        timings=timings,\n",
    "        timing_jitter=None,\n",
    "        timing_offset=10,\n",
    "        # Signal generators\n",
    "        # Groups\n",
    "        group_based_on=\"cluster\"\n",
    "        )\n",
    "\n",
    "# Signal generators\n",
    "def_gen = dict(noise_amplitude=0.001, trace_length=(50, 50), parameter_fluctuations=0.01)\n",
    "\n",
    "# Identical\n",
    "dummy1 = dummy.copy()\n",
    "dummy1[\"name\"] = \"Control (Indistinguishable)\"\n",
    "dummy1[\"group_based_on\"] = \"group\"\n",
    "dummy1[\"generators\"] = [def_gen, def_gen]\n",
    "dummy1[\"n_groups\"] = len(dummy1[\"generators\"])\n",
    "dummy1[\"timings\"] = dummy1[\"timings\"][:len(dummy1[\"generators\"])]\n",
    "dummy_parameters.append(dummy1)\n",
    "\n",
    "# big diff\n",
    "dummy2 = dummy.copy()\n",
    "dummy2[\"name\"] = \"Easily Distinguished\"\n",
    "gen2 = def_gen.copy()\n",
    "gen2.update({\"b\": 2, \"plateau_duration\": 6, \"signal_amplitude\": 2})\n",
    "dummy2[\"generators\"] = [def_gen, gen2]\n",
    "dummy2[\"n_groups\"] = len(dummy2[\"generators\"])\n",
    "dummy2[\"timings\"] = dummy2[\"timings\"][:len(dummy2[\"generators\"])]\n",
    "dummy_parameters.append(dummy2)\n",
    "\n",
    "# small diff\n",
    "dummy3 = dummy.copy()\n",
    "dummy3[\"name\"] = \"Slight variation\"\n",
    "gen1 = def_gen.copy()\n",
    "gen1.update({\"b\": 1.5, \"plateau_duration\": 2, \"signal_amplitude\": 1})\n",
    "gen2 = gen1.copy()\n",
    "gen2.update({\"b\": 1.9, \"signal_amplitude\": 1.02, \"leaky_k\": 0.15})\n",
    "dummy3[\"generators\"] = (gen1, gen2)\n",
    "dummy3[\"n_groups\"] = len(dummy3[\"generators\"])\n",
    "dummy3[\"timings\"] = dummy3[\"timings\"][:len(dummy3[\"generators\"])]\n",
    "dummy_parameters.append(dummy3)\n",
    "\n",
    "# tripple\n",
    "dummy4 = dummy.copy()\n",
    "dummy4[\"name\"] = \"Assorted Mix\"\n",
    "gen1 = def_gen.copy()\n",
    "gen1.update({\"b\": 1, \"plateau_duration\": 1, \"signal_amplitude\": 1})\n",
    "gen2 = gen1.copy()\n",
    "gen2.update({\"b\": 0.8, \"plateau_duration\": 2})\n",
    "gen3 = gen1.copy()\n",
    "gen3.update({\"b\": 3, \"plateau_duration\": 5})\n",
    "dummy4[\"generators\"] = (gen1, gen2, gen3)\n",
    "dummy4[\"n_groups\"] = len(dummy4[\"generators\"])\n",
    "dummy4[\"timings\"] = dummy4[\"timings\"][:len(dummy4[\"generators\"])]\n",
    "dummy_parameters.append(dummy4)\n",
    "\n",
    "# variable length\n",
    "dummy5 = dummy.copy()\n",
    "dummy5[\"name\"] = \"Variable Length\"\n",
    "gen1 = def_gen.copy()\n",
    "gen1.update({\"trace_length\": 60, \"ragged_allowed\": True, \"signal_amplitude\": None, \"abort_amplitude\": None})\n",
    "gen2 = gen1.copy()\n",
    "gen2.update({\"leaky_k\": 0.2})\n",
    "dummy5[\"generators\"] = (gen1, gen2)\n",
    "dummy5[\"n_groups\"] = len(dummy5[\"generators\"])\n",
    "dummy5[\"timings\"] = dummy5[\"timings\"][:len(dummy5[\"generators\"])]\n",
    "dummy_parameters.append(dummy5)\n",
    "\n",
    "# double peak\n",
    "dummy6 = dummy.copy()\n",
    "dummy6[\"name\"] = \"Complex Burst\"\n",
    "gen1 = def_gen.copy()\n",
    "gen1.update({\"trace_length\": (80, 80), \"ragged_allowed\": False, \"signal_amplitude\": 1,\n",
    "             \"leaky_k\":      0.3, \"plateau_duration\": 10, \"peak_rebounce_ratio\": 0.75})\n",
    "gen2 = gen1.copy()\n",
    "gen2.update({\"num_peaks\": 2})\n",
    "gen3 = gen1.copy()\n",
    "gen3.update({\"num_peaks\": 3})\n",
    "dummy6[\"generators\"] = (gen1, gen2, gen3)\n",
    "dummy6[\"n_groups\"] = len(dummy6[\"generators\"])\n",
    "dummy6[\"timings\"] = dummy6[\"timings\"][:len(dummy6[\"generators\"])]\n",
    "dummy_parameters.append(dummy6)\n",
    "\n",
    "# create experiments\n",
    "ex = exp.Experiments(dummy_parameters, replicates=3)\n",
    "\n",
    "ex.plot_traces()"
   ]
  },
  {
   "cell_type": "code",
   "execution_count": null,
   "id": "44a50829-58d4-4f1a-8181-a4b926b948b5",
   "metadata": {
    "ExecuteTime": {
     "end_time": "2024-04-26T20:29:53.177188Z",
     "start_time": "2024-04-26T20:18:45.122861Z"
    },
    "execution": {
     "iopub.execute_input": "2024-03-13T18:17:20.639115Z",
     "iopub.status.busy": "2024-03-13T18:17:20.638802Z",
     "iopub.status.idle": "2024-03-13T18:26:03.622199Z",
     "shell.execute_reply": "2024-03-13T18:26:03.621648Z",
     "shell.execute_reply.started": "2024-03-13T18:17:20.639095Z"
    }
   },
   "outputs": [],
   "source": [
    "ex.create_embedding(dict(FExt=None, CNN=None, RNN=None))"
   ]
  },
  {
   "cell_type": "code",
   "execution_count": null,
   "id": "b5c02342-a558-4081-ba9c-58108a61bd0f",
   "metadata": {
    "ExecuteTime": {
     "end_time": "2024-04-26T20:37:41.491398Z",
     "start_time": "2024-04-26T20:29:53.178537Z"
    },
    "execution": {
     "iopub.execute_input": "2024-03-13T18:26:03.623507Z",
     "iopub.status.busy": "2024-03-13T18:26:03.623283Z",
     "iopub.status.idle": "2024-03-13T18:33:12.349946Z",
     "shell.execute_reply": "2024-03-13T18:33:12.349289Z",
     "shell.execute_reply.started": "2024-03-13T18:26:03.623485Z"
    }
   },
   "outputs": [],
   "source": [
    "ex.conditional_contrasts()"
   ]
  },
  {
   "cell_type": "code",
   "execution_count": null,
   "id": "16f49987-7778-4303-bc78-09eb79991c87",
   "metadata": {
    "ExecuteTime": {
     "end_time": "2024-04-26T20:38:36.498659Z",
     "start_time": "2024-04-26T20:37:41.493706Z"
    },
    "execution": {
     "iopub.execute_input": "2024-03-13T18:33:12.351139Z",
     "iopub.status.busy": "2024-03-13T18:33:12.350912Z",
     "iopub.status.idle": "2024-03-13T18:33:45.509074Z",
     "shell.execute_reply": "2024-03-13T18:33:45.508446Z",
     "shell.execute_reply.started": "2024-03-13T18:33:12.351119Z"
    }
   },
   "outputs": [],
   "source": [
    "ex.coincidence_detection()"
   ]
  },
  {
   "cell_type": "code",
   "execution_count": null,
   "id": "ca8c6836-4f7c-4748-9d84-2aeb5e8f44d7",
   "metadata": {
    "ExecuteTime": {
     "end_time": "2024-04-26T20:38:36.544687Z",
     "start_time": "2024-04-26T20:38:36.500162Z"
    },
    "execution": {
     "iopub.execute_input": "2024-03-13T18:33:45.510191Z",
     "iopub.status.busy": "2024-03-13T18:33:45.509934Z",
     "iopub.status.idle": "2024-03-13T18:33:45.558045Z",
     "shell.execute_reply": "2024-03-13T18:33:45.557371Z",
     "shell.execute_reply.started": "2024-03-13T18:33:45.510167Z"
    }
   },
   "outputs": [],
   "source": [
    "results = ex.get_results()\n",
    "display(results.head(3))\n",
    "display(results.tail(3))"
   ]
  },
  {
   "cell_type": "code",
   "execution_count": null,
   "id": "b590d5c07c759405",
   "metadata": {
    "ExecuteTime": {
     "end_time": "2024-04-26T20:38:36.557332Z",
     "start_time": "2024-04-26T20:38:36.545979Z"
    }
   },
   "outputs": [],
   "source": [
    "ex.experiments[0]"
   ]
  },
  {
   "cell_type": "code",
   "execution_count": null,
   "id": "5dd4340c-5c88-4fee-b7fa-27ad00214d3b",
   "metadata": {
    "ExecuteTime": {
     "end_time": "2024-04-26T20:43:43.254710Z",
     "start_time": "2024-04-26T20:43:27.769416Z"
    },
    "execution": {
     "iopub.execute_input": "2024-03-13T19:20:47.112040Z",
     "iopub.status.busy": "2024-03-13T19:20:47.110195Z",
     "iopub.status.idle": "2024-03-13T19:20:53.330198Z",
     "shell.execute_reply": "2024-03-13T19:20:53.329492Z",
     "shell.execute_reply.started": "2024-03-13T19:20:47.111925Z"
    }
   },
   "outputs": [],
   "source": [
    "import string\n",
    "\n",
    "importlib.reload(exp)\n",
    "\n",
    "plt.rc('axes', titlesize=12, labelsize=14)\n",
    "\n",
    "panel_column = \"name\"\n",
    "panel_rows = [\"conditional_contrasts\", \"coincidence_detection\"]\n",
    "# chr(65)\n",
    "figsize = (16, 12)\n",
    "num_samples = 4\n",
    "alpha = .9\n",
    "linestyle = \"--\"\n",
    "\n",
    "# df = results[results.data_split == \"test\"]\n",
    "df = results.copy()\n",
    "\n",
    "if isinstance(panel_rows, str):\n",
    "    panel_rows = [panel_rows]\n",
    "\n",
    "with warnings.catch_warnings():\n",
    "    warnings.simplefilter('ignore')\n",
    "\n",
    "panels = df[panel_column].unique()\n",
    "N = 1 + len(panel_rows)\n",
    "M = len(panels)\n",
    "fig, axx = plt.subplots(N, M, figsize=figsize)\n",
    "\n",
    "# plot traces\n",
    "img_y = 0\n",
    "for img_x, name in enumerate(panels):\n",
    "    \n",
    "    ax = axx[img_y, img_x]\n",
    "    \n",
    "    plot = None\n",
    "    for eObj in ex.experiments:\n",
    "        if eObj.name == name:\n",
    "            plot = eObj.plot\n",
    "            break\n",
    "    \n",
    "    if plot is not None:\n",
    "        _ = plot.plot_traces(title=f\"{name}\",\n",
    "                             num_samples=num_samples,\n",
    "                             by=\"group\",\n",
    "                             alpha=alpha,\n",
    "                             linestyle=linestyle, ax=ax)\n",
    "\n",
    "# plot rows\n",
    "for panel_row in panel_rows:\n",
    "    \n",
    "    img_y += 1\n",
    "    \n",
    "    for img_x, panel in enumerate(panels):\n",
    "        \n",
    "        ax = axx[img_y, img_x]\n",
    "        \n",
    "        selected = df[(df.evaluation_type == panel_row) & (df[panel_column] == panel)]\n",
    "        show_legend = True if ax == axx[img_y, -1] else False\n",
    "        \n",
    "        exp.Experiments.plot_heatmap(df=selected, evaluation_type=panel_row, index='embedding',\n",
    "                                     columns='data_split',\n",
    "                                     group_by=\"cluster_type\", show_legend=show_legend, ax=ax)\n",
    "    \n",
    "    # remove y-labels\n",
    "axx_ = axx[1:, :].flatten().tolist()\n",
    "for ax in axx_:\n",
    "    ax.set_ylabel(None)\n",
    "    ax.set_xlabel(None)\n",
    "\n",
    "for i, panel in enumerate(panel_rows):\n",
    "    axx[i + 1, 0].set_ylabel(panel.replace(\"_\", \" \"))\n",
    "\n",
    "# clean xticklabels\n",
    "axx_ = axx[1:, :].flatten().tolist()\n",
    "for ax in axx_:\n",
    "    yticklabels = ax.get_yticklabels()\n",
    "    yticklabels = [y.get_text().split(\"_\")[0] for y in yticklabels]\n",
    "    ax.set_yticklabels(yticklabels, rotation='vertical')\n",
    "\n",
    "for n, ax in enumerate(list(axx[:, 0])):\n",
    "    ax.text(-0.45, 1.03, string.ascii_uppercase[n], transform=ax.transAxes, size=14, weight='bold')\n",
    "\n",
    "axx[0, 0].set_title(\"Indistinguishable\")\n",
    "\n",
    "plt.tight_layout()\n",
    "\n",
    "fig_name = \"6\"\n",
    "save_path = Path.cwd().parent.joinpath(f\"{fig_name}.png\")\n",
    "print(save_path)\n",
    "fig.savefig(save_path, dpi=(260))\n",
    "\n",
    "legend = \"\"\"\n",
    "Performance of Different Algorithms on Analyzing Various Synthetic Datasets. A) Showcase of synthetic calcium events designed to represent various levels of analytical difficulty, where color coding corresponds to events generated under different parameter sets that simulate diverse conditions or event types. All events include a random noise amplitude of 0.001 and parameter fluctuations of 0.01, subtly varying each event's parameters. B) Conditional contrasts analysis assesses algorithmic efficiency in distinguishing events from differing conditions (groups 0, 1 and 2). Events are characterized using different methods: FExt for Feature Extraction, CNN for Convolutional Autoencoder, and RNN for Recurrent Autoencoder. The hierarchical clustering leverages distance metrics between events (Pearson correlation or dynamic time warping), depicted by the absence of training dependency in grey. CNN's inability to process variable-length events results in its omission in the final panel. C) Coincidence detection analysis gauges algorithm performance in predicting the occurrence of stimulus events. This encompasses two groups: one with events exclusively occurring during a stimulus and another with randomly occurring events. The embedding classifier and prediction methods are consistent with panel B, where the classifier identifies stimulus occurrence, and regression determines the exact timing of the stimulus in coinciding events. \\\\added[id=R2]{Displayed scores represent the lowest achieved in three replicates, adhering to cross-validation principles}.\n",
    "\"\"\"\n",
    "legend_path = Path.cwd().parent.joinpath(f\"{fig_name}.txt\")\n",
    "with open(legend_path, 'w') as f:\n",
    "    f.write(legend)"
   ]
  },
  {
   "cell_type": "code",
   "execution_count": null,
   "id": "840dab4a-6be0-449e-b4fe-ef6346ce12fc",
   "metadata": {
    "ExecuteTime": {
     "end_time": "2024-04-26T20:38:46.233798Z",
     "start_time": "2024-04-26T20:38:46.231691Z"
    },
    "execution": {
     "iopub.execute_input": "2024-03-13T19:11:13.413382Z",
     "iopub.status.busy": "2024-03-13T19:11:13.413113Z",
     "iopub.status.idle": "2024-03-13T19:11:13.418202Z",
     "shell.execute_reply": "2024-03-13T19:11:13.417373Z",
     "shell.execute_reply.started": "2024-03-13T19:11:13.413359Z"
    }
   },
   "outputs": [],
   "source": [
    "# todo: transpose figure\n",
    "# todo: minimum number of examples needed to ensure proper embedding (R2)"
   ]
  }
 ],
 "metadata": {
  "kernelspec": {
   "display_name": "Python 3 (ipykernel)",
   "language": "python",
   "name": "python3"
  },
  "language_info": {
   "codemirror_mode": {
    "name": "ipython",
    "version": 3
   },
   "file_extension": ".py",
   "mimetype": "text/x-python",
   "name": "python",
   "nbconvert_exporter": "python",
   "pygments_lexer": "ipython3",
   "version": "3.10.13"
  }
 },
 "nbformat": 4,
 "nbformat_minor": 5
}
