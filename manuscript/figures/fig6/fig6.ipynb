{
 "cells": [
  {
   "cell_type": "code",
   "execution_count": null,
   "id": "initial_id",
   "metadata": {
    "ExecuteTime": {
     "end_time": "2024-03-20T21:31:40.005035Z",
     "start_time": "2024-03-20T21:31:39.977469Z"
    },
    "execution": {
     "iopub.execute_input": "2024-03-13T18:17:00.041262Z",
     "iopub.status.busy": "2024-03-13T18:17:00.041051Z",
     "iopub.status.idle": "2024-03-13T18:17:12.404651Z",
     "shell.execute_reply": "2024-03-13T18:17:12.404032Z",
     "shell.execute_reply.started": "2024-03-13T18:17:00.041240Z"
    }
   },
   "outputs": [],
   "source": [
    "from pathlib import Path\n",
    "import numpy as np\n",
    "import importlib\n",
    "from matplotlib import pyplot as plt\n",
    "import humanize\n",
    "import sys\n",
    "import os, psutil\n",
    "import time\n",
    "import shutil\n",
    "import pandas as pd\n",
    "import seaborn as sns\n",
    "import warnings\n",
    "from sklearn.metrics import ConfusionMatrixDisplay, confusion_matrix\n",
    "import logging\n",
    "\n",
    "import astrocast.reduction as red\n",
    "import astrocast.clustering as clust\n",
    "import astrocast.analysis as ana\n",
    "import astrocast.autoencoders as AE\n",
    "import astrocast.helper as helper\n",
    "import astrocast.experiments as exp\n",
    "\n",
    "for pack in [red, clust, helper, ana, AE, helper, exp]:\n",
    "    importlib.reload(pack)\n"
   ]
  },
  {
   "cell_type": "code",
   "execution_count": null,
   "id": "5db89f73398cd0cf",
   "metadata": {
    "ExecuteTime": {
     "end_time": "2024-03-20T21:31:40.035316Z",
     "start_time": "2024-03-20T21:31:40.032574Z"
    }
   },
   "outputs": [],
   "source": [
    "# !pip install matplotlib==3.7.3"
   ]
  },
  {
   "cell_type": "code",
   "execution_count": null,
   "id": "6c44fed0-ca1c-449a-a663-c93299565468",
   "metadata": {
    "ExecuteTime": {
     "end_time": "2024-03-20T21:31:48.994522Z",
     "start_time": "2024-03-20T21:31:40.054703Z"
    },
    "execution": {
     "iopub.execute_input": "2024-03-13T18:17:12.406162Z",
     "iopub.status.busy": "2024-03-13T18:17:12.405475Z",
     "iopub.status.idle": "2024-03-13T18:17:20.635181Z",
     "shell.execute_reply": "2024-03-13T18:17:20.633110Z",
     "shell.execute_reply.started": "2024-03-13T18:17:12.406141Z"
    }
   },
   "outputs": [],
   "source": [
    "importlib.reload(exp)\n",
    "\n",
    "z_range = (0, 10000)\n",
    "timings = (None, list(range(0, z_range[1], 1000)), None)\n",
    "dummy_parameters = []\n",
    "\n",
    "dummy = dict(\n",
    "        name=\"default\",\n",
    "        num_rows=1000,\n",
    "        # z0, z1 boundaries\n",
    "        z_range=z_range,\n",
    "        timings=timings,\n",
    "        timing_jitter=None,\n",
    "        timing_offset=10,\n",
    "        # Signal generators\n",
    "        )\n",
    "\n",
    "# Signal generators\n",
    "def_gen = dict(noise_amplitude=0.001, trace_length=(50, 50), parameter_fluctuations=0.01)\n",
    "\n",
    "# Identical\n",
    "dummy1 = dummy.copy()\n",
    "dummy1[\"name\"] = \"identical\"\n",
    "dummy1[\"generators\"] = (def_gen, def_gen)\n",
    "dummy_parameters.append(dummy1)\n",
    "\n",
    "# big diff\n",
    "dummy2 = dummy.copy()\n",
    "dummy2[\"name\"] = \"big_diff\"\n",
    "gen2 = def_gen.copy()\n",
    "gen2.update({\"b\": 2, \"plateau_duration\": 6})\n",
    "dummy2[\"generators\"] = (def_gen, gen2)\n",
    "dummy_parameters.append(dummy2)\n",
    "\n",
    "# small diff\n",
    "dummy3 = dummy.copy()\n",
    "dummy3[\"name\"] = \"small_diff\"\n",
    "gen1 = def_gen.copy()\n",
    "gen1.update({\"b\": 1.5, \"plateau_duration\": 2, \"signal_amplitude\": 1})\n",
    "gen2 = gen1.copy()\n",
    "gen2.update({\"b\": 1.9, \"signal_amplitude\": 1.02, \"leaky_k\": 0.15})\n",
    "dummy3[\"generators\"] = (gen1, gen2)\n",
    "dummy_parameters.append(dummy3)\n",
    "\n",
    "# tripple\n",
    "dummy4 = dummy.copy()\n",
    "dummy4[\"name\"] = \"tripplet\"\n",
    "gen1 = def_gen.copy()\n",
    "gen1.update({\"b\": 1, \"plateau_duration\": 1, \"signal_amplitude\": 1})\n",
    "gen2 = gen1.copy()\n",
    "gen2.update({\"b\": 0.8, \"plateau_duration\": 2})\n",
    "gen3 = gen1.copy()\n",
    "gen3.update({\"b\": 3, \"plateau_duration\": 5})\n",
    "dummy4[\"generators\"] = (gen1, gen2, gen3)\n",
    "dummy_parameters.append(dummy4)\n",
    "\n",
    "# variable length\n",
    "dummy5 = dummy.copy()\n",
    "dummy5[\"name\"] = \"variable_length\"\n",
    "gen1 = def_gen.copy()\n",
    "gen1.update({\"trace_length\": 60, \"ragged_allowed\": True, \"signal_amplitude\": None, \"abort_amplitude\": None})\n",
    "gen2 = gen1.copy()\n",
    "gen2.update({\"leaky_k\": 0.2})\n",
    "dummy5[\"generators\"] = (gen1, gen2)\n",
    "dummy_parameters.append(dummy5)\n",
    "\n",
    "# create experiments\n",
    "ex = exp.Experiments(dummy_parameters, replicates=3)\n",
    "\n",
    "ex.plot_traces()"
   ]
  },
  {
   "cell_type": "code",
   "execution_count": null,
   "id": "44a50829-58d4-4f1a-8181-a4b926b948b5",
   "metadata": {
    "ExecuteTime": {
     "end_time": "2024-03-20T21:40:17.838309Z",
     "start_time": "2024-03-20T21:31:48.995989Z"
    },
    "execution": {
     "iopub.execute_input": "2024-03-13T18:17:20.639115Z",
     "iopub.status.busy": "2024-03-13T18:17:20.638802Z",
     "iopub.status.idle": "2024-03-13T18:26:03.622199Z",
     "shell.execute_reply": "2024-03-13T18:26:03.621648Z",
     "shell.execute_reply.started": "2024-03-13T18:17:20.639095Z"
    }
   },
   "outputs": [],
   "source": [
    "ex.create_embedding(dict(FExt=None, CNN=None, RNN=None))"
   ]
  },
  {
   "cell_type": "code",
   "execution_count": null,
   "id": "b5c02342-a558-4081-ba9c-58108a61bd0f",
   "metadata": {
    "ExecuteTime": {
     "end_time": "2024-03-20T21:47:23.191603Z",
     "start_time": "2024-03-20T21:40:17.839719Z"
    },
    "execution": {
     "iopub.execute_input": "2024-03-13T18:26:03.623507Z",
     "iopub.status.busy": "2024-03-13T18:26:03.623283Z",
     "iopub.status.idle": "2024-03-13T18:33:12.349946Z",
     "shell.execute_reply": "2024-03-13T18:33:12.349289Z",
     "shell.execute_reply.started": "2024-03-13T18:26:03.623485Z"
    }
   },
   "outputs": [],
   "source": [
    "ex.conditional_contrasts()"
   ]
  },
  {
   "cell_type": "code",
   "execution_count": null,
   "id": "16f49987-7778-4303-bc78-09eb79991c87",
   "metadata": {
    "ExecuteTime": {
     "end_time": "2024-03-20T21:48:05.461611Z",
     "start_time": "2024-03-20T21:47:23.193824Z"
    },
    "execution": {
     "iopub.execute_input": "2024-03-13T18:33:12.351139Z",
     "iopub.status.busy": "2024-03-13T18:33:12.350912Z",
     "iopub.status.idle": "2024-03-13T18:33:45.509074Z",
     "shell.execute_reply": "2024-03-13T18:33:45.508446Z",
     "shell.execute_reply.started": "2024-03-13T18:33:12.351119Z"
    }
   },
   "outputs": [],
   "source": [
    "ex.coincidence_detection()"
   ]
  },
  {
   "cell_type": "code",
   "execution_count": null,
   "id": "ca8c6836-4f7c-4748-9d84-2aeb5e8f44d7",
   "metadata": {
    "ExecuteTime": {
     "end_time": "2024-03-20T21:48:05.505330Z",
     "start_time": "2024-03-20T21:48:05.462702Z"
    },
    "execution": {
     "iopub.execute_input": "2024-03-13T18:33:45.510191Z",
     "iopub.status.busy": "2024-03-13T18:33:45.509934Z",
     "iopub.status.idle": "2024-03-13T18:33:45.558045Z",
     "shell.execute_reply": "2024-03-13T18:33:45.557371Z",
     "shell.execute_reply.started": "2024-03-13T18:33:45.510167Z"
    }
   },
   "outputs": [],
   "source": [
    "results = ex.get_results()\n",
    "display(results.head(3))\n",
    "display(results.tail(3))"
   ]
  },
  {
   "cell_type": "code",
   "execution_count": null,
   "id": "5dd4340c-5c88-4fee-b7fa-27ad00214d3b",
   "metadata": {
    "ExecuteTime": {
     "end_time": "2024-03-20T21:52:11.591910Z",
     "start_time": "2024-03-20T21:52:00.608959Z"
    },
    "execution": {
     "iopub.execute_input": "2024-03-13T19:20:47.112040Z",
     "iopub.status.busy": "2024-03-13T19:20:47.110195Z",
     "iopub.status.idle": "2024-03-13T19:20:53.330198Z",
     "shell.execute_reply": "2024-03-13T19:20:53.329492Z",
     "shell.execute_reply.started": "2024-03-13T19:20:47.111925Z"
    }
   },
   "outputs": [],
   "source": [
    "importlib.reload(exp)\n",
    "\n",
    "panel_column = \"name\"\n",
    "panel_rows = [\"conditional_contrasts\", \"coincidence_detection\"]\n",
    "# chr(65)\n",
    "figsize = (3, 3)\n",
    "num_samples = 4\n",
    "alpha = .9\n",
    "linestyle = \"--\"\n",
    "\n",
    "# df = results[results.data_split == \"test\"]\n",
    "df = results.copy()\n",
    "\n",
    "if isinstance(panel_rows, str):\n",
    "    panel_rows = [panel_rows]\n",
    "\n",
    "with warnings.catch_warnings():\n",
    "    warnings.simplefilter('ignore')\n",
    "    \n",
    "    panels = df[panel_column].unique()\n",
    "    N = 1 + len(panel_rows)\n",
    "    M = len(panels)\n",
    "    fig, axx = plt.subplots(N, M, figsize=(M * figsize[0], N * figsize[1]))\n",
    "    \n",
    "    # plot traces\n",
    "    img_y = 0\n",
    "    for img_x, name in enumerate(panels):\n",
    "        \n",
    "        ax = axx[img_y, img_x]\n",
    "        \n",
    "        plot = None\n",
    "        for eObj in ex.experiments:\n",
    "            if eObj.name == name:\n",
    "                plot = eObj.plot\n",
    "                break\n",
    "        \n",
    "        if plot is not None:\n",
    "            _ = plot.plot_traces(title=f\"{panel_column}: {name}\", num_samples=num_samples, by=\"group\", alpha=alpha,\n",
    "                                 linestyle=linestyle, ax=ax)\n",
    "    \n",
    "    # plot rows\n",
    "    for panel_row in panel_rows:\n",
    "        \n",
    "        img_y += 1\n",
    "        \n",
    "        for img_x, panel in enumerate(panels):\n",
    "            \n",
    "            ax = axx[img_y, img_x]\n",
    "            \n",
    "            selected = df[(df.evaluation_type == panel_row) & (df[panel_column] == panel)]\n",
    "            # _ = sns.barplot(data=selected, x=\"embedding\", y=\"score\", hue=\"type\", ax=ax)\n",
    "            # _ = sns.swarmplot(data=selected, x=\"embedding\", y=\"score\", hue=\"data_split\", style=\"cluster_type\", ax=ax)\n",
    "            \n",
    "            show_legend = True if ax == axx[img_y, -1] else False\n",
    "            \n",
    "            exp.Experiments.plot_heatmap(df=selected, evaluation_type=panel_row, index='embedding',\n",
    "                                         columns='data_split',\n",
    "                                         group_by=\"cluster_type\", show_legend=show_legend, ax=ax)\n",
    "    \n",
    "    # remove y-labels\n",
    "    axx_ = axx[1:, :].flatten().tolist()\n",
    "    for ax in axx_:\n",
    "        ax.set_ylabel(None)\n",
    "        ax.set_xlabel(None)\n",
    "    \n",
    "    for i, panel in enumerate(panel_rows):\n",
    "        axx[i + 1, 0].set_ylabel(panel.replace(\"_\", \" \"))\n",
    "    \n",
    "    # clean xticklabels\n",
    "    axx_ = axx[1:, :].flatten().tolist()\n",
    "    for ax in axx_:\n",
    "        yticklabels = ax.get_yticklabels()\n",
    "        yticklabels = [y.get_text().split(\"_\")[0] for y in yticklabels]\n",
    "        ax.set_yticklabels(yticklabels, rotation='vertical')\n",
    "    \n",
    "    # axx_ = axx[1:, 1:].flatten().tolist()\n",
    "    # for ax in axx_:\n",
    "    #     ax.set_yticklabels([])\n",
    "    \n",
    "    # legends\n",
    "    # axx_ = axx[1:, :-1].flatten().tolist()\n",
    "    # for ax in axx_:\n",
    "    #     ax.get_legend().remove()\n",
    "    \n",
    "    # axx_ = axx[:, -1].flatten().tolist()\n",
    "    # for ax in axx_:\n",
    "    #     sns.move_legend(ax, loc=\"upper left\", bbox_to_anchor=(1.04, 1))\n",
    "\n",
    "plt.tight_layout()\n",
    "\n",
    "fig_name = 6\n",
    "save_path = Path.cwd().parent.joinpath(f\"{fig_name}.png\")\n",
    "print(save_path)\n",
    "fig.savefig(save_path, dpi=(260))\n",
    "\n",
    "legend = \"\"\"\n",
    "Performance of Different Algorithms on Analyzing Various Synthetic Datasets. A) Showcase of synthetic calcium events designed to represent various levels of analytical difficulty, where color coding corresponds to events generated under different parameter sets that simulate diverse conditions or event types. All events include a random noise amplitude of 0.001 and parameter fluctuations of 0.01, subtly varying each event's parameters. B) Conditional contrasts analysis assesses algorithmic efficiency in distinguishing events from differing conditions (groups 1-3). Events are characterized using different methods: FExt for Feature Extraction, CNN for Convolutional Autoencoder, and RNN for Recurrent Autoencoder. The hierarchical clustering leverages distance metrics between events (Pearson correlationor dynamic time warping), depicted by the absence of training dependency in grey. CNN's inability to process variable-length events results in its omission in the final panel. C) Coincidence detection analysis gauges algorithm performance in predicting the occurrence of stimulus events. This encompasses two groups: one with events exclusively occurring during a stimulus and another with randomly occurring events. The embedding classifier and prediction methods are consistent with panel B, where the classifier identifies stimulus occurrence, and regression determines the exact timing of the stimulus in coinciding events. For all scores the worst score out of 3 replicates is displayed.\n",
    "\"\"\"\n",
    "legend_path = Path.cwd().parent.joinpath(f\"{fig_name}.txt\")\n",
    "with open(legend_path, 'w') as f:\n",
    "    f.write(legend)"
   ]
  },
  {
   "cell_type": "code",
   "execution_count": null,
   "id": "840dab4a-6be0-449e-b4fe-ef6346ce12fc",
   "metadata": {
    "ExecuteTime": {
     "end_time": "2024-03-20T21:48:15.348568Z",
     "start_time": "2024-03-20T21:48:15.346548Z"
    },
    "execution": {
     "iopub.execute_input": "2024-03-13T19:11:13.413382Z",
     "iopub.status.busy": "2024-03-13T19:11:13.413113Z",
     "iopub.status.idle": "2024-03-13T19:11:13.418202Z",
     "shell.execute_reply": "2024-03-13T19:11:13.417373Z",
     "shell.execute_reply.started": "2024-03-13T19:11:13.413359Z"
    }
   },
   "outputs": [],
   "source": []
  },
  {
   "cell_type": "code",
   "execution_count": null,
   "id": "395d51d8-f4f9-44f4-b547-62bec3f5550f",
   "metadata": {
    "ExecuteTime": {
     "end_time": "2024-03-20T21:48:15.352883Z",
     "start_time": "2024-03-20T21:48:15.349532Z"
    }
   },
   "outputs": [],
   "source": [
    "legend = \"\"\"\n",
    "\n",
    "\"\"\"\n",
    "\n",
    "# groups (1-3)?"
   ]
  },
  {
   "cell_type": "markdown",
   "id": "c0aef29344ffb51f",
   "metadata": {
    "collapsed": false
   },
   "source": [
    "# Troubleshoot regression"
   ]
  },
  {
   "cell_type": "code",
   "execution_count": null,
   "id": "9b93f37f1923515",
   "metadata": {
    "ExecuteTime": {
     "end_time": "2024-03-20T21:48:15.356273Z",
     "start_time": "2024-03-20T21:48:15.354123Z"
    }
   },
   "outputs": [],
   "source": []
  },
  {
   "cell_type": "code",
   "execution_count": null,
   "id": "386898c6a81d7117",
   "metadata": {
    "ExecuteTime": {
     "end_time": "2024-03-20T21:48:15.373061Z",
     "start_time": "2024-03-20T21:48:15.358666Z"
    }
   },
   "outputs": [],
   "source": [
    "big = [e for e in ex.experiments if e.name == \"big_diff\"]\n",
    "display(len(big))\n",
    "\n",
    "dataset = big[0].copy()\n",
    "display(dataset)\n",
    "\n",
    "tim0, tim1, tim2 = timings"
   ]
  },
  {
   "cell_type": "code",
   "execution_count": null,
   "id": "48fb7116cc922a73",
   "metadata": {
    "ExecuteTime": {
     "end_time": "2024-03-20T21:48:15.424423Z",
     "start_time": "2024-03-20T21:48:15.374244Z"
    }
   },
   "outputs": [],
   "source": [
    "ev = dataset.filter(dict(z0=(940, 1060)), inplace=False)\n",
    "ev"
   ]
  }
 ],
 "metadata": {
  "kernelspec": {
   "display_name": "Python 3 (ipykernel)",
   "language": "python",
   "name": "python3"
  },
  "language_info": {
   "codemirror_mode": {
    "name": "ipython",
    "version": 3
   },
   "file_extension": ".py",
   "mimetype": "text/x-python",
   "name": "python",
   "nbconvert_exporter": "python",
   "pygments_lexer": "ipython3",
   "version": "3.10.13"
  }
 },
 "nbformat": 4,
 "nbformat_minor": 5
}
