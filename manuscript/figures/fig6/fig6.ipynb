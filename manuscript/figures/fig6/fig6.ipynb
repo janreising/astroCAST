{
 "cells": [
  {
   "cell_type": "code",
   "execution_count": null,
   "id": "initial_id",
   "metadata": {
    "execution": {
     "iopub.execute_input": "2024-03-08T17:06:27.416645Z",
     "iopub.status.busy": "2024-03-08T17:06:27.415641Z",
     "iopub.status.idle": "2024-03-08T17:06:27.455169Z",
     "shell.execute_reply": "2024-03-08T17:06:27.453921Z",
     "shell.execute_reply.started": "2024-03-08T17:06:27.416543Z"
    },
    "is_executing": true
   },
   "outputs": [],
   "source": [
    "from pathlib import Path\n",
    "import numpy as np\n",
    "import importlib\n",
    "from matplotlib import pyplot as plt\n",
    "import humanize\n",
    "import sys\n",
    "import os, psutil\n",
    "import time\n",
    "import shutil\n",
    "\n",
    "import astrocast.reduction as red\n",
    "import astrocast.clustering as clust\n",
    "import astrocast.analysis as ana\n",
    "import astrocast.autoencoders as AE\n",
    "import astrocast.helper as helper\n",
    "\n",
    "for pack in [red, clust, helper, ana, AE, astroHelper]:\n",
    "    importlib.reload(pack)\n"
   ]
  },
  {
   "cell_type": "code",
   "execution_count": null,
   "id": "f52b852f-4600-4e16-819f-3be672741ee8",
   "metadata": {
    "execution": {
     "iopub.execute_input": "2024-03-08T17:44:08.386519Z",
     "iopub.status.busy": "2024-03-08T17:44:08.386154Z",
     "iopub.status.idle": "2024-03-08T17:44:08.390394Z",
     "shell.execute_reply": "2024-03-08T17:44:08.389795Z",
     "shell.execute_reply.started": "2024-03-08T17:44:08.386496Z"
    }
   },
   "outputs": [],
   "source": [
    "# default settings signal generator\n",
    "def_gen = dict(noise_amplitude=0.0001, trace_length=(50, 50))\n",
    "def_dummy = dict(num_rows=1000, )\n"
   ]
  },
  {
   "cell_type": "markdown",
   "id": "8f0759a9-8f0a-426d-a3f1-f20b97b4d57e",
   "metadata": {},
   "source": [
    "# Generate example datasets"
   ]
  },
  {
   "cell_type": "code",
   "execution_count": null,
   "id": "71df99f5-9a3d-41da-a6b4-167155a3ee36",
   "metadata": {
    "execution": {
     "iopub.execute_input": "2024-03-08T17:44:10.308657Z",
     "iopub.status.busy": "2024-03-08T17:44:10.308387Z",
     "iopub.status.idle": "2024-03-08T17:44:10.902456Z",
     "shell.execute_reply": "2024-03-08T17:44:10.901761Z",
     "shell.execute_reply.started": "2024-03-08T17:44:10.308632Z"
    }
   },
   "outputs": [],
   "source": [
    "# Identical\n",
    "sig_1 = helper.SignalGenerator(**def_gen)\n",
    "sig_2 = helper.SignalGenerator(**def_gen)\n",
    "\n",
    "dg = helper.DummyGenerator(generators=(sig_1, sig_2), **def_dummy)\n",
    "e_ident = dg.get_events()\n",
    "# display(e_ident)\n",
    "e_ident.name = \"ident\"\n",
    "\n",
    "plot_ident = ana.Plotting(e_ident)\n",
    "ax = plot_ident.plot_traces(num_samples=4, by=\"group\", figsize=(2, 2))"
   ]
  },
  {
   "cell_type": "code",
   "execution_count": null,
   "id": "c8544d69-cda3-42ec-ae97-75fd395790fd",
   "metadata": {
    "execution": {
     "iopub.execute_input": "2024-03-08T17:44:13.012048Z",
     "iopub.status.busy": "2024-03-08T17:44:13.011534Z",
     "iopub.status.idle": "2024-03-08T17:44:13.577631Z",
     "shell.execute_reply": "2024-03-08T17:44:13.577206Z",
     "shell.execute_reply.started": "2024-03-08T17:44:13.012023Z"
    }
   },
   "outputs": [],
   "source": [
    "# different\n",
    "sig_1 = helper.SignalGenerator(b=2, plateau_duration=6, **def_gen)\n",
    "sig_2 = helper.SignalGenerator(**def_gen)\n",
    "\n",
    "dg = helper.DummyGenerator(generators=(sig_1, sig_2), **def_dummy)\n",
    "e_diff = dg.get_events()\n",
    "# display(e_diff)\n",
    "e_diff.name = \"diff\"\n",
    "\n",
    "plot_diff = ana.Plotting(e_diff)\n",
    "ax = plot_diff.plot_traces(num_samples=4, by=\"group\", figsize=(2, 2))"
   ]
  },
  {
   "cell_type": "markdown",
   "id": "b47e970a-4fe8-4e52-ba11-c4f12b4da5c1",
   "metadata": {
    "collapsed": false
   },
   "source": [
    "# Conditional Constrasts"
   ]
  },
  {
   "cell_type": "markdown",
   "id": "9fc6adf5-8861-4863-be0e-69b706ec5e52",
   "metadata": {},
   "source": [
    "## Reduction"
   ]
  },
  {
   "cell_type": "code",
   "execution_count": null,
   "id": "d2a2c79c-579e-4582-9d1c-8d96263633a0",
   "metadata": {
    "execution": {
     "iopub.execute_input": "2024-03-08T17:36:36.375874Z",
     "iopub.status.busy": "2024-03-08T17:36:36.375575Z",
     "iopub.status.idle": "2024-03-08T17:36:36.379177Z",
     "shell.execute_reply": "2024-03-08T17:36:36.378554Z",
     "shell.execute_reply.started": "2024-03-08T17:36:36.375850Z"
    }
   },
   "outputs": [],
   "source": [
    "embeddings = {}"
   ]
  },
  {
   "cell_type": "markdown",
   "id": "0cffdfb6-38ba-4a69-ae42-801445a480f6",
   "metadata": {},
   "source": [
    "### Feature Extraction"
   ]
  },
  {
   "cell_type": "code",
   "execution_count": null,
   "id": "ac5d7813-b402-441f-8e90-6ef6696f6851",
   "metadata": {
    "execution": {
     "iopub.execute_input": "2024-03-08T17:36:56.736003Z",
     "iopub.status.busy": "2024-03-08T17:36:56.735759Z",
     "iopub.status.idle": "2024-03-08T17:37:02.427314Z",
     "shell.execute_reply": "2024-03-08T17:37:02.426547Z",
     "shell.execute_reply.started": "2024-03-08T17:36:56.735980Z"
    }
   },
   "outputs": [],
   "source": [
    "feature_extraction = {}\n",
    "\n",
    "for eObj in [e_ident, e_diff]:\n",
    "    \n",
    "    fe = red.FeatureExtraction(eObj)\n",
    "    features = fe.all_features(dropna=True)\n",
    "    feature_extraction[eObj.name] = features.values.astype(float)\n",
    "\n",
    "embeddings[\"fe\"] = feature_extraction"
   ]
  },
  {
   "cell_type": "markdown",
   "id": "47e7dced-7411-4384-a497-74c7d67c6bba",
   "metadata": {
    "execution": {
     "iopub.execute_input": "2024-03-08T17:18:35.152007Z",
     "iopub.status.busy": "2024-03-08T17:18:35.151662Z",
     "iopub.status.idle": "2024-03-08T17:18:35.155228Z",
     "shell.execute_reply": "2024-03-08T17:18:35.154630Z",
     "shell.execute_reply.started": "2024-03-08T17:18:35.151982Z"
    }
   },
   "source": [
    "### CNN Autoencoder"
   ]
  },
  {
   "cell_type": "code",
   "execution_count": null,
   "id": "5c15aa60-bc4a-49e7-8984-88c3ebb21bdf",
   "metadata": {
    "execution": {
     "iopub.execute_input": "2024-03-08T17:48:17.385930Z",
     "iopub.status.busy": "2024-03-08T17:48:17.385653Z",
     "iopub.status.idle": "2024-03-08T17:48:22.373649Z",
     "shell.execute_reply": "2024-03-08T17:48:22.373030Z",
     "shell.execute_reply.started": "2024-03-08T17:48:17.385903Z"
    }
   },
   "outputs": [],
   "source": [
    "cnn_autoencoder = {}\n",
    "\n",
    "for eObj in [e_ident, e_diff]:\n",
    "    \n",
    "    target_length = def_gen[\"trace_length\"][0]\n",
    "    data = np.array(eObj.events.trace.tolist())\n",
    "    display(data.shape)\n",
    "    \n",
    "    cnn = AE.CNN_Autoencoder(target_length=target_length, use_cuda=True)\n",
    "    X_train, X_val, X_test = cnn.split_dataset(data=data)\n",
    "    \n",
    "    cnn.train_autoencoder(X_train=X_train, X_val=X_val, epochs=25)\n",
    "    \n",
    "    embedding = cnn.embed(data)\n",
    "    cnn_autoencoder[eObj.name] = embedding.astype(float)\n",
    "\n",
    "embeddings[\"cnn\"] = cnn_autoencoder\n",
    "\n",
    "\n"
   ]
  },
  {
   "cell_type": "markdown",
   "id": "0d95b9b9-1e22-49c5-a7e3-b56e1238ee2b",
   "metadata": {},
   "source": [
    "### RNN Autoencoder"
   ]
  },
  {
   "cell_type": "code",
   "execution_count": null,
   "id": "643f2403-cf7f-4204-ac15-57568b7dcb46",
   "metadata": {
    "execution": {
     "iopub.execute_input": "2024-03-08T17:51:56.274205Z",
     "iopub.status.busy": "2024-03-08T17:51:56.273798Z"
    }
   },
   "outputs": [],
   "source": [
    "rnn_autoencoder = {}\n",
    "\n",
    "for eObj in [e_ident, e_diff]:\n",
    "    \n",
    "    pdl = AE.PaddedDataLoader(data=eObj.events.trace)\n",
    "    X_train, X_val, X_test = pdl.get_datasets(batch_size=16,\n",
    "                                              val_size=0.1,\n",
    "                                              test_size=0.05)\n",
    "    \n",
    "    tRAE = AE.TimeSeriesRnnAE(use_cuda=True)\n",
    "    tRAE.train_epochs(dataloader_train=X_train,\n",
    "                      dataloader_val=X_val,\n",
    "                      num_epochs=10,\n",
    "                      patience=10,\n",
    "                      safe_after_epoch=None,\n",
    "                      show_mode='progress'\n",
    "                      )\n",
    "    \n",
    "    X = pdl.get_dataloader(data=eObj.events.trace, batch_size=16, shuffle=False)\n",
    "    _, _, embedding, _ = tRAE.embedd(X)\n",
    "    \n",
    "    rnn_autoencoder[eObj.name] = np.array(embedding).astype(float)\n",
    "\n",
    "embeddings[\"rnn\"] = rnn_autoencoder"
   ]
  },
  {
   "cell_type": "markdown",
   "id": "27b34b9f-bf44-43f1-8cf9-e5dc0f49b604",
   "metadata": {},
   "source": [
    "## Classifier (Predict condition)"
   ]
  },
  {
   "cell_type": "code",
   "execution_count": null,
   "id": "129a6f10-46d9-4e33-9cc6-ff16a4c06fe4",
   "metadata": {
    "execution": {
     "iopub.execute_input": "2024-03-08T17:48:27.083280Z",
     "iopub.status.busy": "2024-03-08T17:48:27.082455Z",
     "iopub.status.idle": "2024-03-08T17:48:30.003044Z",
     "shell.execute_reply": "2024-03-08T17:48:30.002277Z",
     "shell.execute_reply.started": "2024-03-08T17:48:27.083254Z"
    }
   },
   "outputs": [],
   "source": [
    "importlib.reload(clust)\n",
    "\n",
    "for eObj in [e_ident, e_diff]:\n",
    "    for emb_name, embedding in embeddings.items():\n",
    "        discr = clust.Discriminator(eObj)\n",
    "        \n",
    "        clf = discr.train_classifier(embedding=embedding[eObj.name], category_vector=eObj.events.group.tolist())\n",
    "        discr.evaluate(show_plot=True, title=f\"condition {i}: {eObj.name} [{emb_name}]\", figsize=(8, 4))\n"
   ]
  }
 ],
 "metadata": {
  "kernelspec": {
   "display_name": "Python 3 (ipykernel)",
   "language": "python",
   "name": "python3"
  },
  "language_info": {
   "codemirror_mode": {
    "name": "ipython",
    "version": 3
   },
   "file_extension": ".py",
   "mimetype": "text/x-python",
   "name": "python",
   "nbconvert_exporter": "python",
   "pygments_lexer": "ipython3",
   "version": "3.10.13"
  }
 },
 "nbformat": 4,
 "nbformat_minor": 5
}
