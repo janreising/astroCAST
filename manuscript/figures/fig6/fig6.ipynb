{
 "cells": [
  {
   "cell_type": "code",
   "execution_count": null,
   "id": "initial_id",
   "metadata": {
    "execution": {
     "iopub.execute_input": "2024-03-11T19:37:01.575748Z",
     "iopub.status.busy": "2024-03-11T19:37:01.575488Z",
     "iopub.status.idle": "2024-03-11T19:37:14.202297Z",
     "shell.execute_reply": "2024-03-11T19:37:14.201676Z",
     "shell.execute_reply.started": "2024-03-11T19:37:01.575719Z"
    },
    "is_executing": true
   },
   "outputs": [],
   "source": [
    "from pathlib import Path\n",
    "import numpy as np\n",
    "import importlib\n",
    "from matplotlib import pyplot as plt\n",
    "import humanize\n",
    "import sys\n",
    "import os, psutil\n",
    "import time\n",
    "import shutil\n",
    "import pandas as pd\n",
    "import seaborn as sns\n",
    "import warnings\n",
    "from sklearn.metrics import ConfusionMatrixDisplay, confusion_matrix\n",
    "import logging\n",
    "\n",
    "import astrocast.reduction as red\n",
    "import astrocast.clustering as clust\n",
    "import astrocast.analysis as ana\n",
    "import astrocast.autoencoders as AE\n",
    "import astrocast.helper as helper\n",
    "\n",
    "for pack in [red, clust, helper, ana, AE, helper]:\n",
    "    importlib.reload(pack)\n"
   ]
  },
  {
   "cell_type": "markdown",
   "id": "8f0759a9-8f0a-426d-a3f1-f20b97b4d57e",
   "metadata": {},
   "source": [
    "# Generate example datasets"
   ]
  },
  {
   "cell_type": "code",
   "execution_count": null,
   "id": "d8c92b56-1199-4916-91a0-aec60603b922",
   "metadata": {
    "execution": {
     "iopub.execute_input": "2024-03-11T19:37:14.203948Z",
     "iopub.status.busy": "2024-03-11T19:37:14.203194Z",
     "iopub.status.idle": "2024-03-11T19:37:14.216203Z",
     "shell.execute_reply": "2024-03-11T19:37:14.215504Z",
     "shell.execute_reply.started": "2024-03-11T19:37:14.203923Z"
    }
   },
   "outputs": [],
   "source": [
    "importlib.reload(helper)\n",
    "\n",
    "# default settings signal generator\n",
    "# noise_amplitude = 0.0001\n",
    "def_gen = dict(noise_amplitude=0.001, trace_length=(50, 50), parameter_fluctuations=0.01)\n",
    "ident = (def_gen, def_gen)\n",
    "\n",
    "# big diff\n",
    "def_diff = def_gen.copy()\n",
    "def_diff.update(dict(b=2, plateau_duration=6))\n",
    "diff = (def_gen, def_diff)\n",
    "\n",
    "# small diff\n",
    "small_diff_1 = def_gen.copy()\n",
    "small_diff_1.update(dict(b=1.5, plateau_duration=2, signal_amplitude=1))\n",
    "\n",
    "small_diff_2 = def_gen.copy()\n",
    "small_diff_2.update(dict(signal_amplitude=1))\n",
    "small_diff = (small_diff_1, small_diff_2)\n",
    "\n",
    "# tripple \n",
    "trip_1 = def_gen.copy()\n",
    "trip_1.update(dict(b=1, plateau_duration=1, signal_amplitude=1))\n",
    "\n",
    "trip_2 = def_gen.copy()\n",
    "trip_2.update(dict(b=0.8, plateau_duration=2, signal_amplitude=1))\n",
    "\n",
    "trip_3 = def_gen.copy()\n",
    "trip_3.update(dict(b=3, plateau_duration=5, signal_amplitude=1))\n",
    "triplet = [trip_1, trip_2, trip_3]\n",
    "\n",
    "# Variable Length\n",
    "def_var_1 = def_gen.copy()\n",
    "def_var_1.update(dict(trace_length=60, ragged_allowed=True, signal_amplitude=None, abort_amplitude=None))\n",
    "\n",
    "def_var_2 = def_var_1.copy()\n",
    "def_var_2.update(dict(leaky_k=0.2))\n",
    "var_length = (def_var_1, def_var_2)\n"
   ]
  },
  {
   "cell_type": "code",
   "execution_count": null,
   "id": "71df99f5-9a3d-41da-a6b4-167155a3ee36",
   "metadata": {
    "execution": {
     "iopub.execute_input": "2024-03-11T19:37:14.217343Z",
     "iopub.status.busy": "2024-03-11T19:37:14.217103Z",
     "iopub.status.idle": "2024-03-11T19:37:23.863491Z",
     "shell.execute_reply": "2024-03-11T19:37:23.862907Z",
     "shell.execute_reply.started": "2024-03-11T19:37:14.217323Z"
    }
   },
   "outputs": [],
   "source": [
    "importlib.reload(ana)\n",
    "\n",
    "def_dummy = dict(num_rows=1000)\n",
    "gen_params = {\"ident\": ident, \"diff\": diff, \"small_diff\": small_diff, \"triplet\": triplet, \"var_length\": var_length}\n",
    "\n",
    "experiments = {}\n",
    "e_id = 0\n",
    "for _ in range(3):\n",
    "    for k, gen_param in gen_params.items():\n",
    "        \n",
    "        experiments[e_id] = {}\n",
    "        \n",
    "        ############################################\n",
    "        # Create generator for identical populations\n",
    "        generators = [helper.SignalGenerator(**param, ) for param in gen_param]\n",
    "        dg = helper.DummyGenerator(generators=generators, **def_dummy)\n",
    "        \n",
    "        eObj = dg.get_events()\n",
    "        eObj.name = k\n",
    "        \n",
    "        # save events\n",
    "        experiments[e_id][\"eObj\"] = eObj\n",
    "        experiments[e_id][\"population_type\"] = eObj.name\n",
    "        \n",
    "        #########################\n",
    "        # Plot example population\n",
    "        param = dict(num_samples=4, by=\"group\", alpha=.9, linestyle=\"--\", )\n",
    "        \n",
    "        plot = ana.Plotting(eObj)\n",
    "        _ = plot.plot_traces(figsize=(4, 2), title=f\"Exp {e_id} ({k})\", **param)\n",
    "        \n",
    "        experiments[e_id][\"plot\"] = plot\n",
    "        \n",
    "        ##############\n",
    "        # increment id\n",
    "        e_id += 1"
   ]
  },
  {
   "cell_type": "code",
   "execution_count": null,
   "id": "e4b527f0-f2b3-43f3-b4aa-73c4f43b550e",
   "metadata": {
    "execution": {
     "iopub.execute_input": "2024-03-12T14:06:11.121605Z",
     "iopub.status.busy": "2024-03-12T14:06:11.120617Z",
     "iopub.status.idle": "2024-03-12T14:06:11.170810Z",
     "shell.execute_reply": "2024-03-12T14:06:11.169415Z",
     "shell.execute_reply.started": "2024-03-12T14:06:11.121506Z"
    }
   },
   "outputs": [],
   "source": [
    "experiments[0][\"eObj\"]"
   ]
  },
  {
   "cell_type": "markdown",
   "id": "b47e970a-4fe8-4e52-ba11-c4f12b4da5c1",
   "metadata": {
    "collapsed": false,
    "jp-MarkdownHeadingCollapsed": true
   },
   "source": [
    "# Conditional Constrasts"
   ]
  },
  {
   "cell_type": "markdown",
   "id": "9fc6adf5-8861-4863-be0e-69b706ec5e52",
   "metadata": {},
   "source": [
    "## Reduction"
   ]
  },
  {
   "cell_type": "markdown",
   "id": "0cffdfb6-38ba-4a69-ae42-801445a480f6",
   "metadata": {},
   "source": [
    "### Feature Extraction"
   ]
  },
  {
   "cell_type": "code",
   "execution_count": null,
   "id": "ac5d7813-b402-441f-8e90-6ef6696f6851",
   "metadata": {
    "execution": {
     "iopub.execute_input": "2024-03-11T19:37:23.864468Z",
     "iopub.status.busy": "2024-03-11T19:37:23.864255Z",
     "iopub.status.idle": "2024-03-11T19:38:03.957682Z",
     "shell.execute_reply": "2024-03-11T19:38:03.957080Z",
     "shell.execute_reply.started": "2024-03-11T19:37:23.864446Z"
    }
   },
   "outputs": [],
   "source": [
    "for i, exp in experiments.items():\n",
    "    eObj = exp[\"eObj\"]\n",
    "    \n",
    "    fe = red.FeatureExtraction(eObj)\n",
    "    \n",
    "    features = fe.all_features(dropna=True)\n",
    "    features = features.values.astype(float)\n",
    "    \n",
    "    if \"embeddings\" not in experiments[i]:\n",
    "        experiments[i][\"embeddings\"] = {}\n",
    "    \n",
    "    experiments[i][\"embeddings\"][\"FExt\"] = features\n"
   ]
  },
  {
   "cell_type": "markdown",
   "id": "47e7dced-7411-4384-a497-74c7d67c6bba",
   "metadata": {
    "execution": {
     "iopub.execute_input": "2024-03-08T17:18:35.152007Z",
     "iopub.status.busy": "2024-03-08T17:18:35.151662Z",
     "iopub.status.idle": "2024-03-08T17:18:35.155228Z",
     "shell.execute_reply": "2024-03-08T17:18:35.154630Z",
     "shell.execute_reply.started": "2024-03-08T17:18:35.151982Z"
    }
   },
   "source": [
    "### CNN Autoencoder"
   ]
  },
  {
   "cell_type": "code",
   "execution_count": null,
   "id": "5c15aa60-bc4a-49e7-8984-88c3ebb21bdf",
   "metadata": {
    "execution": {
     "iopub.execute_input": "2024-03-11T19:38:03.960583Z",
     "iopub.status.busy": "2024-03-11T19:38:03.960357Z",
     "iopub.status.idle": "2024-03-11T19:38:34.850510Z",
     "shell.execute_reply": "2024-03-11T19:38:34.849881Z",
     "shell.execute_reply.started": "2024-03-11T19:38:03.960561Z"
    }
   },
   "outputs": [],
   "source": [
    "for i, exp in experiments.items():\n",
    "    eObj = exp[\"eObj\"]\n",
    "    \n",
    "    # create CNNAutoEncoder\n",
    "    target_length = len(eObj.events.iloc[0].trace)\n",
    "    cnn = AE.CNN_Autoencoder(target_length=target_length, use_cuda=True)\n",
    "    \n",
    "    # prepare data\n",
    "    data = np.array(eObj.events.trace.tolist())\n",
    "    X_train, X_val, X_test = cnn.split_dataset(data=data)\n",
    "    \n",
    "    # train\n",
    "    cnn.train_autoencoder(X_train=X_train, X_val=X_val, epochs=25)\n",
    "    \n",
    "    # embedding\n",
    "    embedding = cnn.embed(data)\n",
    "    embedding = embedding.astype(float)\n",
    "    \n",
    "    experiments[i][\"embeddings\"][\"CNN\"] = embedding"
   ]
  },
  {
   "cell_type": "markdown",
   "id": "0d95b9b9-1e22-49c5-a7e3-b56e1238ee2b",
   "metadata": {},
   "source": [
    "### RNN Autoencoder"
   ]
  },
  {
   "cell_type": "code",
   "execution_count": null,
   "id": "643f2403-cf7f-4204-ac15-57568b7dcb46",
   "metadata": {
    "execution": {
     "iopub.execute_input": "2024-03-11T19:38:34.851279Z",
     "iopub.status.busy": "2024-03-11T19:38:34.851093Z",
     "iopub.status.idle": "2024-03-11T19:45:36.117248Z",
     "shell.execute_reply": "2024-03-11T19:45:36.116650Z",
     "shell.execute_reply.started": "2024-03-11T19:38:34.851258Z"
    }
   },
   "outputs": [],
   "source": [
    "for i, exp in experiments.items():\n",
    "    eObj = exp[\"eObj\"]\n",
    "    \n",
    "    # create data loader\n",
    "    pdl = AE.PaddedDataLoader(data=eObj.events.trace)\n",
    "    X_train, X_val, X_test = pdl.get_datasets(batch_size=16,\n",
    "                                              val_size=0.1,\n",
    "                                              test_size=0.05)\n",
    "    # train RecurrentAutoEncoder\n",
    "    tRAE = AE.TimeSeriesRnnAE(use_cuda=True)\n",
    "    tRAE.train_epochs(dataloader_train=X_train,\n",
    "                      dataloader_val=X_val,\n",
    "                      num_epochs=10,\n",
    "                      patience=10,\n",
    "                      safe_after_epoch=None,\n",
    "                      show_mode='progress'\n",
    "                      )\n",
    "    \n",
    "    # embedding\n",
    "    X = pdl.get_dataloader(data=eObj.events.trace, batch_size=16, shuffle=False)\n",
    "    _, _, embedding, _ = tRAE.embedd(X)\n",
    "    \n",
    "    embedding = np.array(embedding).astype(float)\n",
    "    \n",
    "    experiments[i][\"embeddings\"][\"RNN\"] = embedding"
   ]
  },
  {
   "cell_type": "markdown",
   "id": "27b34b9f-bf44-43f1-8cf9-e5dc0f49b604",
   "metadata": {
    "jp-MarkdownHeadingCollapsed": true
   },
   "source": [
    "## Classifier (Predict condition)"
   ]
  },
  {
   "cell_type": "code",
   "execution_count": null,
   "id": "129a6f10-46d9-4e33-9cc6-ff16a4c06fe4",
   "metadata": {
    "execution": {
     "iopub.execute_input": "2024-03-11T19:45:36.118330Z",
     "iopub.status.busy": "2024-03-11T19:45:36.118119Z",
     "iopub.status.idle": "2024-03-11T19:45:48.920567Z",
     "shell.execute_reply": "2024-03-11T19:45:48.920006Z",
     "shell.execute_reply.started": "2024-03-11T19:45:36.118309Z"
    }
   },
   "outputs": [],
   "source": [
    "importlib.reload(clust)\n",
    "\n",
    "results = {k: [] for k in ['eid', 'dataset', 'embedding', 'data split', 'cm', 'accuracy', 'precision', 'recall', 'f1']}\n",
    "\n",
    "for i, exp in experiments.items():\n",
    "    eObj = exp[\"eObj\"]\n",
    "    \n",
    "    for emb_name, embedding in exp['embeddings'].items():\n",
    "        \n",
    "        discr = clust.Discriminator(eObj)\n",
    "        \n",
    "        clf = discr.train_classifier(embedding=embedding, category_vector=eObj.events.group.tolist())\n",
    "        res = discr.evaluate(show_plot=False, title=f\"condition: {eObj.name} [{emb_name}]\", figsize=(8, 4))\n",
    "        \n",
    "        for k, v in res.items():\n",
    "            \n",
    "            results['eid'].append(i)\n",
    "            results['dataset'].append(exp['population_type'])\n",
    "            results['embedding'].append(emb_name)\n",
    "            results['data split'].append(k)\n",
    "            results['cm'].append(v['cm'])\n",
    "            results['accuracy'].append(v['accuracy'])\n",
    "            results['precision'].append(v['precision'])\n",
    "            results['recall'].append(v['recall'])\n",
    "            results['f1'].append(v['f1'])\n",
    "\n",
    "df = pd.DataFrame(results)\n",
    "df"
   ]
  },
  {
   "cell_type": "code",
   "execution_count": null,
   "id": "606b778f-afd4-4ade-a4a2-b3a0dc2e8b74",
   "metadata": {
    "execution": {
     "iopub.execute_input": "2024-03-11T19:45:48.921680Z",
     "iopub.status.busy": "2024-03-11T19:45:48.921452Z",
     "iopub.status.idle": "2024-03-11T19:45:53.718421Z",
     "shell.execute_reply": "2024-03-11T19:45:53.717789Z",
     "shell.execute_reply.started": "2024-03-11T19:45:48.921659Z"
    }
   },
   "outputs": [],
   "source": [
    "plot_type = \"barplot\"\n",
    "\n",
    "with warnings.catch_warnings():\n",
    "    warnings.simplefilter(\"ignore\")\n",
    "    \n",
    "    datasets = df.dataset.unique()\n",
    "    n_ds = len(datasets)\n",
    "    fig, axx = plt.subplots(2, n_ds, figsize=(int(3 * n_ds), 8))\n",
    "    \n",
    "    for n in range(n_ds):\n",
    "        \n",
    "        ds = datasets[n]\n",
    "        \n",
    "        # traces\n",
    "        plot = None\n",
    "        for i, exp in experiments.items():\n",
    "            if exp[\"population_type\"] == ds:\n",
    "                plot = exp['plot']\n",
    "                break\n",
    "        \n",
    "        if plot is not None:\n",
    "            _ = plot.plot_traces(num_samples=4, by=\"group\", ax=axx[0, n], alpha=.9, linestyle=\"--\")\n",
    "        \n",
    "        # precision\n",
    "        data = df[df.dataset == ds]\n",
    "        \n",
    "        if plot_type == \"pointplot\":\n",
    "            sns.pointplot(data=data, ax=axx[1, n], x=\"data split\", y=\"accuracy\", hue=\"embedding\", dodge=True)\n",
    "        \n",
    "        elif plot_type == \"barplot\":\n",
    "            sns.barplot(data=data, ax=axx[1, n], x=\"embedding\", y=\"accuracy\", hue=\"data split\")\n",
    "        \n",
    "        elif plot_type == \"violinplot\":\n",
    "            sns.violinplot(data=data, ax=axx[1, n], x=\"embedding\", y=\"accuracy\", hue=\"data split\", split=True)\n",
    "        else:\n",
    "            raise ValueError(f\"unknown plot type\")\n",
    "        \n",
    "        # axis label\n",
    "        axx[0, n].set_title(ds)\n",
    "    \n",
    "    # set random line\n",
    "    for ax in axx[1, :]:\n",
    "        ax.set_ylim(0, 1.1)\n",
    "        ax.axhline(0.5, linestyle=\"--\", color=\"gray\")\n",
    "    \n",
    "    # legends\n",
    "    for ax in axx[0, :-1]:\n",
    "        ax.get_legend().remove()\n",
    "    \n",
    "    for ax in axx[:, -1]:\n",
    "        sns.move_legend(ax, loc=\"upper left\", bbox_to_anchor=(1.04, 1))\n",
    "\n",
    "fig.savefig(\"conditional_classifier.png\", dpi=480)"
   ]
  },
  {
   "cell_type": "markdown",
   "id": "2704e801-c2b4-4d0c-9b8b-acd9b2a85771",
   "metadata": {
    "execution": {
     "iopub.execute_input": "2024-03-11T17:34:21.004131Z",
     "iopub.status.busy": "2024-03-11T17:34:21.003686Z",
     "iopub.status.idle": "2024-03-11T17:34:21.008562Z",
     "shell.execute_reply": "2024-03-11T17:34:21.007838Z",
     "shell.execute_reply.started": "2024-03-11T17:34:21.004107Z"
    },
    "jp-MarkdownHeadingCollapsed": true
   },
   "source": [
    "## Hierarchical Clustering"
   ]
  },
  {
   "cell_type": "code",
   "execution_count": null,
   "id": "7a802001-24e0-4512-b8ab-3d3f5cecf23b",
   "metadata": {
    "execution": {
     "iopub.execute_input": "2024-03-11T19:45:53.719542Z",
     "iopub.status.busy": "2024-03-11T19:45:53.719295Z",
     "iopub.status.idle": "2024-03-11T19:49:01.236124Z",
     "shell.execute_reply": "2024-03-11T19:49:01.235489Z",
     "shell.execute_reply.started": "2024-03-11T19:45:53.719520Z"
    }
   },
   "outputs": [],
   "source": [
    "importlib.reload(clust)\n",
    "\n",
    "link = clust.Linkage()\n",
    "for i, exp in experiments.items():\n",
    "    eObj = exp[\"eObj\"]\n",
    "    \n",
    "    for correlation_type in ['pearson', 'dtw']:\n",
    "        \n",
    "        num_groups = len(eObj.events.group.unique())\n",
    "        \n",
    "        barycenters, cluster_lookup_table = link.get_barycenters(eObj.events,\n",
    "                                                                 cutoff=num_groups, criterion='maxclust',\n",
    "                                                                 distance_type=correlation_type\n",
    "                                                                 )\n",
    "        print(experiments[i][\"population_type\"], num_groups,\n",
    "              len(np.unique(list(cluster_lookup_table.values()))))\n",
    "        \n",
    "        if \"distance\" not in experiments[i]:\n",
    "            experiments[i][\"distance\"] = {}\n",
    "        \n",
    "        experiments[i][\"distance\"][correlation_type] = dict(barycenters=barycenters,\n",
    "                                                            cluster_lookup_table=cluster_lookup_table)"
   ]
  },
  {
   "cell_type": "code",
   "execution_count": null,
   "id": "2ba3653a-aba4-4229-ac9e-00395810cb15",
   "metadata": {
    "execution": {
     "iopub.execute_input": "2024-03-11T19:49:01.237116Z",
     "iopub.status.busy": "2024-03-11T19:49:01.236890Z",
     "iopub.status.idle": "2024-03-11T19:49:01.510969Z",
     "shell.execute_reply": "2024-03-11T19:49:01.510364Z",
     "shell.execute_reply.started": "2024-03-11T19:49:01.237092Z"
    }
   },
   "outputs": [],
   "source": [
    "importlib.reload(clust)\n",
    "\n",
    "results = {k: [] for k in\n",
    "           ['eid', 'dataset', 'distance', 'adjusted_mutual_info_score', 'adjusted_rand_score', 'homogeneity_score',\n",
    "            'rand_score']}\n",
    "\n",
    "for i, exp in experiments.items():\n",
    "    eObj = exp[\"eObj\"]\n",
    "    \n",
    "    for corr_type, v in exp['distance'].items():\n",
    "        \n",
    "        true_labels = eObj.events.group.tolist()\n",
    "        predicted_labels = [v['cluster_lookup_table'][n] - 1 for n in range(len(true_labels))]\n",
    "        \n",
    "        with warnings.catch_warnings():\n",
    "            warnings.simplefilter(\"ignore\")\n",
    "            scores = clust.Discriminator.compute_scores(true_labels, predicted_labels, scoring=\"clustering\")\n",
    "            \n",
    "            cm = confusion_matrix(predicted_labels, true_labels, normalize=None)\n",
    "            experiments[i]['distance'][corr_type]['cm'] = cm\n",
    "            \n",
    "            results['eid'].append(i)\n",
    "            results['dataset'].append(exp['population_type'])\n",
    "            results['distance'].append(corr_type)\n",
    "            results['adjusted_mutual_info_score'].append(scores['adjusted_mutual_info_score'])\n",
    "            results['adjusted_rand_score'].append(scores['adjusted_rand_score'])\n",
    "            results['homogeneity_score'].append(scores['homogeneity_score'])\n",
    "            results['rand_score'].append(scores['rand_score'])\n",
    "\n",
    "df = pd.DataFrame(results)\n",
    "df"
   ]
  },
  {
   "cell_type": "code",
   "execution_count": null,
   "id": "144b0023-8942-49e0-ad5c-d67d1518a6b0",
   "metadata": {
    "execution": {
     "iopub.execute_input": "2024-03-11T19:49:01.512091Z",
     "iopub.status.busy": "2024-03-11T19:49:01.511865Z",
     "iopub.status.idle": "2024-03-11T19:49:05.632131Z",
     "shell.execute_reply": "2024-03-11T19:49:05.631376Z",
     "shell.execute_reply.started": "2024-03-11T19:49:01.512069Z"
    }
   },
   "outputs": [],
   "source": [
    "with warnings.catch_warnings():\n",
    "    warnings.simplefilter(\"ignore\")\n",
    "    \n",
    "    datasets = df.dataset.unique()\n",
    "    n_ds = len(datasets)\n",
    "    fig, axx = plt.subplots(2, n_ds, figsize=(int(3 * n_ds), 8))\n",
    "    \n",
    "    for n in range(n_ds):\n",
    "        \n",
    "        ds = datasets[n]\n",
    "        \n",
    "        # traces\n",
    "        plot = None\n",
    "        for i, exp in experiments.items():\n",
    "            if exp[\"population_type\"] == ds:\n",
    "                plot = exp['plot']\n",
    "                break\n",
    "        \n",
    "        if plot is not None:\n",
    "            _ = plot.plot_traces(num_samples=4, by=\"group\", ax=axx[0, n], alpha=.9, linestyle=\"--\")\n",
    "        \n",
    "        # precision\n",
    "        data = df[df.dataset == ds]\n",
    "        sns.barplot(data=data, ax=axx[1, n], x=\"distance\", y=\"rand_score\")\n",
    "        \n",
    "        # axis label\n",
    "        axx[0, n].set_title(ds)\n",
    "    \n",
    "    # set random line\n",
    "    for ax in axx[1, :]:\n",
    "        ax.set_ylim(0, 1.1)\n",
    "        ax.axhline(0.5, linestyle=\"--\", color=\"gray\")\n",
    "    \n",
    "    # legends\n",
    "    for ax in axx[0, :-1]:\n",
    "        ax.get_legend().remove()\n",
    "    \n",
    "    sns.move_legend(axx[0, -1], loc=\"upper left\", bbox_to_anchor=(1.04, 1))\n",
    "\n",
    "fig.savefig(\"conditional_hierarchical.png\", dpi=480)"
   ]
  }
 ],
 "metadata": {
  "kernelspec": {
   "display_name": "Python 3 (ipykernel)",
   "language": "python",
   "name": "python3"
  },
  "language_info": {
   "codemirror_mode": {
    "name": "ipython",
    "version": 3
   },
   "file_extension": ".py",
   "mimetype": "text/x-python",
   "name": "python",
   "nbconvert_exporter": "python",
   "pygments_lexer": "ipython3",
   "version": "3.10.13"
  }
 },
 "nbformat": 4,
 "nbformat_minor": 5
}
