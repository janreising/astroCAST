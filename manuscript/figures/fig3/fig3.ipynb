{
 "cells": [
  {
   "cell_type": "code",
   "execution_count": null,
   "id": "initial_id",
   "metadata": {
    "ExecuteTime": {
     "end_time": "2024-03-20T17:30:52.528483Z",
     "start_time": "2024-03-20T17:30:52.516263Z"
    }
   },
   "outputs": [],
   "source": [
    "from pathlib import Path\n",
    "import numpy as np\n",
    "import importlib\n",
    "from matplotlib import pyplot as plt\n",
    "import humanize\n",
    "import sys\n",
    "import os, psutil\n",
    "import time\n",
    "import shutil\n",
    "import pandas as pd\n",
    "import seaborn as sns\n",
    "import warnings\n",
    "from sklearn.metrics import ConfusionMatrixDisplay, confusion_matrix\n",
    "import logging\n",
    "import string\n",
    "from matplotlib.ticker import (MultipleLocator, AutoMinorLocator)\n",
    "from matplotlib.ticker import AutoLocator\n",
    "\n",
    "import astrocast.reduction as red\n",
    "import astrocast.clustering as clust\n",
    "import astrocast.analysis as ana\n",
    "import astrocast.autoencoders as AE\n",
    "import astrocast.helper as helper\n",
    "import astrocast.experiments as exp\n",
    "\n",
    "for pack in [red, clust, helper, ana, AE, helper, exp]:\n",
    "    importlib.reload(pack)\n"
   ]
  },
  {
   "cell_type": "code",
   "execution_count": null,
   "id": "cc5208e7828acc38",
   "metadata": {
    "ExecuteTime": {
     "end_time": "2024-03-20T17:28:59.835501Z",
     "start_time": "2024-03-20T17:28:58.988809Z"
    }
   },
   "outputs": [],
   "source": [
    "file = Path(\"/media/janrei1/data/data_paper/22A8x5/22A8x5-2.h5\")\n",
    "!astrocast visualize-h5 {file}"
   ]
  },
  {
   "cell_type": "markdown",
   "id": "871e7af1f00b9bdc",
   "metadata": {
    "collapsed": false
   },
   "source": [
    "## Load data"
   ]
  },
  {
   "cell_type": "code",
   "execution_count": null,
   "id": "a8b7f12b572302e6",
   "metadata": {
    "ExecuteTime": {
     "end_time": "2024-03-20T17:29:09.594437Z",
     "start_time": "2024-03-20T17:28:59.840414Z"
    }
   },
   "outputs": [],
   "source": [
    "data = ana.Video(file, loc=\"data/ast\", lazy=False)\n",
    "data = data.get_data()"
   ]
  },
  {
   "cell_type": "code",
   "execution_count": null,
   "id": "d7b4fdcd86e2b733",
   "metadata": {
    "ExecuteTime": {
     "end_time": "2024-03-20T17:29:22.561165Z",
     "start_time": "2024-03-20T17:29:09.595570Z"
    }
   },
   "outputs": [],
   "source": [
    "dn = ana.Video(file, loc=\"dn/ast\", lazy=False)\n",
    "dn = dn.get_data()"
   ]
  },
  {
   "cell_type": "code",
   "execution_count": null,
   "id": "a01d0c1708e5f8bc",
   "metadata": {
    "ExecuteTime": {
     "end_time": "2024-03-20T17:29:24.359086Z",
     "start_time": "2024-03-20T17:29:22.562307Z"
    }
   },
   "outputs": [],
   "source": [
    "data_norm = data / data.max()\n",
    "dn_norm = dn / dn.max()"
   ]
  },
  {
   "cell_type": "markdown",
   "id": "5b0a175c6fe4ae32",
   "metadata": {
    "collapsed": false
   },
   "source": [
    "## visualize"
   ]
  },
  {
   "cell_type": "code",
   "execution_count": null,
   "id": "a5959f0413e6df48",
   "metadata": {
    "ExecuteTime": {
     "end_time": "2024-03-20T17:29:24.364577Z",
     "start_time": "2024-03-20T17:29:24.360260Z"
    }
   },
   "outputs": [],
   "source": [
    "# n_frame = 200\n",
    "# row_titles = {'A': 'before denoising', 'B': 'after denoising'}\n",
    "# z0, z1 = 400, 800\n",
    "# \n",
    "# pixels = [(144, 107), (98, 67), (111, 223), (209, 51)]\n",
    "# # pixels = [(209, 51)]\n",
    "# colors = sns.color_palette('husl', n_colors=len(pixels))\n",
    "# \n",
    "# sns.set_style(\"white\")\n",
    "# \n",
    "# fig, axx = plt.subplot_mosaic(\"AC\\nBD\", figsize=(12, 8))\n",
    "# \n",
    "# data_frame = data[n_frame, :, :]\n",
    "# dn_frame = dn[n_frame, :, :]\n",
    "# \n",
    "# for idx_ax, frame in [('A', data_frame), ('B', dn_frame)]:\n",
    "#     \n",
    "#     ax = axx[idx_ax]\n",
    "#     ax.imshow(frame)\n",
    "#     \n",
    "#     ax.set_ylabel(row_titles[idx_ax])\n",
    "#     \n",
    "#     ax.set_xticklabels([])\n",
    "#     ax.set_yticklabels([])\n",
    "#     \n",
    "#     ax.grid(False)\n",
    "#     \n",
    "#     for i, (px, py) in enumerate(pixels):\n",
    "#         ax.scatter(py, px, marker='<', edgecolor='white', color=colors[i], s=50, alpha=0.5)\n",
    "# \n",
    "# for i, (px, py) in enumerate(pixels):\n",
    "#     for ax_idx, img in [('C', data), ('D', dn)]:\n",
    "#         \n",
    "#         ax = axx[ax_idx]\n",
    "#         trace = img[z0:z1, px, py]\n",
    "#         # trace = trace - trace[0]\n",
    "#         ax.plot(trace, color=colors[i], alpha=0.9)\n",
    "#         \n",
    "#         ax.grid(None)\n",
    "#         # ax.axhline(0, color=\"gray\", linestyle=\"--\")\n",
    "#         sns.despine(top=True, right=True, ax=ax)\n",
    "# \n",
    "# axx['C'].sharey(axx['D'])\n",
    "# \n",
    "# plt.tight_layout()"
   ]
  },
  {
   "cell_type": "code",
   "execution_count": null,
   "id": "28fab11275cdbc65",
   "metadata": {
    "ExecuteTime": {
     "end_time": "2024-03-20T17:29:24.372667Z",
     "start_time": "2024-03-20T17:29:24.365882Z"
    }
   },
   "outputs": [],
   "source": [
    "# n_frame = 200\n",
    "# row_titles = {'A': 'before denoising', 'B': 'after denoising'}\n",
    "# z0, z1 = 400, 800\n",
    "# \n",
    "# pixels = [(144, 107), (98, 67), (111, 223), (209, 51)]\n",
    "# colors = sns.color_palette('husl', n_colors=len(pixels))\n",
    "# \n",
    "# sns.set_style(\"white\")\n",
    "# \n",
    "# # fig, axx = plt.subplot_mosaic(\"AC\\nBD\", figsize=(12, 8))\n",
    "# fig, axx = plt.subplots(len(pixels) + 1, 2,\n",
    "#                         figsize=(8, 12),\n",
    "#                         gridspec_kw={'height_ratios': [len(pixels)] + len(pixels) * [1]})\n",
    "# \n",
    "# data_frame = data[n_frame, :, :]\n",
    "# dn_frame = dn[n_frame, :, :]\n",
    "# \n",
    "# for i, (idx_col, frame) in enumerate([(0, data_frame), (1, dn_frame)]):\n",
    "#     \n",
    "#     ax = axx[0, idx_col]\n",
    "#     ax.imshow(frame)\n",
    "#     \n",
    "#     #     ax.set_ylabel(row_titles[idx_ax])\n",
    "#     #     \n",
    "#     ax.set_xticklabels([])\n",
    "#     ax.set_yticklabels([])\n",
    "#     #     \n",
    "#     #     ax.grid(False)\n",
    "#     #     \n",
    "#     for i, (px, py) in enumerate(pixels):\n",
    "#         ax.scatter(py, px, marker='<', edgecolor='white', color=colors[i], s=50, alpha=0.5)\n",
    "# \n",
    "# for i, (px, py) in enumerate(pixels):\n",
    "#     \n",
    "#     ax0, ax1 = axx[i + 1, 0], axx[i + 1, 1]\n",
    "#     ax0.sharey(ax1)\n",
    "#     \n",
    "#     trace1 = data[z0:z1, px, py].copy().astype(float)\n",
    "#     trace1_zero = trace1[0]\n",
    "#     trace1_min = trace1.min()\n",
    "#     trace1_max = trace1.max()\n",
    "#     \n",
    "#     # trace1 -= trace1_min\n",
    "#     # trace1 /= trace1_max\n",
    "#     \n",
    "#     trace2 = dn[z0:z1, px, py].copy()\n",
    "#     trace2_zero = trace2[0]\n",
    "#     trace2_min = trace2.min()\n",
    "#     trace2_max = trace2.max()\n",
    "#     \n",
    "#     # trace2 -= trace2_min\n",
    "#     \n",
    "#     trace2 = trace2 + (trace1_zero - trace2_zero)\n",
    "#     # trace2 = (trace2 / trace2.max()) * trace1_max\n",
    "#     \n",
    "#     ax0.plot(trace1, color=colors[i], alpha=0.9)\n",
    "#     ax1.plot(trace2, color=colors[i], alpha=0.9)\n",
    "# \n",
    "# #         \n",
    "# #         ax.grid(None)\n",
    "# #         # ax.axhline(0, color=\"gray\", linestyle=\"--\")\n",
    "# #         sns.despine(top=True, right=True, ax=ax)\n",
    "# # \n",
    "# # axx['C'].sharey(axx['D'])\n",
    "# \n",
    "# \n",
    "# # plt.tight_layout()"
   ]
  },
  {
   "cell_type": "code",
   "execution_count": null,
   "id": "faacd4663d67bccd",
   "metadata": {
    "ExecuteTime": {
     "end_time": "2024-03-20T18:23:12.427461Z",
     "start_time": "2024-03-20T18:23:09.363650Z"
    }
   },
   "outputs": [],
   "source": [
    "n_frame = 200\n",
    "row_titles = {'A': 'before denoising', 'B': 'after denoising'}\n",
    "z0, z1 = 400, 800\n",
    "\n",
    "pixels = [(144, 107), (98, 67), (111, 223), (209, 51)]\n",
    "colors = sns.color_palette('husl', n_colors=len(pixels))\n",
    "\n",
    "sns.set_style(\"white\")\n",
    "\n",
    "fig, axx = plt.subplots(len(pixels) + 1, 2,\n",
    "                        figsize=(11, 11),\n",
    "                        gridspec_kw={'height_ratios': [len(pixels)] + len(pixels) * [1]})\n",
    "\n",
    "data_frame = data_norm[n_frame, :, :]\n",
    "dn_frame = dn_norm[n_frame, :, :]\n",
    "\n",
    "for i, (idx_col, frame) in enumerate([(0, data_frame), (1, dn_frame)]):\n",
    "    \n",
    "    ax = axx[0, idx_col]\n",
    "    ax.imshow(frame)\n",
    "    \n",
    "    ax.set_xticklabels([])\n",
    "    ax.set_yticklabels([])\n",
    "    \n",
    "    for i, (px, py) in enumerate(pixels):\n",
    "        ax.scatter(py, px, marker='<', edgecolor='white', color=colors[i], s=50, alpha=0.5)\n",
    "\n",
    "for i, (px, py) in enumerate(pixels):\n",
    "    \n",
    "    ax0, ax1 = axx[i + 1, 0], axx[i + 1, 1]\n",
    "    ax0.sharey(ax1)\n",
    "    \n",
    "    trace1 = data_norm[z0:z1, px, py].copy().astype(float)\n",
    "    trace1 -= trace1.min()\n",
    "    div = trace1.max()\n",
    "    trace1 /= div\n",
    "    \n",
    "    trace2 = dn_norm[z0:z1, px, py].copy()\n",
    "    trace2_zero = trace2[0]\n",
    "    trace2_min = trace2.min()\n",
    "    trace2_max = trace2.max()\n",
    "    \n",
    "    trace2 -= trace2_min\n",
    "    trace2 /= div\n",
    "    \n",
    "    ax0.plot(trace1, color=colors[i], alpha=0.9)\n",
    "    ax1.plot(trace2, color=colors[i], alpha=0.9)\n",
    "\n",
    "axx[0, 0].set_title(\"before denoising\")\n",
    "axx[0, 1].set_title(\"after denoising\")\n",
    "\n",
    "axx[1, 0].set_title(\"before denoising\")\n",
    "axx[1, 1].set_title(\"after denoising\")\n",
    "\n",
    "for ax in axx[1:, :].flatten():\n",
    "    \n",
    "    ax.xaxis.set_major_locator(AutoLocator())  # solution\n",
    "    ax.xaxis.set_tick_params(labelbottom=True)\n",
    "    \n",
    "    sns.despine(top=True, right=True, ax=ax)\n",
    "\n",
    "for ax in axx[1:-1, :].flatten():\n",
    "    ax.set_xticklabels([])\n",
    "\n",
    "# for ax in axx[1:, 1].flatten():\n",
    "#     ax.set_yticklabels([])\n",
    "\n",
    "for ax in axx[1:, 0].flatten():\n",
    "    ax.set_ylabel(\"normalized\\nintensity\")\n",
    "\n",
    "for ax in axx[-1, :].flatten():\n",
    "    ax.set_xlabel(\"Frames\")\n",
    "\n",
    "for n, ax in enumerate(list(axx.flatten())):\n",
    "    ax.text(-0.075, 1.05, string.ascii_uppercase[n], transform=ax.transAxes, size=14, weight='bold')\n",
    "\n",
    "plt.tight_layout()\n",
    "\n",
    "save_path = Path.cwd().parent.joinpath(\"3.png\")\n",
    "print(save_path)\n",
    "fig.savefig(save_path, dpi=(260))\n",
    "\n",
    "legend = \"\"\"\n",
    "Effect of denoising on astrocytic calcium imaging data. (A) A single 256x256 pixel frame prior to denoising, where background noise is evident. (B) The same frame following denoising with enhanced clarity. (C, E, G, and I) Pixel intensity over 400 frames (50s) before the application of the denoising algorithm, showcasing the original signal variation, after normalization. (D, F, H, J) Corresponding traces after denoising, illustrating a stabilized intensity profile, with preserved signal characteristics. The same normalization parameters were applied to both original and denoised traces to ensure comparability of noise levels. Location of pixels are indicated with triangles in A and B. The denoising algorithm was executed on a (128, 128) field of view, incorporating a context of five adjacent frames for each target frame, with no gap frames. Parameters for the denoising model included a training period of 50 epochs, a learning rate of 0.0001, momentum of 0.9, and a stack of three layers with 64 kernels of size three in the initial layer, omitting batch normalization. During inference, a strategy of a 10-pixel overlap in all directions, complemented by 'edge' padding, was employed. \n",
    "\"\"\"\n",
    "legend_path = Path.cwd().parent.joinpath(\"3.txt\")\n",
    "with open(legend_path, 'w') as f:\n",
    "    f.write(legend)"
   ]
  }
 ],
 "metadata": {
  "kernelspec": {
   "display_name": "Python 3",
   "language": "python",
   "name": "python3"
  },
  "language_info": {
   "codemirror_mode": {
    "name": "ipython",
    "version": 2
   },
   "file_extension": ".py",
   "mimetype": "text/x-python",
   "name": "python",
   "nbconvert_exporter": "python",
   "pygments_lexer": "ipython2",
   "version": "2.7.6"
  }
 },
 "nbformat": 4,
 "nbformat_minor": 5
}
