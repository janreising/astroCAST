{
 "cells": [
  {
   "cell_type": "code",
   "execution_count": null,
   "id": "initial_id",
   "metadata": {
    "ExecuteTime": {
     "end_time": "2024-03-27T14:05:10.221216Z",
     "start_time": "2024-03-27T14:04:58.440236Z"
    }
   },
   "outputs": [],
   "source": [
    "from pathlib import Path\n",
    "import numpy as np\n",
    "import importlib\n",
    "from matplotlib import pyplot as plt\n",
    "import humanize\n",
    "import sys\n",
    "import os, psutil\n",
    "import time\n",
    "import shutil\n",
    "import pandas as pd\n",
    "import seaborn as sns\n",
    "import warnings\n",
    "from sklearn.metrics import ConfusionMatrixDisplay, confusion_matrix\n",
    "import logging\n",
    "import string\n",
    "from matplotlib.ticker import (MultipleLocator, AutoMinorLocator)\n",
    "from matplotlib.ticker import AutoLocator\n",
    "import tifffile\n",
    "\n",
    "import astrocast.reduction as red\n",
    "import astrocast.clustering as clust\n",
    "import astrocast.analysis as ana\n",
    "import astrocast.autoencoders as AE\n",
    "import astrocast.helper as helper\n",
    "import astrocast.experiments as exp\n",
    "\n",
    "for pack in [red, clust, helper, ana, AE, helper, exp]:\n",
    "    importlib.reload(pack)\n"
   ]
  },
  {
   "cell_type": "code",
   "execution_count": null,
   "id": "cc5208e7828acc38",
   "metadata": {
    "ExecuteTime": {
     "end_time": "2024-03-27T14:05:11.513386Z",
     "start_time": "2024-03-27T14:05:10.222521Z"
    }
   },
   "outputs": [],
   "source": [
    "dir_ = Path(\"/media/janrei1/data/astrocast_paper/22A8x5-2_small.roi\")\n",
    "tiffs = {}\n",
    "for tiff in dir_.glob(\"*.tiff\"):\n",
    "    tiffs[tiff.name] = tifffile.imread(tiff)\n",
    "\n",
    "display(tiffs.keys())"
   ]
  },
  {
   "cell_type": "code",
   "execution_count": null,
   "id": "b4cd19f4d2f7ec90",
   "metadata": {
    "ExecuteTime": {
     "end_time": "2024-03-27T14:05:11.517871Z",
     "start_time": "2024-03-27T14:05:11.514770Z"
    }
   },
   "outputs": [],
   "source": [
    "# data = ana.Video(dir_.parent.joinpath(\"22A8x5-2_small.h5\"), loc=\"dn/ast\", lazy=False).get_data()\n",
    "data = tiffs[\"debug_smoothed_input.tiff\"]\n",
    "event_map = tiffs[\"event_map.tiff\"]\n",
    "# event_map = tifffile.imread(dir_.joinpath(\"event_map.tiff\"))"
   ]
  },
  {
   "cell_type": "code",
   "execution_count": null,
   "id": "c74385cdee728e7c",
   "metadata": {
    "ExecuteTime": {
     "end_time": "2024-03-27T14:05:12.854846Z",
     "start_time": "2024-03-27T14:05:11.519258Z"
    }
   },
   "outputs": [],
   "source": [
    "n_frame = 165\n",
    "\n",
    "sns.set_style(\"whitegrid\")\n",
    "\n",
    "fig, axx = plt.subplots(1, len(tiffs), figsize=(20, 20))\n",
    "\n",
    "for i, (k, img) in enumerate(tiffs.items()):\n",
    "    ax = axx[i]\n",
    "    ax.imshow(img[n_frame, :, :])\n",
    "    ax.set_title(k.replace(\".tiff\", \"\").replace(\"_\", \" \"))\n",
    "    ax.grid(None)"
   ]
  },
  {
   "cell_type": "code",
   "execution_count": null,
   "id": "e9fd565ca09239f0",
   "metadata": {
    "ExecuteTime": {
     "end_time": "2024-03-27T14:40:32.021872Z",
     "start_time": "2024-03-27T14:40:29.845419Z"
    }
   },
   "outputs": [],
   "source": [
    "# pixels = [(144, 114), (195, 212), (108, 226)]\n",
    "pixels = [(147, 107), (198, 206), (109, 222)]\n",
    "colors = sns.color_palette('husl', n_colors=len(pixels))\n",
    "\n",
    "sns.set_style(\"white\")\n",
    "fig, axx = plt.subplot_mosaic(\"ABEE\\nABEE\\nABFF\\nCDFF\\nCDGG\\nCDGG\",\n",
    "                              figsize=(11, 6),  # 15, 6\n",
    "                              # subplot_kw=dict(width_ratios=[1, 1, 2])\n",
    "                              )\n",
    "\n",
    "ax = axx['C']\n",
    "ax.imshow(tiffs[\"debug_smoothed_input.tiff\"][n_frame, :, :], cmap=\"magma\")\n",
    "ax.set_title(\"smoothed frame\")\n",
    "\n",
    "ax = axx['A']\n",
    "ax.imshow(tiffs[\"debug_active_pixels_spatial.tiff\"][n_frame, :, :], cmap=\"binary\")\n",
    "ax.set_title(\"spatial mask\")\n",
    "\n",
    "ax = axx['B']\n",
    "ax.imshow(tiffs[\"debug_active_pixels_temporal.tiff\"][n_frame, :, :], cmap=\"binary\")\n",
    "ax.set_title(\"temporal mask\")\n",
    "\n",
    "ax = axx['D']\n",
    "ax.imshow(tiffs[\"event_map.tiff\"][n_frame, :, :])\n",
    "ax.set_title(\"event map\")\n",
    "\n",
    "for k in \"ABCD\":\n",
    "    ax = axx[k]\n",
    "    ax.grid(False)\n",
    "    ax.set_xticklabels([])\n",
    "    ax.set_yticklabels([])\n",
    "    \n",
    "    for i, (px, py) in enumerate(pixels):\n",
    "        ax.scatter(py + 7, px, marker='<', edgecolor='white', color=colors[i], s=50, alpha=0.74)\n",
    "\n",
    "for k in \"CD\":\n",
    "    ax = axx[k]\n",
    "    \n",
    "    for i, (px, py) in enumerate(pixels):\n",
    "        ax.annotate(text=\"EFG\"[i], xy=(py + 17, px + 8), xycoords='data', color=\"white\")\n",
    "\n",
    "for i in range(len(pixels)):\n",
    "    \n",
    "    ax = axx[chr(69 + i)]\n",
    "    px, py = pixels[i]\n",
    "    \n",
    "    trace = data[:, px, py].copy()\n",
    "    trace -= trace.min()\n",
    "    mask = event_map[:, px, py]\n",
    "    \n",
    "    # Get indices where mask is 0 for background, and 1 for signal\n",
    "    indices_background = np.where(mask == 0)[0]\n",
    "    indices_signal = np.where(mask > 0)[0]\n",
    "    \n",
    "    # Create the x-axis data range\n",
    "    X = np.arange(len(trace))\n",
    "    \n",
    "    # Get y-values for signal and background\n",
    "    signal_y = trace[indices_signal]\n",
    "    background_y = trace[indices_background]\n",
    "    \n",
    "    # Create contiguous sections for signal\n",
    "    contiguous_signal_sections = np.split(signal_y, np.where(np.diff(indices_signal) != 1)[0] + 1)\n",
    "    contiguous_signal_indices = np.split(indices_signal, np.where(np.diff(indices_signal) != 1)[0] + 1)\n",
    "    \n",
    "    # Plot each contiguous section for signal\n",
    "    for sec_indices, sec_y in zip(contiguous_signal_indices, contiguous_signal_sections):\n",
    "        sec_x = X[sec_indices]\n",
    "        ax.plot(sec_x, sec_y, linestyle=\"-\", color=colors[i])\n",
    "    \n",
    "    # Create contiguous sections for background\n",
    "    contiguous_background_sections = np.split(background_y, np.where(np.diff(indices_background) != 1)[0] + 1)\n",
    "    contiguous_background_indices = np.split(indices_background, np.where(np.diff(indices_background) != 1)[0] + 1)\n",
    "    \n",
    "    # Plot each contiguous section for background\n",
    "    for bg_indices, bg_y in zip(contiguous_background_indices, contiguous_background_sections):\n",
    "        bg_x = X[bg_indices]\n",
    "        ax.plot(bg_x, bg_y, linestyle=\"-\", color=\"gray\")\n",
    "\n",
    "for k, ax in axx.items():\n",
    "    ax.text(-0.075, 1.05, k, transform=ax.transAxes, size=14, weight='bold')\n",
    "\n",
    "for k in \"EFG\":\n",
    "    axx[k].set_ylabel(\"pixel intensity\")\n",
    "    axx[k].axvline(n_frame, linestyle=\":\", color=\"black\", alpha=0.75)\n",
    "\n",
    "for k in \"EF\":\n",
    "    axx[k].set_xticklabels([])\n",
    "\n",
    "axx['G'].set_xlabel(\"Frames\")\n",
    "\n",
    "plt.tight_layout()\n",
    "\n",
    "fig_name = \"5\"\n",
    "save_path = Path.cwd().parent.joinpath(f\"{fig_name}.png\")\n",
    "fig.savefig(save_path, dpi=(260))\n",
    "\n",
    "legend = \"\"\"\n",
    "Depiction of astrocytic event detection employed by astroCaST using spatial and temporal thresholding. A) Binary mask of frame after application of spatial threshold (min\\_ratio 1). B) Binary mask of framer after application of temporal threshold (prominence 2, width 3, rel\\_height 0.9). C) Frame used for thresholding after motion correction, denoising and smoothing. D) Events detected as identified by both spatial and temporal thresholding. E-G) Pixel intensity analysis for selected pixels (as indicated in Panels A-D), with active frames color-coded in the plots. The frame shown in A-D is indicated as a vertical dotted line.\n",
    "\"\"\"\n",
    "legend_path = Path.cwd().parent.joinpath(f\"{fig_name}.txt\")\n",
    "with open(legend_path, 'w') as f:\n",
    "    f.write(legend)"
   ]
  }
 ],
 "metadata": {
  "kernelspec": {
   "display_name": "Python 3",
   "language": "python",
   "name": "python3"
  },
  "language_info": {
   "codemirror_mode": {
    "name": "ipython",
    "version": 2
   },
   "file_extension": ".py",
   "mimetype": "text/x-python",
   "name": "python",
   "nbconvert_exporter": "python",
   "pygments_lexer": "ipython2",
   "version": "2.7.6"
  }
 },
 "nbformat": 4,
 "nbformat_minor": 5
}
