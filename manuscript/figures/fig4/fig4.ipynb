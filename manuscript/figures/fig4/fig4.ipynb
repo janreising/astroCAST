{
 "cells": [
  {
   "cell_type": "code",
   "execution_count": null,
   "id": "initial_id",
   "metadata": {
    "ExecuteTime": {
     "end_time": "2024-03-20T18:06:08.346524Z",
     "start_time": "2024-03-20T18:06:08.331872Z"
    }
   },
   "outputs": [],
   "source": [
    "from pathlib import Path\n",
    "import numpy as np\n",
    "import importlib\n",
    "from matplotlib import pyplot as plt\n",
    "import humanize\n",
    "import sys\n",
    "import os, psutil\n",
    "import time\n",
    "import shutil\n",
    "import pandas as pd\n",
    "import seaborn as sns\n",
    "import warnings\n",
    "from sklearn.metrics import ConfusionMatrixDisplay, confusion_matrix\n",
    "import logging\n",
    "import string\n",
    "from matplotlib.ticker import (MultipleLocator, AutoMinorLocator)\n",
    "from matplotlib.ticker import AutoLocator\n",
    "\n",
    "import astrocast.reduction as red\n",
    "import astrocast.clustering as clust\n",
    "import astrocast.analysis as ana\n",
    "import astrocast.autoencoders as AE\n",
    "import astrocast.helper as helper\n",
    "import astrocast.experiments as exp\n",
    "\n",
    "for pack in [red, clust, helper, ana, AE, helper, exp]:\n",
    "    importlib.reload(pack)\n"
   ]
  },
  {
   "cell_type": "code",
   "execution_count": null,
   "id": "cc5208e7828acc38",
   "metadata": {
    "ExecuteTime": {
     "end_time": "2024-03-20T18:06:12.220680Z",
     "start_time": "2024-03-20T18:06:11.340803Z"
    }
   },
   "outputs": [],
   "source": [
    "file = Path(\"/media/janrei1/data/data_paper/22A8x5/22A8x5-2.h5\")\n",
    "!astrocast visualize-h5 {file}"
   ]
  },
  {
   "cell_type": "markdown",
   "id": "871e7af1f00b9bdc",
   "metadata": {
    "collapsed": false
   },
   "source": [
    "## Load data"
   ]
  },
  {
   "cell_type": "code",
   "execution_count": null,
   "id": "d7b4fdcd86e2b733",
   "metadata": {
    "ExecuteTime": {
     "end_time": "2024-03-20T18:06:27.342044Z",
     "start_time": "2024-03-20T18:06:14.390544Z"
    }
   },
   "outputs": [],
   "source": [
    "dn = ana.Video(file, loc=\"dn/ast\", lazy=False)\n",
    "dn = dn.get_data()"
   ]
  },
  {
   "cell_type": "code",
   "execution_count": null,
   "id": "bed46d1cffad6274",
   "metadata": {
    "ExecuteTime": {
     "end_time": "2024-03-20T18:06:53.941665Z",
     "start_time": "2024-03-20T18:06:43.143658Z"
    }
   },
   "outputs": [],
   "source": [
    "df = ana.Video(file, loc=\"df/ast\", lazy=False)\n",
    "df = df.get_data()"
   ]
  },
  {
   "cell_type": "code",
   "execution_count": null,
   "id": "a01d0c1708e5f8bc",
   "metadata": {
    "ExecuteTime": {
     "end_time": "2024-03-20T18:07:00.878760Z",
     "start_time": "2024-03-20T18:06:53.943390Z"
    }
   },
   "outputs": [],
   "source": [
    "df_norm = df / df.max()\n",
    "dn_norm = dn / dn.max()"
   ]
  },
  {
   "cell_type": "markdown",
   "id": "5b0a175c6fe4ae32",
   "metadata": {
    "collapsed": false
   },
   "source": [
    "## visualize"
   ]
  },
  {
   "cell_type": "code",
   "execution_count": null,
   "id": "f331ea363c206c40",
   "metadata": {
    "ExecuteTime": {
     "end_time": "2024-03-20T18:08:54.731527Z",
     "start_time": "2024-03-20T18:08:54.729381Z"
    }
   },
   "outputs": [],
   "source": []
  },
  {
   "cell_type": "code",
   "execution_count": null,
   "id": "69ff88af44e4a97c",
   "metadata": {
    "ExecuteTime": {
     "end_time": "2024-03-20T18:28:51.275212Z",
     "start_time": "2024-03-20T18:28:49.902755Z"
    }
   },
   "outputs": [],
   "source": [
    "n_frame = 200\n",
    "row_titles = {'A': 'before subtraction', 'B': 'after subtraction'}\n",
    "z0, z1 = 400, 800\n",
    "\n",
    "pixels = [(144, 107), (98, 67), (111, 223)]\n",
    "colors = sns.color_palette('husl', n_colors=len(pixels))\n",
    "\n",
    "sns.set_style(\"white\")\n",
    "\n",
    "fig, axx = plt.subplots(2, 2, figsize=(8, 6),\n",
    "                        gridspec_kw={'width_ratios': [1, 2]})\n",
    "\n",
    "ax0, ax1 = axx[0, 0], axx[1, 0]\n",
    "ax0.imshow(dn[n_frame, :, :])\n",
    "ax1.imshow(df[n_frame, :, :])\n",
    "\n",
    "for ax in (ax0, ax1):\n",
    "    ax.set_xticklabels([])\n",
    "    ax.set_yticklabels([])\n",
    "    \n",
    "    for i, (px, py) in enumerate(pixels):\n",
    "        ax.scatter(py, px, marker='<', edgecolor='white', color=colors[i], s=50, alpha=0.5)\n",
    "\n",
    "ax0, ax1 = axx[0, 1], axx[1, 1]\n",
    "for i, (px, py) in enumerate(pixels):\n",
    "    \n",
    "    trace1 = dn[z0:z1, px, py].copy().astype(float)\n",
    "    ax0.plot(trace1, color=colors[i], alpha=0.9)\n",
    "    \n",
    "    trace2 = df[z0:z1, px, py].copy().astype(float)\n",
    "    ax1.plot(trace2, color=colors[i], alpha=0.9)\n",
    "\n",
    "for n, ax in enumerate(list(axx.flatten())):\n",
    "    ax.text(-0.075, 1.05, string.ascii_uppercase[n], transform=ax.transAxes, size=14, weight='bold')\n",
    "\n",
    "axx[0, 0].set_ylabel(\"before subtraction\")\n",
    "axx[1, 0].set_ylabel(\"after subtraction\")\n",
    "\n",
    "axx[0, 1].set_ylabel(\"pixel intensity\")\n",
    "axx[1, 1].set_ylabel(\"pixel intensity\")\n",
    "\n",
    "axx[0, 1].set_xlabel(\"frames\")\n",
    "axx[1, 1].set_xlabel(\"frames\")\n",
    "\n",
    "sns.despine(top=True, right=True, ax=axx[0, 1])\n",
    "sns.despine(top=True, right=True, ax=axx[1, 1])\n",
    "\n",
    "plt.tight_layout()\n",
    "\n",
    "fig_name = \"4\"\n",
    "save_path = Path.cwd().parent.joinpath(f\"{fig_name}.png\")\n",
    "fig.savefig(save_path, dpi=(260))\n",
    "\n",
    "legend = \"\"\"\n",
    "Comparison before and after the application of background subtraction to fluorescence imaging data. (A, C) fluorescence images before and after background subtraction, respectively, illustrating the removal of extraneous noise. After subtraction, the background is close to zero and exhibits overall lower noise levels. (B, D) Intensity traces corresponding to the marked points on the images are plotted over time (400 frames, 50s). These traces highlight the efficacy of background subtraction, with the post-subtraction traces approaching zero on the y-axis, thereby indicating a substantial reduction of background, while signal amplitude is conserved. However, the signal shapes, especially in the red trace, exhibit slight alterations post-subtraction. Moreover, the green trace reveals the inadvertent introduction of spurious events, serving as a cautionary example of how background subtraction can inadvertently affect data integrity if parameters are not judiciously optimized.\n",
    "\"\"\"\n",
    "legend_path = Path.cwd().parent.joinpath(f\"{fig_name}.txt\")\n",
    "with open(legend_path, 'w') as f:\n",
    "    f.write(legend)"
   ]
  },
  {
   "cell_type": "code",
   "execution_count": null,
   "id": "faacd4663d67bccd",
   "metadata": {
    "ExecuteTime": {
     "end_time": "2024-03-20T18:03:54.093907Z",
     "start_time": "2024-03-20T18:03:50.989022Z"
    }
   },
   "outputs": [],
   "source": [
    "\n",
    "\n",
    "\n",
    "\n",
    "fig, axx = plt.subplots(len(pixels) + 1, 2,\n",
    "                        figsize=(11, 11),\n",
    "                        gridspec_kw={'height_ratios': [len(pixels)] + len(pixels) * [1]})\n",
    "\n",
    "data_frame = data_norm[n_frame, :, :]\n",
    "dn_frame = dn_norm[n_frame, :, :]\n",
    "\n",
    "for i, (idx_col, frame) in enumerate([(0, data_frame), (1, dn_frame)]):\n",
    "    \n",
    "    ax = axx[0, idx_col]\n",
    "    ax.imshow(frame)\n",
    "    \n",
    "    ax.set_xticklabels([])\n",
    "    ax.set_yticklabels([])\n",
    "    \n",
    "    for i, (px, py) in enumerate(pixels):\n",
    "        ax.scatter(py, px, marker='<', edgecolor='white', color=colors[i], s=50, alpha=0.5)\n",
    "\n",
    "for i, (px, py) in enumerate(pixels):\n",
    "    \n",
    "    ax0, ax1 = axx[i + 1, 0], axx[i + 1, 1]\n",
    "    ax0.sharey(ax1)\n",
    "    \n",
    "    trace1 = data_norm[z0:z1, px, py].copy().astype(float)\n",
    "    trace1 -= trace1.min()\n",
    "    div = trace1.max()\n",
    "    trace1 /= div\n",
    "    \n",
    "    trace2 = dn_norm[z0:z1, px, py].copy()\n",
    "    trace2_zero = trace2[0]\n",
    "    trace2_min = trace2.min()\n",
    "    trace2_max = trace2.max()\n",
    "    \n",
    "    trace2 -= trace2_min\n",
    "    trace2 /= div\n",
    "    \n",
    "    ax0.plot(trace1, color=colors[i], alpha=0.9)\n",
    "    ax1.plot(trace2, color=colors[i], alpha=0.9)\n",
    "\n",
    "axx[0, 0].set_title(\"before denoising\")\n",
    "axx[0, 1].set_title(\"after denoising\")\n",
    "\n",
    "axx[1, 0].set_title(\"before denoising\")\n",
    "axx[1, 1].set_title(\"after denoising\")\n",
    "\n",
    "for ax in axx[1:, :].flatten():\n",
    "    \n",
    "    ax.xaxis.set_major_locator(AutoLocator())  # solution\n",
    "    ax.xaxis.set_tick_params(labelbottom=True)\n",
    "    \n",
    "    sns.despine(top=True, right=True, ax=ax)\n",
    "\n",
    "for ax in axx[1:-1, :].flatten():\n",
    "    ax.set_xticklabels([])\n",
    "\n",
    "# for ax in axx[1:, 1].flatten():\n",
    "#     ax.set_yticklabels([])\n",
    "\n",
    "for ax in axx[1:, 0].flatten():\n",
    "    ax.set_ylabel(\"normalized\\nintensity\")\n",
    "\n",
    "for ax in axx[-1, :].flatten():\n",
    "    ax.set_xlabel(\"Frames\")\n",
    "\n",
    "for n, ax in enumerate(list(axx.flatten())):\n",
    "    ax.text(-0.075, 1.05, string.ascii_uppercase[n], transform=ax.transAxes, size=14, weight='bold')\n",
    "\n",
    "plt.tight_layout()\n",
    "\n",
    "save_path = Path.cwd().parent.joinpath(\"3.png\")\n",
    "print(save_path)\n",
    "fig.savefig(save_path, dpi=(260))\n",
    "\n",
    "legend = \"\"\"\n",
    "Effect of denoising on astrocytic calcium imaging data. (A) A single 256x256 pixel frame prior to denoising, where background noise is evident. (B) The same frame following denoising with enhanced clarity. (C, E, G, and I) Pixel intensity over 400 frames (50s) before the application of the denoising algorithm, showcasing the original signal variation, after normalization. (D, F, H, J) Corresponding traces after denoising, illustrating a stabilized intensity profile, with preserved signal characteristics. The same normalization parameters were applied to both original and denoised traces to ensure comparability of noise levels. The denoising algorithm was executed on a (128, 128) field of view, incorporating a context of five adjacent frames for each target frame, with no gap frames. Parameters for the denoising model included a training period of 50 epochs, a learning rate of 0.0001, momentum of 0.9, and a stack of three layers with 64 kernels of size three in the initial layer, omitting batch normalization. During inference, a strategy of a 10-pixel overlap in all directions, complemented by 'edge' padding, was employed. \n",
    "\"\"\"\n",
    "legend_path = Path.cwd().parent.joinpath(\"3.txt\")\n",
    "with open(legend_path, 'w') as f:\n",
    "    f.write(legend)"
   ]
  }
 ],
 "metadata": {
  "kernelspec": {
   "display_name": "Python 3",
   "language": "python",
   "name": "python3"
  },
  "language_info": {
   "codemirror_mode": {
    "name": "ipython",
    "version": 2
   },
   "file_extension": ".py",
   "mimetype": "text/x-python",
   "name": "python",
   "nbconvert_exporter": "python",
   "pygments_lexer": "ipython2",
   "version": "2.7.6"
  }
 },
 "nbformat": 4,
 "nbformat_minor": 5
}
